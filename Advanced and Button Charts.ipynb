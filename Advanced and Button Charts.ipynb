{
  "cells": [
    {
      "cell_type": "code",
      "execution_count": null,
      "metadata": {
        "colab": {
          "base_uri": "https://localhost:8080/"
        },
        "id": "rfzIuS15pv1q",
        "outputId": "42432baf-c97c-47fc-ab50-c47e83184f61"
      },
      "outputs": [
        {
          "output_type": "stream",
          "name": "stdout",
          "text": [
            "Looking in indexes: https://pypi.org/simple, https://us-python.pkg.dev/colab-wheels/public/simple/\n",
            "Requirement already satisfied: plotly in /usr/local/lib/python3.7/dist-packages (5.5.0)\n",
            "Collecting plotly\n",
            "  Downloading plotly-5.11.0-py2.py3-none-any.whl (15.3 MB)\n",
            "\u001b[K     |████████████████████████████████| 15.3 MB 12.0 MB/s \n",
            "\u001b[?25hRequirement already satisfied: tenacity>=6.2.0 in /usr/local/lib/python3.7/dist-packages (from plotly) (8.1.0)\n",
            "Installing collected packages: plotly\n",
            "  Attempting uninstall: plotly\n",
            "    Found existing installation: plotly 5.5.0\n",
            "    Uninstalling plotly-5.5.0:\n",
            "      Successfully uninstalled plotly-5.5.0\n",
            "Successfully installed plotly-5.11.0\n"
          ]
        }
      ],
      "source": [
        "!pip install --upgrade plotly"
      ]
    },
    {
      "cell_type": "code",
      "execution_count": null,
      "metadata": {
        "colab": {
          "base_uri": "https://localhost:8080/"
        },
        "id": "m_sLLsegvgAv",
        "outputId": "53e02910-7ea9-4c31-f4b9-a5799dfcb2de"
      },
      "outputs": [
        {
          "output_type": "stream",
          "name": "stdout",
          "text": [
            "Looking in indexes: https://pypi.org/simple, https://us-python.pkg.dev/colab-wheels/public/simple/\n",
            "Collecting jupyter-dash\n",
            "  Downloading jupyter_dash-0.4.2-py3-none-any.whl (23 kB)\n",
            "Collecting dash\n",
            "  Downloading dash-2.7.0-py3-none-any.whl (9.9 MB)\n",
            "\u001b[K     |████████████████████████████████| 9.9 MB 15.3 MB/s \n",
            "\u001b[?25hCollecting retrying\n",
            "  Downloading retrying-1.3.3.tar.gz (10 kB)\n",
            "Collecting nest-asyncio\n",
            "  Downloading nest_asyncio-1.5.6-py3-none-any.whl (5.2 kB)\n",
            "Requirement already satisfied: requests in /usr/local/lib/python3.7/dist-packages (from jupyter-dash) (2.23.0)\n",
            "Requirement already satisfied: ipykernel in /usr/local/lib/python3.7/dist-packages (from jupyter-dash) (5.3.4)\n",
            "Requirement already satisfied: ipython in /usr/local/lib/python3.7/dist-packages (from jupyter-dash) (7.9.0)\n",
            "Collecting ansi2html\n",
            "  Downloading ansi2html-1.8.0-py3-none-any.whl (16 kB)\n",
            "Requirement already satisfied: flask in /usr/local/lib/python3.7/dist-packages (from jupyter-dash) (1.1.4)\n",
            "Requirement already satisfied: importlib-metadata in /usr/local/lib/python3.7/dist-packages (from ansi2html->jupyter-dash) (4.13.0)\n",
            "Requirement already satisfied: plotly>=5.0.0 in /usr/local/lib/python3.7/dist-packages (from dash->jupyter-dash) (5.11.0)\n",
            "Collecting dash-html-components==2.0.0\n",
            "  Downloading dash_html_components-2.0.0-py3-none-any.whl (4.1 kB)\n",
            "Collecting dash-core-components==2.0.0\n",
            "  Downloading dash_core_components-2.0.0-py3-none-any.whl (3.8 kB)\n",
            "Collecting dash-table==5.0.0\n",
            "  Downloading dash_table-5.0.0-py3-none-any.whl (3.9 kB)\n",
            "Requirement already satisfied: Werkzeug<2.0,>=0.15 in /usr/local/lib/python3.7/dist-packages (from flask->jupyter-dash) (1.0.1)\n",
            "Requirement already satisfied: Jinja2<3.0,>=2.10.1 in /usr/local/lib/python3.7/dist-packages (from flask->jupyter-dash) (2.11.3)\n",
            "Requirement already satisfied: click<8.0,>=5.1 in /usr/local/lib/python3.7/dist-packages (from flask->jupyter-dash) (7.1.2)\n",
            "Requirement already satisfied: itsdangerous<2.0,>=0.24 in /usr/local/lib/python3.7/dist-packages (from flask->jupyter-dash) (1.1.0)\n",
            "Requirement already satisfied: MarkupSafe>=0.23 in /usr/local/lib/python3.7/dist-packages (from Jinja2<3.0,>=2.10.1->flask->jupyter-dash) (2.0.1)\n",
            "Requirement already satisfied: tenacity>=6.2.0 in /usr/local/lib/python3.7/dist-packages (from plotly>=5.0.0->dash->jupyter-dash) (8.1.0)\n",
            "Requirement already satisfied: typing-extensions>=3.6.4 in /usr/local/lib/python3.7/dist-packages (from importlib-metadata->ansi2html->jupyter-dash) (4.1.1)\n",
            "Requirement already satisfied: zipp>=0.5 in /usr/local/lib/python3.7/dist-packages (from importlib-metadata->ansi2html->jupyter-dash) (3.10.0)\n",
            "Requirement already satisfied: jupyter-client in /usr/local/lib/python3.7/dist-packages (from ipykernel->jupyter-dash) (6.1.12)\n",
            "Requirement already satisfied: tornado>=4.2 in /usr/local/lib/python3.7/dist-packages (from ipykernel->jupyter-dash) (6.0.4)\n",
            "Requirement already satisfied: traitlets>=4.1.0 in /usr/local/lib/python3.7/dist-packages (from ipykernel->jupyter-dash) (5.1.1)\n",
            "Collecting jedi>=0.10\n",
            "  Downloading jedi-0.18.1-py2.py3-none-any.whl (1.6 MB)\n",
            "\u001b[K     |████████████████████████████████| 1.6 MB 39.3 MB/s \n",
            "\u001b[?25hRequirement already satisfied: pickleshare in /usr/local/lib/python3.7/dist-packages (from ipython->jupyter-dash) (0.7.5)\n",
            "Requirement already satisfied: setuptools>=18.5 in /usr/local/lib/python3.7/dist-packages (from ipython->jupyter-dash) (57.4.0)\n",
            "Requirement already satisfied: pexpect in /usr/local/lib/python3.7/dist-packages (from ipython->jupyter-dash) (4.8.0)\n",
            "Requirement already satisfied: prompt-toolkit<2.1.0,>=2.0.0 in /usr/local/lib/python3.7/dist-packages (from ipython->jupyter-dash) (2.0.10)\n",
            "Requirement already satisfied: backcall in /usr/local/lib/python3.7/dist-packages (from ipython->jupyter-dash) (0.2.0)\n",
            "Requirement already satisfied: pygments in /usr/local/lib/python3.7/dist-packages (from ipython->jupyter-dash) (2.6.1)\n",
            "Requirement already satisfied: decorator in /usr/local/lib/python3.7/dist-packages (from ipython->jupyter-dash) (4.4.2)\n",
            "Requirement already satisfied: parso<0.9.0,>=0.8.0 in /usr/local/lib/python3.7/dist-packages (from jedi>=0.10->ipython->jupyter-dash) (0.8.3)\n",
            "Requirement already satisfied: six>=1.9.0 in /usr/local/lib/python3.7/dist-packages (from prompt-toolkit<2.1.0,>=2.0.0->ipython->jupyter-dash) (1.15.0)\n",
            "Requirement already satisfied: wcwidth in /usr/local/lib/python3.7/dist-packages (from prompt-toolkit<2.1.0,>=2.0.0->ipython->jupyter-dash) (0.2.5)\n",
            "Requirement already satisfied: jupyter-core>=4.6.0 in /usr/local/lib/python3.7/dist-packages (from jupyter-client->ipykernel->jupyter-dash) (4.11.2)\n",
            "Requirement already satisfied: pyzmq>=13 in /usr/local/lib/python3.7/dist-packages (from jupyter-client->ipykernel->jupyter-dash) (23.2.1)\n",
            "Requirement already satisfied: python-dateutil>=2.1 in /usr/local/lib/python3.7/dist-packages (from jupyter-client->ipykernel->jupyter-dash) (2.8.2)\n",
            "Requirement already satisfied: ptyprocess>=0.5 in /usr/local/lib/python3.7/dist-packages (from pexpect->ipython->jupyter-dash) (0.7.0)\n",
            "Requirement already satisfied: certifi>=2017.4.17 in /usr/local/lib/python3.7/dist-packages (from requests->jupyter-dash) (2022.9.24)\n",
            "Requirement already satisfied: urllib3!=1.25.0,!=1.25.1,<1.26,>=1.21.1 in /usr/local/lib/python3.7/dist-packages (from requests->jupyter-dash) (1.24.3)\n",
            "Requirement already satisfied: idna<3,>=2.5 in /usr/local/lib/python3.7/dist-packages (from requests->jupyter-dash) (2.10)\n",
            "Requirement already satisfied: chardet<4,>=3.0.2 in /usr/local/lib/python3.7/dist-packages (from requests->jupyter-dash) (3.0.4)\n",
            "Building wheels for collected packages: retrying\n",
            "  Building wheel for retrying (setup.py) ... \u001b[?25l\u001b[?25hdone\n",
            "  Created wheel for retrying: filename=retrying-1.3.3-py3-none-any.whl size=11448 sha256=062551c3057e9c37e7e9a54ff03187c3a2ef3426bfaf136f565e5dc3811d0b52\n",
            "  Stored in directory: /root/.cache/pip/wheels/f9/8d/8d/f6af3f7f9eea3553bc2fe6d53e4b287dad18b06a861ac56ddf\n",
            "Successfully built retrying\n",
            "Installing collected packages: jedi, dash-table, dash-html-components, dash-core-components, retrying, nest-asyncio, dash, ansi2html, jupyter-dash\n",
            "Successfully installed ansi2html-1.8.0 dash-2.7.0 dash-core-components-2.0.0 dash-html-components-2.0.0 dash-table-5.0.0 jedi-0.18.1 jupyter-dash-0.4.2 nest-asyncio-1.5.6 retrying-1.3.3\n"
          ]
        }
      ],
      "source": [
        "!pip install jupyter-dash\n"
      ]
    },
    {
      "cell_type": "code",
      "execution_count": null,
      "metadata": {
        "colab": {
          "base_uri": "https://localhost:8080/"
        },
        "id": "uK5wB5XdvqQT",
        "outputId": "37f605df-b65e-491c-f86d-75d746e94aa7"
      },
      "outputs": [
        {
          "output_type": "stream",
          "name": "stdout",
          "text": [
            "Looking in indexes: https://pypi.org/simple, https://us-python.pkg.dev/colab-wheels/public/simple/\n",
            "Collecting plotly.express\n",
            "  Downloading plotly_express-0.4.1-py2.py3-none-any.whl (2.9 kB)\n",
            "Requirement already satisfied: statsmodels>=0.9.0 in /usr/local/lib/python3.7/dist-packages (from plotly.express) (0.12.2)\n",
            "Requirement already satisfied: pandas>=0.20.0 in /usr/local/lib/python3.7/dist-packages (from plotly.express) (1.3.5)\n",
            "Requirement already satisfied: numpy>=1.11 in /usr/local/lib/python3.7/dist-packages (from plotly.express) (1.21.6)\n",
            "Requirement already satisfied: scipy>=0.18 in /usr/local/lib/python3.7/dist-packages (from plotly.express) (1.7.3)\n",
            "Requirement already satisfied: patsy>=0.5 in /usr/local/lib/python3.7/dist-packages (from plotly.express) (0.5.3)\n",
            "Requirement already satisfied: plotly>=4.1.0 in /usr/local/lib/python3.7/dist-packages (from plotly.express) (5.11.0)\n",
            "Requirement already satisfied: pytz>=2017.3 in /usr/local/lib/python3.7/dist-packages (from pandas>=0.20.0->plotly.express) (2022.6)\n",
            "Requirement already satisfied: python-dateutil>=2.7.3 in /usr/local/lib/python3.7/dist-packages (from pandas>=0.20.0->plotly.express) (2.8.2)\n",
            "Requirement already satisfied: six in /usr/local/lib/python3.7/dist-packages (from patsy>=0.5->plotly.express) (1.15.0)\n",
            "Requirement already satisfied: tenacity>=6.2.0 in /usr/local/lib/python3.7/dist-packages (from plotly>=4.1.0->plotly.express) (8.1.0)\n",
            "Installing collected packages: plotly.express\n",
            "Successfully installed plotly.express-0.4.1\n"
          ]
        }
      ],
      "source": [
        "!pip install plotly.express"
      ]
    },
    {
      "cell_type": "code",
      "execution_count": null,
      "metadata": {
        "id": "TGsTFCsGvvYx",
        "colab": {
          "base_uri": "https://localhost:8080/",
          "height": 156
        },
        "outputId": "1d743bfd-388d-4a50-8061-4832facaaea8"
      },
      "outputs": [
        {
          "output_type": "stream",
          "name": "stderr",
          "text": [
            "/usr/local/lib/python3.7/dist-packages/ipykernel_launcher.py:4: UserWarning: \n",
            "The dash_core_components package is deprecated. Please replace\n",
            "`import dash_core_components as dcc` with `from dash import dcc`\n",
            "  after removing the cwd from sys.path.\n",
            "/usr/local/lib/python3.7/dist-packages/ipykernel_launcher.py:5: UserWarning: \n",
            "The dash_html_components package is deprecated. Please replace\n",
            "`import dash_html_components as html` with `from dash import html`\n",
            "  \"\"\"\n"
          ]
        }
      ],
      "source": [
        "import plotly.graph_objects as go\n",
        "import plotly.express as px\n",
        "from jupyter_dash import JupyterDash\n",
        "import dash_core_components as dcc\n",
        "import dash_html_components as html\n",
        "from dash.dependencies import Input, Output\n",
        "import pandas as pd"
      ]
    },
    {
      "cell_type": "code",
      "execution_count": null,
      "metadata": {
        "colab": {
          "base_uri": "https://localhost:8080/",
          "height": 444
        },
        "id": "JYcjTSspv22C",
        "outputId": "4c4a5063-17fb-47d7-ac49-e1fc6ed9c47d"
      },
      "outputs": [
        {
          "output_type": "execute_result",
          "data": {
            "text/plain": [
              "          Timestamp  Gender  Age Department  \\\n",
              "0  24-08-2022 22:32  Female   18        CSE   \n",
              "1  24-08-2022 22:52    Male   18        CSE   \n",
              "2  24-08-2022 22:57    Male   19        CSE   \n",
              "3  24-08-2022 23:04    Male   24        CSE   \n",
              "4  25-08-2022 19:20    Male   19        CSE   \n",
              "\n",
              "  Are_you_happy_with_your_department_work_area  \\\n",
              "0                                          Yes   \n",
              "1                                          Yes   \n",
              "2                                          Yes   \n",
              "3                                           No   \n",
              "4                                          Yes   \n",
              "\n",
              "  Why_did_you_chosen_your_department_work_area  \\\n",
              "0                                   Interested   \n",
              "1                                   Interested   \n",
              "2                                   Interested   \n",
              "3                                 Future scope   \n",
              "4            All are choosing so I also chosen   \n",
              "\n",
              "   Current_year_you_are_studying_in  CGPA_SGPA    \\\n",
              "0                                 3         8.00   \n",
              "1                                 3         8.44   \n",
              "2                                 3         8.07   \n",
              "3                                 3         8.00   \n",
              "4                                 3         9.00   \n",
              "\n",
              "  Are_you_having_proper_sleep_everyday  \\\n",
              "0                                  Yes   \n",
              "1                                  Yes   \n",
              "2                                   No   \n",
              "3                                   No   \n",
              "4                                  Yes   \n",
              "\n",
              "   How_much_time_are_you_sleeping_everyday  \\\n",
              "0                                        8   \n",
              "1                                        8   \n",
              "2                                        8   \n",
              "3                                        8   \n",
              "4                                        8   \n",
              "\n",
              "  Are_you_getting_good_food_diet_everyday  What_is_your_screen_time  \\\n",
              "0                                      No                         7   \n",
              "1                                     Yes                         6   \n",
              "2                                      No                         3   \n",
              "3                                      No                         7   \n",
              "4                                     Yes                         3   \n",
              "\n",
              "  On_what_do_you_spend_your_screen_time_more  \\\n",
              "0                               Social Media   \n",
              "1                                Video games   \n",
              "2                                    Studies   \n",
              "3                   Other  ( Series/Movies )   \n",
              "4                               Social Media   \n",
              "\n",
              "  From_where_you_are_getting_stress When_you_are_stressed_more  \\\n",
              "0                            Family               During exams   \n",
              "1                      Studies/work               During exams   \n",
              "2                      Studies/work               During exams   \n",
              "3             Thinking about future                 About Love   \n",
              "4                            Family               During exams   \n",
              "\n",
              "  What_will_you_like_to_do_when_you_are_stressed  \\\n",
              "0                                 Listen's Music   \n",
              "1                  Sharing feelings with someone   \n",
              "2                                     Travelling   \n",
              "3                  Sharing feelings with someone   \n",
              "4                                 Listen's Music   \n",
              "\n",
              "  How_did_you_felt_during_COVID_19_pandemic_period  \\\n",
              "0                                        Depressed   \n",
              "1                                         Stressed   \n",
              "2                                           Boring   \n",
              "3                                            Happy   \n",
              "4               Depressed, Stressed, Happy, Boring   \n",
              "\n",
              "  concentrate_on_your_work_when_you_are_stressed  \n",
              "0                                             No  \n",
              "1                                             No  \n",
              "2                                             No  \n",
              "3                                             No  \n",
              "4                                             No  "
            ],
            "text/html": [
              "\n",
              "  <div id=\"df-27e66d38-0d3b-442e-af1e-dd550e1f1d3b\">\n",
              "    <div class=\"colab-df-container\">\n",
              "      <div>\n",
              "<style scoped>\n",
              "    .dataframe tbody tr th:only-of-type {\n",
              "        vertical-align: middle;\n",
              "    }\n",
              "\n",
              "    .dataframe tbody tr th {\n",
              "        vertical-align: top;\n",
              "    }\n",
              "\n",
              "    .dataframe thead th {\n",
              "        text-align: right;\n",
              "    }\n",
              "</style>\n",
              "<table border=\"1\" class=\"dataframe\">\n",
              "  <thead>\n",
              "    <tr style=\"text-align: right;\">\n",
              "      <th></th>\n",
              "      <th>Timestamp</th>\n",
              "      <th>Gender</th>\n",
              "      <th>Age</th>\n",
              "      <th>Department</th>\n",
              "      <th>Are_you_happy_with_your_department_work_area</th>\n",
              "      <th>Why_did_you_chosen_your_department_work_area</th>\n",
              "      <th>Current_year_you_are_studying_in</th>\n",
              "      <th>CGPA_SGPA</th>\n",
              "      <th>Are_you_having_proper_sleep_everyday</th>\n",
              "      <th>How_much_time_are_you_sleeping_everyday</th>\n",
              "      <th>Are_you_getting_good_food_diet_everyday</th>\n",
              "      <th>What_is_your_screen_time</th>\n",
              "      <th>On_what_do_you_spend_your_screen_time_more</th>\n",
              "      <th>From_where_you_are_getting_stress</th>\n",
              "      <th>When_you_are_stressed_more</th>\n",
              "      <th>What_will_you_like_to_do_when_you_are_stressed</th>\n",
              "      <th>How_did_you_felt_during_COVID_19_pandemic_period</th>\n",
              "      <th>concentrate_on_your_work_when_you_are_stressed</th>\n",
              "    </tr>\n",
              "  </thead>\n",
              "  <tbody>\n",
              "    <tr>\n",
              "      <th>0</th>\n",
              "      <td>24-08-2022 22:32</td>\n",
              "      <td>Female</td>\n",
              "      <td>18</td>\n",
              "      <td>CSE</td>\n",
              "      <td>Yes</td>\n",
              "      <td>Interested</td>\n",
              "      <td>3</td>\n",
              "      <td>8.00</td>\n",
              "      <td>Yes</td>\n",
              "      <td>8</td>\n",
              "      <td>No</td>\n",
              "      <td>7</td>\n",
              "      <td>Social Media</td>\n",
              "      <td>Family</td>\n",
              "      <td>During exams</td>\n",
              "      <td>Listen's Music</td>\n",
              "      <td>Depressed</td>\n",
              "      <td>No</td>\n",
              "    </tr>\n",
              "    <tr>\n",
              "      <th>1</th>\n",
              "      <td>24-08-2022 22:52</td>\n",
              "      <td>Male</td>\n",
              "      <td>18</td>\n",
              "      <td>CSE</td>\n",
              "      <td>Yes</td>\n",
              "      <td>Interested</td>\n",
              "      <td>3</td>\n",
              "      <td>8.44</td>\n",
              "      <td>Yes</td>\n",
              "      <td>8</td>\n",
              "      <td>Yes</td>\n",
              "      <td>6</td>\n",
              "      <td>Video games</td>\n",
              "      <td>Studies/work</td>\n",
              "      <td>During exams</td>\n",
              "      <td>Sharing feelings with someone</td>\n",
              "      <td>Stressed</td>\n",
              "      <td>No</td>\n",
              "    </tr>\n",
              "    <tr>\n",
              "      <th>2</th>\n",
              "      <td>24-08-2022 22:57</td>\n",
              "      <td>Male</td>\n",
              "      <td>19</td>\n",
              "      <td>CSE</td>\n",
              "      <td>Yes</td>\n",
              "      <td>Interested</td>\n",
              "      <td>3</td>\n",
              "      <td>8.07</td>\n",
              "      <td>No</td>\n",
              "      <td>8</td>\n",
              "      <td>No</td>\n",
              "      <td>3</td>\n",
              "      <td>Studies</td>\n",
              "      <td>Studies/work</td>\n",
              "      <td>During exams</td>\n",
              "      <td>Travelling</td>\n",
              "      <td>Boring</td>\n",
              "      <td>No</td>\n",
              "    </tr>\n",
              "    <tr>\n",
              "      <th>3</th>\n",
              "      <td>24-08-2022 23:04</td>\n",
              "      <td>Male</td>\n",
              "      <td>24</td>\n",
              "      <td>CSE</td>\n",
              "      <td>No</td>\n",
              "      <td>Future scope</td>\n",
              "      <td>3</td>\n",
              "      <td>8.00</td>\n",
              "      <td>No</td>\n",
              "      <td>8</td>\n",
              "      <td>No</td>\n",
              "      <td>7</td>\n",
              "      <td>Other  ( Series/Movies )</td>\n",
              "      <td>Thinking about future</td>\n",
              "      <td>About Love</td>\n",
              "      <td>Sharing feelings with someone</td>\n",
              "      <td>Happy</td>\n",
              "      <td>No</td>\n",
              "    </tr>\n",
              "    <tr>\n",
              "      <th>4</th>\n",
              "      <td>25-08-2022 19:20</td>\n",
              "      <td>Male</td>\n",
              "      <td>19</td>\n",
              "      <td>CSE</td>\n",
              "      <td>Yes</td>\n",
              "      <td>All are choosing so I also chosen</td>\n",
              "      <td>3</td>\n",
              "      <td>9.00</td>\n",
              "      <td>Yes</td>\n",
              "      <td>8</td>\n",
              "      <td>Yes</td>\n",
              "      <td>3</td>\n",
              "      <td>Social Media</td>\n",
              "      <td>Family</td>\n",
              "      <td>During exams</td>\n",
              "      <td>Listen's Music</td>\n",
              "      <td>Depressed, Stressed, Happy, Boring</td>\n",
              "      <td>No</td>\n",
              "    </tr>\n",
              "  </tbody>\n",
              "</table>\n",
              "</div>\n",
              "      <button class=\"colab-df-convert\" onclick=\"convertToInteractive('df-27e66d38-0d3b-442e-af1e-dd550e1f1d3b')\"\n",
              "              title=\"Convert this dataframe to an interactive table.\"\n",
              "              style=\"display:none;\">\n",
              "        \n",
              "  <svg xmlns=\"http://www.w3.org/2000/svg\" height=\"24px\"viewBox=\"0 0 24 24\"\n",
              "       width=\"24px\">\n",
              "    <path d=\"M0 0h24v24H0V0z\" fill=\"none\"/>\n",
              "    <path d=\"M18.56 5.44l.94 2.06.94-2.06 2.06-.94-2.06-.94-.94-2.06-.94 2.06-2.06.94zm-11 1L8.5 8.5l.94-2.06 2.06-.94-2.06-.94L8.5 2.5l-.94 2.06-2.06.94zm10 10l.94 2.06.94-2.06 2.06-.94-2.06-.94-.94-2.06-.94 2.06-2.06.94z\"/><path d=\"M17.41 7.96l-1.37-1.37c-.4-.4-.92-.59-1.43-.59-.52 0-1.04.2-1.43.59L10.3 9.45l-7.72 7.72c-.78.78-.78 2.05 0 2.83L4 21.41c.39.39.9.59 1.41.59.51 0 1.02-.2 1.41-.59l7.78-7.78 2.81-2.81c.8-.78.8-2.07 0-2.86zM5.41 20L4 18.59l7.72-7.72 1.47 1.35L5.41 20z\"/>\n",
              "  </svg>\n",
              "      </button>\n",
              "      \n",
              "  <style>\n",
              "    .colab-df-container {\n",
              "      display:flex;\n",
              "      flex-wrap:wrap;\n",
              "      gap: 12px;\n",
              "    }\n",
              "\n",
              "    .colab-df-convert {\n",
              "      background-color: #E8F0FE;\n",
              "      border: none;\n",
              "      border-radius: 50%;\n",
              "      cursor: pointer;\n",
              "      display: none;\n",
              "      fill: #1967D2;\n",
              "      height: 32px;\n",
              "      padding: 0 0 0 0;\n",
              "      width: 32px;\n",
              "    }\n",
              "\n",
              "    .colab-df-convert:hover {\n",
              "      background-color: #E2EBFA;\n",
              "      box-shadow: 0px 1px 2px rgba(60, 64, 67, 0.3), 0px 1px 3px 1px rgba(60, 64, 67, 0.15);\n",
              "      fill: #174EA6;\n",
              "    }\n",
              "\n",
              "    [theme=dark] .colab-df-convert {\n",
              "      background-color: #3B4455;\n",
              "      fill: #D2E3FC;\n",
              "    }\n",
              "\n",
              "    [theme=dark] .colab-df-convert:hover {\n",
              "      background-color: #434B5C;\n",
              "      box-shadow: 0px 1px 3px 1px rgba(0, 0, 0, 0.15);\n",
              "      filter: drop-shadow(0px 1px 2px rgba(0, 0, 0, 0.3));\n",
              "      fill: #FFFFFF;\n",
              "    }\n",
              "  </style>\n",
              "\n",
              "      <script>\n",
              "        const buttonEl =\n",
              "          document.querySelector('#df-27e66d38-0d3b-442e-af1e-dd550e1f1d3b button.colab-df-convert');\n",
              "        buttonEl.style.display =\n",
              "          google.colab.kernel.accessAllowed ? 'block' : 'none';\n",
              "\n",
              "        async function convertToInteractive(key) {\n",
              "          const element = document.querySelector('#df-27e66d38-0d3b-442e-af1e-dd550e1f1d3b');\n",
              "          const dataTable =\n",
              "            await google.colab.kernel.invokeFunction('convertToInteractive',\n",
              "                                                     [key], {});\n",
              "          if (!dataTable) return;\n",
              "\n",
              "          const docLinkHtml = 'Like what you see? Visit the ' +\n",
              "            '<a target=\"_blank\" href=https://colab.research.google.com/notebooks/data_table.ipynb>data table notebook</a>'\n",
              "            + ' to learn more about interactive tables.';\n",
              "          element.innerHTML = '';\n",
              "          dataTable['output_type'] = 'display_data';\n",
              "          await google.colab.output.renderOutput(dataTable, element);\n",
              "          const docLink = document.createElement('div');\n",
              "          docLink.innerHTML = docLinkHtml;\n",
              "          element.appendChild(docLink);\n",
              "        }\n",
              "      </script>\n",
              "    </div>\n",
              "  </div>\n",
              "  "
            ]
          },
          "metadata": {},
          "execution_count": 5
        }
      ],
      "source": [
        "#import plotly and read the csv file(Data Processing)\n",
        "import pandas as pd\n",
        "import plotly.express as px\n",
        "df = pd.read_csv('Survey on Student Mental Health1.csv')\n",
        "df.head()\n",
        "\n"
      ]
    },
    {
      "cell_type": "code",
      "execution_count": null,
      "metadata": {
        "id": "7K3zVr2Gwhno"
      },
      "outputs": [],
      "source": [
        "from google.colab import output\n",
        "output.enable_custom_widget_manager()"
      ]
    },
    {
      "cell_type": "code",
      "execution_count": null,
      "metadata": {
        "colab": {
          "base_uri": "https://localhost:8080/",
          "height": 467,
          "referenced_widgets": [
            "a9bc709de6144817a24f9836654c360e"
          ]
        },
        "id": "Shyg2Kcbz-fH",
        "outputId": "57dd6abc-b828-442b-ada5-5cdbcd735af0"
      },
      "outputs": [
        {
          "output_type": "display_data",
          "data": {
            "text/plain": [
              "FigureWidget({\n",
              "    'data': [], 'layout': {'template': '...'}\n",
              "})"
            ],
            "application/vnd.jupyter.widget-view+json": {
              "version_major": 2,
              "version_minor": 0,
              "model_id": "a9bc709de6144817a24f9836654c360e"
            }
          },
          "metadata": {
            "application/vnd.jupyter.widget-view+json": {
              "colab": {
                "custom_widget_manager": {
                  "url": "https://ssl.gstatic.com/colaboratory-static/widgets/colab-cdn-widget-manager/d2e234f7cc04bf79/manager.min.js"
                }
              }
            }
          }
        }
      ],
      "source": [
        "import plotly.graph_objects as go\n",
        "import plotly.graph_objects as px\n",
        "import numpy as np\n",
        "# load dataset\n",
        "df = pd.read_csv(\"Survey on Student Mental Health1.csv\")\n",
        "\n",
        "f = go.FigureWidget()\n",
        "f"
      ]
    },
    {
      "cell_type": "code",
      "execution_count": null,
      "metadata": {
        "id": "7wD2GFbaw3PO"
      },
      "outputs": [],
      "source": [
        " f.add_scatter(y=[2, 1, 4, 3]);\n"
      ]
    },
    {
      "cell_type": "code",
      "execution_count": null,
      "metadata": {
        "id": "KaZk7ptKxgIT"
      },
      "outputs": [],
      "source": [
        "f.add_bar(y=[1, 4, 3, 2]);"
      ]
    },
    {
      "cell_type": "code",
      "execution_count": null,
      "metadata": {
        "id": "KNlWUK_PxjpB"
      },
      "outputs": [],
      "source": [
        "f.layout.title = 'Student Mental Health Care'"
      ]
    },
    {
      "cell_type": "code",
      "execution_count": null,
      "metadata": {
        "id": "JVrd9Pl_yOFA"
      },
      "outputs": [],
      "source": [
        "# update scatter data\n",
        "scatter = f.data[0]\n",
        "scatter.y = [3, 8, 4, 3]"
      ]
    },
    {
      "cell_type": "code",
      "execution_count": null,
      "metadata": {
        "id": "G1ojAOyZ11LR"
      },
      "outputs": [],
      "source": [
        "# update bar data\n",
        "bar = f.data[1]\n",
        "bar.y = [5, 3, 2, 8]\n"
      ]
    },
    {
      "cell_type": "code",
      "execution_count": null,
      "metadata": {
        "id": "E9OFHWvV18h_"
      },
      "outputs": [],
      "source": [
        "f.layout.title.text = 'STUDENT MENTAL HEALTH CARE'"
      ]
    },
    {
      "cell_type": "code",
      "execution_count": null,
      "metadata": {
        "colab": {
          "base_uri": "https://localhost:8080/",
          "height": 467,
          "referenced_widgets": [
            "d0042a26481b49fca786c9fa461ad296"
          ]
        },
        "id": "EXrW1IiU2HrV",
        "outputId": "04f4e7a4-b6a7-44d2-a2b3-e02139ce4360"
      },
      "outputs": [
        {
          "output_type": "display_data",
          "data": {
            "text/plain": [
              "FigureWidget({\n",
              "    'data': [{'type': 'heatmap',\n",
              "              'uid': '012402fc-a9b4-487b-81e5-f5d7a629f2ad',\n",
              " …"
            ],
            "application/vnd.jupyter.widget-view+json": {
              "version_major": 2,
              "version_minor": 0,
              "model_id": "d0042a26481b49fca786c9fa461ad296"
            }
          },
          "metadata": {
            "application/vnd.jupyter.widget-view+json": {
              "colab": {
                "custom_widget_manager": {
                  "url": "https://ssl.gstatic.com/colaboratory-static/widgets/colab-cdn-widget-manager/d2e234f7cc04bf79/manager.min.js"
                }
              }
            }
          }
        }
      ],
      "source": [
        "import plotly.graph_objects as go\n",
        "import plotly.graph_objects as px\n",
        "import numpy as np\n",
        "# load dataset\n",
        "df = pd.read_csv(\"Survey on Student Mental Health1.csv\")\n",
        "\n",
        "trace = go.Heatmap(z=[[1, 20, 30, 50, 1], [20, 1, 60, 80, 30], [30, 60, 1, -10, 20]],\n",
        "                   x=['Interested', 'Future scope', 'Jobs', 'By force', 'All are choosen'],\n",
        "                   y=['8.6', '9', '8.7'])\n",
        "data=[trace]\n",
        "layout = go.Layout(title='Heat map')\n",
        "                  \n",
        "\n",
        "figure = go.Figure(data=data, layout=layout)\n",
        "\n",
        "f2 = go.FigureWidget(figure)\n",
        "f2"
      ]
    },
    {
      "cell_type": "code",
      "execution_count": null,
      "metadata": {
        "id": "xXuw0iScsWd9"
      },
      "outputs": [],
      "source": [
        "import numpy as np"
      ]
    },
    {
      "cell_type": "code",
      "execution_count": null,
      "metadata": {
        "colab": {
          "base_uri": "https://localhost:8080/",
          "height": 917
        },
        "id": "VVySoN4u8F3e",
        "outputId": "4d1e751e-38e5-496f-de96-beb31c451067"
      },
      "outputs": [
        {
          "output_type": "display_data",
          "data": {
            "text/html": [
              "<html>\n",
              "<head><meta charset=\"utf-8\" /></head>\n",
              "<body>\n",
              "    <div>            <script src=\"https://cdnjs.cloudflare.com/ajax/libs/mathjax/2.7.5/MathJax.js?config=TeX-AMS-MML_SVG\"></script><script type=\"text/javascript\">if (window.MathJax && window.MathJax.Hub && window.MathJax.Hub.Config) {window.MathJax.Hub.Config({SVG: {font: \"STIX-Web\"}});}</script>                <script type=\"text/javascript\">window.PlotlyConfig = {MathJaxConfig: 'local'};</script>\n",
              "        <script src=\"https://cdn.plot.ly/plotly-2.16.1.min.js\"></script>                <div id=\"f3010f48-11a5-4ffb-ac90-c003f19f3aad\" class=\"plotly-graph-div\" style=\"height:900px; width:800px;\"></div>            <script type=\"text/javascript\">                                    window.PLOTLYENV=window.PLOTLYENV || {};                                    if (document.getElementById(\"f3010f48-11a5-4ffb-ac90-c003f19f3aad\")) {                    Plotly.newPlot(                        \"f3010f48-11a5-4ffb-ac90-c003f19f3aad\",                        [{\"colorscale\":[[0.0,\"#440154\"],[0.1111111111111111,\"#482878\"],[0.2222222222222222,\"#3e4989\"],[0.3333333333333333,\"#31688e\"],[0.4444444444444444,\"#26828e\"],[0.5555555555555556,\"#1f9e89\"],[0.6666666666666666,\"#35b779\"],[0.7777777777777778,\"#6ece58\"],[0.8888888888888888,\"#b5de2b\"],[1.0,\"#fde725\"]],\"z\":[[\"24-08-2022 22:32\",\"Female\",18,\"CSE\",\"Yes\",\"Interested\",3,8.0,\"Yes\",8,\"No\",7,\"Social Media\",\"Family\",\"During exams\",\"Listen's Music\",\"Depressed\",\"No\"],[\"24-08-2022 22:52\",\"Male\",18,\"CSE\",\"Yes\",\"Interested\",3,8.44,\"Yes\",8,\"Yes\",6,\"Video games\",\"Studies/work\",\"During exams\",\"Sharing feelings with someone\",\"Stressed\",\"No\"],[\"24-08-2022 22:57\",\"Male\",19,\"CSE\",\"Yes\",\"Interested\",3,8.07,\"No\",8,\"No\",3,\"Studies\",\"Studies/work\",\"During exams\",\"Travelling\",\"Boring\",\"No\"],[\"24-08-2022 23:04\",\"Male\",24,\"CSE\",\"No\",\"Future scope\",3,8.0,\"No\",8,\"No\",7,\"Other  ( Series/Movies )\",\"Thinking about future\",\"About Love\",\"Sharing feelings with someone\",\"Happy\",\"No\"],[\"25-08-2022 19:20\",\"Male\",19,\"CSE\",\"Yes\",\"All are choosing so I also chosen\",3,9.0,\"Yes\",8,\"Yes\",3,\"Social Media\",\"Family\",\"During exams\",\"Listen's Music\",\"Depressed, Stressed, Happy, Boring\",\"No\"],[\"25-08-2022 19:31\",\"Female\",20,\"CSE\",\"Yes\",\"Interested\",3,9.0,\"Yes\",8,\"Yes\",3,\"Social Media\",\"Studies/work\",\"During exams\",\"Doing any physical activity\",\"Happy, Boring\",\"No\"],[\"25-08-2022 19:45\",\"Female\",20,\"CSE\",\"No\",\"Due to Family pressure\",3,8.01,\"No\",6,\"No\",3,\"Social Media\",\"Health\",\"During exams\",\"Sharing feelings with someone\",\"Boring\",\"No\"],[\"25-08-2022 20:34\",\"Male\",20,\"IT\",\"Yes\",\"Future scope\",2,7.0,\"Yes\",8,\"Yes\",6,\"Other  ( Series/Movies )\",\"Thinking about future\",\"About Faculty\",\"Doing any physical activity\",\"Happy\",\"Yes\"],[\"25-08-2022 20:37\",\"Female\",20,\"CSE\",\"No\",\"Due to Family pressure\",3,7.59,\"No\",7,\"No\",7,\"Social Media\",\"Studies/work\",\"No sleep\",\"Sharing feelings with someone\",\"Boring\",\"No\"],[\"25-08-2022 20:38\",\"Female\",20,\"IT\",\"No\",\"Due to Family pressure\",2,8.5,\"No\",7,\"No\",8,\"Social Media\",\"Thinking about future\",\"About Faculty\",\"Being calm or Being alone\",\"Depressed\",\"No\"],[\"25-08-2022 20:38\",\"Female\",20,\"CSE\",\"Yes\",\"Interested\",4,9.03,\"Yes\",5,\"No\",6,\"Social Media\",\"Studies/work\",\"During exams\",\"Listen's Music\",\"Stressed, Boring\",\"No\"],[\"25-08-2022 20:39\",\"Male\",20,\"CSE\",\"Yes\",\"Due to Family pressure\",3,7.56,\"Yes\",4,\"No\",8,\"Other  ( Series/Movies )\",\"Thinking about future\",\"About Money\",\"Being calm or Being alone\",\"Happy\",\"No\"],[\"25-08-2022 20:39\",\"Male\",22,\"CSE\",\"Yes\",\"Interested\",3,9.19,\"Yes\",6,\"Yes\",7,\"Social Media\",\"Thinking about future\",\"About Love\",\"Travelling\",\"Depressed, Happy, Boring\",\"No\"],[\"25-08-2022 20:40\",\"Female\",22,\"CSE\",\"Yes\",\"Interested\",2,8.0,\"Yes\",8,\"Yes\",7,\"Social Media\",\"Thinking about future\",\"Threaten\",\"Doing any physical activity\",\"Boring\",\"No\"],[\"25-08-2022 20:41\",\"Male\",22,\"CSE\",\"Yes\",\"Interested\",4,8.36,\"Yes\",7,\"Yes\",6,\"Other  ( Series/Movies )\",\"Thinking about future\",\"During exams\",\"Listen's Music\",\"Depressed, Stressed\",\"Yes\"],[\"25-08-2022 20:41\",\"Female\",22,\"CSE\",\"Yes\",\"Future scope\",3,8.2,\"Yes\",6,\"No\",6,\"Other  ( Series/Movies )\",\"Thinking about future\",\"During exams\",\"Listen's Music\",\"Happy\",\"No\"],[\"25-08-2022 20:42\",\"Female\",22,\"IT\",\"Yes\",\"Interested\",2,8.11,\"No\",5,\"No\",7,\"Other  ( Series/Movies )\",\"Studies/work\",\"During exams\",\"Listen's Music\",\"Happy\",\"No\"],[\"25-08-2022 20:42\",\"Female\",19,\"IT\",\"Yes\",\"Interested\",2,7.29,\"No\",5,\"No\",8,\"Other  ( Series/Movies )\",\"Studies/work\",\"During exams\",\"Listen's Music\",\"Happy\",\"No\"],[\"25-08-2022 20:42\",\"Female\",19,\"CSE\",\"Yes\",\"Due to Family pressure\",4,7.06,\"No\",4,\"No\",5,\"Other  ( Series/Movies )\",\"Thinking about future\",\"About Money\",\"Listen's Music\",\"Depressed, Happy\",\"No\"],[\"25-08-2022 20:42\",\"Female\",19,\"CSE\",\"Yes\",\"Future scope\",4,7.8,\"Yes\",8,\"No\",8,\"Social Media\",\"Thinking about future\",\"During exams\",\"Sharing feelings with someone\",\"Stressed, Boring\",\"No\"],[\"25-08-2022 20:42\",\"Female\",19,\"ECE\",\"Yes\",\"Interested\",4,0.0,\"Yes\",7,\"No\",7,\"Studies\",\"Studies/work\",\"During exams\",\"Listen's Music\",\"Stressed, Happy, Boring\",\"Yes\"],[\"25-08-2022 20:42\",\"Male\",19,\"BSC \",\"Yes\",\"Interested\",4,7.0,\"Yes\",8,\"Yes\",7,\"Other  ( Series/Movies )\",\"Nothing \",\"About Love\",\"Listen's Music\",\"Depressed\",\"No\"],[\"25-08-2022 20:43\",\"Female\",19,\"CSE\",\"Yes\",\"Interested\",4,8.71,\"No\",8,\"No\",7,\"Social Media\",\"Studies/work\",\"No sleep\",\"Being calm or Being alone\",\"Boring\",\"No\"],[\"25-08-2022 20:43\",\"Female\",19,\"CSE\",\"Yes\",\"Future scope\",4,9.13,\"Yes\",8,\"No\",5,\"Social Media\",\"Thinking about future\",\"During exams\",\"Sharing feelings with someone\",\"Happy, Boring\",\"Yes\"],[\"25-08-2022 20:44\",\"Male\",19,\"CSE\",\"Yes\",\"Interested\",3,8.22,\"Yes\",7,\"Yes\",3,\"Other  ( Series/Movies )\",\"Thinking about future\",\"About Food\",\"Travelling\",\"Happy\",\"Yes\"],[\"25-08-2022 20:44\",\"Female\",19,\"CSE\",\"Yes\",\"Interested\",4,8.41,\"No\",6,\"No\",7,\"Social Media\",\"Thinking about future\",\"No sleep\",\"Listen's Music\",\"Happy\",\"Yes\"],[\"25-08-2022 20:44\",\"Female\",19,\"CSE\",\"Yes\",\"Interested\",3,8.37,\"Yes\",7,\"No\",5,\"Other  ( Series/Movies )\",\"Studies/work\",\"During exams\",\"Listen's Music\",\"Boring\",\"No\"],[\"25-08-2022 20:44\",\"Male\",19,\"CSE\",\"Yes\",\"Future scope\",4,7.52,\"No\",7,\"No\",5,\"Social Media\",\"Thinking about future\",\"About Love\",\"Being calm or Being alone\",\"Happy\",\"No\"],[\"25-08-2022 20:44\",\"Male\",18,\"CSE \",\"No\",\"All are choosing so I also chosen\",4,8.2,\"Yes\",10,\"No\",7,\"Social Media\",\"Thinking about future\",\"About Money\",\"Being calm or Being alone\",\"Depressed\",\"No\"],[\"25-08-2022 20:45\",\"Male\",18,\"IT\",\"No\",\"Future scope\",2,9.065,\"Yes\",8,\"Yes\",5,\"Studies\",\"Family\",\"About Money\",\"Being calm or Being alone\",\"Boring\",\"No\"],[\"25-08-2022 20:45\",\"Female\",18,\"CSE\",\"Yes\",\"Future scope\",3,8.02,\"Yes\",8,\"No\",6,\"Social Media\",\"Family\",\"During exams\",\"Listen's Music\",\"Depressed, Stressed, Boring\",\"No\"],[\"25-08-2022 20:46\",\"Female\",18,\"CSE\",\"Yes\",\"Interested\",3,7.5,\"Yes\",8,\"Yes\",6,\"Other  ( Series/Movies )\",\"Thinking about future\",\"Threaten\",\"Sharing feelings with someone\",\"Happy\",\"No\"],[\"25-08-2022 20:46\",\"Female\",18,\"FOODTECH\",\"Yes\",\"Future scope\",3,7.31,\"Yes\",5,\"Yes\",8,\"Social Media\",\"Thinking about future\",\"During exams\",\"Drawing \",\"Boring\",\"No\"],[\"25-08-2022 20:46\",\"Female\",18,\"IT\",\"Yes\",\"Interested\",2,9.17,\"Yes\",8,\"No\",5,\"Other  ( Series/Movies )\",\"Studies/work\",\"About Money\",\"Listen's Music\",\"Happy\",\"Yes\"],[\"25-08-2022 20:46\",\"Female\",18,\"CSE\",\"Yes\",\"Interested\",2,7.85,\"Yes\",6,\"Yes\",7,\"Studies\",\"Thinking about future\",\"During exams\",\"Being calm or Being alone\",\"Boring\",\"No\"],[\"25-08-2022 20:47\",\"Male\",18,\"CSE\",\"Yes\",\"All are choosing so I also chosen\",3,7.3,\"No\",9,\"Yes\",10,\"Studies\",\"Family\",\"About Love\",\"Travelling\",\"Happy\",\"Yes\"],[\"25-08-2022 20:47\",\"Male\",18,\"CSE\",\"No\",\"Due to Family pressure\",3,7.64,\"No\",4,\"No\",10,\"Social Media\",\"Thinking about future\",\"About Money\",\"Travelling\",\"Happy\",\"No\"],[\"25-08-2022 20:47\",\"Female\",18,\"CSE\",\"No\",\"Due to Family pressure\",4,9.08,\"Yes\",10,\"No\",5,\"Social Media\",\"No stress\",\"No sleep\",\"Sleeping\",\"Happy\",\"Yes\"],[\"25-08-2022 20:47\",\"Female\",18,\"CSE\",\"No\",\"Interested\",3,9.0,\"No\",4,\"No\",5,\"Social Media\",\"Thinking about future\",\"During exams\",\"Listen's Music\",\"Boring\",\"No\"],[\"25-08-2022 20:49\",\"Female\",18,\"CSE\",\"Yes\",\"Interested\",2,8.7,\"No\",5,\"No\",5,\"Other  ( Series/Movies )\",\"Studies/work\",\"Threaten\",\"Listen's Music\",\"Boring\",\"No\"],[\"25-08-2022 20:51\",\"Male\",18,\"CSE\",\"Yes\",\"Interested\",4,8.0,\"Yes\",7,\"No\",4,\"Social Media\",\"Thinking about future\",\"About Money\",\"Listen's Music\",\"Happy\",\"No\"],[\"25-08-2022 20:51\",\"Female\",18,\"BARCH\",\"Yes\",\"Interested\",3,8.48,\"No\",6,\"No\",5,\"Social Media\",\"Studies/work\",\"No sleep\",\"Sharing feelings with someone\",\"Boring\",\"Yes\"],[\"25-08-2022 20:51\",\"Male\",18,\"MECH\",\"Yes\",\"Interested\",2,7.0,\"No\",6,\"Yes\",10,\"Social Media\",\"Love\",\"About Love\",\"Being calm or Being alone\",\"Boring\",\"No\"],[\"25-08-2022 20:52\",\"Male\",18,\"IT\",\"No\",\"All are choosing so I also chosen\",2,8.94,\"No\",5,\"No\",5,\"Social Media\",\"Balancing my work n sleep\",\"About Food\",\"Listen's Music\",\"Boring\",\"No\"],[\"25-08-2022 20:52\",\"Female\",18,\"CSE\",\"Yes\",\"Interested\",3,7.8,\"Yes\",4,\"Yes\",5,\"Other  ( Series/Movies )\",\"Thinking about future\",\"During exams\",\"Listen's Music\",\"Happy\",\"No\"],[\"25-08-2022 20:53\",\"Female\",18,\"FOODTECH\",\"Yes\",\"Future scope\",3,9.04,\"Yes\",8,\"Yes\",8,\"Other  ( Series/Movies )\",\"Thinking about future\",\"No sleep\",\"Being calm or Being alone\",\"Boring\",\"No\"],[\"25-08-2022 20:54\",\"Female\",17,\"CSE\",\"Yes\",\"Future scope\",2,9.1,\"Yes\",8,\"Yes\",5,\"Studies\",\"Studies/work\",\"During exams\",\"Meditation\",\"Boring\",\"No\"],[\"25-08-2022 20:54\",\"Female\",17,\"EEE\",\"No\",\"Due to Family pressure\",4,6.75,\"Yes\",6,\"Yes\",7,\"Other  ( Series/Movies )\",\"Health\",\"Threaten\",\"Listen's Music\",\"Stressed, Boring\",\"No\"],[\"25-08-2022 20:54\",\"Male\",21,\"CSE\",\"Yes\",\"Interested\",3,8.19,\"Yes\",8,\"Yes\",5,\"Studies\",\"Studies/work\",\"About Faculty\",\"Listen's Music\",\"Happy\",\"Yes\"],[\"25-08-2022 20:54\",\"Male\",21,\"CSE\",\"Yes\",\"Interested\",2,8.5,\"Yes\",8,\"Yes\",4,\"Other  ( Series/Movies )\",\"Friends \",\"About Love\",\"Sharing feelings with someone\",\"Happy, Boring\",\"No\"],[\"25-08-2022 20:54\",\"Female\",21,\"BSC \",\"Yes\",\"Interested\",3,9.0,\"No\",3,\"No\",4,\"Social Media\",\"Thinking about future\",\"About Money\",\"Listen's Music\",\"Boring\",\"No\"],[\"25-08-2022 20:55\",\"Male\",21,\"CSE\",\"Yes\",\"Interested\",3,6.2,\"Yes\",8,\"Yes\",5,\"Social Media\",\"Thinking about future\",\"During exams\",\"Listen's Music\",\"Boring\",\"Yes\"],[\"25-08-2022 20:55\",\"Male\",21,\"CSE\",\"Yes\",\"Due to Family pressure\",3,7.0,\"No\",2,\"No\",3,\"Other  ( Series/Movies )\",\"Studies/work\",\"About Faculty\",\"Listen's Music\",\"Happy\",\"No\"],[\"25-08-2022 20:55\",\"Male\",21,\"CSE\",\"No\",\"Interested\",3,8.7,\"Yes\",5,\"No\",5,\"Other  ( Series/Movies )\",\"Thinking about future\",\"During exams\",\"Meditation\",\"Happy\",\"No\"],[\"25-08-2022 20:55\",\"Male\",21,\"CSE\",\"Yes\",\"Interested\",3,8.0,\"Yes\",7,\"Yes\",5,\"Studies\",\"Thinking about future\",\"During exams\",\"Being calm or Being alone\",\"Depressed, Stressed, Boring\",\"No\"],[\"25-08-2022 20:56\",\"Female\",21,\"CSE\",\"No\",\"All are choosing so I also chosen\",2,0.0,\"No\",5,\"No\",2,\"Other  ( Series/Movies )\",\"Thinking about future\",\"During exams\",\"I just wanna sleep peacefully \",\"Boring\",\"No\"],[\"25-08-2022 20:56\",\"Female\",21,\"CSE\",\"Yes\",\"Interested\",3,9.0,\"Yes\",8,\"Yes\",5,\"Other  ( Series/Movies )\",\"Thinking about future\",\"No sleep\",\"Being calm or Being alone\",\"Boring\",\"No\"],[\"25-08-2022 20:56\",\"Male\",21,\"CSE\",\"No\",\"Interested\",3,8.116,\"Yes\",5,\"No\",4,\"Social Media\",\"Studies/work\",\"About Faculty\",\"Listen's Music\",\"Boring\",\"No\"],[\"25-08-2022 20:56\",\"Female\",19,\"BBA\",\"Yes\",\"Interested\",2,7.13,\"Yes\",8,\"Yes\",10,\"Other  ( Series/Movies )\",\"Thinking about future\",\"During exams\",\"Sharing feelings with some one and travelling \",\"Boring\",\"Yes\"],[\"25-08-2022 20:56\",\"Female\",19,\"ECE\",\"Yes\",\"Future scope\",3,8.2,\"Yes\",6,\"No\",4,\"Social Media\",\"Thinking about future\",\"During exams\",\"Listen's Music\",\"Boring\",\"No\"],[\"25-08-2022 20:57\",\"Female\",19,\"CSE\",\"Yes\",\"Future scope\",3,9.0,\"Yes\",10,\"No\",5,\"Social Media\",\"Studies/work\",\"About Faculty\",\"Listen's Music\",\"Boring\",\"No\"],[\"25-08-2022 20:57\",\"Female\",19,\"CSE\",\"Yes\",\"Future scope\",3,7.8,\"Yes\",9,\"No\",5,\"Social Media\",\"Studies/work\",\"About Faculty\",\"Sleeping\",\"Boring\",\"No\"],[\"25-08-2022 20:57\",\"Male\",19,\"CSE\",\"Yes\",\"Interested\",3,8.37,\"Yes\",8,\"Yes\",2,\"Studies\",\"Studies/work\",\"During exams\",\"Sharing feelings with someone\",\"Boring\",\"Yes\"],[\"25-08-2022 20:57\",\"Male\",19,\"CSE\",\"Yes\",\"Interested\",3,8.6,\"Yes\",10,\"Yes\",10,\"Other  ( Series/Movies )\",\"Studies/work\",\"During exams\",\"Listen's Music\",\"Boring\",\"No\"],[\"25-08-2022 20:57\",\"Male\",19,\"CSE\",\"No\",\"All are choosing so I also chosen\",3,9.0,\"No\",5,\"No\",10,\"Social Media\",\"PROVIDE ELECTIVES IN OUR COLLEGE NOT IN NPTEL .......MY HUMBLE REQUEST\",\"About Faculty\",\"PLAY CRICKET\",\"Happy, Boring\",\"No\"],[\"25-08-2022 20:57\",\"Female\",19,\"CSE\",\"Yes\",\"Interested\",3,8.82,\"Yes\",9,\"Yes\",5,\"Social Media\",\"Studies/work\",\"During exams\",\"Listen's Music\",\"Depressed, Stressed, Happy, Boring\",\"Yes\"],[\"25-08-2022 20:58\",\"Female\",19,\"IT\",\"Yes\",\"Future scope\",2,8.0,\"No\",6,\"Yes\",4,\"Video games\",\"Thinking about future\",\"About Money\",\"Being calm or Being alone\",\"Stressed\",\"No\"],[\"25-08-2022 20:58\",\"Female\",19,\"FOODTECH\",\"Yes\",\"Interested\",3,8.43,\"Yes\",6,\"No\",3,\"Other  ( Series/Movies )\",\"Studies/work\",\"About Food\",\"Being calm or Being alone\",\"Happy\",\"No\"],[\"25-08-2022 20:58\",\"Female\",19,\"CSE\",\"Yes\",\"Future scope\",3,8.23,\"No\",7,\"No\",4,\"Social Media\",\"Studies/work\",\"No sleep\",\"Being calm or Being alone\",\"Stressed\",\"No\"],[\"25-08-2022 20:59\",\"Female\",19,\"CSE\",\"Yes\",\"Interested\",2,8.68,\"No\",4,\"No\",5,\"Studies\",\"Studies/work\",\"About Food\",\"Being calm or Being alone\",\"Boring\",\"No\"],[\"25-08-2022 21:00\",\"Male\",19,\"CSE\",\"Yes\",\"Future scope\",3,8.23,\"Yes\",8,\"Yes\",6,\"Other  ( Series/Movies )\",\"Thinking about future\",\"About Money\",\"Being calm or Being alone\",\"Depressed, Boring\",\"Yes\"],[\"25-08-2022 21:00\",\"Male\",19,\"CSE\",\"No\",\"Future scope\",3,8.9,\"Yes\",8,\"Yes\",2,\"Social Media\",\"Thinking about future\",\"During exams\",\"Being calm or Being alone\",\"Happy\",\"No\"],[\"25-08-2022 21:00\",\"Female\",19,\"CSE\",\"Yes\",\"Future scope\",2,8.0,\"No\",7,\"No\",4,\"Other  ( Series/Movies )\",\"Studies/work\",\"About Faculty\",\"Sharing feelings with someone\",\"Boring\",\"Yes\"],[\"25-08-2022 21:00\",\"Male\",19,\"CSE\",\"Yes\",\"Interested\",3,8.0,\"No\",4,\"No\",3,\"Other  ( Series/Movies )\",\"Thinking about future\",\"No sleep\",\"Being calm or Being alone\",\"Boring\",\"Yes\"],[\"25-08-2022 21:01\",\"Male\",19,\"CSE\",\"Yes\",\"Interested\",3,8.1,\"No\",3,\"No\",10,\"Social Media\",\"Studies/work\",\"During exams\",\"Anime\",\"Happy\",\"Yes\"],[\"25-08-2022 21:01\",\"Male\",18,\"CSE\",\"No\",\"Interested\",3,7.87,\"No\",8,\"No\",4,\"Social Media\",\"Health\",\"About Food\",\"Listen's Music\",\"Happy\",\"No\"],[\"25-08-2022 21:01\",\"Male\",18,\"CSE\",\"Yes\",\"Future scope\",3,7.5,\"Yes\",8,\"No\",2,\"Social Media\",\"Family\",\"About Money\",\"Listen's Music\",\"Boring\",\"No\"],[\"25-08-2022 21:01\",\"Male\",18,\"CSE\",\"Yes\",\"Future scope\",3,8.13,\"No\",3,\"No\",2,\"Social Media\",\"Studies/work\",\"About Money\",\"Listen's Music\",\"Happy, Boring\",\"No\"],[\"25-08-2022 21:01\",\"Female\",18,\"FOODTECH\",\"Yes\",\"Interested\",3,8.8,\"Yes\",3,\"Yes\",4,\"Social Media\",\"Studies/work\",\"During exams\",\"Listen's Music\",\"Boring\",\"No\"],[\"25-08-2022 21:02\",\"Male\",18,\"CSE\",\"Yes\",\"Interested\",3,7.8,\"Yes\",7,\"No\",5,\"Social Media\",\"Thinking about future\",\"Threaten\",\"Travelling\",\"Stressed\",\"No\"],[\"25-08-2022 21:02\",\"Female\",18,\"CSE\",\"Yes\",\"Interested\",2,8.0,\"Yes\",8,\"No\",3,\"Social Media\",\"Thinking about future\",\"During exams\",\"Listen's Music\",\"Boring\",\"No\"],[\"25-08-2022 21:03\",\"Female\",18,\"CSE\",\"No\",\"All are choosing so I also chosen\",2,9.09,\"No\",4,\"No\",5,\"Other  ( Series/Movies )\",\"Studies/work\",\"During exams\",\"Being calm or Being alone\",\"Boring\",\"No\"],[\"25-08-2022 21:03\",\"Male\",18,\"CSE\",\"Yes\",\"Interested\",3,7.8,\"Yes\",7,\"Yes\",2,\"Studies\",\"Studies/work\",\"During exams\",\"Listen's Music\",\"Boring\",\"Yes\"],[\"25-08-2022 21:03\",\"Male\",18,\"CSE\",\"Yes\",\"Interested\",3,7.9,\"Yes\",7,\"No\",5,\"Social Media\",\"Thinking about future\",\"About Money\",\"Travelling\",\"Boring\",\"Yes\"],[\"25-08-2022 21:03\",\"Female\",18,\"CSE\",\"Yes\",\"Interested\",3,7.67,\"Yes\",7,\"Yes\",4,\"Other  ( Series/Movies )\",\"Health\",\"No sleep\",\"Sleeping\",\"Happy\",\"No\"],[\"25-08-2022 21:04\",\"Female\",18,\"CSE\",\"Yes\",\"Future scope\",2,8.0,\"No\",3,\"No\",8,\"Social Media\",\"Studies/work\",\"During exams\",\"Listen's Music\",\"Boring\",\"No\"],[\"25-08-2022 21:04\",\"Male\",18,\"CSE\",\"Yes\",\"Interested\",3,7.83,\"Yes\",2,\"No\",7,\"Other  ( Series/Movies )\",\"Thinking about future\",\"During exams\",\"Listen's Music\",\"Boring\",\"No\"],[\"25-08-2022 21:04\",\"Female\",18,\"BIOTECH\",\"Yes\",\"Interested\",3,8.0,\"Yes\",6,\"Yes\",2,\"Social Media\",\"Thinking about future\",\"During exams\",\"Listen's Music\",\"Boring\",\"No\"],[\"25-08-2022 21:04\",\"Female\",18,\"CSE\",\"Yes\",\"Interested\",3,7.0,\"Yes\",6,\"Yes\",5,\"Social Media\",\"Thinking about future\",\"About Money\",\"Listen's Music\",\"Depressed\",\"No\"],[\"25-08-2022 21:04\",\"Female\",18,\"BIOTECH\",\"No\",\"Due to Family pressure\",3,7.22,\"Yes\",5,\"No\",8,\"Social Media\",\"Thinking about future\",\"During exams\",\"Listen's Music\",\"Boring\",\"No\"],[\"25-08-2022 21:04\",\"Male\",18,\"CSE\",\"Yes\",\"Due to Family pressure\",3,7.5,\"Yes\",9,\"Yes\",5,\"Studies\",\"None\",\"About Love\",\"Travelling\",\"Happy\",\"Yes\"],[\"25-08-2022 21:05\",\"Male\",18,\"IT\",\"No\",\"All are choosing so I also chosen\",4,8.0,\"Yes\",6,\"No\",10,\"Studies\",\"Thinking about future\",\"About Money\",\"Being calm or Being alone\",\"Stressed, Happy, Boring\",\"No\"],[\"25-08-2022 21:05\",\"Female\",18,\"BIOTECH\",\"Yes\",\"Interested\",3,7.58,\"Yes\",7,\"Yes\",5,\"Social Media\",\"Thinking about future\",\"During exams\",\"Listen's Music\",\"Boring\",\"No\"],[\"25-08-2022 21:05\",\"Male\",18,\"CSE\",\"No\",\"Future scope\",2,8.0,\"No\",8,\"No\",4,\"Social Media\",\"Health\",\"No sleep\",\"Being calm or Being alone\",\"Boring\",\"No\"],[\"25-08-2022 21:05\",\"Male\",18,\"CSE\",\"Yes\",\"Future scope\",3,9.0,\"Yes\",8,\"No\",10,\"Social Media\",\"Thinking about future\",\"About Food\",\"Being calm or Being alone\",\"Happy, Boring\",\"No\"],[\"25-08-2022 21:05\",\"Female\",19,\"CSE\",\"Yes\",\"Future scope\",2,8.0,\"No\",5,\"No\",4,\"Social Media\",\"Studies/work\",\"During exams\",\"Listen's Music\",\"Boring\",\"No\"],[\"25-08-2022 21:05\",\"Male\",19,\"CSE\",\"Yes\",\"Future scope\",3,9.11,\"No\",5,\"No\",5,\"Other  ( Series/Movies )\",\"Hostel life \",\"No sleep\",\"Listen's Music\",\"Happy\",\"No\"],[\"25-08-2022 21:06\",\"Male\",19,\"BIOTECH\",\"No\",\"Future scope\",3,7.56,\"Yes\",8,\"No\",5,\"Other  ( Series/Movies )\",\"Studies/work\",\"About Faculty\",\"Doing any physical activity\",\"Happy, Boring\",\"No\"],[\"25-08-2022 21:06\",\"Male\",19,\"CSE\",\"Yes\",\"Future scope\",3,8.84,\"No\",7,\"No\",7,\"Studies\",\"Thinking about future\",\"About Faculty\",\"Doing any physical activity\",\"Happy, Boring\",\"No\"],[\"25-08-2022 21:06\",\"Female\",19,\"CSE\",\"Yes\",\"Interested\",3,8.23,\"No\",4,\"Yes\",4,\"Other  ( Series/Movies )\",\"Studies/work\",\"During exams\",\"Listen's Music\",\"Stressed\",\"No\"],[\"25-08-2022 21:06\",\"Female\",19,\"BIOTECH\",\"Yes\",\"Interested\",3,7.93,\"No\",4,\"No\",3,\"Social Media\",\"Studies/work\",\"During exams\",\"Listen's Music\",\"Depressed, Stressed, Happy\",\"No\"],[\"25-08-2022 21:06\",\"Male\",19,\"CSE\",\"Yes\",\"Interested\",3,7.98,\"No\",4,\"No\",2,\"Other  ( Series/Movies )\",\"Health\",\"About Money\",\"Being calm or Being alone\",\"Depressed\",\"No\"],[\"25-08-2022 21:06\",\"Male\",19,\"CSE\",\"Yes\",\"Future scope\",2,0.0,\"Yes\",8,\"Yes\",2,\"Social Media\",\"Thinking about future\",\"About Money\",\"Listen's Music\",\"Boring\",\"Yes\"],[\"25-08-2022 21:07\",\"Female\",19,\"BIOTECH\",\"Yes\",\"Future scope\",3,8.0,\"Yes\",9,\"No\",2,\"Other  ( Series/Movies )\",\"Thinking about future\",\"During exams\",\"Being calm or Being alone\",\"Depressed\",\"No\"],[\"25-08-2022 21:07\",\"Male\",19,\"CSE\",\"Yes\",\"Due to Family pressure\",3,7.89,\"Yes\",8,\"No\",5,\"Social Media\",\"Thinking about future\",\"About Money\",\"Listen's Music\",\"Happy\",\"No\"],[\"25-08-2022 21:08\",\"Female\",19,\"CSE\",\"Yes\",\"Future scope\",3,7.68,\"Yes\",8,\"No\",4,\"Other  ( Series/Movies )\",\"Thinking about future\",\"During exams\",\"Listen's Music\",\"Depressed, Stressed, Boring\",\"No\"],[\"25-08-2022 21:09\",\"Female\",19,\"CSE\",\"No\",\"Future scope\",3,8.51,\"Yes\",5,\"No\",4,\"Social Media\",\"Studies/work\",\"During exams\",\"Listen's Music\",\"Boring\",\"No\"],[\"25-08-2022 21:09\",\"Female\",19,\"IT\",\"No\",\"Future scope\",2,8.94,\"No\",8,\"No\",5,\"Social Media\",\"All of the above\",\"About Money\",\"Sharing feelings with someone\",\"Depressed\",\"No\"],[\"25-08-2022 21:10\",\"Female\",19,\"CSE\",\"Yes\",\"Interested\",3,7.6,\"No\",5,\"Yes\",10,\"Other  ( Series/Movies )\",\"Studies/work\",\"No sleep\",\"Meditation\",\"Happy\",\"No\"],[\"25-08-2022 21:10\",\"Male\",19,\"CSE\",\"Yes\",\"All are choosing so I also chosen\",3,7.5,\"Yes\",5,\"Yes\",4,\"Social Media\",\"Thinking about future\",\"About Love\",\"Doing any physical activity\",\"Happy\",\"No\"],[\"25-08-2022 21:11\",\"Male\",19,\"CSE\",\"No\",\"Future scope\",2,8.26,\"No\",8,\"No\",5,\"Studies\",\"Studies/work\",\"During exams\",\"Listen's Music\",\"Stressed\",\"No\"],[\"25-08-2022 21:11\",\"Male\",19,\"CSE\",\"No\",\"Interested\",3,6.19,\"No\",8,\"No\",5,\"Other  ( Series/Movies )\",\"Family\",\"About Money\",\"Being calm or Being alone\",\"Happy\",\"Yes\"],[\"25-08-2022 21:11\",\"Male\",19,\"CSE\",\"Yes\",\"Future scope\",3,8.53,\"Yes\",9,\"Yes\",4,\"Social Media\",\"Family\",\"About Money\",\"Listen's Music\",\"Depressed, Stressed\",\"No\"],[\"25-08-2022 21:11\",\"Male\",19,\"CSE\",\"Yes\",\"Future scope\",3,0.0,\"No\",8,\"No\",8,\"Other  ( Series/Movies )\",\"Studies/work\",\"During exams\",\"Travelling\",\"Stressed\",\"No\"],[\"25-08-2022 21:11\",\"Female\",19,\"CSE\",\"Yes\",\"Future scope\",3,8.0,\"Yes\",7,\"Yes\",4,\"Social Media\",\"Thinking about future\",\"During exams\",\"Sharing feelings with someone\",\"Happy\",\"No\"],[\"25-08-2022 21:12\",\"Male\",17,\"CSE\",\"Yes\",\"Interested\",3,8.21,\"Yes\",7,\"No\",4,\"Social Media\",\"Thinking about future\",\"During exams\",\"Listen's Music\",\"Stressed, Boring\",\"No\"],[\"25-08-2022 21:13\",\"Male\",20,\"CSE\",\"Yes\",\"Interested\",3,7.79,\"Yes\",4,\"No\",5,\"Other  ( Series/Movies )\",\"Thinking about future\",\"No sleep\",\"Being calm or Being alone\",\"Boring\",\"No\"],[\"25-08-2022 21:13\",\"Female\",20,\"CSE\",\"Yes\",\"Future scope\",3,7.05,\"Yes\",7,\"Yes\",4,\"Studies\",\"Studies/work\",\"During exams\",\"Listen's Music\",\"Depressed, Stressed, Boring\",\"Yes\"],[\"25-08-2022 21:13\",\"Male\",20,\"CSE\",\"Yes\",\"Future scope\",3,8.29,\"Yes\",6,\"No\",2,\"Social Media\",\"Thinking about future\",\"During exams\",\"Sharing feelings with someone\",\"Boring\",\"No\"],[\"25-08-2022 21:14\",\"Male\",20,\"CSE\",\"Yes\",\"Interested\",2,8.02,\"Yes\",6,\"No\",4,\"Social Media\",\"Studies/work\",\"During exams\",\"Sharing feelings with someone\",\"Happy\",\"No\"],[\"25-08-2022 21:14\",\"Female\",20,\"CSE\",\"Yes\",\"Interested\",3,8.01,\"No\",7,\"No\",7,\"Social Media\",\"Family\",\"About Food\",\"Being calm or Being alone\",\"Happy\",\"No\"],[\"25-08-2022 21:14\",\"Male\",20,\"CSE\",\"No\",\"Future scope\",3,8.21,\"Yes\",4,\"No\",8,\"Other  ( Series/Movies )\",\"Thinking about future\",\"During exams\",\"Sharing feelings with someone\",\"Depressed\",\"No\"],[\"25-08-2022 21:14\",\"Female\",20,\"CSE\",\"Yes\",\"Future scope\",2,8.2,\"No\",8,\"No\",5,\"Studies\",\"Studies/work\",\"During exams\",\"Listen's Music\",\"Boring\",\"No\"],[\"25-08-2022 21:15\",\"Male\",20,\"CSE\",\"Yes\",\"Future scope\",3,9.0,\"Yes\",10,\"Yes\",5,\"Social Media\",\"Thinking about future\",\"About Money\",\"Doing any physical activity\",\"Boring\",\"No\"],[\"25-08-2022 21:15\",\"Male\",20,\"IT\",\"Yes\",\"Interested\",2,6.09,\"Yes\",5,\"Yes\",3,\"Social Media\",\"Family\",\"During exams\",\"Listen's Music\",\"Boring\",\"Yes\"],[\"25-08-2022 21:16\",\"Female\",20,\"CSE\",\"No\",\"Future scope\",3,8.48,\"No\",5,\"No\",4,\"Other  ( Series/Movies )\",\"Thinking about future\",\"During exams\",\"Listen's Music\",\"Boring\",\"No\"],[\"25-08-2022 21:16\",\"Male\",20,\"EEE\",\"Yes\",\"Future scope\",4,7.9,\"Yes\",8,\"No\",5,\"Video games\",\"Health\",\"About Food\",\"Being calm or Being alone\",\"Happy\",\"Yes\"],[\"25-08-2022 21:17\",\"Female\",20,\"CSE\",\"Yes\",\"Interested\",2,9.16,\"Yes\",4,\"No\",4,\"Studies\",\"Health\",\"About Food\",\"Listening music n being alone \",\"Boring\",\"Yes\"],[\"25-08-2022 21:17\",\"Male\",20,\"CSE\",\"Yes\",\"Interested\",2,7.04,\"Yes\",4,\"Yes\",5,\"Other  ( Series/Movies )\",\"Thinking about future\",\"About Love\",\"Listen's Music\",\"Boring\",\"Yes\"],[\"25-08-2022 21:17\",\"Female\",20,\"CSE\",\"No\",\"Interested\",2,9.25,\"No\",5,\"No\",8,\"Studies\",\"Studies/work\",\"About Faculty\",\"Sharing feelings with someone\",\"Depressed\",\"No\"],[\"25-08-2022 21:17\",\"Male\",20,\"CSE \",\"Yes\",\"Interested\",3,7.01,\"No\",8,\"Yes\",5,\"Social Media\",\"All \",\"About Money\",\"Sharing feelings with someone\",\"Boring\",\"No\"],[\"25-08-2022 21:18\",\"Female\",20,\"CSE\",\"Yes\",\"Future scope\",3,7.0,\"Yes\",7,\"No\",4,\"Social Media\",\"Thinking about future\",\"During exams\",\"Listen's Music\",\"Happy\",\"Yes\"],[\"25-08-2022 21:18\",\"Male\",20,\"CSE\",\"No\",\"Due to Family pressure\",2,8.0,\"No\",4,\"No\",8,\"Social Media\",\"Thinking about future\",\"About Love\",\"Doing any physical activity\",\"Depressed\",\"No\"],[\"25-08-2022 21:18\",\"Male\",20,\"CSE\",\"Yes\",\"Future scope\",3,8.2,\"Yes\",7,\"Yes\",8,\"Studies\",\"Thinking about future\",\"During exams\",\"Listen's Music\",\"Boring\",\"No\"],[\"25-08-2022 21:18\",\"Male\",20,\"CSE\",\"Yes\",\"Interested\",2,8.75,\"Yes\",9,\"No\",5,\"Social Media\",\"Thinking about future\",\"During exams\",\"Listen's Music\",\"Boring\",\"No\"],[\"25-08-2022 21:18\",\"Female\",20,\"CSE\",\"Yes\",\"Future scope\",3,8.4,\"Yes\",5,\"Yes\",8,\"Social Media\",\"Thinking about future\",\"During exams\",\"Sharing feelings with someone\",\"Stressed, Boring\",\"No\"],[\"25-08-2022 21:19\",\"Female\",20,\"CSE\",\"No\",\"Future scope\",2,9.0,\"Yes\",5,\"No\",2,\"Studies\",\"Thinking about future\",\"About Money\",\"Listen's Music\",\"Boring\",\"Yes\"],[\"25-08-2022 21:19\",\"Female\",20,\"CSE\",\"Yes\",\"Future scope\",2,8.7,\"No\",7,\"No\",3,\"Other  ( Series/Movies )\",\"Studies/work\",\"About Money\",\"Travelling\",\"Boring\",\"No\"],[\"25-08-2022 21:20\",\"Female\",20,\"CSE\",\"Yes\",\"Interested\",3,8.05,\"Yes\",7,\"Yes\",2,\"Other  ( Series/Movies )\",\"Family\",\"About Faculty\",\"Listen's Music\",\"Stressed\",\"Yes\"],[\"25-08-2022 21:20\",\"Female\",16,\"CSE\",\"No\",\"Due to Family pressure\",2,9.0,\"No\",8,\"No\",4,\"Social Media\",\"Studies/work\",\"About Faculty\",\"Travelling\",\"Happy\",\"No\"],[\"25-08-2022 21:20\",\"Female\",22,\"CSE\",\"Yes\",\"Interested\",4,8.3,\"Yes\",10,\"No\",8,\"Other  ( Series/Movies )\",\"Thinking about future\",\"About Money\",\"Being calm or Being alone\",\"Boring\",\"No\"],[\"25-08-2022 21:21\",\"Male\",20,\"CSE\",\"Yes\",\"Future scope\",2,7.82,\"Yes\",6,\"No\",2,\"Studies\",\"Studies/work\",\"During exams\",\"Travelling\",\"Boring\",\"No\"],[\"25-08-2022 21:21\",\"Male\",20,\"CSE\",\"Yes\",\"Interested\",2,8.0,\"Yes\",7,\"No\",2,\"Other  ( Series/Movies )\",\"Studies/work\",\"During exams\",\"Listen's Music\",\"Boring\",\"Yes\"],[\"25-08-2022 21:21\",\"Male\",20,\"CSE\",\"Yes\",\"Interested\",3,9.0,\"No\",8,\"No\",3,\"Social Media\",\"Family\",\"About Faculty\",\"Being calm or Being alone\",\"Happy, Boring\",\"Yes\"],[\"25-08-2022 21:21\",\"Female\",20,\"CSE\",\"Yes\",\"Future scope\",2,9.1,\"Yes\",8,\"No\",6,\"Studies\",\"Health\",\"About Money\",\"Being calm or Being alone\",\"Depressed, Boring\",\"No\"],[\"25-08-2022 21:21\",\"Female\",20,\"CSE\",\"Yes\",\"Interested\",2,8.5,\"No\",8,\"No\",6,\"Studies\",\"Studies/work\",\"About Money\",\"Sharing feelings with someone\",\"Stressed\",\"No\"],[\"25-08-2022 21:21\",\"Male\",20,\"CSE\",\"Yes\",\"All are choosing so I also chosen\",2,9.0,\"Yes\",8,\"No\",4,\"Other  ( Series/Movies )\",\"Studies/work\",\"About Food\",\"Being calm or Being alone\",\"Happy\",\"No\"],[\"25-08-2022 21:22\",\"Male\",20,\"CSE\",\"Yes\",\"Interested\",3,8.44,\"Yes\",8,\"Yes\",10,\"Video games\",\"Studies/work\",\"During exams\",\"Sharing feelings with someone\",\"Stressed\",\"No\"],[\"25-08-2022 21:22\",\"Male\",20,\"CSE\",\"Yes\",\"Future scope\",2,9.01,\"No\",8,\"No\",3,\"Studies\",\"Studies/work\",\"About Faculty\",\"Travelling\",\"Depressed, Happy, Boring\",\"No\"],[\"25-08-2022 21:22\",\"Female\",20,\"CSE\",\"Yes\",\"Future scope\",2,9.11,\"No\",8,\"No\",6,\"Studies\",\"Studies/work\",\"During exams\",\"Listen's Music\",\"Boring\",\"No\"],[\"25-08-2022 21:22\",\"Female\",20,\"CSE\",\"Yes\",\"Future scope\",3,8.62,\"Yes\",8,\"No\",4,\"Social Media\",\"Thinking about future\",\"During exams\",\"Listen's Music\",\"Boring\",\"No\"],[\"25-08-2022 21:23\",\"Female\",20,\"BIOTECH\",\"Yes\",\"Interested\",3,7.55,\"No\",8,\"No\",6,\"Other  ( Series/Movies )\",\"Thinking about future\",\"About Food\",\"Sharing feelings with someone\",\"Boring\",\"No\"],[\"25-08-2022 21:23\",\"Male\",20,\"CSE\",\"No\",\"All are choosing so I also chosen\",2,7.0,\"No\",8,\"No\",8,\"Social Media\",\"Studies/work\",\"About Money\",\"Sharing feelings with someone\",\"Boring\",\"No\"],[\"25-08-2022 21:23\",\"Male\",20,\"CSE\",\"Yes\",\"Due to Family pressure\",3,8.02,\"No\",8,\"No\",10,\"Studies\",\"Studies/work\",\"During exams\",\"Listen's Music\",\"Happy\",\"No\"],[\"25-08-2022 21:23\",\"Female\",20,\"CSE\",\"Yes\",\"Future scope\",3,0.0,\"No\",8,\"Yes\",2,\"Social Media\",\"Thinking about future\",\"No sleep\",\"Being calm or Being alone\",\"Boring\",\"No\"],[\"25-08-2022 21:23\",\"Female\",20,\"CSE\",\"Yes\",\"Interested\",3,7.7,\"Yes\",8,\"Yes\",3,\"Studies\",\"Health\",\"No sleep\",\"Listen's Music\",\"Boring\",\"Yes\"],[\"25-08-2022 21:23\",\"Male\",20,\"CSE\",\"Yes\",\"Future scope\",2,8.0,\"Yes\",8,\"No\",5,\"Social Media\",\"Thinking about future\",\"During exams\",\"Listen's Music\",\"Boring\",\"No\"],[\"25-08-2022 21:23\",\"Male\",20,\"CSE\",\"No\",\"Interested\",3,7.0,\"No\",8,\"No\",4,\"Studies\",\"Studies/work\",\"About Faculty\",\"Listen's Music\",\"Happy\",\"No\"],[\"25-08-2022 21:24\",\"Female\",20,\"CSE\",\"Yes\",\"Due to Family pressure\",2,8.87,\"No\",8,\"No\",2,\"Studies\",\"Thinking about future\",\"About Money\",\"Meditation\",\"Boring\",\"No\"],[\"25-08-2022 21:24\",\"Male\",20,\"CSE \",\"Yes\",\"Future scope\",3,7.93,\"Yes\",8,\"Yes\",5,\"Social Media\",\"Studies/work\",\"During exams\",\"Listen's Music\",\"Boring\",\"No\"],[\"25-08-2022 21:24\",\"Female\",20,\"CSE\",\"Yes\",\"Future scope\",2,8.39,\"Yes\",8,\"No\",4,\"Social Media\",\"Health\",\"About Food\",\"Listen's Music\",\"Happy\",\"No\"],[\"25-08-2022 21:24\",\"Female\",20,\"CSE\",\"Yes\",\"Future scope\",3,7.2,\"Yes\",8,\"Yes\",5,\"Other  ( Series/Movies )\",\"Thinking about future\",\"During exams\",\"Listen's Music\",\"Boring\",\"No\"],[\"25-08-2022 21:25\",\"Male\",17,\"CSE\",\"Yes\",\"Interested\",2,9.1,\"Yes\",5,\"Yes\",8,\"Social Media\",\"Thinking about future\",\"About Love\",\"Listen's Music\",\"Stressed\",\"No\"],[\"25-08-2022 21:25\",\"Female\",19,\"CSE\",\"Yes\",\"Future scope\",2,8.0,\"No\",5,\"No\",2,\"Studies\",\"Studies/work\",\"About Faculty\",\"Travelling\",\"Happy\",\"No\"],[\"25-08-2022 21:25\",\"Male\",19,\"CSE \",\"No\",\"Future scope\",3,7.56,\"Yes\",5,\"No\",8,\"Other  ( Series/Movies )\",\"Thinking about future\",\"About Faculty\",\"Listen's Music\",\"Happy\",\"No\"],[\"25-08-2022 21:25\",\"Female\",19,\"CSE\",\"Yes\",\"Due to Family pressure\",3,7.02,\"Yes\",5,\"Yes\",5,\"Social Media\",\"Thinking about future\",\"During exams\",\"Listen's Music\",\"Boring\",\"No\"],[\"25-08-2022 21:25\",\"Male\",19,\"CIVIL \",\"Yes\",\"Due to Family pressure\",3,8.0,\"No\",5,\"Yes\",4,\"Social Media\",\"Thinking about future\",\"During exams\",\"Sharing feelings with someone\",\"Boring\",\"No\"],[\"25-08-2022 21:26\",\"Male\",19,\"CSE\",\"No\",\"Due to Family pressure\",3,8.3,\"No\",5,\"No\",5,\"Social Media\",\"Thinking about future\",\"About Love\",\"Sharing feelings with someone\",\"Boring\",\"No\"],[\"25-08-2022 21:26\",\"Male\",19,\"CSE\",\"Yes\",\"Future scope\",2,7.4,\"No\",5,\"No\",5,\"Social Media\",\"Studies/work\",\"During exams\",\"Sharing feelings with someone\",\"Happy\",\"No\"],[\"25-08-2022 21:26\",\"Male\",19,\"CSE\",\"Yes\",\"Future scope\",3,7.89,\"No\",5,\"No\",10,\"Other  ( Series/Movies )\",\"Thinking about future\",\"No sleep\",\"Sharing feelings with someone\",\"Boring\",\"Yes\"],[\"25-08-2022 21:26\",\"Female\",19,\"CSE\",\"Yes\",\"Future scope\",3,7.13,\"No\",5,\"No\",4,\"Other  ( Series/Movies )\",\"Thinking about future\",\"No sleep\",\"Sharing feelings with someone\",\"Boring\",\"No\"],[\"25-08-2022 21:27\",\"Male\",19,\"CSE\",\"No\",\"All are choosing so I also chosen\",3,0.0,\"No\",5,\"No\",10,\"Video games\",\"Thinking about future\",\"About Faculty\",\"Travelling\",\"Boring\",\"No\"],[\"25-08-2022 21:28\",\"Female\",19,\"CSE\",\"Yes\",\"Future scope\",2,8.68,\"No\",5,\"No\",5,\"Studies\",\"Studies/work\",\"During exams\",\"Listen's Music\",\"Boring\",\"No\"],[\"25-08-2022 21:28\",\"Female\",19,\"CSE\",\"Yes\",\"Future scope\",2,7.78,\"Yes\",5,\"No\",4,\"Studies\",\"Tasty food is not there\",\"About Food\",\"Listen's Music\",\"Boring\",\"No\"],[\"25-08-2022 21:28\",\"Female\",19,\"CSE\",\"Yes\",\"Future scope\",2,8.09,\"No\",5,\"No\",4,\"Studies\",\"Tasty food is not there \",\"About Food\",\"Listen's Music\",\"Boring\",\"No\"],[\"25-08-2022 21:29\",\"Female\",19,\"CSE\",\"Yes\",\"Interested\",3,8.7,\"Yes\",5,\"No\",8,\"Other  ( Series/Movies )\",\"Health\",\"Threaten\",\"Listen's Music\",\"Boring\",\"Yes\"],[\"25-08-2022 21:29\",\"Male\",19,\"CSE\",\"Yes\",\"Future scope\",2,8.5,\"Yes\",5,\"Yes\",5,\"Studies\",\"Studies/work\",\"During exams\",\"Listen's Music\",\"Happy\",\"No\"],[\"25-08-2022 21:29\",\"Female\",19,\"CSE\",\"No\",\"Due to Family pressure\",3,8.56,\"No\",5,\"No\",4,\"Social Media\",\"Studies/work\",\"During exams\",\"Listen's Music\",\"Depressed\",\"No\"],[\"25-08-2022 21:29\",\"Female\",19,\"CSE\",\"Yes\",\"Future scope\",2,0.0,\"No\",5,\"No\",9,\"Studies\",\"Thinking about future\",\"About Money\",\"Listen's Music\",\"Happy, Boring\",\"No\"],[\"25-08-2022 21:29\",\"Female\",19,\"CSE\",\"Yes\",\"Interested\",2,8.2,\"Yes\",8,\"No\",5,\"Social Media\",\"Thinking about future\",\"During exams\",\"Being calm or Being alone\",\"Depressed\",\"Yes\"],[\"25-08-2022 21:29\",\"Male\",19,\"CSE\",\"Yes\",\"Future scope\",3,8.3,\"No\",8,\"No\",4,\"Social Media\",\"Studies/work\",\"During exams\",\"Listen's Music\",\"Boring\",\"No\"],[\"25-08-2022 21:29\",\"Male\",19,\"CSE\",\"Yes\",\"Interested\",3,8.57,\"No\",6,\"No\",4,\"Studies\",\"Thinking about future\",\"About Money\",\"Listen's Music\",\"Depressed, Stressed, Boring\",\"Yes\"],[\"25-08-2022 21:30\",\"Male\",19,\"CSE\",\"Yes\",\"Interested\",3,8.1,\"Yes\",8,\"No\",3,\"Social Media\",\"Thinking about future\",\"During exams\",\"Listen's Music\",\"Happy\",\"No\"],[\"25-08-2022 21:30\",\"Female\",19,\"BARCH\",\"Yes\",\"Interested\",3,0.0,\"No\",7,\"No\",5,\"Social Media\",\"Thinking about future\",\"About Money\",\"Sharing feelings with someone\",\"Boring\",\"No\"],[\"25-08-2022 21:30\",\"Female\",19,\"CSE\",\"Yes\",\"Future scope\",3,8.0,\"Yes\",7,\"Yes\",6,\"Other  ( Series/Movies )\",\"Thinking about future\",\"About Money\",\"Listen's Music\",\"Stressed\",\"No\"],[\"25-08-2022 21:30\",\"Male\",20,\"CSE\",\"Yes\",\"Interested\",3,7.6,\"Yes\",7,\"Yes\",2,\"Studies\",\"Studies/work\",\"During exams\",\"Doing any physical activity\",\"Boring\",\"No\"],[\"25-08-2022 21:30\",\"Male\",20,\"FOODTECH\",\"Yes\",\"Future scope\",3,7.0,\"No\",4,\"Yes\",6,\"Video games\",\"Studies/work\",\"No sleep\",\"Doing any physical activity\",\"Boring\",\"Yes\"],[\"25-08-2022 21:30\",\"Male\",20,\"CSE\",\"Yes\",\"Future scope\",3,7.4,\"No\",4,\"No\",5,\"Studies\",\"Studies/work\",\"About Money\",\"Listen's Music\",\"Depressed\",\"No\"],[\"25-08-2022 21:31\",\"Male\",20,\"CSE\",\"Yes\",\"Interested\",2,9.0,\"Yes\",8,\"No\",2,\"Studies\",\"Studies/work\",\"About Faculty\",\"Listen's Music\",\"Stressed, Boring\",\"Yes\"],[\"25-08-2022 21:31\",\"Female\",20,\"CSE\",\"Yes\",\"Interested\",3,8.99,\"Yes\",7,\"Yes\",2,\"Other  ( Series/Movies )\",\"Thinking about future\",\"During exams\",\"Sharing feelings with someone\",\"Happy, Boring\",\"Yes\"],[\"25-08-2022 21:31\",\"Male\",20,\"IT\",\"No\",\"Future scope\",2,7.75,\"No\",7,\"No\",5,\"Social Media\",\"Thinking about future\",\"During exams\",\"Listen's Music\",\"Boring\",\"No\"],[\"25-08-2022 21:32\",\"Male\",20,\"CSE \",\"Yes\",\"Due to Family pressure\",3,8.45,\"Yes\",7,\"No\",4,\"Social Media\",\"Thinking about future\",\"About Food\",\"Listen's Music\",\"Depressed, Boring\",\"Yes\"],[\"25-08-2022 21:32\",\"Female\",20,\"CSE\",\"Yes\",\"Future scope\",3,9.64,\"Yes\",7,\"No\",6,\"Social Media\",\"Thinking about future\",\"During exams\",\"Listen's Music\",\"Boring\",\"No\"],[\"25-08-2022 21:33\",\"Male\",20,\"CSE\",\"Yes\",\"All are choosing so I also chosen\",3,8.0,\"No\",7,\"No\",2,\"Other  ( Series/Movies )\",\"Thinking about future\",\"No sleep\",\"Listen's Music\",\"Boring\",\"No\"],[\"25-08-2022 21:33\",\"Male\",20,\"CSE\",\"No\",\"Interested\",2,7.0,\"No\",7,\"No\",2,\"Studies\",\"Studies/work\",\"About Faculty\",\"Being calm or Being alone\",\"Happy\",\"Yes\"],[\"25-08-2022 21:33\",\"Female\",20,\"FOODTECH\",\"Yes\",\"Interested\",3,7.74,\"Yes\",7,\"Yes\",5,\"Social Media\",\"Thinking about future\",\"During exams\",\"Sharing feelings with someone\",\"Happy, Boring\",\"Yes\"],[\"25-08-2022 21:33\",\"Male\",20,\"CSE\",\"Yes\",\"Future scope\",2,8.16,\"Yes\",7,\"No\",4,\"Studies\",\"Studies/work\",\"About Faculty\",\"Travelling\",\"Boring\",\"Yes\"],[\"25-08-2022 21:33\",\"Male\",20,\"CSE \",\"No\",\"Future scope\",3,7.8,\"No\",7,\"No\",6,\"Other  ( Series/Movies )\",\"Thinking about future\",\"During exams\",\"Listen's Music\",\"Boring\",\"No\"],[\"25-08-2022 21:33\",\"Female\",20,\"CSE\",\"No\",\"Due to Family pressure\",2,6.78,\"No\",7,\"No\",6,\"Studies\",\"Family and studies\",\"During exams\",\"Listen's Music\",\"Boring\",\"No\"],[\"25-08-2022 21:33\",\"Male\",20,\"CSE\",\"Yes\",\"Future scope\",2,8.2,\"Yes\",7,\"Yes\",8,\"Other  ( Series/Movies )\",\"Studies/work\",\"During exams\",\"Being calm or Being alone\",\"Boring\",\"Yes\"],[\"25-08-2022 21:34\",\"Female\",20,\"FOODTECH\",\"Yes\",\"Future scope\",3,9.17,\"Yes\",7,\"Yes\",2,\"Studies\",\"Studies/work\",\"During exams\",\"Listen's Music\",\"Boring\",\"No\"],[\"25-08-2022 21:35\",\"Female\",20,\"CSE\",\"Yes\",\"Interested\",3,8.78,\"Yes\",7,\"Yes\",2,\"Social Media\",\"Thinking about future\",\"During exams\",\"Sharing feelings with someone\",\"Stressed, Happy\",\"No\"],[\"25-08-2022 21:35\",\"Male\",20,\"FOODTECH\",\"Yes\",\"Interested\",3,8.1,\"Yes\",7,\"No\",5,\"Social Media\",\"Thinking about future\",\"During exams\",\"Listen's Music\",\"Boring\",\"No\"],[\"25-08-2022 21:35\",\"Female\",18,\"IT\",\"Yes\",\"Due to Family pressure\",2,6.44,\"No\",4,\"No\",2,\"Studies\",\"Studies/work\",\"During exams\",\"Listen's Music\",\"Depressed\",\"No\"],[\"25-08-2022 21:35\",\"Female\",18,\"CSE\",\"No\",\"Future scope\",3,8.11,\"No\",4,\"No\",5,\"Studies\",\"Thinking about future\",\"About Faculty\",\"Listen's Music\",\"Boring\",\"Yes\"],[\"25-08-2022 21:35\",\"Male\",18,\"CSE\",\"Yes\",\"Interested\",2,0.0,\"No\",4,\"No\",7,\"Studies\",\"Studies/work\",\"During exams\",\"Being calm or Being alone\",\"Happy\",\"No\"],[\"25-08-2022 21:37\",\"Female\",18,\"CSE\",\"Yes\",\"Future scope\",2,0.0,\"Yes\",4,\"No\",10,\"Other  ( Series/Movies )\",\"Thinking about future\",\"During exams\",\"Listen's Music\",\"Boring\",\"No\"],[\"25-08-2022 21:37\",\"Male\",18,\"CSE\",\"Yes\",\"Interested\",3,8.23,\"Yes\",8,\"No\",5,\"Social Media\",\"Thinking about future\",\"During exams\",\"Being calm or Being alone\",\"Happy\",\"No\"],[\"25-08-2022 21:37\",\"Female\",18,\"CSE\",\"Yes\",\"Due to Family pressure\",2,8.0,\"Yes\",8,\"No\",2,\"Studies\",\"Thinking about future\",\"During exams\",\"Travelling\",\"Happy\",\"No\"],[\"25-08-2022 21:38\",\"Female\",18,\"CSE\",\"No\",\"Future scope\",2,8.0,\"No\",8,\"No\",2,\"Studies\",\"Studies/work\",\"During exams\",\"Listen's Music\",\"Boring\",\"No\"],[\"25-08-2022 21:38\",\"Male\",18,\"CSE\",\"Yes\",\"Interested\",3,8.2,\"No\",5,\"No\",2,\"Other  ( Series/Movies )\",\"Thinking about future\",\"During exams\",\"Doing any physical activity\",\"Happy\",\"No\"],[\"25-08-2022 21:39\",\"Male\",18,\"CSE\",\"Yes\",\"Future scope\",3,7.31,\"Yes\",7,\"No\",6,\"Social Media\",\"Studies/work\",\"During exams\",\"Listen's Music\",\"Stressed\",\"No\"],[\"25-08-2022 21:39\",\"Female\",18,\"CSE\",\"Yes\",\"Due to Family pressure\",2,8.0,\"No\",7,\"No\",2,\"Studies\",\"Thinking about future\",\"During exams\",\"Travelling\",\"Happy, Boring\",\"No\"],[\"25-08-2022 21:39\",\"Male\",18,\"FOODTECH\",\"Yes\",\"Interested\",3,6.5,\"No\",5,\"No\",5,\"Video games\",\"Studies/work\",\"During exams\",\"Sharing feelings with someone\",\"Happy\",\"No\"],[\"25-08-2022 21:40\",\"Male\",18,\"CSE\",\"Yes\",\"Interested\",3,7.83,\"No\",4,\"No\",8,\"Other  ( Series/Movies )\",\"Stress \",\"About Love\",\"Sharing feelings with someone\",\"Happy\",\"Yes\"],[\"25-08-2022 21:40\",\"Male\",18,\"CSE\",\"Yes\",\"Interested\",2,8.3,\"Yes\",10,\"No\",5,\"Social Media\",\"Thinking about future\",\"About Money\",\"Travelling\",\"Depressed\",\"No\"],[\"25-08-2022 21:40\",\"Male\",18,\"CSE\",\"Yes\",\"Future scope\",2,7.0,\"Yes\",8,\"Yes\",3,\"Social Media\",\"Thinking about future\",\"During exams\",\"Listen's Music\",\"Stressed\",\"Yes\"],[\"25-08-2022 21:40\",\"Male\",18,\"CSE\",\"No\",\"Interested\",3,8.9,\"Yes\",7,\"No\",5,\"Studies\",\"Thinking about future\",\"About Money\",\"Listen's Music\",\"Boring\",\"No\"],[\"25-08-2022 21:41\",\"Male\",18,\"CSE\",\"Yes\",\"Interested\",2,8.14,\"Yes\",7,\"No\",5,\"Studies\",\"Studies/work\",\"About Faculty\",\"Doing any physical activity\",\"Boring\",\"Yes\"],[\"25-08-2022 21:41\",\"Male\",18,\"CSE\",\"Yes\",\"Interested\",2,8.02,\"Yes\",7,\"No\",4,\"Studies\",\"Studies/work\",\"About Faculty\",\"Doing any physical activity\",\"Boring\",\"Yes\"],[\"25-08-2022 21:42\",\"Female\",18,\"CSE \",\"Yes\",\"Future scope\",2,7.98,\"Yes\",7,\"No\",5,\"Social Media\",\"Health\",\"About Food\",\"Listen's Music\",\"Happy\",\"No\"],[\"25-08-2022 21:42\",\"Male\",21,\"CSE\",\"Yes\",\"Interested\",3,8.7,\"No\",5,\"No\",3,\"Social Media\",\"Thinking about future\",\"About Love\",\"Listen's Music\",\"Depressed\",\"No\"],[\"25-08-2022 21:43\",\"Male\",20,\"CSE\",\"No\",\"Interested\",3,0.0,\"No\",5,\"No\",2,\"Studies\",\"Studies/work\",\"No sleep\",\"Being calm or Being alone\",\"Happy\",\"No\"],[\"25-08-2022 21:43\",\"Female\",20,\"CSE\",\"Yes\",\"Interested\",1,0.0,\"No\",5,\"No\",5,\"Other  ( Series/Movies )\",\"Studies/work\",\"No sleep\",\"Listen's Music\",\"Boring\",\"Yes\"],[\"25-08-2022 21:44\",\"Male\",20,\"IT\",\"Yes\",\"Future scope\",2,9.0,\"No\",5,\"Yes\",10,\"Social Media\",\"Family\",\"During exams\",\"Travelling\",\"Boring\",\"No\"],[\"25-08-2022 21:45\",\"Male\",20,\"CSE \",\"Yes\",\"Future scope\",2,8.7,\"No\",5,\"No\",8,\"Social Media\",\"Thinking about future\",\"About Money\",\"Listen's Music\",\"Boring\",\"No\"],[\"25-08-2022 21:45\",\"Female\",20,\"CSE \",\"Yes\",\"Interested\",3,8.8,\"Yes\",6,\"Yes\",5,\"Other  ( Series/Movies )\",\"Studies/work\",\"During exams\",\"Meditation\",\"Boring\",\"No\"],[\"25-08-2022 21:46\",\"Male\",20,\"CSE\",\"Yes\",\"Interested\",2,7.59,\"Yes\",6,\"Yes\",4,\"Social Media\",\"Studies/work\",\"During exams\",\"Sharing feelings with someone\",\"Happy\",\"No\"],[\"25-08-2022 21:47\",\"Male\",20,\"CSE\",\"Yes\",\"Future scope\",2,8.2,\"Yes\",6,\"No\",6,\"Studies\",\"Thinking about future\",\"About Food\",\"Being calm or Being alone\",\"Boring\",\"Yes\"],[\"25-08-2022 21:47\",\"Male\",20,\"CSE\",\"Yes\",\"Interested\",3,7.63,\"Yes\",6,\"Yes\",4,\"Other  ( Series/Movies )\",\"Family\",\"About Money\",\"Listen's Music\",\"Depressed, Stressed, Boring\",\"Yes\"],[\"25-08-2022 21:47\",\"Female\",20,\"BCA\",\"Yes\",\"Interested\",3,8.0,\"Yes\",6,\"Yes\",3,\"Social Media\",\"Health\",\"No sleep\",\"Listen's Music\",\"Happy, Boring\",\"No\"],[\"25-08-2022 21:48\",\"Male\",20,\"MECH\",\"Yes\",\"Interested\",2,8.6,\"Yes\",4,\"Yes\",10,\"Other  ( Series/Movies )\",\"Thinking about future\",\"During exams\",\"Sharing feelings with someone\",\"Happy\",\"No\"],[\"25-08-2022 21:49\",\"Male\",20,\"CSE\",\"Yes\",\"Interested\",2,0.0,\"Yes\",4,\"No\",5,\"Video games\",\"Studies/work\",\"About Love\",\"Sharing feelings with someone\",\"Boring\",\"No\"],[\"25-08-2022 21:49\",\"Male\",20,\"CSE\",\"Yes\",\"Interested\",2,7.0,\"No\",4,\"No\",4,\"Studies\",\"Studies/work\",\"No sleep\",\"Being calm or Being alone\",\"Boring\",\"No\"],[\"25-08-2022 21:49\",\"Female\",20,\"CSE\",\"Yes\",\"Future scope\",2,9.18,\"Yes\",4,\"Yes\",6,\"Social Media\",\"Studies/work\",\"During exams\",\"Listen's Music\",\"Boring\",\"Yes\"],[\"25-08-2022 21:50\",\"Male\",18,\"CSE\",\"Yes\",\"Future scope\",2,9.0,\"No\",4,\"No\",3,\"Studies\",\"Studies/work\",\"During exams\",\"Listen's Music\",\"Boring\",\"No\"],[\"25-08-2022 21:50\",\"Male\",18,\"CSE\",\"Yes\",\"Future scope\",2,8.0,\"No\",4,\"No\",6,\"Studies\",\"Studies/work\",\"During exams\",\"Listen's Music\",\"Boring\",\"No\"],[\"25-08-2022 21:50\",\"Female\",18,\"CSE\",\"No\",\"Interested\",2,8.0,\"Yes\",8,\"No\",3,\"Other  ( Series/Movies )\",\"Studies/work\",\"About Food\",\"Watching something funny\",\"Happy\",\"No\"],[\"25-08-2022 21:50\",\"Female\",18,\"CSE\",\"Yes\",\"Future scope\",3,8.25,\"No\",8,\"Yes\",4,\"Studies\",\"Thinking about future\",\"About Money\",\"Listen's Music\",\"Boring\",\"No\"],[\"25-08-2022 21:51\",\"Male\",18,\"CSE\",\"Yes\",\"Interested\",2,0.0,\"No\",5,\"Yes\",5,\"Studies\",\"Thinking about future\",\"During exams\",\"Doing any physical activity\",\"Happy\",\"No\"],[\"25-08-2022 21:51\",\"Female\",18,\"CSE\",\"No\",\"All are choosing so I also chosen\",2,9.0,\"No\",5,\"No\",6,\"Other  ( Series/Movies )\",\"Studies/work\",\"No sleep\",\"Sharing feelings with someone\",\"Boring\",\"No\"],[\"25-08-2022 21:51\",\"Female\",18,\"CSE\",\"Yes\",\"Interested\",2,8.0,\"No\",5,\"No\",4,\"Other  ( Series/Movies )\",\"Studies/work\",\"No sleep\",\"Listen's Music\",\"Depressed, Stressed, Happy, Boring\",\"No\"],[\"25-08-2022 21:52\",\"Female\",18,\"CSE\",\"Yes\",\"Future scope\",2,7.0,\"No\",5,\"No\",5,\"Other  ( Series/Movies )\",\"Studies/work\",\"No sleep\",\"Listen's Music\",\"Depressed, Stressed, Happy, Boring\",\"No\"],[\"25-08-2022 21:52\",\"Female\",18,\"CSE\",\"No\",\"Future scope\",2,9.36,\"No\",5,\"No\",4,\"Studies\",\"Studies/work\",\"No sleep\",\"Listen's Music\",\"Stressed, Boring\",\"No\"],[\"25-08-2022 21:53\",\"Male\",18,\"CSE\",\"Yes\",\"Interested\",3,6.92,\"No\",5,\"No\",5,\"Studies\",\"Studies/work\",\"During exams\",\"Listen's Music\",\"Boring\",\"Yes\"],[\"25-08-2022 21:53\",\"Male\",18,\"CSE\",\"Yes\",\"Interested\",2,0.0,\"No\",7,\"No\",4,\"Studies\",\"Studies/work\",\"About Faculty\",\"Being calm or Being alone\",\"Depressed, Stressed, Happy, Boring\",\"No\"],[\"25-08-2022 21:53\",\"Male\",18,\"CSE\",\"Yes\",\"Interested\",2,0.0,\"No\",4,\"No\",10,\"Studies\",\"Studies/work\",\"During exams\",\"Sharing feelings with someone\",\"Depressed\",\"No\"],[\"25-08-2022 21:54\",\"Female\",18,\"CSE\",\"Yes\",\"Future scope\",2,9.0,\"No\",4,\"No\",7,\"Other  ( Series/Movies )\",\"Studies/work\",\"No sleep\",\"Being calm or Being alone\",\"Depressed, Stressed, Happy, Boring\",\"No\"],[\"25-08-2022 21:54\",\"Female\",18,\"CSE\",\"No\",\"Future scope\",2,6.67,\"No\",4,\"No\",8,\"Other  ( Series/Movies )\",\"Studies/work\",\"During exams\",\"Listen's Music\",\"Depressed, Stressed, Happy, Boring\",\"No\"],[\"25-08-2022 21:55\",\"Male\",18,\"CSE\",\"Yes\",\"Interested\",3,8.49,\"Yes\",4,\"Yes\",5,\"Social Media\",\"Thinking about future\",\"About Love\",\"Sharing feelings with someone\",\"Happy, Boring\",\"No\"],[\"25-08-2022 21:55\",\"Female\",18,\"CSE\",\"Yes\",\"Interested\",3,7.5,\"No\",4,\"No\",8,\"Other  ( Series/Movies )\",\"Personal life\",\"No sleep\",\"Listen's Music\",\"Stressed\",\"No\"],[\"25-08-2022 21:55\",\"Female\",18,\"CSE\",\"Yes\",\"Interested\",2,8.6,\"No\",4,\"Yes\",2,\"Social Media\",\"Thinking about future\",\"About Money\",\"Talking phone call\",\"Happy\",\"No\"],[\"25-08-2022 21:55\",\"Female\",18,\"CSE\",\"Yes\",\"Future scope\",2,9.26,\"Yes\",6,\"Yes\",2,\"Social Media\",\"Studies/work\",\"No sleep\",\"Listen's Music\",\"Depressed\",\"No\"],[\"25-08-2022 21:56\",\"Male\",18,\"CSE\",\"Yes\",\"Future scope\",2,9.03,\"No\",7,\"No\",2,\"Studies\",\"Thinking about future\",\"About Food\",\"Listen's Music\",\"Stressed, Boring\",\"No\"],[\"25-08-2022 21:56\",\"Male\",18,\"CSE\",\"Yes\",\"Future scope\",2,8.1,\"No\",4,\"No\",5,\"Studies\",\"Studies/work\",\"About Faculty\",\"Sharing feelings with someone\",\"Stressed, Happy\",\"No\"],[\"25-08-2022 21:56\",\"Male\",18,\"CSE\",\"Yes\",\"Interested\",2,9.01,\"No\",5,\"No\",2,\"Social Media\",\"Studies/work\",\"During exams\",\"Sharing feelings with someone\",\"Boring\",\"No\"],[\"25-08-2022 21:57\",\"Male\",19,\"CSE\",\"Yes\",\"Interested\",2,8.06,\"No\",7,\"No\",5,\"Video games\",\"Studies/work\",\"During exams\",\"Listen's Music\",\"Happy, Boring\",\"No\"],[\"25-08-2022 21:57\",\"Male\",19,\"CSE\",\"Yes\",\"Future scope\",2,8.6,\"Yes\",7,\"No\",2,\"Social Media\",\"Thinking about future\",\"About Food\",\"Travelling\",\"Boring\",\"No\"],[\"25-08-2022 21:57\",\"Female\",19,\"CSE\",\"Yes\",\"Future scope\",2,0.0,\"No\",7,\"No\",2,\"Social Media\",\"Thinking about future\",\"During exams\",\"Being calm or Being alone\",\"Boring\",\"No\"],[\"25-08-2022 21:58\",\"Male\",19,\"CSE\",\"No\",\"Interested\",2,0.0,\"Yes\",7,\"No\",5,\"Social Media\",\"Thinking about future\",\"About Food\",\"Listen's Music\",\"Happy, Boring\",\"No\"],[\"25-08-2022 21:59\",\"Male\",19,\"CSE\",\"No\",\"Interested\",2,9.1,\"No\",7,\"No\",9,\"Social Media\",\"Thinking about future\",\"About Money\",\"Being calm or Being alone\",\"Depressed, Stressed, Boring\",\"No\"],[\"25-08-2022 21:59\",\"Male\",19,\"CSE\",\"Yes\",\"Interested\",2,7.2,\"Yes\",7,\"No\",5,\"Studies\",\"Studies/work\",\"No sleep\",\"Doing any physical activity\",\"Stressed, Boring\",\"No\"],[\"25-08-2022 21:59\",\"Female\",19,\"CSE\",\"Yes\",\"Interested\",4,8.5,\"Yes\",7,\"Yes\",8,\"Studies\",\"Studies/work\",\"About Money\",\"Listen's Music\",\"Boring\",\"No\"],[\"25-08-2022 22:00\",\"Male\",19,\"CSE\",\"No\",\"Future scope\",2,8.5,\"Yes\",7,\"No\",9,\"Social Media\",\"Studies/work\",\"During exams\",\"Being calm or Being alone\",\"Boring\",\"No\"],[\"25-08-2022 22:00\",\"Male\",19,\"CSE\",\"Yes\",\"Interested\",3,7.5,\"No\",7,\"No\",2,\"Studies\",\"Health\",\"No sleep\",\"Doing any physical activity\",\"Boring\",\"No\"],[\"25-08-2022 22:01\",\"Male\",19,\"CSE\",\"No\",\"All are choosing so I also chosen\",2,9.02,\"Yes\",7,\"No\",5,\"Social Media\",\"Thinking about future\",\"About Money\",\"Being calm or Being alone\",\"Boring\",\"No\"],[\"25-08-2022 22:01\",\"Male\",19,\"CSE\",\"Yes\",\"Due to Family pressure\",2,8.46,\"Yes\",7,\"Yes\",2,\"Social Media\",\"Thinking about future\",\"About Faculty\",\"Being calm or Being alone\",\"Depressed, Stressed, Happy, Boring\",\"Yes\"],[\"25-08-2022 22:01\",\"Male\",19,\"FOODTECH\",\"No\",\"Interested\",3,6.0,\"No\",7,\"Yes\",4,\"Social Media\",\" Friendship \",\"About Faculty\",\"Being calm or Being alone\",\"Happy\",\"No\"],[\"25-08-2022 22:01\",\"Male\",19,\"B.A\",\"Yes\",\"Interested\",3,7.8,\"Yes\",7,\"No\",1,\"Social Media\",\"Thinking about future\",\"During exams\",\"Listen's Music\",\"Stressed\",\"No\"],[\"25-08-2022 22:02\",\"Male\",19,\"CSE \",\"Yes\",\"Interested\",2,7.46,\"No\",7,\"No\",1,\"Social Media\",\"Money \",\"About Food\",\"Being calm or Being alone\",\"Boring\",\"Yes\"],[\"25-08-2022 22:02\",\"Male\",19,\"CSE \",\"Yes\",\"Interested\",3,8.79,\"Yes\",7,\"No\",4,\"Studies\",\"Thinking about future\",\"Threaten\",\"Listen's Music\",\"Boring\",\"No\"],[\"25-08-2022 22:02\",\"Male\",19,\"CSE\",\"Yes\",\"Due to Family pressure\",2,0.0,\"No\",5,\"No\",1,\"Social Media\",\"Thinking about future\",\"About Food\",\"Sharing feelings with someone\",\"Depressed\",\"Yes\"],[\"25-08-2022 22:02\",\"Male\",19,\"CSE\",\"No\",\"Future scope\",2,8.0,\"Yes\",6,\"No\",2,\"Other  ( Series/Movies )\",\"No stress \",\"During exams\",\"Travelling\",\"Happy, Boring\",\"No\"],[\"25-08-2022 22:03\",\"Female\",19,\"ECE\",\"No\",\"Interested\",3,8.25,\"No\",5,\"No\",7,\"Studies\",\"Studies/work\",\"About Faculty\",\"Sharing feelings with someone\",\"Happy\",\"No\"],[\"25-08-2022 22:03\",\"Male\",19,\"ECE\",\"No\",\"Interested\",3,8.23,\"No\",4,\"No\",6,\"Studies\",\"Studies/work\",\"About Faculty\",\"Travelling\",\"Happy\",\"No\"],[\"25-08-2022 22:03\",\"Male\",19,\"CSE\",\"Yes\",\"Future scope\",3,7.57,\"Yes\",7,\"Yes\",5,\"Other  ( Series/Movies )\",\"Thinking about future\",\"During exams\",\"Listen's Music\",\"Boring\",\"No\"],[\"25-08-2022 22:03\",\"Male\",19,\"CSE\",\"Yes\",\"Future scope\",3,0.0,\"No\",4,\"No\",4,\"Social Media\",\"I want to complete our OE course in our university itself.\",\"About Money\",\"Being calm or Being alone\",\"Depressed, Stressed, Boring\",\"No\"],[\"25-08-2022 22:03\",\"Male\",19,\"IT\",\"Yes\",\"Future scope\",2,7.59,\"Yes\",4,\"Yes\",8,\"Studies\",\"Thinking about future\",\"About Food\",\"Meditation\",\"Boring\",\"No\"],[\"25-08-2022 22:04\",\"Male\",19,\"ECE\",\"No\",\"Due to Family pressure\",3,5.0,\"No\",4,\"Yes\",5,\"Video games\",\"Thinking about future\",\"About Money\",\"Playing pubg\",\"Depressed, Happy\",\"No\"],[\"25-08-2022 22:04\",\"Male\",19,\"CSE\",\"No\",\"Interested\",2,8.67,\"Yes\",4,\"No\",5,\"Studies\",\"Thinking about future\",\"During exams\",\"Listen's Music\",\"Depressed, Stressed, Boring\",\"No\"],[\"25-08-2022 22:04\",\"Male\",24,\"COMMERCE \",\"Yes\",\"All are choosing so I also chosen\",4,6.43,\"Yes\",7,\"Yes\",4,\"Social Media\",\"Family\",\"About Money\",\"Doing any physical activity\",\"Stressed\",\"Yes\"],[\"25-08-2022 22:07\",\"Male\",20,\"CSE\",\"Yes\",\"Interested\",2,8.32,\"Yes\",8,\"No\",5,\"Studies\",\"Thinking about future\",\"About Faculty\",\"Sharing feelings with someone\",\"Boring\",\"Yes\"],[\"25-08-2022 22:07\",\"Male\",20,\"CSE\",\"Yes\",\"Future scope\",2,7.17,\"Yes\",8,\"Yes\",4,\"Social Media\",\"Thinking about future\",\"During exams\",\"Listen's Music\",\"Boring\",\"No\"],[\"25-08-2022 22:08\",\"Male\",20,\"CSE\",\"Yes\",\"Interested\",2,8.27,\"No\",8,\"No\",6,\"Studies\",\"Studies/work\",\"About Faculty\",\"Being calm or Being alone\",\"Happy\",\"No\"],[\"25-08-2022 22:08\",\"Male\",20,\"CSE\",\"Yes\",\"Interested\",2,7.41,\"Yes\",8,\"Yes\",1,\"Social Media\",\"Studies/work\",\"During exams\",\"Listen's Music\",\"Depressed\",\"Yes\"],[\"25-08-2022 22:09\",\"Male\",20,\"CSE\",\"Yes\",\"Future scope\",2,8.58,\"No\",8,\"No\",2,\"Social Media\",\"Thinking about future\",\"During exams\",\"Listen's Music\",\"Boring\",\"No\"],[\"25-08-2022 22:09\",\"Male\",20,\"CSE\",\"Yes\",\"Interested\",2,9.0,\"Yes\",8,\"Yes\",8,\"Social Media\",\"Studies/work\",\"About Faculty\",\"Listen's Music\",\"Boring\",\"No\"],[\"25-08-2022 22:09\",\"Male\",20,\"CSE\",\"No\",\"All are choosing so I also chosen\",2,8.5,\"No\",8,\"No\",2,\"Other  ( Series/Movies )\",\"Thinking about future\",\"About Money\",\"Being calm or Being alone\",\"Depressed\",\"No\"],[\"25-08-2022 22:09\",\"Male\",20,\"CSE\",\"Yes\",\"Future scope\",2,7.79,\"No\",8,\"No\",5,\"Social Media\",\"Studies/work\",\"About Money\",\"Being calm or Being alone\",\"Boring\",\"No\"],[\"25-08-2022 22:10\",\"Male\",20,\"CSE\",\"Yes\",\"Interested\",2,8.22,\"Yes\",8,\"No\",5,\"Social Media\",\"Thinking about future\",\"No sleep\",\"Listen's Music\",\"Boring\",\"No\"],[\"25-08-2022 22:10\",\"Male\",20,\"CSE\",\"Yes\",\"Future scope\",2,8.58,\"No\",8,\"No\",2,\"Social Media\",\"Thinking about future\",\"During exams\",\"Listen's Music\",\"Boring\",\"No\"],[\"25-08-2022 22:11\",\"Female\",20,\"CSE\",\"No\",\"Interested\",2,9.02,\"No\",8,\"No\",5,\"Studies\",\"Studies like lots of works and assignments, more courses we want prepare for at a time , lots of time wastage in other activities, more stress of internships and nptel courses. \",\"During exams\",\"Listen's Music\",\"Depressed, Stressed, Boring\",\"No\"],[\"25-08-2022 22:11\",\"Male\",20,\"CSE\",\"Yes\",\"Future scope\",2,7.0,\"Yes\",8,\"No\",8,\"Social Media\",\"Thinking about future\",\"About Food\",\"Listen's Music\",\"Depressed\",\"Yes\"],[\"25-08-2022 22:16\",\"Male\",20,\"CSE\",\"Yes\",\"Future scope\",3,8.0,\"No\",8,\"Yes\",9,\"Social Media\",\"Thinking about future\",\"About Money\",\"Being calm or Being alone\",\"Boring\",\"No\"],[\"25-08-2022 22:17\",\"Male\",20,\"CIVIL \",\"Yes\",\"Due to Family pressure\",2,8.0,\"Yes\",10,\"No\",5,\"Other  ( Series/Movies )\",\"Thinking about future\",\"About Money\",\"Listen's Music\",\"Depressed, Boring\",\"No\"],[\"25-08-2022 22:17\",\"Male\",20,\"FOODTECH\",\"Yes\",\"Future scope\",3,9.0,\"No\",10,\"No\",1,\"Other  ( Series/Movies )\",\"Studies/work\",\"About Food\",\"Listen's Music\",\"Boring\",\"No\"],[\"25-08-2022 22:22\",\"Female\",20,\"FOODTECH\",\"Yes\",\"Interested\",3,8.0,\"Yes\",10,\"No\",5,\"Social Media\",\"Studies/work\",\"About Food\",\"Listen's Music\",\"Stressed\",\"No\"],[\"25-08-2022 22:23\",\"Male\",20,\"CSE\",\"Yes\",\"Interested\",3,7.0,\"Yes\",10,\"Yes\",4,\"Social Media\",\"Other\",\"During exams\",\"A call with parents\",\"Happy\",\"Yes\"],[\"25-08-2022 22:24\",\"Male\",20,\"CSE\",\"Yes\",\"Future scope\",3,7.47,\"Yes\",9,\"No\",5,\"Studies\",\"Thinking about future\",\"About Money\",\"Meditation\",\"Depressed\",\"No\"],[\"25-08-2022 22:26\",\"Male\",20,\"CSE\",\"Yes\",\"Future scope\",2,7.95,\"Yes\",9,\"No\",4,\"Social Media\",\"Family\",\"About Money\",\"Listen's Music\",\"Depressed\",\"No\"],[\"25-08-2022 22:26\",\"Male\",18,\"CSE\",\"No\",\"Interested\",2,7.0,\"Yes\",9,\"No\",5,\"Studies\",\"Health\",\"About Faculty\",\"Doing any physical activity\",\"Happy\",\"No\"],[\"25-08-2022 22:27\",\"Female\",18,\"EEE\",\"Yes\",\"Interested\",1,9.08,\"Yes\",9,\"Yes\",4,\"Other  ( Series/Movies )\",\"Thinking about future\",\"About Money\",\"Listen's Music\",\"Boring\",\"No\"],[\"25-08-2022 22:27\",\"Male\",19,\"CSE\",\"Yes\",\"Interested\",2,9.18,\"Yes\",9,\"Yes\",1,\"Studies\",\"Studies/work\",\"No sleep\",\"Being calm or Being alone\",\"Boring\",\"No\"],[\"25-08-2022 22:29\",\"Male\",19,\"CSE\",\"Yes\",\"Interested\",2,9.18,\"Yes\",9,\"Yes\",2,\"Studies\",\"Studies/work\",\"No sleep\",\"Being calm or Being alone\",\"Boring\",\"No\"],[\"25-08-2022 22:29\",\"Male\",19,\"CSE\",\"Yes\",\"Future scope\",2,0.0,\"Yes\",7,\"No\",1,\"Studies\",\"Studies/work\",\"About Food\",\"Sharing feelings with someone\",\"Stressed\",\"No\"],[\"25-08-2022 22:31\",\"Male\",19,\"CSE\",\"Yes\",\"Interested\",2,8.0,\"Yes\",7,\"Yes\",5,\"Social Media\",\"Studies/work\",\"About Money\",\"Sharing feelings with someone\",\"Boring\",\"No\"],[\"25-08-2022 22:31\",\"Female\",19,\"CSE\",\"Yes\",\"Interested\",3,8.0,\"Yes\",7,\"No\",1,\"Social Media\",\"Thinking about future\",\"About Food\",\"Being calm or Being alone\",\"Depressed\",\"No\"],[\"25-08-2022 22:33\",\"Male\",19,\"CSE\",\"Yes\",\"Interested\",2,8.0,\"Yes\",7,\"No\",5,\"Studies\",\"Studies/work\",\"During exams\",\"Listen's Music\",\"Boring\",\"No\"],[\"25-08-2022 22:34\",\"Male\",19,\"CSE\",\"Yes\",\"Interested\",2,9.0,\"Yes\",7,\"Yes\",2,\"Studies\",\"Health\",\"No sleep\",\"Listen's Music\",\"Happy\",\"No\"],[\"25-08-2022 22:35\",\"Male\",19,\"CSE\",\"Yes\",\"Future scope\",2,8.68,\"No\",5,\"No\",1,\"Studies\",\"Thinking about future\",\"No sleep\",\"Meditation\",\"Boring\",\"No\"],[\"25-08-2022 22:37\",\"Male\",19,\"CSE\",\"Yes\",\"Future scope\",3,7.0,\"Yes\",5,\"Yes\",5,\"Social Media\",\"Thinking about future\",\"About Love\",\"Being calm or Being alone\",\"Happy\",\"No\"],[\"25-08-2022 22:38\",\"Male\",19,\"CSE\",\"No\",\"Future scope\",3,8.75,\"Yes\",5,\"No\",5,\"Social Media\",\"Studies/work\",\"About Faculty\",\"Listen's Music\",\"Stressed, Boring\",\"No\"],[\"25-08-2022 22:38\",\"Male\",19,\"CSE\",\"No\",\"Interested\",3,7.7,\"Yes\",5,\"No\",5,\"Video games\",\"Thinking about future\",\"About Food\",\"Listen's Music\",\"Happy\",\"No\"],[\"25-08-2022 22:39\",\"Female\",19,\"CSE\",\"No\",\"Due to Family pressure\",3,7.0,\"No\",5,\"No\",5,\"Social Media\",\"Studies/work\",\"No sleep\",\"Listen's Music\",\"Boring\",\"No\"],[\"25-08-2022 22:39\",\"Male\",23,\"CSE\",\"Yes\",\"Interested\",4,9.75,\"Yes\",5,\"Yes\",5,\"Studies\",\"No stress\",\"About Money\",\"By sharing the feeling with god\",\"Happy\",\"No\"],[\"25-08-2022 22:41\",\"Female\",21,\"FORENSICSCIENCE\",\"Yes\",\"Interested\",3,6.0,\"No\",5,\"Yes\",5,\"Social Media\",\"Thinking about future\",\"During exams\",\"Being calm or Being alone\",\"Happy\",\"No\"],[\"25-08-2022 22:41\",\"Male\",21,\"CSE\",\"Yes\",\"Future scope\",3,7.0,\"Yes\",5,\"No\",5,\"Social Media\",\"Thinking about future\",\"During exams\",\"Being calm or Being alone\",\"Boring\",\"No\"],[\"25-08-2022 22:47\",\"Female\",21,\"CSE\",\"Yes\",\"Future scope\",3,8.37,\"No\",5,\"No\",5,\"Studies\",\"Thinking about future\",\"During exams\",\"Listen's Music\",\"Depressed, Boring\",\"No\"],[\"25-08-2022 22:48\",\"Male\",21,\"CSE\",\"Yes\",\"Interested\",2,8.21,\"Yes\",5,\"No\",5,\"Other  ( Series/Movies )\",\"Thinking about future\",\"About Money\",\"Listen's Music\",\"Happy\",\"No\"],[\"25-08-2022 22:48\",\"Female\",21,\"CSE\",\"Yes\",\"Future scope\",3,7.0,\"Yes\",5,\"Yes\",5,\"Social Media\",\"Thinking about future\",\"During exams\",\"Sharing feelings with someone\",\"Boring\",\"No\"],[\"25-08-2022 22:50\",\"Male\",21,\"CSE\",\"Yes\",\"Interested\",2,7.5,\"No\",5,\"No\",2,\"Studies\",\"Thinking about future\",\"During exams\",\"Being calm or Being alone\",\"Stressed\",\"No\"],[\"25-08-2022 22:50\",\"Male\",21,\"CSE\",\"Yes\",\"Interested\",2,8.75,\"Yes\",5,\"No\",2,\"Studies\",\"No stress. \",\"About Money\",\"Listen's Music\",\"Boring\",\"Yes\"],[\"25-08-2022 22:50\",\"Female\",21,\"CSE\",\"Yes\",\"Future scope\",2,8.8,\"Yes\",7,\"No\",2,\"Other  ( Series/Movies )\",\"Thinking about future\",\"During exams\",\"Sharing feelings with someone\",\"Stressed, Happy, Boring\",\"No\"],[\"25-08-2022 22:50\",\"Male\",21,\"CSE\",\"Yes\",\"Future scope\",2,9.0,\"Yes\",7,\"No\",2,\"Video games\",\"Studies/work\",\"During exams\",\"Listen's Music\",\"Happy\",\"No\"],[\"25-08-2022 22:50\",\"Female\",21,\"CSE\",\"Yes\",\"Interested\",2,9.04,\"No\",7,\"No\",2,\"Other  ( Series/Movies )\",\"Studies/work\",\"During exams\",\"Listen's Music\",\"Boring\",\"No\"],[\"25-08-2022 22:51\",\"Female\",21,\"CSE\",\"Yes\",\"Future scope\",2,8.0,\"No\",7,\"No\",2,\"Studies\",\"Studies/work\",\"During exams\",\"Sharing feelings with someone\",\"Boring\",\"No\"],[\"25-08-2022 22:53\",\"Female\",17,\"CSE\",\"Yes\",\"Future scope\",2,8.5,\"Yes\",7,\"Yes\",2,\"Studies\",\"Thinking about future\",\"During exams\",\"Sharing feelings with someone\",\"Happy\",\"No\"],[\"25-08-2022 22:54\",\"Male\",17,\"CSE\",\"Yes\",\"All are choosing so I also chosen\",2,0.0,\"Yes\",7,\"No\",8,\"Social Media\",\"Thinking about future\",\"During exams\",\"Listen's Music\",\"Happy\",\"No\"],[\"25-08-2022 22:56\",\"Female\",17,\"CSE\",\"Yes\",\"Future scope\",2,9.17,\"No\",7,\"No\",8,\"Studies\",\"all of the above\",\"During exams\",\"Sharing feelings with someone\",\"Boring\",\"No\"],[\"25-08-2022 22:57\",\"Female\",17,\"CSE\",\"Yes\",\"Interested\",3,8.0,\"Yes\",7,\"No\",8,\"Social Media\",\"Thinking about future\",\"During exams\",\"Sharing feelings with someone\",\"Boring\",\"No\"],[\"25-08-2022 22:57\",\"Male\",18,\"CSE\",\"Yes\",\"Future scope\",3,8.18,\"Yes\",7,\"No\",8,\"Studies\",\"Studies/work\",\"About Food\",\"Being calm or Being alone\",\"Happy\",\"No\"],[\"25-08-2022 22:57\",\"Male\",18,\"CSE\",\"Yes\",\"Interested\",2,7.5,\"No\",7,\"Yes\",8,\"Social Media\",\"Thinking about future\",\"During exams\",\"Being calm or Being alone\",\"Boring\",\"No\"],[\"25-08-2022 22:58\",\"Male\",18,\"CSE\",\"Yes\",\"Due to Family pressure\",2,9.0,\"Yes\",7,\"No\",8,\"Social Media\",\"Family\",\"About Money\",\"Listen's Music\",\"Boring\",\"Yes\"],[\"25-08-2022 23:01\",\"Female\",18,\"CSE\",\"No\",\"Future scope\",3,8.24,\"No\",7,\"No\",8,\"Social Media\",\"Thinking about future\",\"During exams\",\"Sharing feelings with someone\",\"Happy\",\"No\"],[\"25-08-2022 23:03\",\"Male\",18,\"CSE \",\"Yes\",\"Future scope\",2,8.29,\"Yes\",7,\"No\",8,\"Social Media\",\"Studies/work\",\"No sleep\",\"Listen's Music\",\"Boring\",\"No\"],[\"25-08-2022 23:05\",\"Male\",18,\"CSE\",\"Yes\",\"Interested\",2,0.0,\"No\",7,\"No\",10,\"Studies\",\"Studies/work\",\"About Money\",\"Listen's Music\",\"Stressed\",\"No\"],[\"25-08-2022 23:08\",\"Male\",19,\"CSE\",\"Yes\",\"Interested\",2,8.86,\"No\",7,\"No\",5,\"Social Media\",\" Studies , family, thinking\\ud83e\\udd14 about me, but  i\",\"About Food\",\"Listen's Music\",\"Happy\",\"Yes\"],[\"25-08-2022 23:10\",\"Male\",19,\"CSE\",\"Yes\",\"Future scope\",2,8.3,\"Yes\",7,\"No\",1,\"Social Media\",\"Studies/work\",\"About Food\",\"Listen's Music\",\"Boring\",\"No\"],[\"25-08-2022 23:10\",\"Male\",19,\"CSE\",\"Yes\",\"Interested\",2,0.0,\"No\",7,\"No\",1,\"Studies\",\"Studies/work\",\"No sleep\",\"Being calm or Being alone\",\"Happy\",\"No\"],[\"25-08-2022 23:11\",\"Male\",19,\"CSE\",\"Yes\",\"Future scope\",2,6.75,\"Yes\",7,\"No\",10,\"Social Media\",\"Studies/work\",\"About Food\",\"Listen's Music\",\"Boring\",\"No\"],[\"25-08-2022 23:18\",\"Male\",19,\"CSE\",\"Yes\",\"Future scope\",2,7.0,\"No\",6,\"No\",7,\"Studies\",\"Thinking about future\",\"About Love\",\"Listen's Music\",\"Depressed, Stressed, Boring\",\"No\"],[\"25-08-2022 23:21\",\"Male\",19,\"CSE\",\"Yes\",\"Future scope\",2,6.0,\"No\",6,\"No\",2,\"Social Media\",\"Studies/work\",\"During exams\",\"Sharing feelings with someone\",\"Boring\",\"No\"],[\"25-08-2022 23:30\",\"Male\",19,\"CSE\",\"Yes\",\"Interested\",2,8.5,\"Yes\",6,\"No\",4,\"Other  ( Series/Movies )\",\"Studies/work\",\"About Food\",\"Listen's Music\",\"Boring\",\"No\"],[\"25-08-2022 23:35\",\"Male\",19,\"CSE \",\"Yes\",\"Interested\",2,6.88,\"Yes\",6,\"No\",8,\"Social Media\",\"Thinking about future\",\"During exams\",\"Listen's Music\",\"Boring\",\"Yes\"],[\"25-08-2022 23:35\",\"Male\",19,\"BIOTECH\",\"Yes\",\"Future scope\",2,5.0,\"No\",6,\"No\",8,\"Social Media\",\"Studies/work\",\"No sleep\",\"all \",\"Depressed, Boring\",\"Yes\"],[\"25-08-2022 23:36\",\"Male\",19,\"CSE \",\"No\",\"Interested\",2,8.32,\"No\",6,\"No\",8,\"Social Media\",\"Studies/work\",\"About Faculty\",\"Listen's Music\",\"Stressed, Boring\",\"No\"],[\"25-08-2022 23:49\",\"Male\",19,\"CSE \",\"No\",\"Future scope\",2,6.0,\"No\",6,\"No\",8,\"Studies\",\"Studies/work\",\"During exams\",\"Being calm or Being alone\",\"Stressed\",\"No\"],[\"26-08-2022 00:09\",\"Male\",19,\"CSE\",\"Yes\",\"Future scope\",3,8.54,\"Yes\",6,\"No\",8,\"Studies\",\"Thinking about future\",\"During exams\",\"Being calm or Being alone\",\"Depressed, Stressed, Happy, Boring\",\"No\"],[\"26-08-2022 00:21\",\"Male\",19,\"CSE\",\"Yes\",\"Future scope\",3,9.0,\"Yes\",6,\"No\",8,\"Other  ( Series/Movies )\",\"Thinking about future\",\"No sleep\",\"Being calm or Being alone\",\"Stressed\",\"No\"],[\"26-08-2022 00:22\",\"Female\",19,\"CSE \",\"Yes\",\"Future scope\",3,8.0,\"Yes\",6,\"No\",8,\"Social Media\",\"Thinking about future\",\"During exams\",\"Meditation\",\"Stressed, Boring\",\"No\"],[\"26-08-2022 00:26\",\"Female\",19,\"CSE\",\"Yes\",\"Future scope\",2,9.18,\"Yes\",6,\"No\",8,\"Social Media\",\"Studies/work\",\"During exams\",\"Listen's Music\",\"Depressed\",\"No\"],[\"26-08-2022 00:40\",\"Male\",20,\"CSE\",\"Yes\",\"Interested\",3,8.4,\"No\",6,\"No\",7,\"Other  ( Series/Movies )\",\"Thinking about future\",\"About Love\",\"Being calm or Being alone\",\"Boring\",\"Yes\"],[\"26-08-2022 01:26\",\"Male\",20,\"BIOMED \",\"Yes\",\"Interested\",3,8.34,\"No\",6,\"No\",3,\"Other  ( Series/Movies )\",\"Thinking about future\",\"No sleep\",\"Sharing feelings with someone\",\"Depressed, Boring\",\"Yes\"],[\"26-08-2022 01:56\",\"Female\",20,\"CSE\",\"Yes\",\"Future scope\",2,7.0,\"Yes\",6,\"No\",3,\"Other  ( Series/Movies )\",\"Studies/work\",\"During exams\",\"Being calm or Being alone\",\"Depressed\",\"No\"],[\"26-08-2022 03:13\",\"Male\",20,\"CSE\",\"No\",\"Future scope\",3,7.0,\"No\",6,\"No\",3,\"Studies\",\"Studies/work\",\"During exams\",\"Listen's Music\",\"Boring\",\"No\"],[\"26-08-2022 03:21\",\"Male\",20,\"CSE\",\"Yes\",\"Interested\",2,4.55,\"No\",6,\"No\",3,\"Studies\",\"Health\",\"No sleep\",\"Music, travel, codeine\",\"Boring\",\"No\"],[\"26-08-2022 03:26\",\"Female\",20,\"MBBS\",\"Yes\",\"All are choosing so I also chosen\",2,6.0,\"No\",6,\"No\",3,\"Social Media\",\"Thinking about future\",\"During exams\",\"Listen's Music\",\"Depressed\",\"No\"],[\"26-08-2022 05:09\",\"Female\",20,\"CSE\",\"Yes\",\"Future scope\",3,8.05,\"Yes\",6,\"Yes\",3,\"Other  ( Series/Movies )\",\"Thinking about future\",\"About Faculty\",\"Listen's Music\",\"Stressed, Boring\",\"Yes\"],[\"26-08-2022 05:19\",\"Male\",20,\"BARCH\",\"Yes\",\"Interested\",3,7.0,\"No\",6,\"No\",3,\"Social Media\",\"Studies/work\",\"No sleep\",\"Travelling\",\"Happy, Boring\",\"Yes\"],[\"26-08-2022 06:19\",\"Female\",20,\"ECE\",\"Yes\",\"Future scope\",3,8.6,\"No\",6,\"Yes\",3,\"Social Media\",\"Thinking about future\",\"During exams\",\"Being calm or Being alone\",\"Boring\",\"Yes\"],[\"26-08-2022 06:29\",\"Female\",20,\"ECE\",\"Yes\",\"Interested\",3,8.0,\"No\",5,\"No\",3,\"Social Media\",\"Thinking about future\",\"During exams\",\"Being calm or Being alone\",\"Boring\",\"No\"],[\"26-08-2022 06:54\",\"Male\",20,\"CSE\",\"Yes\",\"Interested\",3,8.3,\"No\",5,\"Yes\",3,\"Video games\",\"Thinking about future\",\"About Money\",\"Being calm or Being alone\",\"Depressed, Boring\",\"No\"],[\"26-08-2022 07:03\",\"Female\",20,\"ECE\",\"Yes\",\"Future scope\",3,0.0,\"Yes\",5,\"Yes\",3,\"Social Media\",\"Studies/work\",\"During exams\",\"Listen's Music\",\"Happy, Boring\",\"No\"],[\"26-08-2022 07:15\",\"Male\",19,\"CSE\",\"Yes\",\"Interested\",2,8.11,\"Yes\",5,\"No\",3,\"Studies\",\"Health\",\"About Food\",\"Sharing feelings with someone\",\"Boring\",\"No\"],[\"26-08-2022 07:21\",\"Female\",19,\"CSE\",\"Yes\",\"Due to Family pressure\",2,6.0,\"No\",5,\"No\",3,\"Other  ( Series/Movies )\",\"Studies/work\",\"During exams\",\"Listen's Music\",\"Depressed\",\"No\"],[\"26-08-2022 07:25\",\"Male\",19,\"CSE\",\"Yes\",\"Interested\",3,8.0,\"No\",5,\"Yes\",3,\"Social Media\",\"Thinking about future\",\"During exams\",\"Sharing feelings with someone\",\"Depressed\",\"No\"],[\"26-08-2022 07:26\",\"Female\",19,\"MBBS\",\"Yes\",\"Interested\",2,7.0,\"Yes\",5,\"No\",3,\"Social Media\",\"Thinking about future\",\"During exams\",\"Sharing feelings with someone\",\"Happy\",\"No\"],[\"26-08-2022 07:57\",\"Male\",19,\"CSE\",\"Yes\",\"Interested\",2,5.0,\"No\",5,\"No\",3,\"Social Media\",\"Studies/work\",\"During exams\",\"Travelling\",\"Happy, Boring\",\"No\"],[\"26-08-2022 07:58\",\"Male\",19,\"CSE\",\"Yes\",\"Interested\",2,7.0,\"No\",5,\"No\",10,\"Social Media\",\"Studies/work\",\"During exams\",\"Travelling\",\"Happy, Boring\",\"No\"],[\"26-08-2022 08:16\",\"Male\",19,\"CSE\",\"Yes\",\"Future scope\",3,8.0,\"Yes\",5,\"Yes\",10,\"Social Media\",\"No stress\",\"About Money\",\"Listen's Music\",\"Happy\",\"Yes\"],[\"26-08-2022 08:17\",\"Female\",19,\"CSE\",\"Yes\",\"Interested\",2,8.3,\"Yes\",5,\"No\",10,\"Social Media\",\"Studies/work\",\"During exams\",\"Listen's Music\",\"Depressed\",\"No\"],[\"26-08-2022 08:19\",\"Male\",19,\"CSE\",\"Yes\",\"Interested\",2,7.5,\"Yes\",5,\"Yes\",10,\"Other  ( Series/Movies )\",\"Thinking about future\",\"During exams\",\"Listen's Music\",\"Boring\",\"No\"],[\"26-08-2022 08:22\",\"Male\",19,\"CSE\",\"Yes\",\"Interested\",3,7.66,\"Yes\",5,\"No\",10,\"Social Media\",\"Studies/work\",\"During exams\",\"Listen's Music\",\"Happy\",\"No\"],[\"26-08-2022 08:28\",\"Female\",19,\"CSE \",\"No\",\"Due to Family pressure\",3,0.0,\"No\",5,\"Yes\",10,\"Other  ( Series/Movies )\",\"Thinking about future\",\"About Money\",\"Listen's Music\",\"Boring\",\"No\"],[\"26-08-2022 08:30\",\"Female\",19,\"CSE\",\"No\",\"Future scope\",3,9.05,\"Yes\",5,\"Yes\",10,\"Other  ( Series/Movies )\",\"Thinking about future\",\"About Money\",\"Being calm or Being alone\",\"Boring\",\"No\"],[\"26-08-2022 08:41\",\"Male\",19,\"CSE\",\"Yes\",\"Future scope\",2,8.77,\"No\",5,\"No\",10,\"Other  ( Series/Movies )\",\"All the above \",\"During exams\",\"Sharing feelings with someone\",\"Boring\",\"No\"],[\"26-08-2022 08:48\",\"Female\",19,\"AERO\",\"Yes\",\"Interested\",3,9.34,\"Yes\",5,\"Yes\",10,\"Other  ( Series/Movies )\",\"Studies/work\",\"No sleep\",\"Listen's Music\",\"Depressed, Stressed, Boring\",\"No\"],[\"26-08-2022 08:50\",\"Female\",19,\"CSE\",\"Yes\",\"Future scope\",2,8.8,\"Yes\",5,\"No\",2,\"Other  ( Series/Movies )\",\"Thinking about future\",\"During exams\",\"Being calm or Being alone\",\"Boring\",\"No\"],[\"26-08-2022 08:52\",\"Female\",19,\"AERO\",\"No\",\"Interested\",2,9.13,\"Yes\",5,\"No\",2,\"Studies\",\"Thinking about future\",\"During exams\",\"Travelling\",\"Depressed\",\"No\"],[\"26-08-2022 08:53\",\"Female\",19,\"MBBS\",\"Yes\",\"Interested\",2,9.0,\"Yes\",5,\"No\",2,\"Other  ( Series/Movies )\",\"Friends\",\"During exams\",\"Sharing feelings with someone\",\"Happy, Boring\",\"No\"],[\"26-08-2022 08:53\",\"Female\",17,\"ECE\",\"Yes\",\"Interested\",1,8.0,\"Yes\",5,\"Yes\",2,\"Other  ( Series/Movies )\",\"Thinking about future\",\"About Money\",\"Sharing feelings with someone\",\"Boring\",\"No\"],[\"26-08-2022 08:55\",\"Female\",20,\"AERO\",\"Yes\",\"Interested\",3,8.8,\"No\",5,\"No\",2,\"Social Media\",\"Studies/work\",\"During exams\",\"Sharing feelings with someone\",\"Boring\",\"No\"],[\"26-08-2022 09:01\",\"Male\",20,\"CSE\",\"Yes\",\"Future scope\",2,8.0,\"No\",5,\"No\",2,\"Social Media\",\"Thinking about future\",\"About Money\",\"Being calm or Being alone\",\"Boring\",\"Yes\"],[\"26-08-2022 09:01\",\"Female\",20,\"AERO\",\"Yes\",\"Interested\",3,9.0,\"No\",5,\"No\",2,\"Social Media\",\"Health\",\"During exams\",\"Being calm or Being alone\",\"Depressed, Boring\",\"No\"],[\"26-08-2022 09:02\",\"Male\",20,\"CSE\",\"Yes\",\"Interested\",2,7.0,\"Yes\",8,\"Yes\",2,\"Studies\",\"Thinking about future\",\"No sleep\",\"Listen's Music\",\"Depressed\",\"Yes\"],[\"26-08-2022 09:04\",\"Male\",20,\"CSE\",\"Yes\",\"Interested\",2,7.96,\"Yes\",8,\"Yes\",2,\"Other  ( Series/Movies )\",\"Home sick\",\"About Food\",\"Listen's Music\",\"Boring\",\"Yes\"],[\"26-08-2022 09:04\",\"Male\",20,\"CSE\",\"Yes\",\"Future scope\",2,8.24,\"Yes\",8,\"No\",2,\"Studies\",\"Thinking about future\",\"About Money\",\"Being calm or Being alone\",\"Boring\",\"No\"],[\"26-08-2022 09:04\",\"Male\",20,\"CSE\",\"Yes\",\"Future scope\",2,7.54,\"Yes\",8,\"No\",2,\"Social Media\",\"Thinking about future\",\"During exams\",\"Listen's Music\",\"Boring\",\"No\"],[\"26-08-2022 09:04\",\"Male\",20,\"CSE\",\"Yes\",\"Future scope\",2,8.8,\"Yes\",8,\"No\",2,\"Studies\",\"Studies/work\",\"During exams\",\"Doing any physical activity\",\"Boring\",\"Yes\"],[\"26-08-2022 09:05\",\"Female\",20,\"AERO\",\"Yes\",\"Interested\",2,8.09,\"No\",8,\"No\",2,\"Social Media\",\"Thinking about future\",\"During exams\",\"Travelling\",\"Happy\",\"No\"],[\"26-08-2022 09:05\",\"Male\",20,\"AERO\",\"Yes\",\"Future scope\",3,8.5,\"Yes\",8,\"Yes\",2,\"Social Media\",\"Studies/work\",\"During exams\",\"Doing any physical activity\",\"Happy\",\"No\"],[\"26-08-2022 09:05\",\"Female\",20,\"AERO\",\"Yes\",\"Interested\",3,8.5,\"Yes\",8,\"No\",2,\"Other  ( Series/Movies )\",\"Studies/work\",\"No sleep\",\"Sharing feelings with someone\",\"Stressed\",\"No\"],[\"26-08-2022 09:06\",\"Male\",20,\"CSE\",\"Yes\",\"Interested\",2,8.8,\"No\",8,\"No\",4,\"Studies\",\"Thinking about future\",\"During exams\",\"Sharing feelings with someone\",\"Depressed, Stressed\",\"Yes\"],[\"26-08-2022 09:06\",\"Male\",20,\"CSE \",\"Yes\",\"Future scope\",2,8.7,\"Yes\",8,\"Yes\",4,\"Studies\",\"Studies/work\",\"About Food\",\"Sharing feelings with someone\",\"Depressed\",\"Yes\"],[\"26-08-2022 09:06\",\"Male\",20,\"CSE\",\"Yes\",\"Interested\",2,7.1,\"Yes\",8,\"No\",4,\"Studies\",\"Thinking about future\",\"About Money\",\"Listen's Music\",\"Depressed\",\"Yes\"],[\"26-08-2022 09:09\",\"Male\",20,\"CSE\",\"No\",\"Interested\",2,8.4,\"Yes\",8,\"No\",4,\"Social Media\",\"Thinking about future\",\"About Food\",\"Listen's Music\",\"Happy\",\"Yes\"],[\"26-08-2022 09:09\",\"Male\",20,\"CSE\",\"Yes\",\"Future scope\",2,0.0,\"Yes\",8,\"No\",4,\"Studies\",\"Thinking about future\",\"During exams\",\"Sleeping\",\"Boring\",\"No\"],[\"26-08-2022 09:10\",\"Male\",20,\"CSE\",\"Yes\",\"Interested\",2,7.0,\"Yes\",8,\"No\",4,\"Social Media\",\"Studies/work\",\"During exams\",\"Doing any physical activity\",\"Happy\",\"No\"],[\"26-08-2022 09:11\",\"Male\",20,\"CSE \",\"Yes\",\"Interested\",2,8.0,\"No\",8,\"No\",4,\"Social Media\",\"Studies/work\",\"About Food\",\"Listen's Music\",\"Boring\",\"No\"],[\"26-08-2022 09:12\",\"Male\",20,\"CSE \",\"Yes\",\"All are choosing so I also chosen\",2,7.0,\"No\",8,\"No\",4,\"Social Media\",\"Studies/work\",\"About Food\",\"Being calm or Being alone\",\"Depressed, Boring\",\"No\"],[\"26-08-2022 09:15\",\"Female\",20,\"BARCH \",\"Yes\",\"Interested\",3,8.0,\"Yes\",8,\"No\",4,\"Social Media\",\"Both studies and family \",\"No sleep\",\"Doing any physical activity\",\"Boring\",\"No\"],[\"26-08-2022 09:15\",\"Male\",20,\"CSE\",\"Yes\",\"Future scope\",2,8.88,\"Yes\",8,\"Yes\",4,\"Social Media\",\"Studies/work\",\"During exams\",\"Being calm or Being alone\",\"Boring\",\"No\"],[\"26-08-2022 09:18\",\"Male\",20,\"CSE\",\"No\",\"Interested\",2,6.0,\"No\",6,\"No\",4,\"Studies\",\"Studies/work\",\"About Money\",\"Travelling\",\"Happy\",\"No\"],[\"26-08-2022 09:20\",\"Male\",20,\"AERO\",\"Yes\",\"Interested\",3,8.7,\"No\",6,\"Yes\",4,\"Other  ( Series/Movies )\",\"Studies/work\",\"No sleep\",\"Being calm or Being alone\",\"Happy, Boring\",\"No\"],[\"26-08-2022 09:21\",\"Male\",20,\"CSE\",\"No\",\"Future scope\",2,8.0,\"Yes\",6,\"Yes\",4,\"Social Media\",\"Thinking about future\",\"During exams\",\"Listen's Music\",\"Boring\",\"No\"],[\"26-08-2022 09:21\",\"Male\",20,\"AERO\",\"Yes\",\"Future scope\",2,8.0,\"No\",6,\"No\",4,\"Social Media\",\"Thinking about future\",\"About Money\",\"Being calm or Being alone\",\"Depressed\",\"No\"],[\"26-08-2022 09:23\",\"Male\",20,\"AERO\",\"Yes\",\"Future scope\",2,8.1,\"Yes\",6,\"Yes\",4,\"Social Media\",\"Thinking about future\",\"About Money\",\"Being calm or Being alone\",\"Stressed, Happy\",\"No\"],[\"26-08-2022 09:24\",\"Female\",20,\"BARCH\",\"Yes\",\"Future scope\",3,7.22,\"No\",6,\"Yes\",4,\"Social Media\",\"Studies/work\",\"During exams\",\"Listen's Music\",\"Happy\",\"No\"],[\"26-08-2022 09:24\",\"Male\",20,\"CSE\",\"Yes\",\"Interested\",2,6.0,\"Yes\",6,\"Yes\",8,\"Social Media\",\"Studies/work\",\"No sleep\",\"Being calm or Being alone\",\"Happy\",\"Yes\"],[\"26-08-2022 09:30\",\"Male\",20,\"CSE\",\"Yes\",\"Future scope\",2,8.0,\"No\",6,\"No\",8,\"Social Media\",\"Studies/work\",\"About Faculty\",\"Listen's Music\",\"Happy\",\"No\"],[\"26-08-2022 09:33\",\"Male\",19,\"CSE\",\"Yes\",\"Future scope\",2,7.0,\"No\",6,\"No\",8,\"Social Media\",\"Studies/work\",\"About Money\",\"Being calm or Being alone\",\"Boring\",\"Yes\"],[\"26-08-2022 09:35\",\"Male\",19,\"CSE\",\"No\",\"Interested\",2,8.0,\"No\",6,\"No\",8,\"Social Media\",\"Thinking about future\",\"About Money\",\"Being calm or Being alone\",\"Depressed, Stressed, Boring\",\"No\"],[\"26-08-2022 09:35\",\"Male\",19,\"CSE\",\"Yes\",\"Future scope\",2,7.0,\"No\",6,\"No\",8,\"Social Media\",\"Thinking about future\",\"During exams\",\"Listen's Music\",\"Boring\",\"No\"],[\"26-08-2022 09:44\",\"Male\",19,\"CSE\",\"No\",\"Future scope\",2,4.59,\"Yes\",6,\"No\",8,\"Studies\",\"Studies/work\",\"During exams\",\"Meditation\",\"Depressed\",\"No\"],[\"26-08-2022 10:36\",\"Female\",19,\"AERO\",\"Yes\",\"Interested\",3,6.0,\"Yes\",6,\"No\",8,\"Video games\",\"Thinking about future\",\"About Money\",\"Being calm or Being alone\",\"Depressed, Stressed, Boring\",\"Yes\"],[\"26-08-2022 11:01\",\"Female\",19,\"CSE\",\"Yes\",\"Future scope\",3,8.9,\"No\",6,\"No\",8,\"Social Media\",\"Thinking about future\",\"During exams\",\"Listen's Music\",\"Boring\",\"No\"],[\"26-08-2022 11:03\",\"Male\",19,\"CSE\",\"Yes\",\"Interested\",2,7.0,\"No\",6,\"No\",8,\"Studies\",\"Studies/work\",\"During exams\",\"Listen's Music\",\"Boring\",\"No\"],[\"26-08-2022 11:07\",\"Male\",19,\"CSE\",\"No\",\"Due to Family pressure\",2,8.36,\"No\",6,\"No\",8,\"Social Media\",\"Thinking about future\",\"During exams\",\"Listen's Music\",\"Happy\",\"Yes\"],[\"26-08-2022 11:09\",\"Male\",19,\"CSE\",\"Yes\",\"Future scope\",3,8.0,\"Yes\",6,\"No\",8,\"Social Media\",\"Thinking about future\",\"During exams\",\"Being calm or Being alone\",\"Boring\",\"No\"],[\"26-08-2022 11:18\",\"Male\",19,\"CSE\",\"Yes\",\"Due to Family pressure\",3,7.0,\"No\",6,\"No\",8,\"Social Media\",\"Thinking about future\",\"About Love\",\"Sharing feelings with someone\",\"Depressed, Stressed, Happy, Boring\",\"Yes\"],[\"26-08-2022 11:39\",\"Male\",19,\"CSE\",\"Yes\",\"Future scope\",3,8.08,\"Yes\",7,\"Yes\",8,\"Social Media\",\"Studies/work\",\"About Love\",\"Doing any physical activity\",\"Happy\",\"Yes\"],[\"26-08-2022 11:46\",\"Male\",19,\"CSE\",\"Yes\",\"Future scope\",2,0.0,\"Yes\",7,\"Yes\",2,\"Studies\",\"Thinking about future\",\"During exams\",\"Listen's Music\",\"Boring\",\"No\"],[\"26-08-2022 11:54\",\"Male\",24,\"AUTOMOB\",\"Yes\",\"Interested\",3,8.0,\"No\",7,\"No\",6,\"Other  ( Series/Movies )\",\"Family\",\"About Money\",\"Listen's Music\",\"Boring\",\"No\"],[\"26-08-2022 12:10\",\"Male\",19,\"CSE\",\"Yes\",\"Interested\",4,7.4,\"No\",7,\"No\",6,\"Other  ( Series/Movies )\",\"Thinking about future\",\"During exams\",\"Listen's Music\",\"Boring\",\"No\"],[\"26-08-2022 12:40\",\"Male\",19,\"CSE\",\"Yes\",\"Future scope\",2,8.0,\"No\",7,\"No\",6,\"Social Media\",\"Thinking about future\",\"About Food\",\"Sharing feelings with someone\",\"Depressed\",\"Yes\"],[\"26-08-2022 12:55\",\"Male\",19,\"CSE\",\"Yes\",\"Future scope\",2,7.54,\"Yes\",7,\"Yes\",6,\"Studies\",\"Thinking about future\",\"During exams\",\"Listen's Music\",\"Boring\",\"No\"],[\"26-08-2022 15:22\",\"Male\",19,\"IT\",\"Yes\",\"Future scope\",2,8.0,\"No\",7,\"Yes\",6,\"Social Media\",\"Thinking about future\",\"During exams\",\"Listen's Music\",\"Boring\",\"Yes\"],[\"26-08-2022 15:22\",\"Male\",19,\"IT\",\"Yes\",\"Future scope\",2,6.0,\"Yes\",7,\"Yes\",6,\"Video games\",\"Thinking about future\",\"During exams\",\"Sharing feelings with someone\",\"Boring\",\"Yes\"],[\"26-08-2022 15:25\",\"Male\",19,\"CSE\",\"Yes\",\"Interested\",2,7.5,\"Yes\",7,\"Yes\",6,\"Other  ( Series/Movies )\",\"Family\",\"During exams\",\"Listen's Music\",\"Depressed\",\"No\"],[\"26-08-2022 15:41\",\"Male\",19,\"IT\",\"Yes\",\"Interested\",2,8.25,\"No\",7,\"No\",6,\"Social Media\",\"Thinking about future\",\"No sleep\",\"Read Word of God\",\"Happy\",\"Yes\"],[\"26-08-2022 15:42\",\"Female\",19,\"IT\",\"Yes\",\"Interested\",2,8.0,\"No\",7,\"No\",6,\"Video games\",\"Thinking about future\",\"About Money\",\"Being calm or Being alone\",\"Stressed\",\"No\"],[\"26-08-2022 15:47\",\"Male\",19,\"IT\",\"Yes\",\"Due to Family pressure\",2,9.0,\"No\",7,\"No\",6,\"Studies\",\"Studies/work\",\"During exams\",\"Listen's Music\",\"Boring\",\"No\"],[\"26-08-2022 15:48\",\"Male\",19,\"IT\",\"Yes\",\"Future scope\",2,7.8,\"Yes\",7,\"Yes\",6,\"Social Media\",\"Thinking about future\",\"During exams\",\"Playing \",\"Boring\",\"Yes\"],[\"26-08-2022 15:57\",\"Male\",19,\"IT\",\"Yes\",\"Interested\",2,8.0,\"No\",7,\"Yes\",6,\"Other  ( Series/Movies )\",\"Going to part job\",\"About Money\",\"Listen's Music\",\"Happy\",\"Yes\"],[\"26-08-2022 16:11\",\"Male\",19,\"CSE \",\"Yes\",\"Future scope\",2,7.0,\"Yes\",7,\"Yes\",2,\"Other  ( Series/Movies )\",\"Thinking about future\",\"About Faculty\",\"Listen's Music\",\"Boring\",\"No\"],[\"26-08-2022 16:19\",\"Male\",19,\"CSE\",\"Yes\",\"Future scope\",2,7.4,\"No\",4,\"No\",4,\"Studies\",\"Studies/work\",\"About Food\",\"Being calm or Being alone\",\"Boring\",\"No\"],[\"26-08-2022 17:17\",\"Male\",19,\"ECE\",\"Yes\",\"Interested\",3,8.0,\"Yes\",4,\"Yes\",4,\"Other  ( Series/Movies )\",\"Studies/work\",\"During exams\",\"Listen's Music\",\"Boring\",\"Yes\"],[\"26-08-2022 17:29\",\"Male\",23,\"COMMERCE \",\"Yes\",\"Interested\",4,8.6,\"No\",4,\"Yes\",4,\"Other  ( Series/Movies )\",\"Thinking about future\",\"About Money\",\"Being calm or Being alone\",\"Happy, Boring\",\"Yes\"],[\"26-08-2022 17:58\",\"Female\",19,\"CSE\",\"Yes\",\"Interested\",2,8.58,\"Yes\",4,\"Yes\",4,\"Studies\",\"Studies/work\",\"During exams\",\"Listen's Music\",\"Boring\",\"No\"],[\"26-08-2022 18:04\",\"Male\",19,\"CSE\",\"Yes\",\"Future scope\",2,9.0,\"Yes\",4,\"No\",4,\"Other  ( Series/Movies )\",\"About friends too\",\"About Money\",\"Listen's Music\",\"Stressed\",\"No\"],[\"26-08-2022 18:09\",\"Male\",19,\"ECE\",\"Yes\",\"Interested\",3,8.0,\"No\",4,\"No\",4,\"Social Media\",\"Family\",\"About Money\",\"Listen's Music\",\"Boring\",\"No\"],[\"26-08-2022 19:03\",\"Female\",19,\"ECE\",\"Yes\",\"Future scope\",2,7.0,\"Yes\",4,\"Yes\",4,\"Social Media\",\"Studies/work\",\"During exams\",\"Listen's Music\",\"Boring\",\"No\"],[\"26-08-2022 19:30\",\"Male\",19,\"ECE\",\"No\",\"Interested\",2,8.0,\"No\",4,\"Yes\",4,\"Social Media\",\"Studies/work\",\"About Money\",\"Listen's Music\",\"Boring\",\"No\"],[\"26-08-2022 19:58\",\"Male\",19,\"CSE\",\"Yes\",\"Future scope\",2,6.0,\"Yes\",4,\"No\",4,\"Video games\",\"Studies/work\",\"About Money\",\"Listen's Music\",\"Happy\",\"No\"],[\"26-08-2022 20:24\",\"Male\",19,\"CSE\",\"Yes\",\"Future scope\",2,7.5,\"Yes\",4,\"No\",4,\"Studies\",\"Family\",\"During exams\",\"Listen's Music\",\"Boring\",\"No\"],[\"26-08-2022 20:50\",\"Male\",19,\"IT\",\"No\",\"Future scope\",2,8.0,\"No\",4,\"No\",4,\"Social Media\",\"Thinking about future\",\"About Money\",\"Sharing feelings with someone\",\"Depressed\",\"No\"],[\"26-08-2022 21:00\",\"Female\",19,\"CSE\",\"Yes\",\"Interested\",1,8.0,\"No\",4,\"Yes\",4,\"Studies\",\"Thinking about future\",\"During exams\",\"Doing any physical activity\",\"Stressed\",\"No\"],[\"26-08-2022 21:15\",\"Female\",19,\"CSE \",\"Yes\",\"Future scope\",3,9.0,\"No\",6,\"Yes\",4,\"Other  ( Series/Movies )\",\"Studies/work\",\"No sleep\",\"Listen's Music\",\"Boring\",\"No\"],[\"26-08-2022 21:40\",\"Male\",19,\"CSE\",\"Yes\",\"Interested\",1,7.0,\"Yes\",8,\"Yes\",4,\"Social Media\",\"Thinking about future\",\"During exams\",\"Listen's Music\",\"Boring\",\"Yes\"],[\"26-08-2022 22:08\",\"Male\",19,\"IT\",\"Yes\",\"Interested\",2,6.0,\"No\",8,\"Yes\",4,\"Social Media\",\"Studies/work\",\"During exams\",\"Listen's Music\",\"Happy\",\"No\"],[\"26-08-2022 22:13\",\"Female\",19,\"CSE\",\"Yes\",\"Interested\",2,8.33,\"No\",8,\"No\",4,\"Other  ( Series/Movies )\",\"Thinking about future\",\"During exams\",\"Being calm or Being alone\",\"Stressed, Boring\",\"Yes\"],[\"26-08-2022 22:14\",\"Male\",18,\"ECE\",\"Yes\",\"Interested\",1,8.0,\"No\",8,\"No\",5,\"Video games\",\"Health\",\"About Food\",\"Listen's Music\",\"Happy\",\"No\"],[\"26-08-2022 22:25\",\"Female\",18,\"MATHS\",\"Yes\",\"Interested\",1,8.0,\"Yes\",8,\"Yes\",5,\"Studies\",\"Nothing\",\"Threaten\",\"Doing any physical activity\",\"Happy\",\"No\"],[\"26-08-2022 22:41\",\"Male\",18,\"CSE\",\"No\",\"Interested\",2,8.5,\"Yes\",8,\"Yes\",5,\"Studies\",\"Studies/work\",\"About Food\",\"Sharing feelings with someone\",\"Boring\",\"Yes\"],[\"26-08-2022 22:53\",\"Female\",18,\"MBBS\",\"Yes\",\"Interested\",2,9.0,\"Yes\",8,\"Yes\",5,\"Social Media\",\"Studies/work\",\"During exams\",\"Being calm or Being alone\",\"Boring\",\"No\"],[\"26-08-2022 22:54\",\"Female\",18,\"ARTS\",\"Yes\",\"Interested\",1,6.3,\"Yes\",8,\"No\",5,\"Social Media\",\"Studies/work\",\"During exams\",\"Listen's Music\",\"Boring\",\"No\"],[\"26-08-2022 22:55\",\"Female\",18,\"ARTS\",\"Yes\",\"Future scope\",2,7.0,\"Yes\",4,\"Yes\",5,\"Social Media\",\"Family,studies\",\"About Faculty\",\"Being alone, traveling \",\"Happy\",\"No\"],[\"27-08-2022 11:28\",\"Male\",18,\"IT\",\"Yes\",\"Future scope\",3,8.0,\"Yes\",7,\"Yes\",5,\"Social Media\",\"Thinking about future\",\"About Money\",\"Being calm or Being alone\",\"Depressed, Boring\",\"Yes\"],[\"27-08-2022 12:44\",\"Female\",18,\"CSE\",\"Yes\",\"Future scope\",2,7.0,\"No\",5,\"No\",5,\"Social Media\",\"Health\",\"During exams\",\"Sharing feelings with someone\",\"Boring\",\"No\"],[\"27-08-2022 13:04\",\"Female\",18,\"CSE\",\"Yes\",\"Future scope\",3,8.2,\"Yes\",7,\"Yes\",5,\"Studies\",\"Health\",\"During exams\",\"Listen's Music\",\"Depressed, Stressed, Boring\",\"No\"],[\"27-08-2022 13:51\",\"Male\",18,\"IT\",\"Yes\",\"Interested\",2,10.0,\"Yes\",5,\"Yes\",5,\"Other  ( Series/Movies )\",\"Thinking about future\",\"No sleep\",\"Travelling\",\"Boring\",\"Yes\"],[\"27-08-2022 16:38\",\"Male\",18,\"CSE\",\"Yes\",\"Future scope\",2,8.13,\"No\",5,\"No\",2,\"Other  ( Series/Movies )\",\"Thinking about future\",\"Threaten\",\"Being calm or Being alone\",\"Depressed\",\"No\"],[\"27-08-2022 17:39\",\"Male\",18,\"BIOMED\",\"Yes\",\"Interested\",2,8.17,\"Yes\",7,\"No\",4,\"Studies\",\"Studies/work\",\"During exams\",\"Listen's Music\",\"Boring\",\"Yes\"],[\"27-08-2022 18:11\",\"Female\",18,\"BARCH\",\"Yes\",\"Interested\",3,8.33,\"No\",4,\"No\",1,\"Studies\",\"Studies/work\",\"During exams\",\"Being calm or Being alone\",\"Boring\",\"No\"],[\"27-08-2022 19:04\",\"Male\",18,\"IT\",\"Yes\",\"Interested\",2,7.6,\"Yes\",8,\"Yes\",1,\"Social Media\",\"Thinking about future\",\"During exams\",\"Doing any physical activity\",\"Stressed\",\"No\"],[\"27-08-2022 21:02\",\"Female\",20,\"CSE\",\"Yes\",\"Interested\",3,7.8,\"Yes\",10,\"No\",1,\"Other  ( Series/Movies )\",\"Thinking about future\",\"During exams\",\"Listen's Music\",\"Boring\",\"No\"],[\"28-08-2022 16:54\",\"Male\",20,\"BA \",\"Yes\",\"Interested\",2,9.0,\"Yes\",9,\"No\",7,\"Other  ( Series/Movies )\",\"Thinking about future\",\"About Money\",\"Sharing feelings with someone\",\"Depressed, Boring\",\"No\"],[\"29-08-2022 07:00\",\"Male\",20,\"ECE\",\"Yes\",\"Interested\",3,8.0,\"No\",5,\"No\",9,\"Social Media\",\"Thinking about future\",\"During exams\",\"Listen's Music\",\"Depressed, Stressed\",\"No\"]],\"type\":\"surface\"}],                        {\"template\":{\"data\":{\"barpolar\":[{\"marker\":{\"line\":{\"color\":\"white\",\"width\":0.5},\"pattern\":{\"fillmode\":\"overlay\",\"size\":10,\"solidity\":0.2}},\"type\":\"barpolar\"}],\"bar\":[{\"error_x\":{\"color\":\"#2a3f5f\"},\"error_y\":{\"color\":\"#2a3f5f\"},\"marker\":{\"line\":{\"color\":\"white\",\"width\":0.5},\"pattern\":{\"fillmode\":\"overlay\",\"size\":10,\"solidity\":0.2}},\"type\":\"bar\"}],\"carpet\":[{\"aaxis\":{\"endlinecolor\":\"#2a3f5f\",\"gridcolor\":\"#C8D4E3\",\"linecolor\":\"#C8D4E3\",\"minorgridcolor\":\"#C8D4E3\",\"startlinecolor\":\"#2a3f5f\"},\"baxis\":{\"endlinecolor\":\"#2a3f5f\",\"gridcolor\":\"#C8D4E3\",\"linecolor\":\"#C8D4E3\",\"minorgridcolor\":\"#C8D4E3\",\"startlinecolor\":\"#2a3f5f\"},\"type\":\"carpet\"}],\"choropleth\":[{\"colorbar\":{\"outlinewidth\":0,\"ticks\":\"\"},\"type\":\"choropleth\"}],\"contourcarpet\":[{\"colorbar\":{\"outlinewidth\":0,\"ticks\":\"\"},\"type\":\"contourcarpet\"}],\"contour\":[{\"colorbar\":{\"outlinewidth\":0,\"ticks\":\"\"},\"colorscale\":[[0.0,\"#0d0887\"],[0.1111111111111111,\"#46039f\"],[0.2222222222222222,\"#7201a8\"],[0.3333333333333333,\"#9c179e\"],[0.4444444444444444,\"#bd3786\"],[0.5555555555555556,\"#d8576b\"],[0.6666666666666666,\"#ed7953\"],[0.7777777777777778,\"#fb9f3a\"],[0.8888888888888888,\"#fdca26\"],[1.0,\"#f0f921\"]],\"type\":\"contour\"}],\"heatmapgl\":[{\"colorbar\":{\"outlinewidth\":0,\"ticks\":\"\"},\"colorscale\":[[0.0,\"#0d0887\"],[0.1111111111111111,\"#46039f\"],[0.2222222222222222,\"#7201a8\"],[0.3333333333333333,\"#9c179e\"],[0.4444444444444444,\"#bd3786\"],[0.5555555555555556,\"#d8576b\"],[0.6666666666666666,\"#ed7953\"],[0.7777777777777778,\"#fb9f3a\"],[0.8888888888888888,\"#fdca26\"],[1.0,\"#f0f921\"]],\"type\":\"heatmapgl\"}],\"heatmap\":[{\"colorbar\":{\"outlinewidth\":0,\"ticks\":\"\"},\"colorscale\":[[0.0,\"#0d0887\"],[0.1111111111111111,\"#46039f\"],[0.2222222222222222,\"#7201a8\"],[0.3333333333333333,\"#9c179e\"],[0.4444444444444444,\"#bd3786\"],[0.5555555555555556,\"#d8576b\"],[0.6666666666666666,\"#ed7953\"],[0.7777777777777778,\"#fb9f3a\"],[0.8888888888888888,\"#fdca26\"],[1.0,\"#f0f921\"]],\"type\":\"heatmap\"}],\"histogram2dcontour\":[{\"colorbar\":{\"outlinewidth\":0,\"ticks\":\"\"},\"colorscale\":[[0.0,\"#0d0887\"],[0.1111111111111111,\"#46039f\"],[0.2222222222222222,\"#7201a8\"],[0.3333333333333333,\"#9c179e\"],[0.4444444444444444,\"#bd3786\"],[0.5555555555555556,\"#d8576b\"],[0.6666666666666666,\"#ed7953\"],[0.7777777777777778,\"#fb9f3a\"],[0.8888888888888888,\"#fdca26\"],[1.0,\"#f0f921\"]],\"type\":\"histogram2dcontour\"}],\"histogram2d\":[{\"colorbar\":{\"outlinewidth\":0,\"ticks\":\"\"},\"colorscale\":[[0.0,\"#0d0887\"],[0.1111111111111111,\"#46039f\"],[0.2222222222222222,\"#7201a8\"],[0.3333333333333333,\"#9c179e\"],[0.4444444444444444,\"#bd3786\"],[0.5555555555555556,\"#d8576b\"],[0.6666666666666666,\"#ed7953\"],[0.7777777777777778,\"#fb9f3a\"],[0.8888888888888888,\"#fdca26\"],[1.0,\"#f0f921\"]],\"type\":\"histogram2d\"}],\"histogram\":[{\"marker\":{\"pattern\":{\"fillmode\":\"overlay\",\"size\":10,\"solidity\":0.2}},\"type\":\"histogram\"}],\"mesh3d\":[{\"colorbar\":{\"outlinewidth\":0,\"ticks\":\"\"},\"type\":\"mesh3d\"}],\"parcoords\":[{\"line\":{\"colorbar\":{\"outlinewidth\":0,\"ticks\":\"\"}},\"type\":\"parcoords\"}],\"pie\":[{\"automargin\":true,\"type\":\"pie\"}],\"scatter3d\":[{\"line\":{\"colorbar\":{\"outlinewidth\":0,\"ticks\":\"\"}},\"marker\":{\"colorbar\":{\"outlinewidth\":0,\"ticks\":\"\"}},\"type\":\"scatter3d\"}],\"scattercarpet\":[{\"marker\":{\"colorbar\":{\"outlinewidth\":0,\"ticks\":\"\"}},\"type\":\"scattercarpet\"}],\"scattergeo\":[{\"marker\":{\"colorbar\":{\"outlinewidth\":0,\"ticks\":\"\"}},\"type\":\"scattergeo\"}],\"scattergl\":[{\"marker\":{\"colorbar\":{\"outlinewidth\":0,\"ticks\":\"\"}},\"type\":\"scattergl\"}],\"scattermapbox\":[{\"marker\":{\"colorbar\":{\"outlinewidth\":0,\"ticks\":\"\"}},\"type\":\"scattermapbox\"}],\"scatterpolargl\":[{\"marker\":{\"colorbar\":{\"outlinewidth\":0,\"ticks\":\"\"}},\"type\":\"scatterpolargl\"}],\"scatterpolar\":[{\"marker\":{\"colorbar\":{\"outlinewidth\":0,\"ticks\":\"\"}},\"type\":\"scatterpolar\"}],\"scatter\":[{\"fillpattern\":{\"fillmode\":\"overlay\",\"size\":10,\"solidity\":0.2},\"type\":\"scatter\"}],\"scatterternary\":[{\"marker\":{\"colorbar\":{\"outlinewidth\":0,\"ticks\":\"\"}},\"type\":\"scatterternary\"}],\"surface\":[{\"colorbar\":{\"outlinewidth\":0,\"ticks\":\"\"},\"colorscale\":[[0.0,\"#0d0887\"],[0.1111111111111111,\"#46039f\"],[0.2222222222222222,\"#7201a8\"],[0.3333333333333333,\"#9c179e\"],[0.4444444444444444,\"#bd3786\"],[0.5555555555555556,\"#d8576b\"],[0.6666666666666666,\"#ed7953\"],[0.7777777777777778,\"#fb9f3a\"],[0.8888888888888888,\"#fdca26\"],[1.0,\"#f0f921\"]],\"type\":\"surface\"}],\"table\":[{\"cells\":{\"fill\":{\"color\":\"#EBF0F8\"},\"line\":{\"color\":\"white\"}},\"header\":{\"fill\":{\"color\":\"#C8D4E3\"},\"line\":{\"color\":\"white\"}},\"type\":\"table\"}]},\"layout\":{\"annotationdefaults\":{\"arrowcolor\":\"#2a3f5f\",\"arrowhead\":0,\"arrowwidth\":1},\"autotypenumbers\":\"strict\",\"coloraxis\":{\"colorbar\":{\"outlinewidth\":0,\"ticks\":\"\"}},\"colorscale\":{\"diverging\":[[0,\"#8e0152\"],[0.1,\"#c51b7d\"],[0.2,\"#de77ae\"],[0.3,\"#f1b6da\"],[0.4,\"#fde0ef\"],[0.5,\"#f7f7f7\"],[0.6,\"#e6f5d0\"],[0.7,\"#b8e186\"],[0.8,\"#7fbc41\"],[0.9,\"#4d9221\"],[1,\"#276419\"]],\"sequential\":[[0.0,\"#0d0887\"],[0.1111111111111111,\"#46039f\"],[0.2222222222222222,\"#7201a8\"],[0.3333333333333333,\"#9c179e\"],[0.4444444444444444,\"#bd3786\"],[0.5555555555555556,\"#d8576b\"],[0.6666666666666666,\"#ed7953\"],[0.7777777777777778,\"#fb9f3a\"],[0.8888888888888888,\"#fdca26\"],[1.0,\"#f0f921\"]],\"sequentialminus\":[[0.0,\"#0d0887\"],[0.1111111111111111,\"#46039f\"],[0.2222222222222222,\"#7201a8\"],[0.3333333333333333,\"#9c179e\"],[0.4444444444444444,\"#bd3786\"],[0.5555555555555556,\"#d8576b\"],[0.6666666666666666,\"#ed7953\"],[0.7777777777777778,\"#fb9f3a\"],[0.8888888888888888,\"#fdca26\"],[1.0,\"#f0f921\"]]},\"colorway\":[\"#636efa\",\"#EF553B\",\"#00cc96\",\"#ab63fa\",\"#FFA15A\",\"#19d3f3\",\"#FF6692\",\"#B6E880\",\"#FF97FF\",\"#FECB52\"],\"font\":{\"color\":\"#2a3f5f\"},\"geo\":{\"bgcolor\":\"white\",\"lakecolor\":\"white\",\"landcolor\":\"white\",\"showlakes\":true,\"showland\":true,\"subunitcolor\":\"#C8D4E3\"},\"hoverlabel\":{\"align\":\"left\"},\"hovermode\":\"closest\",\"mapbox\":{\"style\":\"light\"},\"paper_bgcolor\":\"white\",\"plot_bgcolor\":\"white\",\"polar\":{\"angularaxis\":{\"gridcolor\":\"#EBF0F8\",\"linecolor\":\"#EBF0F8\",\"ticks\":\"\"},\"bgcolor\":\"white\",\"radialaxis\":{\"gridcolor\":\"#EBF0F8\",\"linecolor\":\"#EBF0F8\",\"ticks\":\"\"}},\"scene\":{\"xaxis\":{\"backgroundcolor\":\"white\",\"gridcolor\":\"#DFE8F3\",\"gridwidth\":2,\"linecolor\":\"#EBF0F8\",\"showbackground\":true,\"ticks\":\"\",\"zerolinecolor\":\"#EBF0F8\"},\"yaxis\":{\"backgroundcolor\":\"white\",\"gridcolor\":\"#DFE8F3\",\"gridwidth\":2,\"linecolor\":\"#EBF0F8\",\"showbackground\":true,\"ticks\":\"\",\"zerolinecolor\":\"#EBF0F8\"},\"zaxis\":{\"backgroundcolor\":\"white\",\"gridcolor\":\"#DFE8F3\",\"gridwidth\":2,\"linecolor\":\"#EBF0F8\",\"showbackground\":true,\"ticks\":\"\",\"zerolinecolor\":\"#EBF0F8\"}},\"shapedefaults\":{\"line\":{\"color\":\"#2a3f5f\"}},\"ternary\":{\"aaxis\":{\"gridcolor\":\"#DFE8F3\",\"linecolor\":\"#A2B1C6\",\"ticks\":\"\"},\"baxis\":{\"gridcolor\":\"#DFE8F3\",\"linecolor\":\"#A2B1C6\",\"ticks\":\"\"},\"bgcolor\":\"white\",\"caxis\":{\"gridcolor\":\"#DFE8F3\",\"linecolor\":\"#A2B1C6\",\"ticks\":\"\"}},\"title\":{\"x\":0.05},\"xaxis\":{\"automargin\":true,\"gridcolor\":\"#EBF0F8\",\"linecolor\":\"#EBF0F8\",\"ticks\":\"\",\"title\":{\"standoff\":15},\"zerolinecolor\":\"#EBF0F8\",\"zerolinewidth\":2},\"yaxis\":{\"automargin\":true,\"gridcolor\":\"#EBF0F8\",\"linecolor\":\"#EBF0F8\",\"ticks\":\"\",\"title\":{\"standoff\":15},\"zerolinecolor\":\"#EBF0F8\",\"zerolinewidth\":2}}},\"margin\":{\"t\":0,\"b\":0,\"l\":0,\"r\":0},\"width\":800,\"height\":900,\"autosize\":false,\"scene\":{\"aspectratio\":{\"x\":1,\"y\":1,\"z\":0.7},\"aspectmode\":\"manual\"},\"updatemenus\":[{\"buttons\":[{\"args\":[\"type\",\"surface\"],\"label\":\"3D Surface\",\"method\":\"restyle\"},{\"args\":[\"type\",\"heatmap\"],\"label\":\"Heatmap\",\"method\":\"restyle\"}],\"direction\":\"left\",\"pad\":{\"r\":10,\"t\":10},\"showactive\":true,\"type\":\"buttons\",\"x\":0.11,\"xanchor\":\"left\",\"y\":1.1,\"yanchor\":\"top\"}],\"annotations\":[{\"align\":\"left\",\"showarrow\":false,\"text\":\"Trace type:\",\"x\":0,\"y\":1.08,\"yref\":\"paper\"}]},                        {\"responsive\": true}                    ).then(function(){\n",
              "                            \n",
              "var gd = document.getElementById('f3010f48-11a5-4ffb-ac90-c003f19f3aad');\n",
              "var x = new MutationObserver(function (mutations, observer) {{\n",
              "        var display = window.getComputedStyle(gd).display;\n",
              "        if (!display || display === 'none') {{\n",
              "            console.log([gd, 'removed!']);\n",
              "            Plotly.purge(gd);\n",
              "            observer.disconnect();\n",
              "        }}\n",
              "}});\n",
              "\n",
              "// Listen for the removal of the full notebook cells\n",
              "var notebookContainer = gd.closest('#notebook-container');\n",
              "if (notebookContainer) {{\n",
              "    x.observe(notebookContainer, {childList: true});\n",
              "}}\n",
              "\n",
              "// Listen for the clearing of the current output cell\n",
              "var outputEl = gd.closest('.output');\n",
              "if (outputEl) {{\n",
              "    x.observe(outputEl, {childList: true});\n",
              "}}\n",
              "\n",
              "                        })                };                            </script>        </div>\n",
              "</body>\n",
              "</html>"
            ]
          },
          "metadata": {}
        }
      ],
      "source": [
        "import plotly.graph_objects as go\n",
        "\n",
        "import pandas as pd\n",
        "\n",
        "# load dataset\n",
        "df = pd.read_csv(\"Survey on Student Mental Health1.csv\")\n",
        "\n",
        "# create figure\n",
        "fig = go.Figure()\n",
        "\n",
        "# Add surface trace\n",
        "fig.add_trace(go.Surface(z=df.values.tolist(), colorscale=\"Viridis\"))\n",
        "\n",
        "# Update plot sizing\n",
        "fig.update_layout(\n",
        "    width=800,\n",
        "    height=900,\n",
        "    autosize=False,\n",
        "    margin=dict(t=0, b=0, l=0, r=0),\n",
        "    template=\"plotly_white\",\n",
        ")\n",
        "\n",
        "# Update 3D scene options\n",
        "fig.update_scenes(\n",
        "    aspectratio=dict(x=1, y=1, z=0.7),\n",
        "    aspectmode=\"manual\"\n",
        ")\n",
        "\n",
        "# Add dropdown\n",
        "fig.update_layout(\n",
        "    updatemenus=[\n",
        "        dict(\n",
        "            type = \"buttons\",\n",
        "            direction = \"left\",\n",
        "            buttons=list([\n",
        "                dict(\n",
        "                    args=[\"type\", \"surface\"],\n",
        "                    label=\"3D Surface\",\n",
        "                    method=\"restyle\"\n",
        "                ),\n",
        "                dict(\n",
        "                    args=[\"type\", \"heatmap\"],\n",
        "                    label=\"Heatmap\",\n",
        "                    method=\"restyle\"\n",
        "                )\n",
        "            ]),\n",
        "            pad={\"r\": 10, \"t\": 10},\n",
        "            showactive=True,\n",
        "            x=0.11,\n",
        "            xanchor=\"left\",\n",
        "            y=1.1,\n",
        "            yanchor=\"top\"\n",
        "        ),\n",
        "    ]\n",
        ")\n",
        "\n",
        "# Add annotation\n",
        "fig.update_layout(\n",
        "    annotations=[\n",
        "        dict(text=\"Trace type:\", showarrow=False,\n",
        "                             x=0, y=1.08, yref=\"paper\", align=\"left\")\n",
        "    ]\n",
        ")\n",
        "\n",
        "fig.show()"
      ]
    },
    {
      "cell_type": "code",
      "source": [
        "import plotly.io as pio\n",
        "import plotly.graph_objects as go\n",
        "\n",
        "import pandas as pd\n",
        "\n",
        "\n",
        "df = pd.read_csv(\"Survey on Student Mental Health1.csv\")\n",
        "\n",
        "\n",
        "Reason = ['Interested','Parents force','Future scope','Interested','Everyone are choosing','Easy','Not interested','Every one are choosing','Easy','Interested','Future scope','Parents force']\n",
        "CGPA = [8.7,8,8.4,7.8,8,8.6,8,8.4,7,9,8.9,8,9]\n",
        "\n",
        "data = [dict(\n",
        "  type = 'scatter',\n",
        "  x = Reason,\n",
        "  y = CGPA,\n",
        "  mode = 'markers',\n",
        "  transforms = [dict(\n",
        "    type = 'filter',\n",
        "    target = 'y',\n",
        "    operation = '>',\n",
        "    value = 4\n",
        "  )]\n",
        ")]\n",
        "\n",
        "layout = dict(\n",
        "    title = 'Filter'\n",
        ")\n",
        "\n",
        "fig_dict = dict(data=data, layout=layout)\n",
        "\n",
        "pio.show(fig_dict, validate=False)"
      ],
      "metadata": {
        "colab": {
          "base_uri": "https://localhost:8080/",
          "height": 542
        },
        "id": "PkxUR9ta3DWC",
        "outputId": "6899bcf0-f563-4ea8-c6e0-88dd6ffb1d9d"
      },
      "execution_count": null,
      "outputs": [
        {
          "output_type": "display_data",
          "data": {
            "text/html": [
              "<html>\n",
              "<head><meta charset=\"utf-8\" /></head>\n",
              "<body>\n",
              "    <div>            <script src=\"https://cdnjs.cloudflare.com/ajax/libs/mathjax/2.7.5/MathJax.js?config=TeX-AMS-MML_SVG\"></script><script type=\"text/javascript\">if (window.MathJax && window.MathJax.Hub && window.MathJax.Hub.Config) {window.MathJax.Hub.Config({SVG: {font: \"STIX-Web\"}});}</script>                <script type=\"text/javascript\">window.PlotlyConfig = {MathJaxConfig: 'local'};</script>\n",
              "        <script src=\"https://cdn.plot.ly/plotly-2.16.1.min.js\"></script>                <div id=\"13d06273-198e-43b1-a641-dec8016aafd9\" class=\"plotly-graph-div\" style=\"height:525px; width:100%;\"></div>            <script type=\"text/javascript\">                                    window.PLOTLYENV=window.PLOTLYENV || {};                                    if (document.getElementById(\"13d06273-198e-43b1-a641-dec8016aafd9\")) {                    Plotly.newPlot(                        \"13d06273-198e-43b1-a641-dec8016aafd9\",                        [{\"type\":\"scatter\",\"x\":[\"Interested\",\"Parents force\",\"Future scope\",\"Interested\",\"Everyone are choosing\",\"Easy\",\"Not interested\",\"Every one are choosing\",\"Easy\",\"Interested\",\"Future scope\",\"Parents force\"],\"y\":[8.7,8,8.4,7.8,8,8.6,8,8.4,7,9,8.9,8,9],\"mode\":\"markers\",\"transforms\":[{\"type\":\"filter\",\"target\":\"y\",\"operation\":\">\",\"value\":4}]}],                        {\"title\":\"Filter\"},                        {\"responsive\": true}                    ).then(function(){\n",
              "                            \n",
              "var gd = document.getElementById('13d06273-198e-43b1-a641-dec8016aafd9');\n",
              "var x = new MutationObserver(function (mutations, observer) {{\n",
              "        var display = window.getComputedStyle(gd).display;\n",
              "        if (!display || display === 'none') {{\n",
              "            console.log([gd, 'removed!']);\n",
              "            Plotly.purge(gd);\n",
              "            observer.disconnect();\n",
              "        }}\n",
              "}});\n",
              "\n",
              "// Listen for the removal of the full notebook cells\n",
              "var notebookContainer = gd.closest('#notebook-container');\n",
              "if (notebookContainer) {{\n",
              "    x.observe(notebookContainer, {childList: true});\n",
              "}}\n",
              "\n",
              "// Listen for the clearing of the current output cell\n",
              "var outputEl = gd.closest('.output');\n",
              "if (outputEl) {{\n",
              "    x.observe(outputEl, {childList: true});\n",
              "}}\n",
              "\n",
              "                        })                };                            </script>        </div>\n",
              "</body>\n",
              "</html>"
            ]
          },
          "metadata": {}
        }
      ]
    },
    {
      "cell_type": "code",
      "source": [
        "import plotly.graph_objects as go\n",
        "\n",
        "import pandas as pd\n",
        "\n",
        "\n",
        "df = pd.read_csv(\"Survey on Student Mental Health1.csv\")\n",
        "\n",
        "# Create figure\n",
        "fig = go.Figure()\n",
        "\n",
        "# Add surface trace\n",
        "fig.add_trace(go.Heatmap(z=df.values.tolist(), colorscale=\"Viridis\"))\n",
        "\n",
        "# Update plot sizing\n",
        "fig.update_layout(\n",
        "    width=800,\n",
        "    height=900,\n",
        "    autosize=False,\n",
        "    margin=dict(t=100, b=0, l=0, r=0),\n",
        ")\n",
        "\n",
        "# Update 3D scene options\n",
        "fig.update_scenes(\n",
        "    aspectratio=dict(x=1, y=1, z=0.7),\n",
        "    aspectmode=\"manual\"\n",
        ")\n",
        "\n",
        "# Add drowdowns\n",
        "# button_layer_1_height = 1.08\n",
        "button_layer_1_height = 1.12\n",
        "button_layer_2_height = 1.065\n",
        "\n",
        "fig.update_layout(\n",
        "    updatemenus=[\n",
        "        dict(\n",
        "            buttons=list([\n",
        "                dict(\n",
        "                    args=[\"Can You work when you are stress\", \"Viridis\"],\n",
        "                    label=\"Viridis\",\n",
        "                    method=\"restyle\"\n",
        "                ),\n",
        "                dict(\n",
        "                    args=[\"Can You work when you are stress\", \"Cividis\"],\n",
        "                    label=\"Cividis\",\n",
        "                    method=\"restyle\"\n",
        "                ),\n",
        "                dict(\n",
        "                    args=[\"Can You work when you are stress\", \"Blues\"],\n",
        "                    label=\"Blues\",\n",
        "                    method=\"restyle\"\n",
        "                ),\n",
        "                dict(\n",
        "                    args=[\"Can You work when you are stress\", \"Greens\"],\n",
        "                    label=\"Greens\",\n",
        "                    method=\"restyle\"\n",
        "                ),\n",
        "            ]),\n",
        "            type = \"buttons\",\n",
        "            direction=\"right\",\n",
        "            pad={\"r\": 10, \"t\": 10},\n",
        "            showactive=True,\n",
        "            x=0.1,\n",
        "            xanchor=\"left\",\n",
        "            y=button_layer_1_height,\n",
        "            yanchor=\"top\"\n",
        "        ),\n",
        "        dict(\n",
        "            buttons=list([\n",
        "                dict(\n",
        "                    args=[\"reversescale\", False],\n",
        "                    label=\"Yes\",\n",
        "                    method=\"restyle\"\n",
        "                ),\n",
        "                dict(\n",
        "                    args=[\"reversescale\", True],\n",
        "                    label=\"No\",\n",
        "                    method=\"restyle\"\n",
        "                )\n",
        "            ]),\n",
        "            type = \"buttons\",\n",
        "            direction=\"right\",\n",
        "            pad={\"r\": 10, \"t\": 10},\n",
        "            showactive=True,\n",
        "            x=0.13,\n",
        "            xanchor=\"left\",\n",
        "            y=button_layer_2_height,\n",
        "            yanchor=\"top\"\n",
        "        ),\n",
        "        dict(\n",
        "            buttons=list([\n",
        "                dict(\n",
        "                    args=[{\"contours.showlines\": False, \"type\": \"contour\"}],\n",
        "                    label=\"Hide lines\",\n",
        "                    method=\"restyle\"\n",
        "                ),\n",
        "                dict(\n",
        "                    args=[{\"contours.showlines\": True, \"type\": \"contour\"}],\n",
        "                    label=\"Show lines\",\n",
        "                    method=\"restyle\"\n",
        "                ),\n",
        "            ]),\n",
        "            type = \"buttons\",\n",
        "            direction=\"right\",\n",
        "            pad={\"r\": 10, \"t\": 10},\n",
        "            showactive=True,\n",
        "            x=0.5,\n",
        "            xanchor=\"left\",\n",
        "            y=button_layer_2_height,\n",
        "            yanchor=\"top\"\n",
        "        ),\n",
        "    ]\n",
        ")\n",
        "\n",
        "fig.update_layout(\n",
        "    annotations=[\n",
        "        dict(text=\"colorscale\", x=0, xref=\"paper\", y=1.1, yref=\"paper\",\n",
        "                             align=\"left\", showarrow=False),\n",
        "        dict(text=\"Reverse<br>Colorscale\", x=0, xref=\"paper\", y=1.06,\n",
        "                             yref=\"paper\", showarrow=False),\n",
        "        dict(text=\"Lines\", x=0.47, xref=\"paper\", y=1.045, yref=\"paper\",\n",
        "                             showarrow=False)\n",
        "    ])\n",
        "\n",
        "fig.show()"
      ],
      "metadata": {
        "colab": {
          "base_uri": "https://localhost:8080/",
          "height": 917
        },
        "id": "5xmhBLWl5CHy",
        "outputId": "3dc594d2-21ab-4f2e-d0d9-478618457be3"
      },
      "execution_count": null,
      "outputs": [
        {
          "output_type": "display_data",
          "data": {
            "text/html": [
              "<html>\n",
              "<head><meta charset=\"utf-8\" /></head>\n",
              "<body>\n",
              "    <div>            <script src=\"https://cdnjs.cloudflare.com/ajax/libs/mathjax/2.7.5/MathJax.js?config=TeX-AMS-MML_SVG\"></script><script type=\"text/javascript\">if (window.MathJax && window.MathJax.Hub && window.MathJax.Hub.Config) {window.MathJax.Hub.Config({SVG: {font: \"STIX-Web\"}});}</script>                <script type=\"text/javascript\">window.PlotlyConfig = {MathJaxConfig: 'local'};</script>\n",
              "        <script src=\"https://cdn.plot.ly/plotly-2.16.1.min.js\"></script>                <div id=\"8296a66c-0fe9-4bf8-bdff-1d58bb3c4525\" class=\"plotly-graph-div\" style=\"height:900px; width:800px;\"></div>            <script type=\"text/javascript\">                                    window.PLOTLYENV=window.PLOTLYENV || {};                                    if (document.getElementById(\"8296a66c-0fe9-4bf8-bdff-1d58bb3c4525\")) {                    Plotly.newPlot(                        \"8296a66c-0fe9-4bf8-bdff-1d58bb3c4525\",                        [{\"colorscale\":[[0.0,\"#440154\"],[0.1111111111111111,\"#482878\"],[0.2222222222222222,\"#3e4989\"],[0.3333333333333333,\"#31688e\"],[0.4444444444444444,\"#26828e\"],[0.5555555555555556,\"#1f9e89\"],[0.6666666666666666,\"#35b779\"],[0.7777777777777778,\"#6ece58\"],[0.8888888888888888,\"#b5de2b\"],[1.0,\"#fde725\"]],\"z\":[[\"24-08-2022 22:32\",\"Female\",18,\"CSE\",\"Yes\",\"Interested\",3,8.0,\"Yes\",8,\"No\",7,\"Social Media\",\"Family\",\"During exams\",\"Listen's Music\",\"Depressed\",\"No\"],[\"24-08-2022 22:52\",\"Male\",18,\"CSE\",\"Yes\",\"Interested\",3,8.44,\"Yes\",8,\"Yes\",6,\"Video games\",\"Studies/work\",\"During exams\",\"Sharing feelings with someone\",\"Stressed\",\"No\"],[\"24-08-2022 22:57\",\"Male\",19,\"CSE\",\"Yes\",\"Interested\",3,8.07,\"No\",8,\"No\",3,\"Studies\",\"Studies/work\",\"During exams\",\"Travelling\",\"Boring\",\"No\"],[\"24-08-2022 23:04\",\"Male\",24,\"CSE\",\"No\",\"Future scope\",3,8.0,\"No\",8,\"No\",7,\"Other  ( Series/Movies )\",\"Thinking about future\",\"About Love\",\"Sharing feelings with someone\",\"Happy\",\"No\"],[\"25-08-2022 19:20\",\"Male\",19,\"CSE\",\"Yes\",\"All are choosing so I also chosen\",3,9.0,\"Yes\",8,\"Yes\",3,\"Social Media\",\"Family\",\"During exams\",\"Listen's Music\",\"Depressed, Stressed, Happy, Boring\",\"No\"],[\"25-08-2022 19:31\",\"Female\",20,\"CSE\",\"Yes\",\"Interested\",3,9.0,\"Yes\",8,\"Yes\",3,\"Social Media\",\"Studies/work\",\"During exams\",\"Doing any physical activity\",\"Happy, Boring\",\"No\"],[\"25-08-2022 19:45\",\"Female\",20,\"CSE\",\"No\",\"Due to Family pressure\",3,8.01,\"No\",6,\"No\",3,\"Social Media\",\"Health\",\"During exams\",\"Sharing feelings with someone\",\"Boring\",\"No\"],[\"25-08-2022 20:34\",\"Male\",20,\"IT\",\"Yes\",\"Future scope\",2,7.0,\"Yes\",8,\"Yes\",6,\"Other  ( Series/Movies )\",\"Thinking about future\",\"About Faculty\",\"Doing any physical activity\",\"Happy\",\"Yes\"],[\"25-08-2022 20:37\",\"Female\",20,\"CSE\",\"No\",\"Due to Family pressure\",3,7.59,\"No\",7,\"No\",7,\"Social Media\",\"Studies/work\",\"No sleep\",\"Sharing feelings with someone\",\"Boring\",\"No\"],[\"25-08-2022 20:38\",\"Female\",20,\"IT\",\"No\",\"Due to Family pressure\",2,8.5,\"No\",7,\"No\",8,\"Social Media\",\"Thinking about future\",\"About Faculty\",\"Being calm or Being alone\",\"Depressed\",\"No\"],[\"25-08-2022 20:38\",\"Female\",20,\"CSE\",\"Yes\",\"Interested\",4,9.03,\"Yes\",5,\"No\",6,\"Social Media\",\"Studies/work\",\"During exams\",\"Listen's Music\",\"Stressed, Boring\",\"No\"],[\"25-08-2022 20:39\",\"Male\",20,\"CSE\",\"Yes\",\"Due to Family pressure\",3,7.56,\"Yes\",4,\"No\",8,\"Other  ( Series/Movies )\",\"Thinking about future\",\"About Money\",\"Being calm or Being alone\",\"Happy\",\"No\"],[\"25-08-2022 20:39\",\"Male\",22,\"CSE\",\"Yes\",\"Interested\",3,9.19,\"Yes\",6,\"Yes\",7,\"Social Media\",\"Thinking about future\",\"About Love\",\"Travelling\",\"Depressed, Happy, Boring\",\"No\"],[\"25-08-2022 20:40\",\"Female\",22,\"CSE\",\"Yes\",\"Interested\",2,8.0,\"Yes\",8,\"Yes\",7,\"Social Media\",\"Thinking about future\",\"Threaten\",\"Doing any physical activity\",\"Boring\",\"No\"],[\"25-08-2022 20:41\",\"Male\",22,\"CSE\",\"Yes\",\"Interested\",4,8.36,\"Yes\",7,\"Yes\",6,\"Other  ( Series/Movies )\",\"Thinking about future\",\"During exams\",\"Listen's Music\",\"Depressed, Stressed\",\"Yes\"],[\"25-08-2022 20:41\",\"Female\",22,\"CSE\",\"Yes\",\"Future scope\",3,8.2,\"Yes\",6,\"No\",6,\"Other  ( Series/Movies )\",\"Thinking about future\",\"During exams\",\"Listen's Music\",\"Happy\",\"No\"],[\"25-08-2022 20:42\",\"Female\",22,\"IT\",\"Yes\",\"Interested\",2,8.11,\"No\",5,\"No\",7,\"Other  ( Series/Movies )\",\"Studies/work\",\"During exams\",\"Listen's Music\",\"Happy\",\"No\"],[\"25-08-2022 20:42\",\"Female\",19,\"IT\",\"Yes\",\"Interested\",2,7.29,\"No\",5,\"No\",8,\"Other  ( Series/Movies )\",\"Studies/work\",\"During exams\",\"Listen's Music\",\"Happy\",\"No\"],[\"25-08-2022 20:42\",\"Female\",19,\"CSE\",\"Yes\",\"Due to Family pressure\",4,7.06,\"No\",4,\"No\",5,\"Other  ( Series/Movies )\",\"Thinking about future\",\"About Money\",\"Listen's Music\",\"Depressed, Happy\",\"No\"],[\"25-08-2022 20:42\",\"Female\",19,\"CSE\",\"Yes\",\"Future scope\",4,7.8,\"Yes\",8,\"No\",8,\"Social Media\",\"Thinking about future\",\"During exams\",\"Sharing feelings with someone\",\"Stressed, Boring\",\"No\"],[\"25-08-2022 20:42\",\"Female\",19,\"ECE\",\"Yes\",\"Interested\",4,0.0,\"Yes\",7,\"No\",7,\"Studies\",\"Studies/work\",\"During exams\",\"Listen's Music\",\"Stressed, Happy, Boring\",\"Yes\"],[\"25-08-2022 20:42\",\"Male\",19,\"BSC \",\"Yes\",\"Interested\",4,7.0,\"Yes\",8,\"Yes\",7,\"Other  ( Series/Movies )\",\"Nothing \",\"About Love\",\"Listen's Music\",\"Depressed\",\"No\"],[\"25-08-2022 20:43\",\"Female\",19,\"CSE\",\"Yes\",\"Interested\",4,8.71,\"No\",8,\"No\",7,\"Social Media\",\"Studies/work\",\"No sleep\",\"Being calm or Being alone\",\"Boring\",\"No\"],[\"25-08-2022 20:43\",\"Female\",19,\"CSE\",\"Yes\",\"Future scope\",4,9.13,\"Yes\",8,\"No\",5,\"Social Media\",\"Thinking about future\",\"During exams\",\"Sharing feelings with someone\",\"Happy, Boring\",\"Yes\"],[\"25-08-2022 20:44\",\"Male\",19,\"CSE\",\"Yes\",\"Interested\",3,8.22,\"Yes\",7,\"Yes\",3,\"Other  ( Series/Movies )\",\"Thinking about future\",\"About Food\",\"Travelling\",\"Happy\",\"Yes\"],[\"25-08-2022 20:44\",\"Female\",19,\"CSE\",\"Yes\",\"Interested\",4,8.41,\"No\",6,\"No\",7,\"Social Media\",\"Thinking about future\",\"No sleep\",\"Listen's Music\",\"Happy\",\"Yes\"],[\"25-08-2022 20:44\",\"Female\",19,\"CSE\",\"Yes\",\"Interested\",3,8.37,\"Yes\",7,\"No\",5,\"Other  ( Series/Movies )\",\"Studies/work\",\"During exams\",\"Listen's Music\",\"Boring\",\"No\"],[\"25-08-2022 20:44\",\"Male\",19,\"CSE\",\"Yes\",\"Future scope\",4,7.52,\"No\",7,\"No\",5,\"Social Media\",\"Thinking about future\",\"About Love\",\"Being calm or Being alone\",\"Happy\",\"No\"],[\"25-08-2022 20:44\",\"Male\",18,\"CSE \",\"No\",\"All are choosing so I also chosen\",4,8.2,\"Yes\",10,\"No\",7,\"Social Media\",\"Thinking about future\",\"About Money\",\"Being calm or Being alone\",\"Depressed\",\"No\"],[\"25-08-2022 20:45\",\"Male\",18,\"IT\",\"No\",\"Future scope\",2,9.065,\"Yes\",8,\"Yes\",5,\"Studies\",\"Family\",\"About Money\",\"Being calm or Being alone\",\"Boring\",\"No\"],[\"25-08-2022 20:45\",\"Female\",18,\"CSE\",\"Yes\",\"Future scope\",3,8.02,\"Yes\",8,\"No\",6,\"Social Media\",\"Family\",\"During exams\",\"Listen's Music\",\"Depressed, Stressed, Boring\",\"No\"],[\"25-08-2022 20:46\",\"Female\",18,\"CSE\",\"Yes\",\"Interested\",3,7.5,\"Yes\",8,\"Yes\",6,\"Other  ( Series/Movies )\",\"Thinking about future\",\"Threaten\",\"Sharing feelings with someone\",\"Happy\",\"No\"],[\"25-08-2022 20:46\",\"Female\",18,\"FOODTECH\",\"Yes\",\"Future scope\",3,7.31,\"Yes\",5,\"Yes\",8,\"Social Media\",\"Thinking about future\",\"During exams\",\"Drawing \",\"Boring\",\"No\"],[\"25-08-2022 20:46\",\"Female\",18,\"IT\",\"Yes\",\"Interested\",2,9.17,\"Yes\",8,\"No\",5,\"Other  ( Series/Movies )\",\"Studies/work\",\"About Money\",\"Listen's Music\",\"Happy\",\"Yes\"],[\"25-08-2022 20:46\",\"Female\",18,\"CSE\",\"Yes\",\"Interested\",2,7.85,\"Yes\",6,\"Yes\",7,\"Studies\",\"Thinking about future\",\"During exams\",\"Being calm or Being alone\",\"Boring\",\"No\"],[\"25-08-2022 20:47\",\"Male\",18,\"CSE\",\"Yes\",\"All are choosing so I also chosen\",3,7.3,\"No\",9,\"Yes\",10,\"Studies\",\"Family\",\"About Love\",\"Travelling\",\"Happy\",\"Yes\"],[\"25-08-2022 20:47\",\"Male\",18,\"CSE\",\"No\",\"Due to Family pressure\",3,7.64,\"No\",4,\"No\",10,\"Social Media\",\"Thinking about future\",\"About Money\",\"Travelling\",\"Happy\",\"No\"],[\"25-08-2022 20:47\",\"Female\",18,\"CSE\",\"No\",\"Due to Family pressure\",4,9.08,\"Yes\",10,\"No\",5,\"Social Media\",\"No stress\",\"No sleep\",\"Sleeping\",\"Happy\",\"Yes\"],[\"25-08-2022 20:47\",\"Female\",18,\"CSE\",\"No\",\"Interested\",3,9.0,\"No\",4,\"No\",5,\"Social Media\",\"Thinking about future\",\"During exams\",\"Listen's Music\",\"Boring\",\"No\"],[\"25-08-2022 20:49\",\"Female\",18,\"CSE\",\"Yes\",\"Interested\",2,8.7,\"No\",5,\"No\",5,\"Other  ( Series/Movies )\",\"Studies/work\",\"Threaten\",\"Listen's Music\",\"Boring\",\"No\"],[\"25-08-2022 20:51\",\"Male\",18,\"CSE\",\"Yes\",\"Interested\",4,8.0,\"Yes\",7,\"No\",4,\"Social Media\",\"Thinking about future\",\"About Money\",\"Listen's Music\",\"Happy\",\"No\"],[\"25-08-2022 20:51\",\"Female\",18,\"BARCH\",\"Yes\",\"Interested\",3,8.48,\"No\",6,\"No\",5,\"Social Media\",\"Studies/work\",\"No sleep\",\"Sharing feelings with someone\",\"Boring\",\"Yes\"],[\"25-08-2022 20:51\",\"Male\",18,\"MECH\",\"Yes\",\"Interested\",2,7.0,\"No\",6,\"Yes\",10,\"Social Media\",\"Love\",\"About Love\",\"Being calm or Being alone\",\"Boring\",\"No\"],[\"25-08-2022 20:52\",\"Male\",18,\"IT\",\"No\",\"All are choosing so I also chosen\",2,8.94,\"No\",5,\"No\",5,\"Social Media\",\"Balancing my work n sleep\",\"About Food\",\"Listen's Music\",\"Boring\",\"No\"],[\"25-08-2022 20:52\",\"Female\",18,\"CSE\",\"Yes\",\"Interested\",3,7.8,\"Yes\",4,\"Yes\",5,\"Other  ( Series/Movies )\",\"Thinking about future\",\"During exams\",\"Listen's Music\",\"Happy\",\"No\"],[\"25-08-2022 20:53\",\"Female\",18,\"FOODTECH\",\"Yes\",\"Future scope\",3,9.04,\"Yes\",8,\"Yes\",8,\"Other  ( Series/Movies )\",\"Thinking about future\",\"No sleep\",\"Being calm or Being alone\",\"Boring\",\"No\"],[\"25-08-2022 20:54\",\"Female\",17,\"CSE\",\"Yes\",\"Future scope\",2,9.1,\"Yes\",8,\"Yes\",5,\"Studies\",\"Studies/work\",\"During exams\",\"Meditation\",\"Boring\",\"No\"],[\"25-08-2022 20:54\",\"Female\",17,\"EEE\",\"No\",\"Due to Family pressure\",4,6.75,\"Yes\",6,\"Yes\",7,\"Other  ( Series/Movies )\",\"Health\",\"Threaten\",\"Listen's Music\",\"Stressed, Boring\",\"No\"],[\"25-08-2022 20:54\",\"Male\",21,\"CSE\",\"Yes\",\"Interested\",3,8.19,\"Yes\",8,\"Yes\",5,\"Studies\",\"Studies/work\",\"About Faculty\",\"Listen's Music\",\"Happy\",\"Yes\"],[\"25-08-2022 20:54\",\"Male\",21,\"CSE\",\"Yes\",\"Interested\",2,8.5,\"Yes\",8,\"Yes\",4,\"Other  ( Series/Movies )\",\"Friends \",\"About Love\",\"Sharing feelings with someone\",\"Happy, Boring\",\"No\"],[\"25-08-2022 20:54\",\"Female\",21,\"BSC \",\"Yes\",\"Interested\",3,9.0,\"No\",3,\"No\",4,\"Social Media\",\"Thinking about future\",\"About Money\",\"Listen's Music\",\"Boring\",\"No\"],[\"25-08-2022 20:55\",\"Male\",21,\"CSE\",\"Yes\",\"Interested\",3,6.2,\"Yes\",8,\"Yes\",5,\"Social Media\",\"Thinking about future\",\"During exams\",\"Listen's Music\",\"Boring\",\"Yes\"],[\"25-08-2022 20:55\",\"Male\",21,\"CSE\",\"Yes\",\"Due to Family pressure\",3,7.0,\"No\",2,\"No\",3,\"Other  ( Series/Movies )\",\"Studies/work\",\"About Faculty\",\"Listen's Music\",\"Happy\",\"No\"],[\"25-08-2022 20:55\",\"Male\",21,\"CSE\",\"No\",\"Interested\",3,8.7,\"Yes\",5,\"No\",5,\"Other  ( Series/Movies )\",\"Thinking about future\",\"During exams\",\"Meditation\",\"Happy\",\"No\"],[\"25-08-2022 20:55\",\"Male\",21,\"CSE\",\"Yes\",\"Interested\",3,8.0,\"Yes\",7,\"Yes\",5,\"Studies\",\"Thinking about future\",\"During exams\",\"Being calm or Being alone\",\"Depressed, Stressed, Boring\",\"No\"],[\"25-08-2022 20:56\",\"Female\",21,\"CSE\",\"No\",\"All are choosing so I also chosen\",2,0.0,\"No\",5,\"No\",2,\"Other  ( Series/Movies )\",\"Thinking about future\",\"During exams\",\"I just wanna sleep peacefully \",\"Boring\",\"No\"],[\"25-08-2022 20:56\",\"Female\",21,\"CSE\",\"Yes\",\"Interested\",3,9.0,\"Yes\",8,\"Yes\",5,\"Other  ( Series/Movies )\",\"Thinking about future\",\"No sleep\",\"Being calm or Being alone\",\"Boring\",\"No\"],[\"25-08-2022 20:56\",\"Male\",21,\"CSE\",\"No\",\"Interested\",3,8.116,\"Yes\",5,\"No\",4,\"Social Media\",\"Studies/work\",\"About Faculty\",\"Listen's Music\",\"Boring\",\"No\"],[\"25-08-2022 20:56\",\"Female\",19,\"BBA\",\"Yes\",\"Interested\",2,7.13,\"Yes\",8,\"Yes\",10,\"Other  ( Series/Movies )\",\"Thinking about future\",\"During exams\",\"Sharing feelings with some one and travelling \",\"Boring\",\"Yes\"],[\"25-08-2022 20:56\",\"Female\",19,\"ECE\",\"Yes\",\"Future scope\",3,8.2,\"Yes\",6,\"No\",4,\"Social Media\",\"Thinking about future\",\"During exams\",\"Listen's Music\",\"Boring\",\"No\"],[\"25-08-2022 20:57\",\"Female\",19,\"CSE\",\"Yes\",\"Future scope\",3,9.0,\"Yes\",10,\"No\",5,\"Social Media\",\"Studies/work\",\"About Faculty\",\"Listen's Music\",\"Boring\",\"No\"],[\"25-08-2022 20:57\",\"Female\",19,\"CSE\",\"Yes\",\"Future scope\",3,7.8,\"Yes\",9,\"No\",5,\"Social Media\",\"Studies/work\",\"About Faculty\",\"Sleeping\",\"Boring\",\"No\"],[\"25-08-2022 20:57\",\"Male\",19,\"CSE\",\"Yes\",\"Interested\",3,8.37,\"Yes\",8,\"Yes\",2,\"Studies\",\"Studies/work\",\"During exams\",\"Sharing feelings with someone\",\"Boring\",\"Yes\"],[\"25-08-2022 20:57\",\"Male\",19,\"CSE\",\"Yes\",\"Interested\",3,8.6,\"Yes\",10,\"Yes\",10,\"Other  ( Series/Movies )\",\"Studies/work\",\"During exams\",\"Listen's Music\",\"Boring\",\"No\"],[\"25-08-2022 20:57\",\"Male\",19,\"CSE\",\"No\",\"All are choosing so I also chosen\",3,9.0,\"No\",5,\"No\",10,\"Social Media\",\"PROVIDE ELECTIVES IN OUR COLLEGE NOT IN NPTEL .......MY HUMBLE REQUEST\",\"About Faculty\",\"PLAY CRICKET\",\"Happy, Boring\",\"No\"],[\"25-08-2022 20:57\",\"Female\",19,\"CSE\",\"Yes\",\"Interested\",3,8.82,\"Yes\",9,\"Yes\",5,\"Social Media\",\"Studies/work\",\"During exams\",\"Listen's Music\",\"Depressed, Stressed, Happy, Boring\",\"Yes\"],[\"25-08-2022 20:58\",\"Female\",19,\"IT\",\"Yes\",\"Future scope\",2,8.0,\"No\",6,\"Yes\",4,\"Video games\",\"Thinking about future\",\"About Money\",\"Being calm or Being alone\",\"Stressed\",\"No\"],[\"25-08-2022 20:58\",\"Female\",19,\"FOODTECH\",\"Yes\",\"Interested\",3,8.43,\"Yes\",6,\"No\",3,\"Other  ( Series/Movies )\",\"Studies/work\",\"About Food\",\"Being calm or Being alone\",\"Happy\",\"No\"],[\"25-08-2022 20:58\",\"Female\",19,\"CSE\",\"Yes\",\"Future scope\",3,8.23,\"No\",7,\"No\",4,\"Social Media\",\"Studies/work\",\"No sleep\",\"Being calm or Being alone\",\"Stressed\",\"No\"],[\"25-08-2022 20:59\",\"Female\",19,\"CSE\",\"Yes\",\"Interested\",2,8.68,\"No\",4,\"No\",5,\"Studies\",\"Studies/work\",\"About Food\",\"Being calm or Being alone\",\"Boring\",\"No\"],[\"25-08-2022 21:00\",\"Male\",19,\"CSE\",\"Yes\",\"Future scope\",3,8.23,\"Yes\",8,\"Yes\",6,\"Other  ( Series/Movies )\",\"Thinking about future\",\"About Money\",\"Being calm or Being alone\",\"Depressed, Boring\",\"Yes\"],[\"25-08-2022 21:00\",\"Male\",19,\"CSE\",\"No\",\"Future scope\",3,8.9,\"Yes\",8,\"Yes\",2,\"Social Media\",\"Thinking about future\",\"During exams\",\"Being calm or Being alone\",\"Happy\",\"No\"],[\"25-08-2022 21:00\",\"Female\",19,\"CSE\",\"Yes\",\"Future scope\",2,8.0,\"No\",7,\"No\",4,\"Other  ( Series/Movies )\",\"Studies/work\",\"About Faculty\",\"Sharing feelings with someone\",\"Boring\",\"Yes\"],[\"25-08-2022 21:00\",\"Male\",19,\"CSE\",\"Yes\",\"Interested\",3,8.0,\"No\",4,\"No\",3,\"Other  ( Series/Movies )\",\"Thinking about future\",\"No sleep\",\"Being calm or Being alone\",\"Boring\",\"Yes\"],[\"25-08-2022 21:01\",\"Male\",19,\"CSE\",\"Yes\",\"Interested\",3,8.1,\"No\",3,\"No\",10,\"Social Media\",\"Studies/work\",\"During exams\",\"Anime\",\"Happy\",\"Yes\"],[\"25-08-2022 21:01\",\"Male\",18,\"CSE\",\"No\",\"Interested\",3,7.87,\"No\",8,\"No\",4,\"Social Media\",\"Health\",\"About Food\",\"Listen's Music\",\"Happy\",\"No\"],[\"25-08-2022 21:01\",\"Male\",18,\"CSE\",\"Yes\",\"Future scope\",3,7.5,\"Yes\",8,\"No\",2,\"Social Media\",\"Family\",\"About Money\",\"Listen's Music\",\"Boring\",\"No\"],[\"25-08-2022 21:01\",\"Male\",18,\"CSE\",\"Yes\",\"Future scope\",3,8.13,\"No\",3,\"No\",2,\"Social Media\",\"Studies/work\",\"About Money\",\"Listen's Music\",\"Happy, Boring\",\"No\"],[\"25-08-2022 21:01\",\"Female\",18,\"FOODTECH\",\"Yes\",\"Interested\",3,8.8,\"Yes\",3,\"Yes\",4,\"Social Media\",\"Studies/work\",\"During exams\",\"Listen's Music\",\"Boring\",\"No\"],[\"25-08-2022 21:02\",\"Male\",18,\"CSE\",\"Yes\",\"Interested\",3,7.8,\"Yes\",7,\"No\",5,\"Social Media\",\"Thinking about future\",\"Threaten\",\"Travelling\",\"Stressed\",\"No\"],[\"25-08-2022 21:02\",\"Female\",18,\"CSE\",\"Yes\",\"Interested\",2,8.0,\"Yes\",8,\"No\",3,\"Social Media\",\"Thinking about future\",\"During exams\",\"Listen's Music\",\"Boring\",\"No\"],[\"25-08-2022 21:03\",\"Female\",18,\"CSE\",\"No\",\"All are choosing so I also chosen\",2,9.09,\"No\",4,\"No\",5,\"Other  ( Series/Movies )\",\"Studies/work\",\"During exams\",\"Being calm or Being alone\",\"Boring\",\"No\"],[\"25-08-2022 21:03\",\"Male\",18,\"CSE\",\"Yes\",\"Interested\",3,7.8,\"Yes\",7,\"Yes\",2,\"Studies\",\"Studies/work\",\"During exams\",\"Listen's Music\",\"Boring\",\"Yes\"],[\"25-08-2022 21:03\",\"Male\",18,\"CSE\",\"Yes\",\"Interested\",3,7.9,\"Yes\",7,\"No\",5,\"Social Media\",\"Thinking about future\",\"About Money\",\"Travelling\",\"Boring\",\"Yes\"],[\"25-08-2022 21:03\",\"Female\",18,\"CSE\",\"Yes\",\"Interested\",3,7.67,\"Yes\",7,\"Yes\",4,\"Other  ( Series/Movies )\",\"Health\",\"No sleep\",\"Sleeping\",\"Happy\",\"No\"],[\"25-08-2022 21:04\",\"Female\",18,\"CSE\",\"Yes\",\"Future scope\",2,8.0,\"No\",3,\"No\",8,\"Social Media\",\"Studies/work\",\"During exams\",\"Listen's Music\",\"Boring\",\"No\"],[\"25-08-2022 21:04\",\"Male\",18,\"CSE\",\"Yes\",\"Interested\",3,7.83,\"Yes\",2,\"No\",7,\"Other  ( Series/Movies )\",\"Thinking about future\",\"During exams\",\"Listen's Music\",\"Boring\",\"No\"],[\"25-08-2022 21:04\",\"Female\",18,\"BIOTECH\",\"Yes\",\"Interested\",3,8.0,\"Yes\",6,\"Yes\",2,\"Social Media\",\"Thinking about future\",\"During exams\",\"Listen's Music\",\"Boring\",\"No\"],[\"25-08-2022 21:04\",\"Female\",18,\"CSE\",\"Yes\",\"Interested\",3,7.0,\"Yes\",6,\"Yes\",5,\"Social Media\",\"Thinking about future\",\"About Money\",\"Listen's Music\",\"Depressed\",\"No\"],[\"25-08-2022 21:04\",\"Female\",18,\"BIOTECH\",\"No\",\"Due to Family pressure\",3,7.22,\"Yes\",5,\"No\",8,\"Social Media\",\"Thinking about future\",\"During exams\",\"Listen's Music\",\"Boring\",\"No\"],[\"25-08-2022 21:04\",\"Male\",18,\"CSE\",\"Yes\",\"Due to Family pressure\",3,7.5,\"Yes\",9,\"Yes\",5,\"Studies\",\"None\",\"About Love\",\"Travelling\",\"Happy\",\"Yes\"],[\"25-08-2022 21:05\",\"Male\",18,\"IT\",\"No\",\"All are choosing so I also chosen\",4,8.0,\"Yes\",6,\"No\",10,\"Studies\",\"Thinking about future\",\"About Money\",\"Being calm or Being alone\",\"Stressed, Happy, Boring\",\"No\"],[\"25-08-2022 21:05\",\"Female\",18,\"BIOTECH\",\"Yes\",\"Interested\",3,7.58,\"Yes\",7,\"Yes\",5,\"Social Media\",\"Thinking about future\",\"During exams\",\"Listen's Music\",\"Boring\",\"No\"],[\"25-08-2022 21:05\",\"Male\",18,\"CSE\",\"No\",\"Future scope\",2,8.0,\"No\",8,\"No\",4,\"Social Media\",\"Health\",\"No sleep\",\"Being calm or Being alone\",\"Boring\",\"No\"],[\"25-08-2022 21:05\",\"Male\",18,\"CSE\",\"Yes\",\"Future scope\",3,9.0,\"Yes\",8,\"No\",10,\"Social Media\",\"Thinking about future\",\"About Food\",\"Being calm or Being alone\",\"Happy, Boring\",\"No\"],[\"25-08-2022 21:05\",\"Female\",19,\"CSE\",\"Yes\",\"Future scope\",2,8.0,\"No\",5,\"No\",4,\"Social Media\",\"Studies/work\",\"During exams\",\"Listen's Music\",\"Boring\",\"No\"],[\"25-08-2022 21:05\",\"Male\",19,\"CSE\",\"Yes\",\"Future scope\",3,9.11,\"No\",5,\"No\",5,\"Other  ( Series/Movies )\",\"Hostel life \",\"No sleep\",\"Listen's Music\",\"Happy\",\"No\"],[\"25-08-2022 21:06\",\"Male\",19,\"BIOTECH\",\"No\",\"Future scope\",3,7.56,\"Yes\",8,\"No\",5,\"Other  ( Series/Movies )\",\"Studies/work\",\"About Faculty\",\"Doing any physical activity\",\"Happy, Boring\",\"No\"],[\"25-08-2022 21:06\",\"Male\",19,\"CSE\",\"Yes\",\"Future scope\",3,8.84,\"No\",7,\"No\",7,\"Studies\",\"Thinking about future\",\"About Faculty\",\"Doing any physical activity\",\"Happy, Boring\",\"No\"],[\"25-08-2022 21:06\",\"Female\",19,\"CSE\",\"Yes\",\"Interested\",3,8.23,\"No\",4,\"Yes\",4,\"Other  ( Series/Movies )\",\"Studies/work\",\"During exams\",\"Listen's Music\",\"Stressed\",\"No\"],[\"25-08-2022 21:06\",\"Female\",19,\"BIOTECH\",\"Yes\",\"Interested\",3,7.93,\"No\",4,\"No\",3,\"Social Media\",\"Studies/work\",\"During exams\",\"Listen's Music\",\"Depressed, Stressed, Happy\",\"No\"],[\"25-08-2022 21:06\",\"Male\",19,\"CSE\",\"Yes\",\"Interested\",3,7.98,\"No\",4,\"No\",2,\"Other  ( Series/Movies )\",\"Health\",\"About Money\",\"Being calm or Being alone\",\"Depressed\",\"No\"],[\"25-08-2022 21:06\",\"Male\",19,\"CSE\",\"Yes\",\"Future scope\",2,0.0,\"Yes\",8,\"Yes\",2,\"Social Media\",\"Thinking about future\",\"About Money\",\"Listen's Music\",\"Boring\",\"Yes\"],[\"25-08-2022 21:07\",\"Female\",19,\"BIOTECH\",\"Yes\",\"Future scope\",3,8.0,\"Yes\",9,\"No\",2,\"Other  ( Series/Movies )\",\"Thinking about future\",\"During exams\",\"Being calm or Being alone\",\"Depressed\",\"No\"],[\"25-08-2022 21:07\",\"Male\",19,\"CSE\",\"Yes\",\"Due to Family pressure\",3,7.89,\"Yes\",8,\"No\",5,\"Social Media\",\"Thinking about future\",\"About Money\",\"Listen's Music\",\"Happy\",\"No\"],[\"25-08-2022 21:08\",\"Female\",19,\"CSE\",\"Yes\",\"Future scope\",3,7.68,\"Yes\",8,\"No\",4,\"Other  ( Series/Movies )\",\"Thinking about future\",\"During exams\",\"Listen's Music\",\"Depressed, Stressed, Boring\",\"No\"],[\"25-08-2022 21:09\",\"Female\",19,\"CSE\",\"No\",\"Future scope\",3,8.51,\"Yes\",5,\"No\",4,\"Social Media\",\"Studies/work\",\"During exams\",\"Listen's Music\",\"Boring\",\"No\"],[\"25-08-2022 21:09\",\"Female\",19,\"IT\",\"No\",\"Future scope\",2,8.94,\"No\",8,\"No\",5,\"Social Media\",\"All of the above\",\"About Money\",\"Sharing feelings with someone\",\"Depressed\",\"No\"],[\"25-08-2022 21:10\",\"Female\",19,\"CSE\",\"Yes\",\"Interested\",3,7.6,\"No\",5,\"Yes\",10,\"Other  ( Series/Movies )\",\"Studies/work\",\"No sleep\",\"Meditation\",\"Happy\",\"No\"],[\"25-08-2022 21:10\",\"Male\",19,\"CSE\",\"Yes\",\"All are choosing so I also chosen\",3,7.5,\"Yes\",5,\"Yes\",4,\"Social Media\",\"Thinking about future\",\"About Love\",\"Doing any physical activity\",\"Happy\",\"No\"],[\"25-08-2022 21:11\",\"Male\",19,\"CSE\",\"No\",\"Future scope\",2,8.26,\"No\",8,\"No\",5,\"Studies\",\"Studies/work\",\"During exams\",\"Listen's Music\",\"Stressed\",\"No\"],[\"25-08-2022 21:11\",\"Male\",19,\"CSE\",\"No\",\"Interested\",3,6.19,\"No\",8,\"No\",5,\"Other  ( Series/Movies )\",\"Family\",\"About Money\",\"Being calm or Being alone\",\"Happy\",\"Yes\"],[\"25-08-2022 21:11\",\"Male\",19,\"CSE\",\"Yes\",\"Future scope\",3,8.53,\"Yes\",9,\"Yes\",4,\"Social Media\",\"Family\",\"About Money\",\"Listen's Music\",\"Depressed, Stressed\",\"No\"],[\"25-08-2022 21:11\",\"Male\",19,\"CSE\",\"Yes\",\"Future scope\",3,0.0,\"No\",8,\"No\",8,\"Other  ( Series/Movies )\",\"Studies/work\",\"During exams\",\"Travelling\",\"Stressed\",\"No\"],[\"25-08-2022 21:11\",\"Female\",19,\"CSE\",\"Yes\",\"Future scope\",3,8.0,\"Yes\",7,\"Yes\",4,\"Social Media\",\"Thinking about future\",\"During exams\",\"Sharing feelings with someone\",\"Happy\",\"No\"],[\"25-08-2022 21:12\",\"Male\",17,\"CSE\",\"Yes\",\"Interested\",3,8.21,\"Yes\",7,\"No\",4,\"Social Media\",\"Thinking about future\",\"During exams\",\"Listen's Music\",\"Stressed, Boring\",\"No\"],[\"25-08-2022 21:13\",\"Male\",20,\"CSE\",\"Yes\",\"Interested\",3,7.79,\"Yes\",4,\"No\",5,\"Other  ( Series/Movies )\",\"Thinking about future\",\"No sleep\",\"Being calm or Being alone\",\"Boring\",\"No\"],[\"25-08-2022 21:13\",\"Female\",20,\"CSE\",\"Yes\",\"Future scope\",3,7.05,\"Yes\",7,\"Yes\",4,\"Studies\",\"Studies/work\",\"During exams\",\"Listen's Music\",\"Depressed, Stressed, Boring\",\"Yes\"],[\"25-08-2022 21:13\",\"Male\",20,\"CSE\",\"Yes\",\"Future scope\",3,8.29,\"Yes\",6,\"No\",2,\"Social Media\",\"Thinking about future\",\"During exams\",\"Sharing feelings with someone\",\"Boring\",\"No\"],[\"25-08-2022 21:14\",\"Male\",20,\"CSE\",\"Yes\",\"Interested\",2,8.02,\"Yes\",6,\"No\",4,\"Social Media\",\"Studies/work\",\"During exams\",\"Sharing feelings with someone\",\"Happy\",\"No\"],[\"25-08-2022 21:14\",\"Female\",20,\"CSE\",\"Yes\",\"Interested\",3,8.01,\"No\",7,\"No\",7,\"Social Media\",\"Family\",\"About Food\",\"Being calm or Being alone\",\"Happy\",\"No\"],[\"25-08-2022 21:14\",\"Male\",20,\"CSE\",\"No\",\"Future scope\",3,8.21,\"Yes\",4,\"No\",8,\"Other  ( Series/Movies )\",\"Thinking about future\",\"During exams\",\"Sharing feelings with someone\",\"Depressed\",\"No\"],[\"25-08-2022 21:14\",\"Female\",20,\"CSE\",\"Yes\",\"Future scope\",2,8.2,\"No\",8,\"No\",5,\"Studies\",\"Studies/work\",\"During exams\",\"Listen's Music\",\"Boring\",\"No\"],[\"25-08-2022 21:15\",\"Male\",20,\"CSE\",\"Yes\",\"Future scope\",3,9.0,\"Yes\",10,\"Yes\",5,\"Social Media\",\"Thinking about future\",\"About Money\",\"Doing any physical activity\",\"Boring\",\"No\"],[\"25-08-2022 21:15\",\"Male\",20,\"IT\",\"Yes\",\"Interested\",2,6.09,\"Yes\",5,\"Yes\",3,\"Social Media\",\"Family\",\"During exams\",\"Listen's Music\",\"Boring\",\"Yes\"],[\"25-08-2022 21:16\",\"Female\",20,\"CSE\",\"No\",\"Future scope\",3,8.48,\"No\",5,\"No\",4,\"Other  ( Series/Movies )\",\"Thinking about future\",\"During exams\",\"Listen's Music\",\"Boring\",\"No\"],[\"25-08-2022 21:16\",\"Male\",20,\"EEE\",\"Yes\",\"Future scope\",4,7.9,\"Yes\",8,\"No\",5,\"Video games\",\"Health\",\"About Food\",\"Being calm or Being alone\",\"Happy\",\"Yes\"],[\"25-08-2022 21:17\",\"Female\",20,\"CSE\",\"Yes\",\"Interested\",2,9.16,\"Yes\",4,\"No\",4,\"Studies\",\"Health\",\"About Food\",\"Listening music n being alone \",\"Boring\",\"Yes\"],[\"25-08-2022 21:17\",\"Male\",20,\"CSE\",\"Yes\",\"Interested\",2,7.04,\"Yes\",4,\"Yes\",5,\"Other  ( Series/Movies )\",\"Thinking about future\",\"About Love\",\"Listen's Music\",\"Boring\",\"Yes\"],[\"25-08-2022 21:17\",\"Female\",20,\"CSE\",\"No\",\"Interested\",2,9.25,\"No\",5,\"No\",8,\"Studies\",\"Studies/work\",\"About Faculty\",\"Sharing feelings with someone\",\"Depressed\",\"No\"],[\"25-08-2022 21:17\",\"Male\",20,\"CSE \",\"Yes\",\"Interested\",3,7.01,\"No\",8,\"Yes\",5,\"Social Media\",\"All \",\"About Money\",\"Sharing feelings with someone\",\"Boring\",\"No\"],[\"25-08-2022 21:18\",\"Female\",20,\"CSE\",\"Yes\",\"Future scope\",3,7.0,\"Yes\",7,\"No\",4,\"Social Media\",\"Thinking about future\",\"During exams\",\"Listen's Music\",\"Happy\",\"Yes\"],[\"25-08-2022 21:18\",\"Male\",20,\"CSE\",\"No\",\"Due to Family pressure\",2,8.0,\"No\",4,\"No\",8,\"Social Media\",\"Thinking about future\",\"About Love\",\"Doing any physical activity\",\"Depressed\",\"No\"],[\"25-08-2022 21:18\",\"Male\",20,\"CSE\",\"Yes\",\"Future scope\",3,8.2,\"Yes\",7,\"Yes\",8,\"Studies\",\"Thinking about future\",\"During exams\",\"Listen's Music\",\"Boring\",\"No\"],[\"25-08-2022 21:18\",\"Male\",20,\"CSE\",\"Yes\",\"Interested\",2,8.75,\"Yes\",9,\"No\",5,\"Social Media\",\"Thinking about future\",\"During exams\",\"Listen's Music\",\"Boring\",\"No\"],[\"25-08-2022 21:18\",\"Female\",20,\"CSE\",\"Yes\",\"Future scope\",3,8.4,\"Yes\",5,\"Yes\",8,\"Social Media\",\"Thinking about future\",\"During exams\",\"Sharing feelings with someone\",\"Stressed, Boring\",\"No\"],[\"25-08-2022 21:19\",\"Female\",20,\"CSE\",\"No\",\"Future scope\",2,9.0,\"Yes\",5,\"No\",2,\"Studies\",\"Thinking about future\",\"About Money\",\"Listen's Music\",\"Boring\",\"Yes\"],[\"25-08-2022 21:19\",\"Female\",20,\"CSE\",\"Yes\",\"Future scope\",2,8.7,\"No\",7,\"No\",3,\"Other  ( Series/Movies )\",\"Studies/work\",\"About Money\",\"Travelling\",\"Boring\",\"No\"],[\"25-08-2022 21:20\",\"Female\",20,\"CSE\",\"Yes\",\"Interested\",3,8.05,\"Yes\",7,\"Yes\",2,\"Other  ( Series/Movies )\",\"Family\",\"About Faculty\",\"Listen's Music\",\"Stressed\",\"Yes\"],[\"25-08-2022 21:20\",\"Female\",16,\"CSE\",\"No\",\"Due to Family pressure\",2,9.0,\"No\",8,\"No\",4,\"Social Media\",\"Studies/work\",\"About Faculty\",\"Travelling\",\"Happy\",\"No\"],[\"25-08-2022 21:20\",\"Female\",22,\"CSE\",\"Yes\",\"Interested\",4,8.3,\"Yes\",10,\"No\",8,\"Other  ( Series/Movies )\",\"Thinking about future\",\"About Money\",\"Being calm or Being alone\",\"Boring\",\"No\"],[\"25-08-2022 21:21\",\"Male\",20,\"CSE\",\"Yes\",\"Future scope\",2,7.82,\"Yes\",6,\"No\",2,\"Studies\",\"Studies/work\",\"During exams\",\"Travelling\",\"Boring\",\"No\"],[\"25-08-2022 21:21\",\"Male\",20,\"CSE\",\"Yes\",\"Interested\",2,8.0,\"Yes\",7,\"No\",2,\"Other  ( Series/Movies )\",\"Studies/work\",\"During exams\",\"Listen's Music\",\"Boring\",\"Yes\"],[\"25-08-2022 21:21\",\"Male\",20,\"CSE\",\"Yes\",\"Interested\",3,9.0,\"No\",8,\"No\",3,\"Social Media\",\"Family\",\"About Faculty\",\"Being calm or Being alone\",\"Happy, Boring\",\"Yes\"],[\"25-08-2022 21:21\",\"Female\",20,\"CSE\",\"Yes\",\"Future scope\",2,9.1,\"Yes\",8,\"No\",6,\"Studies\",\"Health\",\"About Money\",\"Being calm or Being alone\",\"Depressed, Boring\",\"No\"],[\"25-08-2022 21:21\",\"Female\",20,\"CSE\",\"Yes\",\"Interested\",2,8.5,\"No\",8,\"No\",6,\"Studies\",\"Studies/work\",\"About Money\",\"Sharing feelings with someone\",\"Stressed\",\"No\"],[\"25-08-2022 21:21\",\"Male\",20,\"CSE\",\"Yes\",\"All are choosing so I also chosen\",2,9.0,\"Yes\",8,\"No\",4,\"Other  ( Series/Movies )\",\"Studies/work\",\"About Food\",\"Being calm or Being alone\",\"Happy\",\"No\"],[\"25-08-2022 21:22\",\"Male\",20,\"CSE\",\"Yes\",\"Interested\",3,8.44,\"Yes\",8,\"Yes\",10,\"Video games\",\"Studies/work\",\"During exams\",\"Sharing feelings with someone\",\"Stressed\",\"No\"],[\"25-08-2022 21:22\",\"Male\",20,\"CSE\",\"Yes\",\"Future scope\",2,9.01,\"No\",8,\"No\",3,\"Studies\",\"Studies/work\",\"About Faculty\",\"Travelling\",\"Depressed, Happy, Boring\",\"No\"],[\"25-08-2022 21:22\",\"Female\",20,\"CSE\",\"Yes\",\"Future scope\",2,9.11,\"No\",8,\"No\",6,\"Studies\",\"Studies/work\",\"During exams\",\"Listen's Music\",\"Boring\",\"No\"],[\"25-08-2022 21:22\",\"Female\",20,\"CSE\",\"Yes\",\"Future scope\",3,8.62,\"Yes\",8,\"No\",4,\"Social Media\",\"Thinking about future\",\"During exams\",\"Listen's Music\",\"Boring\",\"No\"],[\"25-08-2022 21:23\",\"Female\",20,\"BIOTECH\",\"Yes\",\"Interested\",3,7.55,\"No\",8,\"No\",6,\"Other  ( Series/Movies )\",\"Thinking about future\",\"About Food\",\"Sharing feelings with someone\",\"Boring\",\"No\"],[\"25-08-2022 21:23\",\"Male\",20,\"CSE\",\"No\",\"All are choosing so I also chosen\",2,7.0,\"No\",8,\"No\",8,\"Social Media\",\"Studies/work\",\"About Money\",\"Sharing feelings with someone\",\"Boring\",\"No\"],[\"25-08-2022 21:23\",\"Male\",20,\"CSE\",\"Yes\",\"Due to Family pressure\",3,8.02,\"No\",8,\"No\",10,\"Studies\",\"Studies/work\",\"During exams\",\"Listen's Music\",\"Happy\",\"No\"],[\"25-08-2022 21:23\",\"Female\",20,\"CSE\",\"Yes\",\"Future scope\",3,0.0,\"No\",8,\"Yes\",2,\"Social Media\",\"Thinking about future\",\"No sleep\",\"Being calm or Being alone\",\"Boring\",\"No\"],[\"25-08-2022 21:23\",\"Female\",20,\"CSE\",\"Yes\",\"Interested\",3,7.7,\"Yes\",8,\"Yes\",3,\"Studies\",\"Health\",\"No sleep\",\"Listen's Music\",\"Boring\",\"Yes\"],[\"25-08-2022 21:23\",\"Male\",20,\"CSE\",\"Yes\",\"Future scope\",2,8.0,\"Yes\",8,\"No\",5,\"Social Media\",\"Thinking about future\",\"During exams\",\"Listen's Music\",\"Boring\",\"No\"],[\"25-08-2022 21:23\",\"Male\",20,\"CSE\",\"No\",\"Interested\",3,7.0,\"No\",8,\"No\",4,\"Studies\",\"Studies/work\",\"About Faculty\",\"Listen's Music\",\"Happy\",\"No\"],[\"25-08-2022 21:24\",\"Female\",20,\"CSE\",\"Yes\",\"Due to Family pressure\",2,8.87,\"No\",8,\"No\",2,\"Studies\",\"Thinking about future\",\"About Money\",\"Meditation\",\"Boring\",\"No\"],[\"25-08-2022 21:24\",\"Male\",20,\"CSE \",\"Yes\",\"Future scope\",3,7.93,\"Yes\",8,\"Yes\",5,\"Social Media\",\"Studies/work\",\"During exams\",\"Listen's Music\",\"Boring\",\"No\"],[\"25-08-2022 21:24\",\"Female\",20,\"CSE\",\"Yes\",\"Future scope\",2,8.39,\"Yes\",8,\"No\",4,\"Social Media\",\"Health\",\"About Food\",\"Listen's Music\",\"Happy\",\"No\"],[\"25-08-2022 21:24\",\"Female\",20,\"CSE\",\"Yes\",\"Future scope\",3,7.2,\"Yes\",8,\"Yes\",5,\"Other  ( Series/Movies )\",\"Thinking about future\",\"During exams\",\"Listen's Music\",\"Boring\",\"No\"],[\"25-08-2022 21:25\",\"Male\",17,\"CSE\",\"Yes\",\"Interested\",2,9.1,\"Yes\",5,\"Yes\",8,\"Social Media\",\"Thinking about future\",\"About Love\",\"Listen's Music\",\"Stressed\",\"No\"],[\"25-08-2022 21:25\",\"Female\",19,\"CSE\",\"Yes\",\"Future scope\",2,8.0,\"No\",5,\"No\",2,\"Studies\",\"Studies/work\",\"About Faculty\",\"Travelling\",\"Happy\",\"No\"],[\"25-08-2022 21:25\",\"Male\",19,\"CSE \",\"No\",\"Future scope\",3,7.56,\"Yes\",5,\"No\",8,\"Other  ( Series/Movies )\",\"Thinking about future\",\"About Faculty\",\"Listen's Music\",\"Happy\",\"No\"],[\"25-08-2022 21:25\",\"Female\",19,\"CSE\",\"Yes\",\"Due to Family pressure\",3,7.02,\"Yes\",5,\"Yes\",5,\"Social Media\",\"Thinking about future\",\"During exams\",\"Listen's Music\",\"Boring\",\"No\"],[\"25-08-2022 21:25\",\"Male\",19,\"CIVIL \",\"Yes\",\"Due to Family pressure\",3,8.0,\"No\",5,\"Yes\",4,\"Social Media\",\"Thinking about future\",\"During exams\",\"Sharing feelings with someone\",\"Boring\",\"No\"],[\"25-08-2022 21:26\",\"Male\",19,\"CSE\",\"No\",\"Due to Family pressure\",3,8.3,\"No\",5,\"No\",5,\"Social Media\",\"Thinking about future\",\"About Love\",\"Sharing feelings with someone\",\"Boring\",\"No\"],[\"25-08-2022 21:26\",\"Male\",19,\"CSE\",\"Yes\",\"Future scope\",2,7.4,\"No\",5,\"No\",5,\"Social Media\",\"Studies/work\",\"During exams\",\"Sharing feelings with someone\",\"Happy\",\"No\"],[\"25-08-2022 21:26\",\"Male\",19,\"CSE\",\"Yes\",\"Future scope\",3,7.89,\"No\",5,\"No\",10,\"Other  ( Series/Movies )\",\"Thinking about future\",\"No sleep\",\"Sharing feelings with someone\",\"Boring\",\"Yes\"],[\"25-08-2022 21:26\",\"Female\",19,\"CSE\",\"Yes\",\"Future scope\",3,7.13,\"No\",5,\"No\",4,\"Other  ( Series/Movies )\",\"Thinking about future\",\"No sleep\",\"Sharing feelings with someone\",\"Boring\",\"No\"],[\"25-08-2022 21:27\",\"Male\",19,\"CSE\",\"No\",\"All are choosing so I also chosen\",3,0.0,\"No\",5,\"No\",10,\"Video games\",\"Thinking about future\",\"About Faculty\",\"Travelling\",\"Boring\",\"No\"],[\"25-08-2022 21:28\",\"Female\",19,\"CSE\",\"Yes\",\"Future scope\",2,8.68,\"No\",5,\"No\",5,\"Studies\",\"Studies/work\",\"During exams\",\"Listen's Music\",\"Boring\",\"No\"],[\"25-08-2022 21:28\",\"Female\",19,\"CSE\",\"Yes\",\"Future scope\",2,7.78,\"Yes\",5,\"No\",4,\"Studies\",\"Tasty food is not there\",\"About Food\",\"Listen's Music\",\"Boring\",\"No\"],[\"25-08-2022 21:28\",\"Female\",19,\"CSE\",\"Yes\",\"Future scope\",2,8.09,\"No\",5,\"No\",4,\"Studies\",\"Tasty food is not there \",\"About Food\",\"Listen's Music\",\"Boring\",\"No\"],[\"25-08-2022 21:29\",\"Female\",19,\"CSE\",\"Yes\",\"Interested\",3,8.7,\"Yes\",5,\"No\",8,\"Other  ( Series/Movies )\",\"Health\",\"Threaten\",\"Listen's Music\",\"Boring\",\"Yes\"],[\"25-08-2022 21:29\",\"Male\",19,\"CSE\",\"Yes\",\"Future scope\",2,8.5,\"Yes\",5,\"Yes\",5,\"Studies\",\"Studies/work\",\"During exams\",\"Listen's Music\",\"Happy\",\"No\"],[\"25-08-2022 21:29\",\"Female\",19,\"CSE\",\"No\",\"Due to Family pressure\",3,8.56,\"No\",5,\"No\",4,\"Social Media\",\"Studies/work\",\"During exams\",\"Listen's Music\",\"Depressed\",\"No\"],[\"25-08-2022 21:29\",\"Female\",19,\"CSE\",\"Yes\",\"Future scope\",2,0.0,\"No\",5,\"No\",9,\"Studies\",\"Thinking about future\",\"About Money\",\"Listen's Music\",\"Happy, Boring\",\"No\"],[\"25-08-2022 21:29\",\"Female\",19,\"CSE\",\"Yes\",\"Interested\",2,8.2,\"Yes\",8,\"No\",5,\"Social Media\",\"Thinking about future\",\"During exams\",\"Being calm or Being alone\",\"Depressed\",\"Yes\"],[\"25-08-2022 21:29\",\"Male\",19,\"CSE\",\"Yes\",\"Future scope\",3,8.3,\"No\",8,\"No\",4,\"Social Media\",\"Studies/work\",\"During exams\",\"Listen's Music\",\"Boring\",\"No\"],[\"25-08-2022 21:29\",\"Male\",19,\"CSE\",\"Yes\",\"Interested\",3,8.57,\"No\",6,\"No\",4,\"Studies\",\"Thinking about future\",\"About Money\",\"Listen's Music\",\"Depressed, Stressed, Boring\",\"Yes\"],[\"25-08-2022 21:30\",\"Male\",19,\"CSE\",\"Yes\",\"Interested\",3,8.1,\"Yes\",8,\"No\",3,\"Social Media\",\"Thinking about future\",\"During exams\",\"Listen's Music\",\"Happy\",\"No\"],[\"25-08-2022 21:30\",\"Female\",19,\"BARCH\",\"Yes\",\"Interested\",3,0.0,\"No\",7,\"No\",5,\"Social Media\",\"Thinking about future\",\"About Money\",\"Sharing feelings with someone\",\"Boring\",\"No\"],[\"25-08-2022 21:30\",\"Female\",19,\"CSE\",\"Yes\",\"Future scope\",3,8.0,\"Yes\",7,\"Yes\",6,\"Other  ( Series/Movies )\",\"Thinking about future\",\"About Money\",\"Listen's Music\",\"Stressed\",\"No\"],[\"25-08-2022 21:30\",\"Male\",20,\"CSE\",\"Yes\",\"Interested\",3,7.6,\"Yes\",7,\"Yes\",2,\"Studies\",\"Studies/work\",\"During exams\",\"Doing any physical activity\",\"Boring\",\"No\"],[\"25-08-2022 21:30\",\"Male\",20,\"FOODTECH\",\"Yes\",\"Future scope\",3,7.0,\"No\",4,\"Yes\",6,\"Video games\",\"Studies/work\",\"No sleep\",\"Doing any physical activity\",\"Boring\",\"Yes\"],[\"25-08-2022 21:30\",\"Male\",20,\"CSE\",\"Yes\",\"Future scope\",3,7.4,\"No\",4,\"No\",5,\"Studies\",\"Studies/work\",\"About Money\",\"Listen's Music\",\"Depressed\",\"No\"],[\"25-08-2022 21:31\",\"Male\",20,\"CSE\",\"Yes\",\"Interested\",2,9.0,\"Yes\",8,\"No\",2,\"Studies\",\"Studies/work\",\"About Faculty\",\"Listen's Music\",\"Stressed, Boring\",\"Yes\"],[\"25-08-2022 21:31\",\"Female\",20,\"CSE\",\"Yes\",\"Interested\",3,8.99,\"Yes\",7,\"Yes\",2,\"Other  ( Series/Movies )\",\"Thinking about future\",\"During exams\",\"Sharing feelings with someone\",\"Happy, Boring\",\"Yes\"],[\"25-08-2022 21:31\",\"Male\",20,\"IT\",\"No\",\"Future scope\",2,7.75,\"No\",7,\"No\",5,\"Social Media\",\"Thinking about future\",\"During exams\",\"Listen's Music\",\"Boring\",\"No\"],[\"25-08-2022 21:32\",\"Male\",20,\"CSE \",\"Yes\",\"Due to Family pressure\",3,8.45,\"Yes\",7,\"No\",4,\"Social Media\",\"Thinking about future\",\"About Food\",\"Listen's Music\",\"Depressed, Boring\",\"Yes\"],[\"25-08-2022 21:32\",\"Female\",20,\"CSE\",\"Yes\",\"Future scope\",3,9.64,\"Yes\",7,\"No\",6,\"Social Media\",\"Thinking about future\",\"During exams\",\"Listen's Music\",\"Boring\",\"No\"],[\"25-08-2022 21:33\",\"Male\",20,\"CSE\",\"Yes\",\"All are choosing so I also chosen\",3,8.0,\"No\",7,\"No\",2,\"Other  ( Series/Movies )\",\"Thinking about future\",\"No sleep\",\"Listen's Music\",\"Boring\",\"No\"],[\"25-08-2022 21:33\",\"Male\",20,\"CSE\",\"No\",\"Interested\",2,7.0,\"No\",7,\"No\",2,\"Studies\",\"Studies/work\",\"About Faculty\",\"Being calm or Being alone\",\"Happy\",\"Yes\"],[\"25-08-2022 21:33\",\"Female\",20,\"FOODTECH\",\"Yes\",\"Interested\",3,7.74,\"Yes\",7,\"Yes\",5,\"Social Media\",\"Thinking about future\",\"During exams\",\"Sharing feelings with someone\",\"Happy, Boring\",\"Yes\"],[\"25-08-2022 21:33\",\"Male\",20,\"CSE\",\"Yes\",\"Future scope\",2,8.16,\"Yes\",7,\"No\",4,\"Studies\",\"Studies/work\",\"About Faculty\",\"Travelling\",\"Boring\",\"Yes\"],[\"25-08-2022 21:33\",\"Male\",20,\"CSE \",\"No\",\"Future scope\",3,7.8,\"No\",7,\"No\",6,\"Other  ( Series/Movies )\",\"Thinking about future\",\"During exams\",\"Listen's Music\",\"Boring\",\"No\"],[\"25-08-2022 21:33\",\"Female\",20,\"CSE\",\"No\",\"Due to Family pressure\",2,6.78,\"No\",7,\"No\",6,\"Studies\",\"Family and studies\",\"During exams\",\"Listen's Music\",\"Boring\",\"No\"],[\"25-08-2022 21:33\",\"Male\",20,\"CSE\",\"Yes\",\"Future scope\",2,8.2,\"Yes\",7,\"Yes\",8,\"Other  ( Series/Movies )\",\"Studies/work\",\"During exams\",\"Being calm or Being alone\",\"Boring\",\"Yes\"],[\"25-08-2022 21:34\",\"Female\",20,\"FOODTECH\",\"Yes\",\"Future scope\",3,9.17,\"Yes\",7,\"Yes\",2,\"Studies\",\"Studies/work\",\"During exams\",\"Listen's Music\",\"Boring\",\"No\"],[\"25-08-2022 21:35\",\"Female\",20,\"CSE\",\"Yes\",\"Interested\",3,8.78,\"Yes\",7,\"Yes\",2,\"Social Media\",\"Thinking about future\",\"During exams\",\"Sharing feelings with someone\",\"Stressed, Happy\",\"No\"],[\"25-08-2022 21:35\",\"Male\",20,\"FOODTECH\",\"Yes\",\"Interested\",3,8.1,\"Yes\",7,\"No\",5,\"Social Media\",\"Thinking about future\",\"During exams\",\"Listen's Music\",\"Boring\",\"No\"],[\"25-08-2022 21:35\",\"Female\",18,\"IT\",\"Yes\",\"Due to Family pressure\",2,6.44,\"No\",4,\"No\",2,\"Studies\",\"Studies/work\",\"During exams\",\"Listen's Music\",\"Depressed\",\"No\"],[\"25-08-2022 21:35\",\"Female\",18,\"CSE\",\"No\",\"Future scope\",3,8.11,\"No\",4,\"No\",5,\"Studies\",\"Thinking about future\",\"About Faculty\",\"Listen's Music\",\"Boring\",\"Yes\"],[\"25-08-2022 21:35\",\"Male\",18,\"CSE\",\"Yes\",\"Interested\",2,0.0,\"No\",4,\"No\",7,\"Studies\",\"Studies/work\",\"During exams\",\"Being calm or Being alone\",\"Happy\",\"No\"],[\"25-08-2022 21:37\",\"Female\",18,\"CSE\",\"Yes\",\"Future scope\",2,0.0,\"Yes\",4,\"No\",10,\"Other  ( Series/Movies )\",\"Thinking about future\",\"During exams\",\"Listen's Music\",\"Boring\",\"No\"],[\"25-08-2022 21:37\",\"Male\",18,\"CSE\",\"Yes\",\"Interested\",3,8.23,\"Yes\",8,\"No\",5,\"Social Media\",\"Thinking about future\",\"During exams\",\"Being calm or Being alone\",\"Happy\",\"No\"],[\"25-08-2022 21:37\",\"Female\",18,\"CSE\",\"Yes\",\"Due to Family pressure\",2,8.0,\"Yes\",8,\"No\",2,\"Studies\",\"Thinking about future\",\"During exams\",\"Travelling\",\"Happy\",\"No\"],[\"25-08-2022 21:38\",\"Female\",18,\"CSE\",\"No\",\"Future scope\",2,8.0,\"No\",8,\"No\",2,\"Studies\",\"Studies/work\",\"During exams\",\"Listen's Music\",\"Boring\",\"No\"],[\"25-08-2022 21:38\",\"Male\",18,\"CSE\",\"Yes\",\"Interested\",3,8.2,\"No\",5,\"No\",2,\"Other  ( Series/Movies )\",\"Thinking about future\",\"During exams\",\"Doing any physical activity\",\"Happy\",\"No\"],[\"25-08-2022 21:39\",\"Male\",18,\"CSE\",\"Yes\",\"Future scope\",3,7.31,\"Yes\",7,\"No\",6,\"Social Media\",\"Studies/work\",\"During exams\",\"Listen's Music\",\"Stressed\",\"No\"],[\"25-08-2022 21:39\",\"Female\",18,\"CSE\",\"Yes\",\"Due to Family pressure\",2,8.0,\"No\",7,\"No\",2,\"Studies\",\"Thinking about future\",\"During exams\",\"Travelling\",\"Happy, Boring\",\"No\"],[\"25-08-2022 21:39\",\"Male\",18,\"FOODTECH\",\"Yes\",\"Interested\",3,6.5,\"No\",5,\"No\",5,\"Video games\",\"Studies/work\",\"During exams\",\"Sharing feelings with someone\",\"Happy\",\"No\"],[\"25-08-2022 21:40\",\"Male\",18,\"CSE\",\"Yes\",\"Interested\",3,7.83,\"No\",4,\"No\",8,\"Other  ( Series/Movies )\",\"Stress \",\"About Love\",\"Sharing feelings with someone\",\"Happy\",\"Yes\"],[\"25-08-2022 21:40\",\"Male\",18,\"CSE\",\"Yes\",\"Interested\",2,8.3,\"Yes\",10,\"No\",5,\"Social Media\",\"Thinking about future\",\"About Money\",\"Travelling\",\"Depressed\",\"No\"],[\"25-08-2022 21:40\",\"Male\",18,\"CSE\",\"Yes\",\"Future scope\",2,7.0,\"Yes\",8,\"Yes\",3,\"Social Media\",\"Thinking about future\",\"During exams\",\"Listen's Music\",\"Stressed\",\"Yes\"],[\"25-08-2022 21:40\",\"Male\",18,\"CSE\",\"No\",\"Interested\",3,8.9,\"Yes\",7,\"No\",5,\"Studies\",\"Thinking about future\",\"About Money\",\"Listen's Music\",\"Boring\",\"No\"],[\"25-08-2022 21:41\",\"Male\",18,\"CSE\",\"Yes\",\"Interested\",2,8.14,\"Yes\",7,\"No\",5,\"Studies\",\"Studies/work\",\"About Faculty\",\"Doing any physical activity\",\"Boring\",\"Yes\"],[\"25-08-2022 21:41\",\"Male\",18,\"CSE\",\"Yes\",\"Interested\",2,8.02,\"Yes\",7,\"No\",4,\"Studies\",\"Studies/work\",\"About Faculty\",\"Doing any physical activity\",\"Boring\",\"Yes\"],[\"25-08-2022 21:42\",\"Female\",18,\"CSE \",\"Yes\",\"Future scope\",2,7.98,\"Yes\",7,\"No\",5,\"Social Media\",\"Health\",\"About Food\",\"Listen's Music\",\"Happy\",\"No\"],[\"25-08-2022 21:42\",\"Male\",21,\"CSE\",\"Yes\",\"Interested\",3,8.7,\"No\",5,\"No\",3,\"Social Media\",\"Thinking about future\",\"About Love\",\"Listen's Music\",\"Depressed\",\"No\"],[\"25-08-2022 21:43\",\"Male\",20,\"CSE\",\"No\",\"Interested\",3,0.0,\"No\",5,\"No\",2,\"Studies\",\"Studies/work\",\"No sleep\",\"Being calm or Being alone\",\"Happy\",\"No\"],[\"25-08-2022 21:43\",\"Female\",20,\"CSE\",\"Yes\",\"Interested\",1,0.0,\"No\",5,\"No\",5,\"Other  ( Series/Movies )\",\"Studies/work\",\"No sleep\",\"Listen's Music\",\"Boring\",\"Yes\"],[\"25-08-2022 21:44\",\"Male\",20,\"IT\",\"Yes\",\"Future scope\",2,9.0,\"No\",5,\"Yes\",10,\"Social Media\",\"Family\",\"During exams\",\"Travelling\",\"Boring\",\"No\"],[\"25-08-2022 21:45\",\"Male\",20,\"CSE \",\"Yes\",\"Future scope\",2,8.7,\"No\",5,\"No\",8,\"Social Media\",\"Thinking about future\",\"About Money\",\"Listen's Music\",\"Boring\",\"No\"],[\"25-08-2022 21:45\",\"Female\",20,\"CSE \",\"Yes\",\"Interested\",3,8.8,\"Yes\",6,\"Yes\",5,\"Other  ( Series/Movies )\",\"Studies/work\",\"During exams\",\"Meditation\",\"Boring\",\"No\"],[\"25-08-2022 21:46\",\"Male\",20,\"CSE\",\"Yes\",\"Interested\",2,7.59,\"Yes\",6,\"Yes\",4,\"Social Media\",\"Studies/work\",\"During exams\",\"Sharing feelings with someone\",\"Happy\",\"No\"],[\"25-08-2022 21:47\",\"Male\",20,\"CSE\",\"Yes\",\"Future scope\",2,8.2,\"Yes\",6,\"No\",6,\"Studies\",\"Thinking about future\",\"About Food\",\"Being calm or Being alone\",\"Boring\",\"Yes\"],[\"25-08-2022 21:47\",\"Male\",20,\"CSE\",\"Yes\",\"Interested\",3,7.63,\"Yes\",6,\"Yes\",4,\"Other  ( Series/Movies )\",\"Family\",\"About Money\",\"Listen's Music\",\"Depressed, Stressed, Boring\",\"Yes\"],[\"25-08-2022 21:47\",\"Female\",20,\"BCA\",\"Yes\",\"Interested\",3,8.0,\"Yes\",6,\"Yes\",3,\"Social Media\",\"Health\",\"No sleep\",\"Listen's Music\",\"Happy, Boring\",\"No\"],[\"25-08-2022 21:48\",\"Male\",20,\"MECH\",\"Yes\",\"Interested\",2,8.6,\"Yes\",4,\"Yes\",10,\"Other  ( Series/Movies )\",\"Thinking about future\",\"During exams\",\"Sharing feelings with someone\",\"Happy\",\"No\"],[\"25-08-2022 21:49\",\"Male\",20,\"CSE\",\"Yes\",\"Interested\",2,0.0,\"Yes\",4,\"No\",5,\"Video games\",\"Studies/work\",\"About Love\",\"Sharing feelings with someone\",\"Boring\",\"No\"],[\"25-08-2022 21:49\",\"Male\",20,\"CSE\",\"Yes\",\"Interested\",2,7.0,\"No\",4,\"No\",4,\"Studies\",\"Studies/work\",\"No sleep\",\"Being calm or Being alone\",\"Boring\",\"No\"],[\"25-08-2022 21:49\",\"Female\",20,\"CSE\",\"Yes\",\"Future scope\",2,9.18,\"Yes\",4,\"Yes\",6,\"Social Media\",\"Studies/work\",\"During exams\",\"Listen's Music\",\"Boring\",\"Yes\"],[\"25-08-2022 21:50\",\"Male\",18,\"CSE\",\"Yes\",\"Future scope\",2,9.0,\"No\",4,\"No\",3,\"Studies\",\"Studies/work\",\"During exams\",\"Listen's Music\",\"Boring\",\"No\"],[\"25-08-2022 21:50\",\"Male\",18,\"CSE\",\"Yes\",\"Future scope\",2,8.0,\"No\",4,\"No\",6,\"Studies\",\"Studies/work\",\"During exams\",\"Listen's Music\",\"Boring\",\"No\"],[\"25-08-2022 21:50\",\"Female\",18,\"CSE\",\"No\",\"Interested\",2,8.0,\"Yes\",8,\"No\",3,\"Other  ( Series/Movies )\",\"Studies/work\",\"About Food\",\"Watching something funny\",\"Happy\",\"No\"],[\"25-08-2022 21:50\",\"Female\",18,\"CSE\",\"Yes\",\"Future scope\",3,8.25,\"No\",8,\"Yes\",4,\"Studies\",\"Thinking about future\",\"About Money\",\"Listen's Music\",\"Boring\",\"No\"],[\"25-08-2022 21:51\",\"Male\",18,\"CSE\",\"Yes\",\"Interested\",2,0.0,\"No\",5,\"Yes\",5,\"Studies\",\"Thinking about future\",\"During exams\",\"Doing any physical activity\",\"Happy\",\"No\"],[\"25-08-2022 21:51\",\"Female\",18,\"CSE\",\"No\",\"All are choosing so I also chosen\",2,9.0,\"No\",5,\"No\",6,\"Other  ( Series/Movies )\",\"Studies/work\",\"No sleep\",\"Sharing feelings with someone\",\"Boring\",\"No\"],[\"25-08-2022 21:51\",\"Female\",18,\"CSE\",\"Yes\",\"Interested\",2,8.0,\"No\",5,\"No\",4,\"Other  ( Series/Movies )\",\"Studies/work\",\"No sleep\",\"Listen's Music\",\"Depressed, Stressed, Happy, Boring\",\"No\"],[\"25-08-2022 21:52\",\"Female\",18,\"CSE\",\"Yes\",\"Future scope\",2,7.0,\"No\",5,\"No\",5,\"Other  ( Series/Movies )\",\"Studies/work\",\"No sleep\",\"Listen's Music\",\"Depressed, Stressed, Happy, Boring\",\"No\"],[\"25-08-2022 21:52\",\"Female\",18,\"CSE\",\"No\",\"Future scope\",2,9.36,\"No\",5,\"No\",4,\"Studies\",\"Studies/work\",\"No sleep\",\"Listen's Music\",\"Stressed, Boring\",\"No\"],[\"25-08-2022 21:53\",\"Male\",18,\"CSE\",\"Yes\",\"Interested\",3,6.92,\"No\",5,\"No\",5,\"Studies\",\"Studies/work\",\"During exams\",\"Listen's Music\",\"Boring\",\"Yes\"],[\"25-08-2022 21:53\",\"Male\",18,\"CSE\",\"Yes\",\"Interested\",2,0.0,\"No\",7,\"No\",4,\"Studies\",\"Studies/work\",\"About Faculty\",\"Being calm or Being alone\",\"Depressed, Stressed, Happy, Boring\",\"No\"],[\"25-08-2022 21:53\",\"Male\",18,\"CSE\",\"Yes\",\"Interested\",2,0.0,\"No\",4,\"No\",10,\"Studies\",\"Studies/work\",\"During exams\",\"Sharing feelings with someone\",\"Depressed\",\"No\"],[\"25-08-2022 21:54\",\"Female\",18,\"CSE\",\"Yes\",\"Future scope\",2,9.0,\"No\",4,\"No\",7,\"Other  ( Series/Movies )\",\"Studies/work\",\"No sleep\",\"Being calm or Being alone\",\"Depressed, Stressed, Happy, Boring\",\"No\"],[\"25-08-2022 21:54\",\"Female\",18,\"CSE\",\"No\",\"Future scope\",2,6.67,\"No\",4,\"No\",8,\"Other  ( Series/Movies )\",\"Studies/work\",\"During exams\",\"Listen's Music\",\"Depressed, Stressed, Happy, Boring\",\"No\"],[\"25-08-2022 21:55\",\"Male\",18,\"CSE\",\"Yes\",\"Interested\",3,8.49,\"Yes\",4,\"Yes\",5,\"Social Media\",\"Thinking about future\",\"About Love\",\"Sharing feelings with someone\",\"Happy, Boring\",\"No\"],[\"25-08-2022 21:55\",\"Female\",18,\"CSE\",\"Yes\",\"Interested\",3,7.5,\"No\",4,\"No\",8,\"Other  ( Series/Movies )\",\"Personal life\",\"No sleep\",\"Listen's Music\",\"Stressed\",\"No\"],[\"25-08-2022 21:55\",\"Female\",18,\"CSE\",\"Yes\",\"Interested\",2,8.6,\"No\",4,\"Yes\",2,\"Social Media\",\"Thinking about future\",\"About Money\",\"Talking phone call\",\"Happy\",\"No\"],[\"25-08-2022 21:55\",\"Female\",18,\"CSE\",\"Yes\",\"Future scope\",2,9.26,\"Yes\",6,\"Yes\",2,\"Social Media\",\"Studies/work\",\"No sleep\",\"Listen's Music\",\"Depressed\",\"No\"],[\"25-08-2022 21:56\",\"Male\",18,\"CSE\",\"Yes\",\"Future scope\",2,9.03,\"No\",7,\"No\",2,\"Studies\",\"Thinking about future\",\"About Food\",\"Listen's Music\",\"Stressed, Boring\",\"No\"],[\"25-08-2022 21:56\",\"Male\",18,\"CSE\",\"Yes\",\"Future scope\",2,8.1,\"No\",4,\"No\",5,\"Studies\",\"Studies/work\",\"About Faculty\",\"Sharing feelings with someone\",\"Stressed, Happy\",\"No\"],[\"25-08-2022 21:56\",\"Male\",18,\"CSE\",\"Yes\",\"Interested\",2,9.01,\"No\",5,\"No\",2,\"Social Media\",\"Studies/work\",\"During exams\",\"Sharing feelings with someone\",\"Boring\",\"No\"],[\"25-08-2022 21:57\",\"Male\",19,\"CSE\",\"Yes\",\"Interested\",2,8.06,\"No\",7,\"No\",5,\"Video games\",\"Studies/work\",\"During exams\",\"Listen's Music\",\"Happy, Boring\",\"No\"],[\"25-08-2022 21:57\",\"Male\",19,\"CSE\",\"Yes\",\"Future scope\",2,8.6,\"Yes\",7,\"No\",2,\"Social Media\",\"Thinking about future\",\"About Food\",\"Travelling\",\"Boring\",\"No\"],[\"25-08-2022 21:57\",\"Female\",19,\"CSE\",\"Yes\",\"Future scope\",2,0.0,\"No\",7,\"No\",2,\"Social Media\",\"Thinking about future\",\"During exams\",\"Being calm or Being alone\",\"Boring\",\"No\"],[\"25-08-2022 21:58\",\"Male\",19,\"CSE\",\"No\",\"Interested\",2,0.0,\"Yes\",7,\"No\",5,\"Social Media\",\"Thinking about future\",\"About Food\",\"Listen's Music\",\"Happy, Boring\",\"No\"],[\"25-08-2022 21:59\",\"Male\",19,\"CSE\",\"No\",\"Interested\",2,9.1,\"No\",7,\"No\",9,\"Social Media\",\"Thinking about future\",\"About Money\",\"Being calm or Being alone\",\"Depressed, Stressed, Boring\",\"No\"],[\"25-08-2022 21:59\",\"Male\",19,\"CSE\",\"Yes\",\"Interested\",2,7.2,\"Yes\",7,\"No\",5,\"Studies\",\"Studies/work\",\"No sleep\",\"Doing any physical activity\",\"Stressed, Boring\",\"No\"],[\"25-08-2022 21:59\",\"Female\",19,\"CSE\",\"Yes\",\"Interested\",4,8.5,\"Yes\",7,\"Yes\",8,\"Studies\",\"Studies/work\",\"About Money\",\"Listen's Music\",\"Boring\",\"No\"],[\"25-08-2022 22:00\",\"Male\",19,\"CSE\",\"No\",\"Future scope\",2,8.5,\"Yes\",7,\"No\",9,\"Social Media\",\"Studies/work\",\"During exams\",\"Being calm or Being alone\",\"Boring\",\"No\"],[\"25-08-2022 22:00\",\"Male\",19,\"CSE\",\"Yes\",\"Interested\",3,7.5,\"No\",7,\"No\",2,\"Studies\",\"Health\",\"No sleep\",\"Doing any physical activity\",\"Boring\",\"No\"],[\"25-08-2022 22:01\",\"Male\",19,\"CSE\",\"No\",\"All are choosing so I also chosen\",2,9.02,\"Yes\",7,\"No\",5,\"Social Media\",\"Thinking about future\",\"About Money\",\"Being calm or Being alone\",\"Boring\",\"No\"],[\"25-08-2022 22:01\",\"Male\",19,\"CSE\",\"Yes\",\"Due to Family pressure\",2,8.46,\"Yes\",7,\"Yes\",2,\"Social Media\",\"Thinking about future\",\"About Faculty\",\"Being calm or Being alone\",\"Depressed, Stressed, Happy, Boring\",\"Yes\"],[\"25-08-2022 22:01\",\"Male\",19,\"FOODTECH\",\"No\",\"Interested\",3,6.0,\"No\",7,\"Yes\",4,\"Social Media\",\" Friendship \",\"About Faculty\",\"Being calm or Being alone\",\"Happy\",\"No\"],[\"25-08-2022 22:01\",\"Male\",19,\"B.A\",\"Yes\",\"Interested\",3,7.8,\"Yes\",7,\"No\",1,\"Social Media\",\"Thinking about future\",\"During exams\",\"Listen's Music\",\"Stressed\",\"No\"],[\"25-08-2022 22:02\",\"Male\",19,\"CSE \",\"Yes\",\"Interested\",2,7.46,\"No\",7,\"No\",1,\"Social Media\",\"Money \",\"About Food\",\"Being calm or Being alone\",\"Boring\",\"Yes\"],[\"25-08-2022 22:02\",\"Male\",19,\"CSE \",\"Yes\",\"Interested\",3,8.79,\"Yes\",7,\"No\",4,\"Studies\",\"Thinking about future\",\"Threaten\",\"Listen's Music\",\"Boring\",\"No\"],[\"25-08-2022 22:02\",\"Male\",19,\"CSE\",\"Yes\",\"Due to Family pressure\",2,0.0,\"No\",5,\"No\",1,\"Social Media\",\"Thinking about future\",\"About Food\",\"Sharing feelings with someone\",\"Depressed\",\"Yes\"],[\"25-08-2022 22:02\",\"Male\",19,\"CSE\",\"No\",\"Future scope\",2,8.0,\"Yes\",6,\"No\",2,\"Other  ( Series/Movies )\",\"No stress \",\"During exams\",\"Travelling\",\"Happy, Boring\",\"No\"],[\"25-08-2022 22:03\",\"Female\",19,\"ECE\",\"No\",\"Interested\",3,8.25,\"No\",5,\"No\",7,\"Studies\",\"Studies/work\",\"About Faculty\",\"Sharing feelings with someone\",\"Happy\",\"No\"],[\"25-08-2022 22:03\",\"Male\",19,\"ECE\",\"No\",\"Interested\",3,8.23,\"No\",4,\"No\",6,\"Studies\",\"Studies/work\",\"About Faculty\",\"Travelling\",\"Happy\",\"No\"],[\"25-08-2022 22:03\",\"Male\",19,\"CSE\",\"Yes\",\"Future scope\",3,7.57,\"Yes\",7,\"Yes\",5,\"Other  ( Series/Movies )\",\"Thinking about future\",\"During exams\",\"Listen's Music\",\"Boring\",\"No\"],[\"25-08-2022 22:03\",\"Male\",19,\"CSE\",\"Yes\",\"Future scope\",3,0.0,\"No\",4,\"No\",4,\"Social Media\",\"I want to complete our OE course in our university itself.\",\"About Money\",\"Being calm or Being alone\",\"Depressed, Stressed, Boring\",\"No\"],[\"25-08-2022 22:03\",\"Male\",19,\"IT\",\"Yes\",\"Future scope\",2,7.59,\"Yes\",4,\"Yes\",8,\"Studies\",\"Thinking about future\",\"About Food\",\"Meditation\",\"Boring\",\"No\"],[\"25-08-2022 22:04\",\"Male\",19,\"ECE\",\"No\",\"Due to Family pressure\",3,5.0,\"No\",4,\"Yes\",5,\"Video games\",\"Thinking about future\",\"About Money\",\"Playing pubg\",\"Depressed, Happy\",\"No\"],[\"25-08-2022 22:04\",\"Male\",19,\"CSE\",\"No\",\"Interested\",2,8.67,\"Yes\",4,\"No\",5,\"Studies\",\"Thinking about future\",\"During exams\",\"Listen's Music\",\"Depressed, Stressed, Boring\",\"No\"],[\"25-08-2022 22:04\",\"Male\",24,\"COMMERCE \",\"Yes\",\"All are choosing so I also chosen\",4,6.43,\"Yes\",7,\"Yes\",4,\"Social Media\",\"Family\",\"About Money\",\"Doing any physical activity\",\"Stressed\",\"Yes\"],[\"25-08-2022 22:07\",\"Male\",20,\"CSE\",\"Yes\",\"Interested\",2,8.32,\"Yes\",8,\"No\",5,\"Studies\",\"Thinking about future\",\"About Faculty\",\"Sharing feelings with someone\",\"Boring\",\"Yes\"],[\"25-08-2022 22:07\",\"Male\",20,\"CSE\",\"Yes\",\"Future scope\",2,7.17,\"Yes\",8,\"Yes\",4,\"Social Media\",\"Thinking about future\",\"During exams\",\"Listen's Music\",\"Boring\",\"No\"],[\"25-08-2022 22:08\",\"Male\",20,\"CSE\",\"Yes\",\"Interested\",2,8.27,\"No\",8,\"No\",6,\"Studies\",\"Studies/work\",\"About Faculty\",\"Being calm or Being alone\",\"Happy\",\"No\"],[\"25-08-2022 22:08\",\"Male\",20,\"CSE\",\"Yes\",\"Interested\",2,7.41,\"Yes\",8,\"Yes\",1,\"Social Media\",\"Studies/work\",\"During exams\",\"Listen's Music\",\"Depressed\",\"Yes\"],[\"25-08-2022 22:09\",\"Male\",20,\"CSE\",\"Yes\",\"Future scope\",2,8.58,\"No\",8,\"No\",2,\"Social Media\",\"Thinking about future\",\"During exams\",\"Listen's Music\",\"Boring\",\"No\"],[\"25-08-2022 22:09\",\"Male\",20,\"CSE\",\"Yes\",\"Interested\",2,9.0,\"Yes\",8,\"Yes\",8,\"Social Media\",\"Studies/work\",\"About Faculty\",\"Listen's Music\",\"Boring\",\"No\"],[\"25-08-2022 22:09\",\"Male\",20,\"CSE\",\"No\",\"All are choosing so I also chosen\",2,8.5,\"No\",8,\"No\",2,\"Other  ( Series/Movies )\",\"Thinking about future\",\"About Money\",\"Being calm or Being alone\",\"Depressed\",\"No\"],[\"25-08-2022 22:09\",\"Male\",20,\"CSE\",\"Yes\",\"Future scope\",2,7.79,\"No\",8,\"No\",5,\"Social Media\",\"Studies/work\",\"About Money\",\"Being calm or Being alone\",\"Boring\",\"No\"],[\"25-08-2022 22:10\",\"Male\",20,\"CSE\",\"Yes\",\"Interested\",2,8.22,\"Yes\",8,\"No\",5,\"Social Media\",\"Thinking about future\",\"No sleep\",\"Listen's Music\",\"Boring\",\"No\"],[\"25-08-2022 22:10\",\"Male\",20,\"CSE\",\"Yes\",\"Future scope\",2,8.58,\"No\",8,\"No\",2,\"Social Media\",\"Thinking about future\",\"During exams\",\"Listen's Music\",\"Boring\",\"No\"],[\"25-08-2022 22:11\",\"Female\",20,\"CSE\",\"No\",\"Interested\",2,9.02,\"No\",8,\"No\",5,\"Studies\",\"Studies like lots of works and assignments, more courses we want prepare for at a time , lots of time wastage in other activities, more stress of internships and nptel courses. \",\"During exams\",\"Listen's Music\",\"Depressed, Stressed, Boring\",\"No\"],[\"25-08-2022 22:11\",\"Male\",20,\"CSE\",\"Yes\",\"Future scope\",2,7.0,\"Yes\",8,\"No\",8,\"Social Media\",\"Thinking about future\",\"About Food\",\"Listen's Music\",\"Depressed\",\"Yes\"],[\"25-08-2022 22:16\",\"Male\",20,\"CSE\",\"Yes\",\"Future scope\",3,8.0,\"No\",8,\"Yes\",9,\"Social Media\",\"Thinking about future\",\"About Money\",\"Being calm or Being alone\",\"Boring\",\"No\"],[\"25-08-2022 22:17\",\"Male\",20,\"CIVIL \",\"Yes\",\"Due to Family pressure\",2,8.0,\"Yes\",10,\"No\",5,\"Other  ( Series/Movies )\",\"Thinking about future\",\"About Money\",\"Listen's Music\",\"Depressed, Boring\",\"No\"],[\"25-08-2022 22:17\",\"Male\",20,\"FOODTECH\",\"Yes\",\"Future scope\",3,9.0,\"No\",10,\"No\",1,\"Other  ( Series/Movies )\",\"Studies/work\",\"About Food\",\"Listen's Music\",\"Boring\",\"No\"],[\"25-08-2022 22:22\",\"Female\",20,\"FOODTECH\",\"Yes\",\"Interested\",3,8.0,\"Yes\",10,\"No\",5,\"Social Media\",\"Studies/work\",\"About Food\",\"Listen's Music\",\"Stressed\",\"No\"],[\"25-08-2022 22:23\",\"Male\",20,\"CSE\",\"Yes\",\"Interested\",3,7.0,\"Yes\",10,\"Yes\",4,\"Social Media\",\"Other\",\"During exams\",\"A call with parents\",\"Happy\",\"Yes\"],[\"25-08-2022 22:24\",\"Male\",20,\"CSE\",\"Yes\",\"Future scope\",3,7.47,\"Yes\",9,\"No\",5,\"Studies\",\"Thinking about future\",\"About Money\",\"Meditation\",\"Depressed\",\"No\"],[\"25-08-2022 22:26\",\"Male\",20,\"CSE\",\"Yes\",\"Future scope\",2,7.95,\"Yes\",9,\"No\",4,\"Social Media\",\"Family\",\"About Money\",\"Listen's Music\",\"Depressed\",\"No\"],[\"25-08-2022 22:26\",\"Male\",18,\"CSE\",\"No\",\"Interested\",2,7.0,\"Yes\",9,\"No\",5,\"Studies\",\"Health\",\"About Faculty\",\"Doing any physical activity\",\"Happy\",\"No\"],[\"25-08-2022 22:27\",\"Female\",18,\"EEE\",\"Yes\",\"Interested\",1,9.08,\"Yes\",9,\"Yes\",4,\"Other  ( Series/Movies )\",\"Thinking about future\",\"About Money\",\"Listen's Music\",\"Boring\",\"No\"],[\"25-08-2022 22:27\",\"Male\",19,\"CSE\",\"Yes\",\"Interested\",2,9.18,\"Yes\",9,\"Yes\",1,\"Studies\",\"Studies/work\",\"No sleep\",\"Being calm or Being alone\",\"Boring\",\"No\"],[\"25-08-2022 22:29\",\"Male\",19,\"CSE\",\"Yes\",\"Interested\",2,9.18,\"Yes\",9,\"Yes\",2,\"Studies\",\"Studies/work\",\"No sleep\",\"Being calm or Being alone\",\"Boring\",\"No\"],[\"25-08-2022 22:29\",\"Male\",19,\"CSE\",\"Yes\",\"Future scope\",2,0.0,\"Yes\",7,\"No\",1,\"Studies\",\"Studies/work\",\"About Food\",\"Sharing feelings with someone\",\"Stressed\",\"No\"],[\"25-08-2022 22:31\",\"Male\",19,\"CSE\",\"Yes\",\"Interested\",2,8.0,\"Yes\",7,\"Yes\",5,\"Social Media\",\"Studies/work\",\"About Money\",\"Sharing feelings with someone\",\"Boring\",\"No\"],[\"25-08-2022 22:31\",\"Female\",19,\"CSE\",\"Yes\",\"Interested\",3,8.0,\"Yes\",7,\"No\",1,\"Social Media\",\"Thinking about future\",\"About Food\",\"Being calm or Being alone\",\"Depressed\",\"No\"],[\"25-08-2022 22:33\",\"Male\",19,\"CSE\",\"Yes\",\"Interested\",2,8.0,\"Yes\",7,\"No\",5,\"Studies\",\"Studies/work\",\"During exams\",\"Listen's Music\",\"Boring\",\"No\"],[\"25-08-2022 22:34\",\"Male\",19,\"CSE\",\"Yes\",\"Interested\",2,9.0,\"Yes\",7,\"Yes\",2,\"Studies\",\"Health\",\"No sleep\",\"Listen's Music\",\"Happy\",\"No\"],[\"25-08-2022 22:35\",\"Male\",19,\"CSE\",\"Yes\",\"Future scope\",2,8.68,\"No\",5,\"No\",1,\"Studies\",\"Thinking about future\",\"No sleep\",\"Meditation\",\"Boring\",\"No\"],[\"25-08-2022 22:37\",\"Male\",19,\"CSE\",\"Yes\",\"Future scope\",3,7.0,\"Yes\",5,\"Yes\",5,\"Social Media\",\"Thinking about future\",\"About Love\",\"Being calm or Being alone\",\"Happy\",\"No\"],[\"25-08-2022 22:38\",\"Male\",19,\"CSE\",\"No\",\"Future scope\",3,8.75,\"Yes\",5,\"No\",5,\"Social Media\",\"Studies/work\",\"About Faculty\",\"Listen's Music\",\"Stressed, Boring\",\"No\"],[\"25-08-2022 22:38\",\"Male\",19,\"CSE\",\"No\",\"Interested\",3,7.7,\"Yes\",5,\"No\",5,\"Video games\",\"Thinking about future\",\"About Food\",\"Listen's Music\",\"Happy\",\"No\"],[\"25-08-2022 22:39\",\"Female\",19,\"CSE\",\"No\",\"Due to Family pressure\",3,7.0,\"No\",5,\"No\",5,\"Social Media\",\"Studies/work\",\"No sleep\",\"Listen's Music\",\"Boring\",\"No\"],[\"25-08-2022 22:39\",\"Male\",23,\"CSE\",\"Yes\",\"Interested\",4,9.75,\"Yes\",5,\"Yes\",5,\"Studies\",\"No stress\",\"About Money\",\"By sharing the feeling with god\",\"Happy\",\"No\"],[\"25-08-2022 22:41\",\"Female\",21,\"FORENSICSCIENCE\",\"Yes\",\"Interested\",3,6.0,\"No\",5,\"Yes\",5,\"Social Media\",\"Thinking about future\",\"During exams\",\"Being calm or Being alone\",\"Happy\",\"No\"],[\"25-08-2022 22:41\",\"Male\",21,\"CSE\",\"Yes\",\"Future scope\",3,7.0,\"Yes\",5,\"No\",5,\"Social Media\",\"Thinking about future\",\"During exams\",\"Being calm or Being alone\",\"Boring\",\"No\"],[\"25-08-2022 22:47\",\"Female\",21,\"CSE\",\"Yes\",\"Future scope\",3,8.37,\"No\",5,\"No\",5,\"Studies\",\"Thinking about future\",\"During exams\",\"Listen's Music\",\"Depressed, Boring\",\"No\"],[\"25-08-2022 22:48\",\"Male\",21,\"CSE\",\"Yes\",\"Interested\",2,8.21,\"Yes\",5,\"No\",5,\"Other  ( Series/Movies )\",\"Thinking about future\",\"About Money\",\"Listen's Music\",\"Happy\",\"No\"],[\"25-08-2022 22:48\",\"Female\",21,\"CSE\",\"Yes\",\"Future scope\",3,7.0,\"Yes\",5,\"Yes\",5,\"Social Media\",\"Thinking about future\",\"During exams\",\"Sharing feelings with someone\",\"Boring\",\"No\"],[\"25-08-2022 22:50\",\"Male\",21,\"CSE\",\"Yes\",\"Interested\",2,7.5,\"No\",5,\"No\",2,\"Studies\",\"Thinking about future\",\"During exams\",\"Being calm or Being alone\",\"Stressed\",\"No\"],[\"25-08-2022 22:50\",\"Male\",21,\"CSE\",\"Yes\",\"Interested\",2,8.75,\"Yes\",5,\"No\",2,\"Studies\",\"No stress. \",\"About Money\",\"Listen's Music\",\"Boring\",\"Yes\"],[\"25-08-2022 22:50\",\"Female\",21,\"CSE\",\"Yes\",\"Future scope\",2,8.8,\"Yes\",7,\"No\",2,\"Other  ( Series/Movies )\",\"Thinking about future\",\"During exams\",\"Sharing feelings with someone\",\"Stressed, Happy, Boring\",\"No\"],[\"25-08-2022 22:50\",\"Male\",21,\"CSE\",\"Yes\",\"Future scope\",2,9.0,\"Yes\",7,\"No\",2,\"Video games\",\"Studies/work\",\"During exams\",\"Listen's Music\",\"Happy\",\"No\"],[\"25-08-2022 22:50\",\"Female\",21,\"CSE\",\"Yes\",\"Interested\",2,9.04,\"No\",7,\"No\",2,\"Other  ( Series/Movies )\",\"Studies/work\",\"During exams\",\"Listen's Music\",\"Boring\",\"No\"],[\"25-08-2022 22:51\",\"Female\",21,\"CSE\",\"Yes\",\"Future scope\",2,8.0,\"No\",7,\"No\",2,\"Studies\",\"Studies/work\",\"During exams\",\"Sharing feelings with someone\",\"Boring\",\"No\"],[\"25-08-2022 22:53\",\"Female\",17,\"CSE\",\"Yes\",\"Future scope\",2,8.5,\"Yes\",7,\"Yes\",2,\"Studies\",\"Thinking about future\",\"During exams\",\"Sharing feelings with someone\",\"Happy\",\"No\"],[\"25-08-2022 22:54\",\"Male\",17,\"CSE\",\"Yes\",\"All are choosing so I also chosen\",2,0.0,\"Yes\",7,\"No\",8,\"Social Media\",\"Thinking about future\",\"During exams\",\"Listen's Music\",\"Happy\",\"No\"],[\"25-08-2022 22:56\",\"Female\",17,\"CSE\",\"Yes\",\"Future scope\",2,9.17,\"No\",7,\"No\",8,\"Studies\",\"all of the above\",\"During exams\",\"Sharing feelings with someone\",\"Boring\",\"No\"],[\"25-08-2022 22:57\",\"Female\",17,\"CSE\",\"Yes\",\"Interested\",3,8.0,\"Yes\",7,\"No\",8,\"Social Media\",\"Thinking about future\",\"During exams\",\"Sharing feelings with someone\",\"Boring\",\"No\"],[\"25-08-2022 22:57\",\"Male\",18,\"CSE\",\"Yes\",\"Future scope\",3,8.18,\"Yes\",7,\"No\",8,\"Studies\",\"Studies/work\",\"About Food\",\"Being calm or Being alone\",\"Happy\",\"No\"],[\"25-08-2022 22:57\",\"Male\",18,\"CSE\",\"Yes\",\"Interested\",2,7.5,\"No\",7,\"Yes\",8,\"Social Media\",\"Thinking about future\",\"During exams\",\"Being calm or Being alone\",\"Boring\",\"No\"],[\"25-08-2022 22:58\",\"Male\",18,\"CSE\",\"Yes\",\"Due to Family pressure\",2,9.0,\"Yes\",7,\"No\",8,\"Social Media\",\"Family\",\"About Money\",\"Listen's Music\",\"Boring\",\"Yes\"],[\"25-08-2022 23:01\",\"Female\",18,\"CSE\",\"No\",\"Future scope\",3,8.24,\"No\",7,\"No\",8,\"Social Media\",\"Thinking about future\",\"During exams\",\"Sharing feelings with someone\",\"Happy\",\"No\"],[\"25-08-2022 23:03\",\"Male\",18,\"CSE \",\"Yes\",\"Future scope\",2,8.29,\"Yes\",7,\"No\",8,\"Social Media\",\"Studies/work\",\"No sleep\",\"Listen's Music\",\"Boring\",\"No\"],[\"25-08-2022 23:05\",\"Male\",18,\"CSE\",\"Yes\",\"Interested\",2,0.0,\"No\",7,\"No\",10,\"Studies\",\"Studies/work\",\"About Money\",\"Listen's Music\",\"Stressed\",\"No\"],[\"25-08-2022 23:08\",\"Male\",19,\"CSE\",\"Yes\",\"Interested\",2,8.86,\"No\",7,\"No\",5,\"Social Media\",\" Studies , family, thinking\\ud83e\\udd14 about me, but  i\",\"About Food\",\"Listen's Music\",\"Happy\",\"Yes\"],[\"25-08-2022 23:10\",\"Male\",19,\"CSE\",\"Yes\",\"Future scope\",2,8.3,\"Yes\",7,\"No\",1,\"Social Media\",\"Studies/work\",\"About Food\",\"Listen's Music\",\"Boring\",\"No\"],[\"25-08-2022 23:10\",\"Male\",19,\"CSE\",\"Yes\",\"Interested\",2,0.0,\"No\",7,\"No\",1,\"Studies\",\"Studies/work\",\"No sleep\",\"Being calm or Being alone\",\"Happy\",\"No\"],[\"25-08-2022 23:11\",\"Male\",19,\"CSE\",\"Yes\",\"Future scope\",2,6.75,\"Yes\",7,\"No\",10,\"Social Media\",\"Studies/work\",\"About Food\",\"Listen's Music\",\"Boring\",\"No\"],[\"25-08-2022 23:18\",\"Male\",19,\"CSE\",\"Yes\",\"Future scope\",2,7.0,\"No\",6,\"No\",7,\"Studies\",\"Thinking about future\",\"About Love\",\"Listen's Music\",\"Depressed, Stressed, Boring\",\"No\"],[\"25-08-2022 23:21\",\"Male\",19,\"CSE\",\"Yes\",\"Future scope\",2,6.0,\"No\",6,\"No\",2,\"Social Media\",\"Studies/work\",\"During exams\",\"Sharing feelings with someone\",\"Boring\",\"No\"],[\"25-08-2022 23:30\",\"Male\",19,\"CSE\",\"Yes\",\"Interested\",2,8.5,\"Yes\",6,\"No\",4,\"Other  ( Series/Movies )\",\"Studies/work\",\"About Food\",\"Listen's Music\",\"Boring\",\"No\"],[\"25-08-2022 23:35\",\"Male\",19,\"CSE \",\"Yes\",\"Interested\",2,6.88,\"Yes\",6,\"No\",8,\"Social Media\",\"Thinking about future\",\"During exams\",\"Listen's Music\",\"Boring\",\"Yes\"],[\"25-08-2022 23:35\",\"Male\",19,\"BIOTECH\",\"Yes\",\"Future scope\",2,5.0,\"No\",6,\"No\",8,\"Social Media\",\"Studies/work\",\"No sleep\",\"all \",\"Depressed, Boring\",\"Yes\"],[\"25-08-2022 23:36\",\"Male\",19,\"CSE \",\"No\",\"Interested\",2,8.32,\"No\",6,\"No\",8,\"Social Media\",\"Studies/work\",\"About Faculty\",\"Listen's Music\",\"Stressed, Boring\",\"No\"],[\"25-08-2022 23:49\",\"Male\",19,\"CSE \",\"No\",\"Future scope\",2,6.0,\"No\",6,\"No\",8,\"Studies\",\"Studies/work\",\"During exams\",\"Being calm or Being alone\",\"Stressed\",\"No\"],[\"26-08-2022 00:09\",\"Male\",19,\"CSE\",\"Yes\",\"Future scope\",3,8.54,\"Yes\",6,\"No\",8,\"Studies\",\"Thinking about future\",\"During exams\",\"Being calm or Being alone\",\"Depressed, Stressed, Happy, Boring\",\"No\"],[\"26-08-2022 00:21\",\"Male\",19,\"CSE\",\"Yes\",\"Future scope\",3,9.0,\"Yes\",6,\"No\",8,\"Other  ( Series/Movies )\",\"Thinking about future\",\"No sleep\",\"Being calm or Being alone\",\"Stressed\",\"No\"],[\"26-08-2022 00:22\",\"Female\",19,\"CSE \",\"Yes\",\"Future scope\",3,8.0,\"Yes\",6,\"No\",8,\"Social Media\",\"Thinking about future\",\"During exams\",\"Meditation\",\"Stressed, Boring\",\"No\"],[\"26-08-2022 00:26\",\"Female\",19,\"CSE\",\"Yes\",\"Future scope\",2,9.18,\"Yes\",6,\"No\",8,\"Social Media\",\"Studies/work\",\"During exams\",\"Listen's Music\",\"Depressed\",\"No\"],[\"26-08-2022 00:40\",\"Male\",20,\"CSE\",\"Yes\",\"Interested\",3,8.4,\"No\",6,\"No\",7,\"Other  ( Series/Movies )\",\"Thinking about future\",\"About Love\",\"Being calm or Being alone\",\"Boring\",\"Yes\"],[\"26-08-2022 01:26\",\"Male\",20,\"BIOMED \",\"Yes\",\"Interested\",3,8.34,\"No\",6,\"No\",3,\"Other  ( Series/Movies )\",\"Thinking about future\",\"No sleep\",\"Sharing feelings with someone\",\"Depressed, Boring\",\"Yes\"],[\"26-08-2022 01:56\",\"Female\",20,\"CSE\",\"Yes\",\"Future scope\",2,7.0,\"Yes\",6,\"No\",3,\"Other  ( Series/Movies )\",\"Studies/work\",\"During exams\",\"Being calm or Being alone\",\"Depressed\",\"No\"],[\"26-08-2022 03:13\",\"Male\",20,\"CSE\",\"No\",\"Future scope\",3,7.0,\"No\",6,\"No\",3,\"Studies\",\"Studies/work\",\"During exams\",\"Listen's Music\",\"Boring\",\"No\"],[\"26-08-2022 03:21\",\"Male\",20,\"CSE\",\"Yes\",\"Interested\",2,4.55,\"No\",6,\"No\",3,\"Studies\",\"Health\",\"No sleep\",\"Music, travel, codeine\",\"Boring\",\"No\"],[\"26-08-2022 03:26\",\"Female\",20,\"MBBS\",\"Yes\",\"All are choosing so I also chosen\",2,6.0,\"No\",6,\"No\",3,\"Social Media\",\"Thinking about future\",\"During exams\",\"Listen's Music\",\"Depressed\",\"No\"],[\"26-08-2022 05:09\",\"Female\",20,\"CSE\",\"Yes\",\"Future scope\",3,8.05,\"Yes\",6,\"Yes\",3,\"Other  ( Series/Movies )\",\"Thinking about future\",\"About Faculty\",\"Listen's Music\",\"Stressed, Boring\",\"Yes\"],[\"26-08-2022 05:19\",\"Male\",20,\"BARCH\",\"Yes\",\"Interested\",3,7.0,\"No\",6,\"No\",3,\"Social Media\",\"Studies/work\",\"No sleep\",\"Travelling\",\"Happy, Boring\",\"Yes\"],[\"26-08-2022 06:19\",\"Female\",20,\"ECE\",\"Yes\",\"Future scope\",3,8.6,\"No\",6,\"Yes\",3,\"Social Media\",\"Thinking about future\",\"During exams\",\"Being calm or Being alone\",\"Boring\",\"Yes\"],[\"26-08-2022 06:29\",\"Female\",20,\"ECE\",\"Yes\",\"Interested\",3,8.0,\"No\",5,\"No\",3,\"Social Media\",\"Thinking about future\",\"During exams\",\"Being calm or Being alone\",\"Boring\",\"No\"],[\"26-08-2022 06:54\",\"Male\",20,\"CSE\",\"Yes\",\"Interested\",3,8.3,\"No\",5,\"Yes\",3,\"Video games\",\"Thinking about future\",\"About Money\",\"Being calm or Being alone\",\"Depressed, Boring\",\"No\"],[\"26-08-2022 07:03\",\"Female\",20,\"ECE\",\"Yes\",\"Future scope\",3,0.0,\"Yes\",5,\"Yes\",3,\"Social Media\",\"Studies/work\",\"During exams\",\"Listen's Music\",\"Happy, Boring\",\"No\"],[\"26-08-2022 07:15\",\"Male\",19,\"CSE\",\"Yes\",\"Interested\",2,8.11,\"Yes\",5,\"No\",3,\"Studies\",\"Health\",\"About Food\",\"Sharing feelings with someone\",\"Boring\",\"No\"],[\"26-08-2022 07:21\",\"Female\",19,\"CSE\",\"Yes\",\"Due to Family pressure\",2,6.0,\"No\",5,\"No\",3,\"Other  ( Series/Movies )\",\"Studies/work\",\"During exams\",\"Listen's Music\",\"Depressed\",\"No\"],[\"26-08-2022 07:25\",\"Male\",19,\"CSE\",\"Yes\",\"Interested\",3,8.0,\"No\",5,\"Yes\",3,\"Social Media\",\"Thinking about future\",\"During exams\",\"Sharing feelings with someone\",\"Depressed\",\"No\"],[\"26-08-2022 07:26\",\"Female\",19,\"MBBS\",\"Yes\",\"Interested\",2,7.0,\"Yes\",5,\"No\",3,\"Social Media\",\"Thinking about future\",\"During exams\",\"Sharing feelings with someone\",\"Happy\",\"No\"],[\"26-08-2022 07:57\",\"Male\",19,\"CSE\",\"Yes\",\"Interested\",2,5.0,\"No\",5,\"No\",3,\"Social Media\",\"Studies/work\",\"During exams\",\"Travelling\",\"Happy, Boring\",\"No\"],[\"26-08-2022 07:58\",\"Male\",19,\"CSE\",\"Yes\",\"Interested\",2,7.0,\"No\",5,\"No\",10,\"Social Media\",\"Studies/work\",\"During exams\",\"Travelling\",\"Happy, Boring\",\"No\"],[\"26-08-2022 08:16\",\"Male\",19,\"CSE\",\"Yes\",\"Future scope\",3,8.0,\"Yes\",5,\"Yes\",10,\"Social Media\",\"No stress\",\"About Money\",\"Listen's Music\",\"Happy\",\"Yes\"],[\"26-08-2022 08:17\",\"Female\",19,\"CSE\",\"Yes\",\"Interested\",2,8.3,\"Yes\",5,\"No\",10,\"Social Media\",\"Studies/work\",\"During exams\",\"Listen's Music\",\"Depressed\",\"No\"],[\"26-08-2022 08:19\",\"Male\",19,\"CSE\",\"Yes\",\"Interested\",2,7.5,\"Yes\",5,\"Yes\",10,\"Other  ( Series/Movies )\",\"Thinking about future\",\"During exams\",\"Listen's Music\",\"Boring\",\"No\"],[\"26-08-2022 08:22\",\"Male\",19,\"CSE\",\"Yes\",\"Interested\",3,7.66,\"Yes\",5,\"No\",10,\"Social Media\",\"Studies/work\",\"During exams\",\"Listen's Music\",\"Happy\",\"No\"],[\"26-08-2022 08:28\",\"Female\",19,\"CSE \",\"No\",\"Due to Family pressure\",3,0.0,\"No\",5,\"Yes\",10,\"Other  ( Series/Movies )\",\"Thinking about future\",\"About Money\",\"Listen's Music\",\"Boring\",\"No\"],[\"26-08-2022 08:30\",\"Female\",19,\"CSE\",\"No\",\"Future scope\",3,9.05,\"Yes\",5,\"Yes\",10,\"Other  ( Series/Movies )\",\"Thinking about future\",\"About Money\",\"Being calm or Being alone\",\"Boring\",\"No\"],[\"26-08-2022 08:41\",\"Male\",19,\"CSE\",\"Yes\",\"Future scope\",2,8.77,\"No\",5,\"No\",10,\"Other  ( Series/Movies )\",\"All the above \",\"During exams\",\"Sharing feelings with someone\",\"Boring\",\"No\"],[\"26-08-2022 08:48\",\"Female\",19,\"AERO\",\"Yes\",\"Interested\",3,9.34,\"Yes\",5,\"Yes\",10,\"Other  ( Series/Movies )\",\"Studies/work\",\"No sleep\",\"Listen's Music\",\"Depressed, Stressed, Boring\",\"No\"],[\"26-08-2022 08:50\",\"Female\",19,\"CSE\",\"Yes\",\"Future scope\",2,8.8,\"Yes\",5,\"No\",2,\"Other  ( Series/Movies )\",\"Thinking about future\",\"During exams\",\"Being calm or Being alone\",\"Boring\",\"No\"],[\"26-08-2022 08:52\",\"Female\",19,\"AERO\",\"No\",\"Interested\",2,9.13,\"Yes\",5,\"No\",2,\"Studies\",\"Thinking about future\",\"During exams\",\"Travelling\",\"Depressed\",\"No\"],[\"26-08-2022 08:53\",\"Female\",19,\"MBBS\",\"Yes\",\"Interested\",2,9.0,\"Yes\",5,\"No\",2,\"Other  ( Series/Movies )\",\"Friends\",\"During exams\",\"Sharing feelings with someone\",\"Happy, Boring\",\"No\"],[\"26-08-2022 08:53\",\"Female\",17,\"ECE\",\"Yes\",\"Interested\",1,8.0,\"Yes\",5,\"Yes\",2,\"Other  ( Series/Movies )\",\"Thinking about future\",\"About Money\",\"Sharing feelings with someone\",\"Boring\",\"No\"],[\"26-08-2022 08:55\",\"Female\",20,\"AERO\",\"Yes\",\"Interested\",3,8.8,\"No\",5,\"No\",2,\"Social Media\",\"Studies/work\",\"During exams\",\"Sharing feelings with someone\",\"Boring\",\"No\"],[\"26-08-2022 09:01\",\"Male\",20,\"CSE\",\"Yes\",\"Future scope\",2,8.0,\"No\",5,\"No\",2,\"Social Media\",\"Thinking about future\",\"About Money\",\"Being calm or Being alone\",\"Boring\",\"Yes\"],[\"26-08-2022 09:01\",\"Female\",20,\"AERO\",\"Yes\",\"Interested\",3,9.0,\"No\",5,\"No\",2,\"Social Media\",\"Health\",\"During exams\",\"Being calm or Being alone\",\"Depressed, Boring\",\"No\"],[\"26-08-2022 09:02\",\"Male\",20,\"CSE\",\"Yes\",\"Interested\",2,7.0,\"Yes\",8,\"Yes\",2,\"Studies\",\"Thinking about future\",\"No sleep\",\"Listen's Music\",\"Depressed\",\"Yes\"],[\"26-08-2022 09:04\",\"Male\",20,\"CSE\",\"Yes\",\"Interested\",2,7.96,\"Yes\",8,\"Yes\",2,\"Other  ( Series/Movies )\",\"Home sick\",\"About Food\",\"Listen's Music\",\"Boring\",\"Yes\"],[\"26-08-2022 09:04\",\"Male\",20,\"CSE\",\"Yes\",\"Future scope\",2,8.24,\"Yes\",8,\"No\",2,\"Studies\",\"Thinking about future\",\"About Money\",\"Being calm or Being alone\",\"Boring\",\"No\"],[\"26-08-2022 09:04\",\"Male\",20,\"CSE\",\"Yes\",\"Future scope\",2,7.54,\"Yes\",8,\"No\",2,\"Social Media\",\"Thinking about future\",\"During exams\",\"Listen's Music\",\"Boring\",\"No\"],[\"26-08-2022 09:04\",\"Male\",20,\"CSE\",\"Yes\",\"Future scope\",2,8.8,\"Yes\",8,\"No\",2,\"Studies\",\"Studies/work\",\"During exams\",\"Doing any physical activity\",\"Boring\",\"Yes\"],[\"26-08-2022 09:05\",\"Female\",20,\"AERO\",\"Yes\",\"Interested\",2,8.09,\"No\",8,\"No\",2,\"Social Media\",\"Thinking about future\",\"During exams\",\"Travelling\",\"Happy\",\"No\"],[\"26-08-2022 09:05\",\"Male\",20,\"AERO\",\"Yes\",\"Future scope\",3,8.5,\"Yes\",8,\"Yes\",2,\"Social Media\",\"Studies/work\",\"During exams\",\"Doing any physical activity\",\"Happy\",\"No\"],[\"26-08-2022 09:05\",\"Female\",20,\"AERO\",\"Yes\",\"Interested\",3,8.5,\"Yes\",8,\"No\",2,\"Other  ( Series/Movies )\",\"Studies/work\",\"No sleep\",\"Sharing feelings with someone\",\"Stressed\",\"No\"],[\"26-08-2022 09:06\",\"Male\",20,\"CSE\",\"Yes\",\"Interested\",2,8.8,\"No\",8,\"No\",4,\"Studies\",\"Thinking about future\",\"During exams\",\"Sharing feelings with someone\",\"Depressed, Stressed\",\"Yes\"],[\"26-08-2022 09:06\",\"Male\",20,\"CSE \",\"Yes\",\"Future scope\",2,8.7,\"Yes\",8,\"Yes\",4,\"Studies\",\"Studies/work\",\"About Food\",\"Sharing feelings with someone\",\"Depressed\",\"Yes\"],[\"26-08-2022 09:06\",\"Male\",20,\"CSE\",\"Yes\",\"Interested\",2,7.1,\"Yes\",8,\"No\",4,\"Studies\",\"Thinking about future\",\"About Money\",\"Listen's Music\",\"Depressed\",\"Yes\"],[\"26-08-2022 09:09\",\"Male\",20,\"CSE\",\"No\",\"Interested\",2,8.4,\"Yes\",8,\"No\",4,\"Social Media\",\"Thinking about future\",\"About Food\",\"Listen's Music\",\"Happy\",\"Yes\"],[\"26-08-2022 09:09\",\"Male\",20,\"CSE\",\"Yes\",\"Future scope\",2,0.0,\"Yes\",8,\"No\",4,\"Studies\",\"Thinking about future\",\"During exams\",\"Sleeping\",\"Boring\",\"No\"],[\"26-08-2022 09:10\",\"Male\",20,\"CSE\",\"Yes\",\"Interested\",2,7.0,\"Yes\",8,\"No\",4,\"Social Media\",\"Studies/work\",\"During exams\",\"Doing any physical activity\",\"Happy\",\"No\"],[\"26-08-2022 09:11\",\"Male\",20,\"CSE \",\"Yes\",\"Interested\",2,8.0,\"No\",8,\"No\",4,\"Social Media\",\"Studies/work\",\"About Food\",\"Listen's Music\",\"Boring\",\"No\"],[\"26-08-2022 09:12\",\"Male\",20,\"CSE \",\"Yes\",\"All are choosing so I also chosen\",2,7.0,\"No\",8,\"No\",4,\"Social Media\",\"Studies/work\",\"About Food\",\"Being calm or Being alone\",\"Depressed, Boring\",\"No\"],[\"26-08-2022 09:15\",\"Female\",20,\"BARCH \",\"Yes\",\"Interested\",3,8.0,\"Yes\",8,\"No\",4,\"Social Media\",\"Both studies and family \",\"No sleep\",\"Doing any physical activity\",\"Boring\",\"No\"],[\"26-08-2022 09:15\",\"Male\",20,\"CSE\",\"Yes\",\"Future scope\",2,8.88,\"Yes\",8,\"Yes\",4,\"Social Media\",\"Studies/work\",\"During exams\",\"Being calm or Being alone\",\"Boring\",\"No\"],[\"26-08-2022 09:18\",\"Male\",20,\"CSE\",\"No\",\"Interested\",2,6.0,\"No\",6,\"No\",4,\"Studies\",\"Studies/work\",\"About Money\",\"Travelling\",\"Happy\",\"No\"],[\"26-08-2022 09:20\",\"Male\",20,\"AERO\",\"Yes\",\"Interested\",3,8.7,\"No\",6,\"Yes\",4,\"Other  ( Series/Movies )\",\"Studies/work\",\"No sleep\",\"Being calm or Being alone\",\"Happy, Boring\",\"No\"],[\"26-08-2022 09:21\",\"Male\",20,\"CSE\",\"No\",\"Future scope\",2,8.0,\"Yes\",6,\"Yes\",4,\"Social Media\",\"Thinking about future\",\"During exams\",\"Listen's Music\",\"Boring\",\"No\"],[\"26-08-2022 09:21\",\"Male\",20,\"AERO\",\"Yes\",\"Future scope\",2,8.0,\"No\",6,\"No\",4,\"Social Media\",\"Thinking about future\",\"About Money\",\"Being calm or Being alone\",\"Depressed\",\"No\"],[\"26-08-2022 09:23\",\"Male\",20,\"AERO\",\"Yes\",\"Future scope\",2,8.1,\"Yes\",6,\"Yes\",4,\"Social Media\",\"Thinking about future\",\"About Money\",\"Being calm or Being alone\",\"Stressed, Happy\",\"No\"],[\"26-08-2022 09:24\",\"Female\",20,\"BARCH\",\"Yes\",\"Future scope\",3,7.22,\"No\",6,\"Yes\",4,\"Social Media\",\"Studies/work\",\"During exams\",\"Listen's Music\",\"Happy\",\"No\"],[\"26-08-2022 09:24\",\"Male\",20,\"CSE\",\"Yes\",\"Interested\",2,6.0,\"Yes\",6,\"Yes\",8,\"Social Media\",\"Studies/work\",\"No sleep\",\"Being calm or Being alone\",\"Happy\",\"Yes\"],[\"26-08-2022 09:30\",\"Male\",20,\"CSE\",\"Yes\",\"Future scope\",2,8.0,\"No\",6,\"No\",8,\"Social Media\",\"Studies/work\",\"About Faculty\",\"Listen's Music\",\"Happy\",\"No\"],[\"26-08-2022 09:33\",\"Male\",19,\"CSE\",\"Yes\",\"Future scope\",2,7.0,\"No\",6,\"No\",8,\"Social Media\",\"Studies/work\",\"About Money\",\"Being calm or Being alone\",\"Boring\",\"Yes\"],[\"26-08-2022 09:35\",\"Male\",19,\"CSE\",\"No\",\"Interested\",2,8.0,\"No\",6,\"No\",8,\"Social Media\",\"Thinking about future\",\"About Money\",\"Being calm or Being alone\",\"Depressed, Stressed, Boring\",\"No\"],[\"26-08-2022 09:35\",\"Male\",19,\"CSE\",\"Yes\",\"Future scope\",2,7.0,\"No\",6,\"No\",8,\"Social Media\",\"Thinking about future\",\"During exams\",\"Listen's Music\",\"Boring\",\"No\"],[\"26-08-2022 09:44\",\"Male\",19,\"CSE\",\"No\",\"Future scope\",2,4.59,\"Yes\",6,\"No\",8,\"Studies\",\"Studies/work\",\"During exams\",\"Meditation\",\"Depressed\",\"No\"],[\"26-08-2022 10:36\",\"Female\",19,\"AERO\",\"Yes\",\"Interested\",3,6.0,\"Yes\",6,\"No\",8,\"Video games\",\"Thinking about future\",\"About Money\",\"Being calm or Being alone\",\"Depressed, Stressed, Boring\",\"Yes\"],[\"26-08-2022 11:01\",\"Female\",19,\"CSE\",\"Yes\",\"Future scope\",3,8.9,\"No\",6,\"No\",8,\"Social Media\",\"Thinking about future\",\"During exams\",\"Listen's Music\",\"Boring\",\"No\"],[\"26-08-2022 11:03\",\"Male\",19,\"CSE\",\"Yes\",\"Interested\",2,7.0,\"No\",6,\"No\",8,\"Studies\",\"Studies/work\",\"During exams\",\"Listen's Music\",\"Boring\",\"No\"],[\"26-08-2022 11:07\",\"Male\",19,\"CSE\",\"No\",\"Due to Family pressure\",2,8.36,\"No\",6,\"No\",8,\"Social Media\",\"Thinking about future\",\"During exams\",\"Listen's Music\",\"Happy\",\"Yes\"],[\"26-08-2022 11:09\",\"Male\",19,\"CSE\",\"Yes\",\"Future scope\",3,8.0,\"Yes\",6,\"No\",8,\"Social Media\",\"Thinking about future\",\"During exams\",\"Being calm or Being alone\",\"Boring\",\"No\"],[\"26-08-2022 11:18\",\"Male\",19,\"CSE\",\"Yes\",\"Due to Family pressure\",3,7.0,\"No\",6,\"No\",8,\"Social Media\",\"Thinking about future\",\"About Love\",\"Sharing feelings with someone\",\"Depressed, Stressed, Happy, Boring\",\"Yes\"],[\"26-08-2022 11:39\",\"Male\",19,\"CSE\",\"Yes\",\"Future scope\",3,8.08,\"Yes\",7,\"Yes\",8,\"Social Media\",\"Studies/work\",\"About Love\",\"Doing any physical activity\",\"Happy\",\"Yes\"],[\"26-08-2022 11:46\",\"Male\",19,\"CSE\",\"Yes\",\"Future scope\",2,0.0,\"Yes\",7,\"Yes\",2,\"Studies\",\"Thinking about future\",\"During exams\",\"Listen's Music\",\"Boring\",\"No\"],[\"26-08-2022 11:54\",\"Male\",24,\"AUTOMOB\",\"Yes\",\"Interested\",3,8.0,\"No\",7,\"No\",6,\"Other  ( Series/Movies )\",\"Family\",\"About Money\",\"Listen's Music\",\"Boring\",\"No\"],[\"26-08-2022 12:10\",\"Male\",19,\"CSE\",\"Yes\",\"Interested\",4,7.4,\"No\",7,\"No\",6,\"Other  ( Series/Movies )\",\"Thinking about future\",\"During exams\",\"Listen's Music\",\"Boring\",\"No\"],[\"26-08-2022 12:40\",\"Male\",19,\"CSE\",\"Yes\",\"Future scope\",2,8.0,\"No\",7,\"No\",6,\"Social Media\",\"Thinking about future\",\"About Food\",\"Sharing feelings with someone\",\"Depressed\",\"Yes\"],[\"26-08-2022 12:55\",\"Male\",19,\"CSE\",\"Yes\",\"Future scope\",2,7.54,\"Yes\",7,\"Yes\",6,\"Studies\",\"Thinking about future\",\"During exams\",\"Listen's Music\",\"Boring\",\"No\"],[\"26-08-2022 15:22\",\"Male\",19,\"IT\",\"Yes\",\"Future scope\",2,8.0,\"No\",7,\"Yes\",6,\"Social Media\",\"Thinking about future\",\"During exams\",\"Listen's Music\",\"Boring\",\"Yes\"],[\"26-08-2022 15:22\",\"Male\",19,\"IT\",\"Yes\",\"Future scope\",2,6.0,\"Yes\",7,\"Yes\",6,\"Video games\",\"Thinking about future\",\"During exams\",\"Sharing feelings with someone\",\"Boring\",\"Yes\"],[\"26-08-2022 15:25\",\"Male\",19,\"CSE\",\"Yes\",\"Interested\",2,7.5,\"Yes\",7,\"Yes\",6,\"Other  ( Series/Movies )\",\"Family\",\"During exams\",\"Listen's Music\",\"Depressed\",\"No\"],[\"26-08-2022 15:41\",\"Male\",19,\"IT\",\"Yes\",\"Interested\",2,8.25,\"No\",7,\"No\",6,\"Social Media\",\"Thinking about future\",\"No sleep\",\"Read Word of God\",\"Happy\",\"Yes\"],[\"26-08-2022 15:42\",\"Female\",19,\"IT\",\"Yes\",\"Interested\",2,8.0,\"No\",7,\"No\",6,\"Video games\",\"Thinking about future\",\"About Money\",\"Being calm or Being alone\",\"Stressed\",\"No\"],[\"26-08-2022 15:47\",\"Male\",19,\"IT\",\"Yes\",\"Due to Family pressure\",2,9.0,\"No\",7,\"No\",6,\"Studies\",\"Studies/work\",\"During exams\",\"Listen's Music\",\"Boring\",\"No\"],[\"26-08-2022 15:48\",\"Male\",19,\"IT\",\"Yes\",\"Future scope\",2,7.8,\"Yes\",7,\"Yes\",6,\"Social Media\",\"Thinking about future\",\"During exams\",\"Playing \",\"Boring\",\"Yes\"],[\"26-08-2022 15:57\",\"Male\",19,\"IT\",\"Yes\",\"Interested\",2,8.0,\"No\",7,\"Yes\",6,\"Other  ( Series/Movies )\",\"Going to part job\",\"About Money\",\"Listen's Music\",\"Happy\",\"Yes\"],[\"26-08-2022 16:11\",\"Male\",19,\"CSE \",\"Yes\",\"Future scope\",2,7.0,\"Yes\",7,\"Yes\",2,\"Other  ( Series/Movies )\",\"Thinking about future\",\"About Faculty\",\"Listen's Music\",\"Boring\",\"No\"],[\"26-08-2022 16:19\",\"Male\",19,\"CSE\",\"Yes\",\"Future scope\",2,7.4,\"No\",4,\"No\",4,\"Studies\",\"Studies/work\",\"About Food\",\"Being calm or Being alone\",\"Boring\",\"No\"],[\"26-08-2022 17:17\",\"Male\",19,\"ECE\",\"Yes\",\"Interested\",3,8.0,\"Yes\",4,\"Yes\",4,\"Other  ( Series/Movies )\",\"Studies/work\",\"During exams\",\"Listen's Music\",\"Boring\",\"Yes\"],[\"26-08-2022 17:29\",\"Male\",23,\"COMMERCE \",\"Yes\",\"Interested\",4,8.6,\"No\",4,\"Yes\",4,\"Other  ( Series/Movies )\",\"Thinking about future\",\"About Money\",\"Being calm or Being alone\",\"Happy, Boring\",\"Yes\"],[\"26-08-2022 17:58\",\"Female\",19,\"CSE\",\"Yes\",\"Interested\",2,8.58,\"Yes\",4,\"Yes\",4,\"Studies\",\"Studies/work\",\"During exams\",\"Listen's Music\",\"Boring\",\"No\"],[\"26-08-2022 18:04\",\"Male\",19,\"CSE\",\"Yes\",\"Future scope\",2,9.0,\"Yes\",4,\"No\",4,\"Other  ( Series/Movies )\",\"About friends too\",\"About Money\",\"Listen's Music\",\"Stressed\",\"No\"],[\"26-08-2022 18:09\",\"Male\",19,\"ECE\",\"Yes\",\"Interested\",3,8.0,\"No\",4,\"No\",4,\"Social Media\",\"Family\",\"About Money\",\"Listen's Music\",\"Boring\",\"No\"],[\"26-08-2022 19:03\",\"Female\",19,\"ECE\",\"Yes\",\"Future scope\",2,7.0,\"Yes\",4,\"Yes\",4,\"Social Media\",\"Studies/work\",\"During exams\",\"Listen's Music\",\"Boring\",\"No\"],[\"26-08-2022 19:30\",\"Male\",19,\"ECE\",\"No\",\"Interested\",2,8.0,\"No\",4,\"Yes\",4,\"Social Media\",\"Studies/work\",\"About Money\",\"Listen's Music\",\"Boring\",\"No\"],[\"26-08-2022 19:58\",\"Male\",19,\"CSE\",\"Yes\",\"Future scope\",2,6.0,\"Yes\",4,\"No\",4,\"Video games\",\"Studies/work\",\"About Money\",\"Listen's Music\",\"Happy\",\"No\"],[\"26-08-2022 20:24\",\"Male\",19,\"CSE\",\"Yes\",\"Future scope\",2,7.5,\"Yes\",4,\"No\",4,\"Studies\",\"Family\",\"During exams\",\"Listen's Music\",\"Boring\",\"No\"],[\"26-08-2022 20:50\",\"Male\",19,\"IT\",\"No\",\"Future scope\",2,8.0,\"No\",4,\"No\",4,\"Social Media\",\"Thinking about future\",\"About Money\",\"Sharing feelings with someone\",\"Depressed\",\"No\"],[\"26-08-2022 21:00\",\"Female\",19,\"CSE\",\"Yes\",\"Interested\",1,8.0,\"No\",4,\"Yes\",4,\"Studies\",\"Thinking about future\",\"During exams\",\"Doing any physical activity\",\"Stressed\",\"No\"],[\"26-08-2022 21:15\",\"Female\",19,\"CSE \",\"Yes\",\"Future scope\",3,9.0,\"No\",6,\"Yes\",4,\"Other  ( Series/Movies )\",\"Studies/work\",\"No sleep\",\"Listen's Music\",\"Boring\",\"No\"],[\"26-08-2022 21:40\",\"Male\",19,\"CSE\",\"Yes\",\"Interested\",1,7.0,\"Yes\",8,\"Yes\",4,\"Social Media\",\"Thinking about future\",\"During exams\",\"Listen's Music\",\"Boring\",\"Yes\"],[\"26-08-2022 22:08\",\"Male\",19,\"IT\",\"Yes\",\"Interested\",2,6.0,\"No\",8,\"Yes\",4,\"Social Media\",\"Studies/work\",\"During exams\",\"Listen's Music\",\"Happy\",\"No\"],[\"26-08-2022 22:13\",\"Female\",19,\"CSE\",\"Yes\",\"Interested\",2,8.33,\"No\",8,\"No\",4,\"Other  ( Series/Movies )\",\"Thinking about future\",\"During exams\",\"Being calm or Being alone\",\"Stressed, Boring\",\"Yes\"],[\"26-08-2022 22:14\",\"Male\",18,\"ECE\",\"Yes\",\"Interested\",1,8.0,\"No\",8,\"No\",5,\"Video games\",\"Health\",\"About Food\",\"Listen's Music\",\"Happy\",\"No\"],[\"26-08-2022 22:25\",\"Female\",18,\"MATHS\",\"Yes\",\"Interested\",1,8.0,\"Yes\",8,\"Yes\",5,\"Studies\",\"Nothing\",\"Threaten\",\"Doing any physical activity\",\"Happy\",\"No\"],[\"26-08-2022 22:41\",\"Male\",18,\"CSE\",\"No\",\"Interested\",2,8.5,\"Yes\",8,\"Yes\",5,\"Studies\",\"Studies/work\",\"About Food\",\"Sharing feelings with someone\",\"Boring\",\"Yes\"],[\"26-08-2022 22:53\",\"Female\",18,\"MBBS\",\"Yes\",\"Interested\",2,9.0,\"Yes\",8,\"Yes\",5,\"Social Media\",\"Studies/work\",\"During exams\",\"Being calm or Being alone\",\"Boring\",\"No\"],[\"26-08-2022 22:54\",\"Female\",18,\"ARTS\",\"Yes\",\"Interested\",1,6.3,\"Yes\",8,\"No\",5,\"Social Media\",\"Studies/work\",\"During exams\",\"Listen's Music\",\"Boring\",\"No\"],[\"26-08-2022 22:55\",\"Female\",18,\"ARTS\",\"Yes\",\"Future scope\",2,7.0,\"Yes\",4,\"Yes\",5,\"Social Media\",\"Family,studies\",\"About Faculty\",\"Being alone, traveling \",\"Happy\",\"No\"],[\"27-08-2022 11:28\",\"Male\",18,\"IT\",\"Yes\",\"Future scope\",3,8.0,\"Yes\",7,\"Yes\",5,\"Social Media\",\"Thinking about future\",\"About Money\",\"Being calm or Being alone\",\"Depressed, Boring\",\"Yes\"],[\"27-08-2022 12:44\",\"Female\",18,\"CSE\",\"Yes\",\"Future scope\",2,7.0,\"No\",5,\"No\",5,\"Social Media\",\"Health\",\"During exams\",\"Sharing feelings with someone\",\"Boring\",\"No\"],[\"27-08-2022 13:04\",\"Female\",18,\"CSE\",\"Yes\",\"Future scope\",3,8.2,\"Yes\",7,\"Yes\",5,\"Studies\",\"Health\",\"During exams\",\"Listen's Music\",\"Depressed, Stressed, Boring\",\"No\"],[\"27-08-2022 13:51\",\"Male\",18,\"IT\",\"Yes\",\"Interested\",2,10.0,\"Yes\",5,\"Yes\",5,\"Other  ( Series/Movies )\",\"Thinking about future\",\"No sleep\",\"Travelling\",\"Boring\",\"Yes\"],[\"27-08-2022 16:38\",\"Male\",18,\"CSE\",\"Yes\",\"Future scope\",2,8.13,\"No\",5,\"No\",2,\"Other  ( Series/Movies )\",\"Thinking about future\",\"Threaten\",\"Being calm or Being alone\",\"Depressed\",\"No\"],[\"27-08-2022 17:39\",\"Male\",18,\"BIOMED\",\"Yes\",\"Interested\",2,8.17,\"Yes\",7,\"No\",4,\"Studies\",\"Studies/work\",\"During exams\",\"Listen's Music\",\"Boring\",\"Yes\"],[\"27-08-2022 18:11\",\"Female\",18,\"BARCH\",\"Yes\",\"Interested\",3,8.33,\"No\",4,\"No\",1,\"Studies\",\"Studies/work\",\"During exams\",\"Being calm or Being alone\",\"Boring\",\"No\"],[\"27-08-2022 19:04\",\"Male\",18,\"IT\",\"Yes\",\"Interested\",2,7.6,\"Yes\",8,\"Yes\",1,\"Social Media\",\"Thinking about future\",\"During exams\",\"Doing any physical activity\",\"Stressed\",\"No\"],[\"27-08-2022 21:02\",\"Female\",20,\"CSE\",\"Yes\",\"Interested\",3,7.8,\"Yes\",10,\"No\",1,\"Other  ( Series/Movies )\",\"Thinking about future\",\"During exams\",\"Listen's Music\",\"Boring\",\"No\"],[\"28-08-2022 16:54\",\"Male\",20,\"BA \",\"Yes\",\"Interested\",2,9.0,\"Yes\",9,\"No\",7,\"Other  ( Series/Movies )\",\"Thinking about future\",\"About Money\",\"Sharing feelings with someone\",\"Depressed, Boring\",\"No\"],[\"29-08-2022 07:00\",\"Male\",20,\"ECE\",\"Yes\",\"Interested\",3,8.0,\"No\",5,\"No\",9,\"Social Media\",\"Thinking about future\",\"During exams\",\"Listen's Music\",\"Depressed, Stressed\",\"No\"]],\"type\":\"heatmap\"}],                        {\"template\":{\"data\":{\"histogram2dcontour\":[{\"type\":\"histogram2dcontour\",\"colorbar\":{\"outlinewidth\":0,\"ticks\":\"\"},\"colorscale\":[[0.0,\"#0d0887\"],[0.1111111111111111,\"#46039f\"],[0.2222222222222222,\"#7201a8\"],[0.3333333333333333,\"#9c179e\"],[0.4444444444444444,\"#bd3786\"],[0.5555555555555556,\"#d8576b\"],[0.6666666666666666,\"#ed7953\"],[0.7777777777777778,\"#fb9f3a\"],[0.8888888888888888,\"#fdca26\"],[1.0,\"#f0f921\"]]}],\"choropleth\":[{\"type\":\"choropleth\",\"colorbar\":{\"outlinewidth\":0,\"ticks\":\"\"}}],\"histogram2d\":[{\"type\":\"histogram2d\",\"colorbar\":{\"outlinewidth\":0,\"ticks\":\"\"},\"colorscale\":[[0.0,\"#0d0887\"],[0.1111111111111111,\"#46039f\"],[0.2222222222222222,\"#7201a8\"],[0.3333333333333333,\"#9c179e\"],[0.4444444444444444,\"#bd3786\"],[0.5555555555555556,\"#d8576b\"],[0.6666666666666666,\"#ed7953\"],[0.7777777777777778,\"#fb9f3a\"],[0.8888888888888888,\"#fdca26\"],[1.0,\"#f0f921\"]]}],\"heatmap\":[{\"type\":\"heatmap\",\"colorbar\":{\"outlinewidth\":0,\"ticks\":\"\"},\"colorscale\":[[0.0,\"#0d0887\"],[0.1111111111111111,\"#46039f\"],[0.2222222222222222,\"#7201a8\"],[0.3333333333333333,\"#9c179e\"],[0.4444444444444444,\"#bd3786\"],[0.5555555555555556,\"#d8576b\"],[0.6666666666666666,\"#ed7953\"],[0.7777777777777778,\"#fb9f3a\"],[0.8888888888888888,\"#fdca26\"],[1.0,\"#f0f921\"]]}],\"heatmapgl\":[{\"type\":\"heatmapgl\",\"colorbar\":{\"outlinewidth\":0,\"ticks\":\"\"},\"colorscale\":[[0.0,\"#0d0887\"],[0.1111111111111111,\"#46039f\"],[0.2222222222222222,\"#7201a8\"],[0.3333333333333333,\"#9c179e\"],[0.4444444444444444,\"#bd3786\"],[0.5555555555555556,\"#d8576b\"],[0.6666666666666666,\"#ed7953\"],[0.7777777777777778,\"#fb9f3a\"],[0.8888888888888888,\"#fdca26\"],[1.0,\"#f0f921\"]]}],\"contourcarpet\":[{\"type\":\"contourcarpet\",\"colorbar\":{\"outlinewidth\":0,\"ticks\":\"\"}}],\"contour\":[{\"type\":\"contour\",\"colorbar\":{\"outlinewidth\":0,\"ticks\":\"\"},\"colorscale\":[[0.0,\"#0d0887\"],[0.1111111111111111,\"#46039f\"],[0.2222222222222222,\"#7201a8\"],[0.3333333333333333,\"#9c179e\"],[0.4444444444444444,\"#bd3786\"],[0.5555555555555556,\"#d8576b\"],[0.6666666666666666,\"#ed7953\"],[0.7777777777777778,\"#fb9f3a\"],[0.8888888888888888,\"#fdca26\"],[1.0,\"#f0f921\"]]}],\"surface\":[{\"type\":\"surface\",\"colorbar\":{\"outlinewidth\":0,\"ticks\":\"\"},\"colorscale\":[[0.0,\"#0d0887\"],[0.1111111111111111,\"#46039f\"],[0.2222222222222222,\"#7201a8\"],[0.3333333333333333,\"#9c179e\"],[0.4444444444444444,\"#bd3786\"],[0.5555555555555556,\"#d8576b\"],[0.6666666666666666,\"#ed7953\"],[0.7777777777777778,\"#fb9f3a\"],[0.8888888888888888,\"#fdca26\"],[1.0,\"#f0f921\"]]}],\"mesh3d\":[{\"type\":\"mesh3d\",\"colorbar\":{\"outlinewidth\":0,\"ticks\":\"\"}}],\"scatter\":[{\"fillpattern\":{\"fillmode\":\"overlay\",\"size\":10,\"solidity\":0.2},\"type\":\"scatter\"}],\"parcoords\":[{\"type\":\"parcoords\",\"line\":{\"colorbar\":{\"outlinewidth\":0,\"ticks\":\"\"}}}],\"scatterpolargl\":[{\"type\":\"scatterpolargl\",\"marker\":{\"colorbar\":{\"outlinewidth\":0,\"ticks\":\"\"}}}],\"bar\":[{\"error_x\":{\"color\":\"#2a3f5f\"},\"error_y\":{\"color\":\"#2a3f5f\"},\"marker\":{\"line\":{\"color\":\"#E5ECF6\",\"width\":0.5},\"pattern\":{\"fillmode\":\"overlay\",\"size\":10,\"solidity\":0.2}},\"type\":\"bar\"}],\"scattergeo\":[{\"type\":\"scattergeo\",\"marker\":{\"colorbar\":{\"outlinewidth\":0,\"ticks\":\"\"}}}],\"scatterpolar\":[{\"type\":\"scatterpolar\",\"marker\":{\"colorbar\":{\"outlinewidth\":0,\"ticks\":\"\"}}}],\"histogram\":[{\"marker\":{\"pattern\":{\"fillmode\":\"overlay\",\"size\":10,\"solidity\":0.2}},\"type\":\"histogram\"}],\"scattergl\":[{\"type\":\"scattergl\",\"marker\":{\"colorbar\":{\"outlinewidth\":0,\"ticks\":\"\"}}}],\"scatter3d\":[{\"type\":\"scatter3d\",\"line\":{\"colorbar\":{\"outlinewidth\":0,\"ticks\":\"\"}},\"marker\":{\"colorbar\":{\"outlinewidth\":0,\"ticks\":\"\"}}}],\"scattermapbox\":[{\"type\":\"scattermapbox\",\"marker\":{\"colorbar\":{\"outlinewidth\":0,\"ticks\":\"\"}}}],\"scatterternary\":[{\"type\":\"scatterternary\",\"marker\":{\"colorbar\":{\"outlinewidth\":0,\"ticks\":\"\"}}}],\"scattercarpet\":[{\"type\":\"scattercarpet\",\"marker\":{\"colorbar\":{\"outlinewidth\":0,\"ticks\":\"\"}}}],\"carpet\":[{\"aaxis\":{\"endlinecolor\":\"#2a3f5f\",\"gridcolor\":\"white\",\"linecolor\":\"white\",\"minorgridcolor\":\"white\",\"startlinecolor\":\"#2a3f5f\"},\"baxis\":{\"endlinecolor\":\"#2a3f5f\",\"gridcolor\":\"white\",\"linecolor\":\"white\",\"minorgridcolor\":\"white\",\"startlinecolor\":\"#2a3f5f\"},\"type\":\"carpet\"}],\"table\":[{\"cells\":{\"fill\":{\"color\":\"#EBF0F8\"},\"line\":{\"color\":\"white\"}},\"header\":{\"fill\":{\"color\":\"#C8D4E3\"},\"line\":{\"color\":\"white\"}},\"type\":\"table\"}],\"barpolar\":[{\"marker\":{\"line\":{\"color\":\"#E5ECF6\",\"width\":0.5},\"pattern\":{\"fillmode\":\"overlay\",\"size\":10,\"solidity\":0.2}},\"type\":\"barpolar\"}],\"pie\":[{\"automargin\":true,\"type\":\"pie\"}]},\"layout\":{\"autotypenumbers\":\"strict\",\"colorway\":[\"#636efa\",\"#EF553B\",\"#00cc96\",\"#ab63fa\",\"#FFA15A\",\"#19d3f3\",\"#FF6692\",\"#B6E880\",\"#FF97FF\",\"#FECB52\"],\"font\":{\"color\":\"#2a3f5f\"},\"hovermode\":\"closest\",\"hoverlabel\":{\"align\":\"left\"},\"paper_bgcolor\":\"white\",\"plot_bgcolor\":\"#E5ECF6\",\"polar\":{\"bgcolor\":\"#E5ECF6\",\"angularaxis\":{\"gridcolor\":\"white\",\"linecolor\":\"white\",\"ticks\":\"\"},\"radialaxis\":{\"gridcolor\":\"white\",\"linecolor\":\"white\",\"ticks\":\"\"}},\"ternary\":{\"bgcolor\":\"#E5ECF6\",\"aaxis\":{\"gridcolor\":\"white\",\"linecolor\":\"white\",\"ticks\":\"\"},\"baxis\":{\"gridcolor\":\"white\",\"linecolor\":\"white\",\"ticks\":\"\"},\"caxis\":{\"gridcolor\":\"white\",\"linecolor\":\"white\",\"ticks\":\"\"}},\"coloraxis\":{\"colorbar\":{\"outlinewidth\":0,\"ticks\":\"\"}},\"colorscale\":{\"sequential\":[[0.0,\"#0d0887\"],[0.1111111111111111,\"#46039f\"],[0.2222222222222222,\"#7201a8\"],[0.3333333333333333,\"#9c179e\"],[0.4444444444444444,\"#bd3786\"],[0.5555555555555556,\"#d8576b\"],[0.6666666666666666,\"#ed7953\"],[0.7777777777777778,\"#fb9f3a\"],[0.8888888888888888,\"#fdca26\"],[1.0,\"#f0f921\"]],\"sequentialminus\":[[0.0,\"#0d0887\"],[0.1111111111111111,\"#46039f\"],[0.2222222222222222,\"#7201a8\"],[0.3333333333333333,\"#9c179e\"],[0.4444444444444444,\"#bd3786\"],[0.5555555555555556,\"#d8576b\"],[0.6666666666666666,\"#ed7953\"],[0.7777777777777778,\"#fb9f3a\"],[0.8888888888888888,\"#fdca26\"],[1.0,\"#f0f921\"]],\"diverging\":[[0,\"#8e0152\"],[0.1,\"#c51b7d\"],[0.2,\"#de77ae\"],[0.3,\"#f1b6da\"],[0.4,\"#fde0ef\"],[0.5,\"#f7f7f7\"],[0.6,\"#e6f5d0\"],[0.7,\"#b8e186\"],[0.8,\"#7fbc41\"],[0.9,\"#4d9221\"],[1,\"#276419\"]]},\"xaxis\":{\"gridcolor\":\"white\",\"linecolor\":\"white\",\"ticks\":\"\",\"title\":{\"standoff\":15},\"zerolinecolor\":\"white\",\"automargin\":true,\"zerolinewidth\":2},\"yaxis\":{\"gridcolor\":\"white\",\"linecolor\":\"white\",\"ticks\":\"\",\"title\":{\"standoff\":15},\"zerolinecolor\":\"white\",\"automargin\":true,\"zerolinewidth\":2},\"scene\":{\"xaxis\":{\"backgroundcolor\":\"#E5ECF6\",\"gridcolor\":\"white\",\"linecolor\":\"white\",\"showbackground\":true,\"ticks\":\"\",\"zerolinecolor\":\"white\",\"gridwidth\":2},\"yaxis\":{\"backgroundcolor\":\"#E5ECF6\",\"gridcolor\":\"white\",\"linecolor\":\"white\",\"showbackground\":true,\"ticks\":\"\",\"zerolinecolor\":\"white\",\"gridwidth\":2},\"zaxis\":{\"backgroundcolor\":\"#E5ECF6\",\"gridcolor\":\"white\",\"linecolor\":\"white\",\"showbackground\":true,\"ticks\":\"\",\"zerolinecolor\":\"white\",\"gridwidth\":2}},\"shapedefaults\":{\"line\":{\"color\":\"#2a3f5f\"}},\"annotationdefaults\":{\"arrowcolor\":\"#2a3f5f\",\"arrowhead\":0,\"arrowwidth\":1},\"geo\":{\"bgcolor\":\"white\",\"landcolor\":\"#E5ECF6\",\"subunitcolor\":\"white\",\"showland\":true,\"showlakes\":true,\"lakecolor\":\"white\"},\"title\":{\"x\":0.05},\"mapbox\":{\"style\":\"light\"}}},\"margin\":{\"t\":100,\"b\":0,\"l\":0,\"r\":0},\"width\":800,\"height\":900,\"autosize\":false,\"scene\":{\"aspectratio\":{\"x\":1,\"y\":1,\"z\":0.7},\"aspectmode\":\"manual\"},\"updatemenus\":[{\"buttons\":[{\"args\":[\"Can You work when you are stress\",\"Viridis\"],\"label\":\"Viridis\",\"method\":\"restyle\"},{\"args\":[\"Can You work when you are stress\",\"Cividis\"],\"label\":\"Cividis\",\"method\":\"restyle\"},{\"args\":[\"Can You work when you are stress\",\"Blues\"],\"label\":\"Blues\",\"method\":\"restyle\"},{\"args\":[\"Can You work when you are stress\",\"Greens\"],\"label\":\"Greens\",\"method\":\"restyle\"}],\"direction\":\"right\",\"pad\":{\"r\":10,\"t\":10},\"showactive\":true,\"type\":\"buttons\",\"x\":0.1,\"xanchor\":\"left\",\"y\":1.12,\"yanchor\":\"top\"},{\"buttons\":[{\"args\":[\"reversescale\",false],\"label\":\"Yes\",\"method\":\"restyle\"},{\"args\":[\"reversescale\",true],\"label\":\"No\",\"method\":\"restyle\"}],\"direction\":\"right\",\"pad\":{\"r\":10,\"t\":10},\"showactive\":true,\"type\":\"buttons\",\"x\":0.13,\"xanchor\":\"left\",\"y\":1.065,\"yanchor\":\"top\"},{\"buttons\":[{\"args\":[{\"contours.showlines\":false,\"type\":\"contour\"}],\"label\":\"Hide lines\",\"method\":\"restyle\"},{\"args\":[{\"contours.showlines\":true,\"type\":\"contour\"}],\"label\":\"Show lines\",\"method\":\"restyle\"}],\"direction\":\"right\",\"pad\":{\"r\":10,\"t\":10},\"showactive\":true,\"type\":\"buttons\",\"x\":0.5,\"xanchor\":\"left\",\"y\":1.065,\"yanchor\":\"top\"}],\"annotations\":[{\"align\":\"left\",\"showarrow\":false,\"text\":\"colorscale\",\"x\":0,\"xref\":\"paper\",\"y\":1.1,\"yref\":\"paper\"},{\"showarrow\":false,\"text\":\"Reverse<br>Colorscale\",\"x\":0,\"xref\":\"paper\",\"y\":1.06,\"yref\":\"paper\"},{\"showarrow\":false,\"text\":\"Lines\",\"x\":0.47,\"xref\":\"paper\",\"y\":1.045,\"yref\":\"paper\"}]},                        {\"responsive\": true}                    ).then(function(){\n",
              "                            \n",
              "var gd = document.getElementById('8296a66c-0fe9-4bf8-bdff-1d58bb3c4525');\n",
              "var x = new MutationObserver(function (mutations, observer) {{\n",
              "        var display = window.getComputedStyle(gd).display;\n",
              "        if (!display || display === 'none') {{\n",
              "            console.log([gd, 'removed!']);\n",
              "            Plotly.purge(gd);\n",
              "            observer.disconnect();\n",
              "        }}\n",
              "}});\n",
              "\n",
              "// Listen for the removal of the full notebook cells\n",
              "var notebookContainer = gd.closest('#notebook-container');\n",
              "if (notebookContainer) {{\n",
              "    x.observe(notebookContainer, {childList: true});\n",
              "}}\n",
              "\n",
              "// Listen for the clearing of the current output cell\n",
              "var outputEl = gd.closest('.output');\n",
              "if (outputEl) {{\n",
              "    x.observe(outputEl, {childList: true});\n",
              "}}\n",
              "\n",
              "                        })                };                            </script>        </div>\n",
              "</body>\n",
              "</html>"
            ]
          },
          "metadata": {}
        }
      ]
    },
    {
      "cell_type": "code",
      "source": [
        "\n",
        "import plotly.graph_objects as go\n",
        "\n",
        "import pandas as pd\n",
        "\n",
        "\n",
        "df = pd.read_csv(\"Survey on Student Mental Health1.csv\")\n",
        "\n",
        "\n",
        "import numpy as np\n",
        "x0 = np.random.normal(2, 0.4, 400)\n",
        "y0 = np.random.normal(2, 0.4, 400)\n",
        "x1 = np.random.normal(3, 0.6, 600)\n",
        "y1 = np.random.normal(6, 0.4, 400)\n",
        "x2 = np.random.normal(4, 0.2, 200)\n",
        "y2 = np.random.normal(4, 0.4, 200)\n",
        "\n",
        "\n",
        "\n",
        "\n",
        "# Create figure\n",
        "fig = go.Figure()\n",
        "\n",
        "# Add traces\n",
        "fig.add_trace(\n",
        "    go.Scatter(\n",
        "        x=x0,\n",
        "        y=y0,\n",
        "        mode=\"markers\",\n",
        "        marker=dict(color=\"Orange\")\n",
        "    )\n",
        ")\n",
        "\n",
        "fig.add_trace(\n",
        "    go.Scatter(\n",
        "        x=x1,\n",
        "        y=y1,\n",
        "        mode=\"markers\",\n",
        "        marker=dict(color=\"Red\")\n",
        "    )\n",
        ")\n",
        "\n",
        "\n",
        "    \n",
        "\n",
        "# Add buttons that add shapes\n",
        "cluster0 = [dict(type=\"circle\",\n",
        "                            xref=\"x\", yref=\"y\",\n",
        "                            x0=min(x0), y0=min(y0),\n",
        "                            x1=max(x0), y1=max(y0),\n",
        "                            line=dict(color=\"Yellow\"))]\n",
        "cluster1 = [dict(type=\"circle\",\n",
        "                            xref=\"x\", yref=\"y\",\n",
        "                            x0=min(x1), y0=min(y1),\n",
        "                            x1=max(x1), y1=max(y1),\n",
        "                            line=dict(color=\"Crimson\"))]\n",
        "\n",
        "\n",
        "fig.update_layout(\n",
        "    updatemenus=[\n",
        "        dict(\n",
        "            type=\"buttons\",\n",
        "            buttons=[\n",
        "                dict(label=\"Dont Know\",\n",
        "                     method=\"relayout\",\n",
        "                     args=[\"shapes\", []]),\n",
        "                dict(label=\"Yes \",\n",
        "                     method=\"relayout\",\n",
        "                     args=[\"shapes\", cluster0]),\n",
        "                dict(label=\"No \",\n",
        "                     method=\"relayout\",\n",
        "                     args=[\"shapes\", cluster1]),\n",
        "                dict(label=\"All\",\n",
        "                     method=\"relayout\",\n",
        "                     args=[\"shapes\", cluster0 + cluster1])\n",
        "            ],\n",
        "        )\n",
        "    ]\n",
        ")\n",
        "\n",
        "# Update remaining layout properties\n",
        "fig.update_layout(\n",
        "    title_text=\"Student Mental Health\",\n",
        "    showlegend=False,\n",
        ")\n",
        "\n",
        "fig.show()"
      ],
      "metadata": {
        "colab": {
          "base_uri": "https://localhost:8080/",
          "height": 542
        },
        "id": "V-RLV3rq7nN2",
        "outputId": "431c6428-15d0-4a6a-fb95-62682318633c"
      },
      "execution_count": null,
      "outputs": [
        {
          "output_type": "display_data",
          "data": {
            "text/html": [
              "<html>\n",
              "<head><meta charset=\"utf-8\" /></head>\n",
              "<body>\n",
              "    <div>            <script src=\"https://cdnjs.cloudflare.com/ajax/libs/mathjax/2.7.5/MathJax.js?config=TeX-AMS-MML_SVG\"></script><script type=\"text/javascript\">if (window.MathJax && window.MathJax.Hub && window.MathJax.Hub.Config) {window.MathJax.Hub.Config({SVG: {font: \"STIX-Web\"}});}</script>                <script type=\"text/javascript\">window.PlotlyConfig = {MathJaxConfig: 'local'};</script>\n",
              "        <script src=\"https://cdn.plot.ly/plotly-2.16.1.min.js\"></script>                <div id=\"3f9d4676-9c84-4848-8795-01a89fece40d\" class=\"plotly-graph-div\" style=\"height:525px; width:100%;\"></div>            <script type=\"text/javascript\">                                    window.PLOTLYENV=window.PLOTLYENV || {};                                    if (document.getElementById(\"3f9d4676-9c84-4848-8795-01a89fece40d\")) {                    Plotly.newPlot(                        \"3f9d4676-9c84-4848-8795-01a89fece40d\",                        [{\"marker\":{\"color\":\"Orange\"},\"mode\":\"markers\",\"x\":[2.174969805769391,2.1689000034185213,1.652699303014714,2.4263478705837755,1.9566238805296965,2.018236032267599,0.6926147667212801,2.0894941879633793,1.458256045914509,2.3965044468285326,1.985232705843255,1.8631139317395744,1.3501858079505018,1.5749032282795397,1.7476861525377796,2.6919064999099986,1.575108945847482,2.074070989236976,1.41344774161522,1.8361880260573311,2.372854100238372,1.4269767066098868,1.6837422838142249,2.377187606434973,1.6691103413125838,2.1244935850180537,1.793817663808525,2.0215287042726184,2.3766302875629033,1.7793025547439583,1.7357856314766287,2.410603420870231,1.8956352937240162,1.3098601226500592,2.6432622138619224,1.808635442740807,1.3293422270190534,1.6458664120790611,1.8952026518007812,2.1988858522453967,2.415945789938113,1.9327825144766153,1.8771635144700844,1.5067692435984248,1.8642008828232588,1.7071629358697473,2.418162315680321,2.6049449105730726,1.5359416435857516,2.2251965431318976,1.4074056888820117,1.8352750220219916,1.7114025609142762,2.3696154562212097,1.828562227494654,1.7641222807715564,2.4618846852963268,1.9057523617571994,2.115463042598635,1.8751638561607762,1.9662715582225334,1.9387723420069545,1.9530807439255544,2.2484635594696254,3.200683501883952,1.7218025351244335,2.3510927860634165,1.7694885900124853,2.4023712966516975,2.615134585865963,1.7848005875790287,1.8826549944378619,1.8631742417285064,2.003014029395677,1.5674013502502873,2.487265946279411,1.6510813962942843,2.07843144398414,2.053696029923579,1.8417715509453672,2.924939126168601,1.5719366179024141,3.0370044954617033,2.5554703450612597,2.2052481742015857,1.9399497878327259,1.5971867783434077,2.437740632292176,2.3294186435073696,1.7415191104081953,2.0592474253864625,1.0545302452468888,2.1445953704559084,1.2372657715089617,1.7200930835742791,1.5868439307099287,1.4332322495645486,1.292235977226854,1.8457059799625415,2.338632191666563,2.173055057765627,2.6537009937673557,1.7276690512214052,2.0433082951296684,1.6061576818631138,2.53302882147932,1.4941012468008723,1.9314845790595736,1.5617645685276533,2.2069545949747433,2.3738994444440853,1.4363948456488715,2.174965614823673,2.1113767369641625,2.459818686310517,2.4369491686426725,1.7926515128499527,1.776396714219962,1.462095720982683,1.1140373216413728,1.3933684013775536,2.1125076979315804,2.327685635438575,2.477477577596135,1.8205877139409214,1.8500966566474293,1.9250307159034201,1.7159408282870718,2.168174552606262,1.7667902825425814,2.939661306512167,1.945699450779242,2.4205331351655563,1.7002436356915172,1.4145698740455086,1.1403527406564797,1.4980909492517713,1.9547368868225212,2.0634509138235315,2.8230748236490126,1.317823517101169,1.6311679961872003,1.9726954229509353,1.7153553571488687,1.9445059713374067,2.0184549758876127,2.084050269153248,2.574314864369555,1.9756177944332693,1.8030431715452258,1.8130205362920164,1.6745728815596215,2.111307355286135,2.6147548147526543,1.771089664407232,1.8382809576963537,1.3021158612125836,2.033185827049367,1.5991825229965992,2.130500805338662,2.1655024876618265,2.408472961631758,2.545671759118516,1.8432304003219697,1.8064982001304992,2.017238213956949,2.1104007650438437,1.9956527067033785,2.746410673222938,2.7972831536493103,2.6747553481875186,2.0142438352877505,2.2394031203523257,2.6524605083590673,1.6930858771960153,2.129293811610757,1.8028628825890842,2.5000798950817806,1.966657408563631,2.079511369632537,1.6262414368186784,1.9581677940979225,1.9593585358048053,2.4327387339759508,2.5722911277103693,1.6592513739313257,2.277008125384049,2.5931508290217375,1.8277422225364002,1.0283739846207371,2.6395693468267454,2.2880145060192394,2.693657602442524,2.3750474367995116,1.8649191483511869,2.4237567028459837,1.4164167609336529,2.002814577895061,2.296449317068852,2.1169201151383854,1.8499286480787007,1.1893218762098816,1.482793789481787,1.6563162631507202,1.3837377896051177,1.9870346479855077,2.1805837958609295,1.5435020294242228,2.0839642524155586,2.1107348131194077,1.5385655235066469,1.676564448590066,2.4719666645122014,2.363327183889856,2.4715203105675734,2.598765741840078,2.303504250690871,2.308556781191104,2.1446798264626716,2.4895893261454263,2.332960206239032,2.343295040261272,2.2665950882291086,1.3371606684118649,2.2125852314845478,2.0977822582405046,1.0467905264135697,1.5533452278047988,2.515964014448547,2.182302093523811,2.3771321184155303,2.439743229903121,1.7978078016144634,2.4933181769551354,1.6293421297582305,2.4127083624237997,1.883837959549227,0.8298349160169558,1.9905751601914412,1.9571457220952724,1.4677417769408025,2.0062454888054675,1.8681254985725944,2.382997176335498,2.058961919267721,1.8557883855149369,1.858379147280542,1.4449259855511625,2.5347242776769727,1.675893240505883,2.1509092764390076,2.133421019199504,1.946100617726325,2.427131000698094,2.2229409990205906,1.771303690116262,1.299529142028123,2.3807424200834824,1.8991328957688132,1.545250590196255,1.92440245477065,2.0920332723731816,1.6655067259909575,2.230639161499419,2.456572021011715,1.4361176331924352,2.087133103528702,1.8368397289059053,2.077175376739202,1.833241659815694,2.569584924310571,2.2180623889634834,3.1474032566434733,1.6831029577985221,2.159048281362153,1.7842915814322275,1.9179020808307055,2.194613683132006,1.9449754926110199,2.506054922212804,1.631316710623895,2.47162119098976,2.4832579722233055,2.21224430894088,1.621863052921559,1.6217151484236014,2.124193625838697,1.8365258508691447,1.4939071453457287,2.0834746516773976,1.9586018663560036,2.0506174319558803,2.0800909857728915,2.3111971627843038,2.1748828172338586,2.4943470871322644,1.8412537558385766,2.648961142277856,2.318622438897362,1.7515699346386655,1.702781679407643,1.703211815280135,2.171156514722101,2.7554187891915083,1.8718756854338092,1.3531996855684625,2.470688040727014,2.1764183058847855,1.5752559032298907,1.5040745068020305,1.914130248695147,2.0651277585250996,2.1595046928311405,2.5678107742643705,1.6285971004448405,2.4788716619555937,2.346014700771172,1.8609458719095284,2.33997741029659,1.4835519042441736,1.5747398660179082,2.562484783057854,1.9919237352298536,2.710404109390968,1.9047069832174626,1.5886274294403449,2.4585746959287924,1.8051988813175481,1.7545527101762683,2.228087495971346,2.0407060145625313,1.4044338020996505,2.5843943633785615,2.04409352762935,2.1337132056160324,2.0535530870889955,1.6216964066328443,1.6644820920700507,2.2666927496489397,2.1957989674026654,1.8645418989448057,2.864543661970206,2.1878928219266016,2.3107513275127047,2.0175887200715277,1.7569168109385322,1.7998859647001173,1.5490342627799842,1.5286333469106124,2.0207363443508437,2.684845376464728,1.287439895386005,2.0483128667773185,2.0954640848975936,1.5621555299875263,1.5884089511996498,3.1429559688215583,2.5330335141014757,1.95396083296561,1.9916335008152375,1.5811871102323818,2.4713682954503007,1.802834971439754,2.0395855569832135,2.055515134257828,2.1376837766919534,1.429322591714755,1.9811389682632665,1.786215879622416,1.7725534573008006,2.262497518875605,1.8694080673064957,2.5829953306765083,1.8412605301875575,1.5762618979606051,2.282098297915481,1.954585222197227,1.844942840957194,1.9354774262469374,1.8483683302614402,2.03086470543821,2.107938877462861,2.219883879796558,1.9564199792996801,2.4084792648376863,2.1400620585837644,2.111743998259435,2.2506556286731394,2.6394559293675295,2.347356511460414,1.2730213268125419,2.5927416260573173,2.409708846420262,2.3371666921058507,1.9072828554244228,2.235102520129492,1.5719988241622167,2.7936968771361217,2.8963933848910735,2.6231354337454262],\"y\":[1.9110376860500757,1.7840922799561747,1.8954346726802278,1.8697558783094776,2.3757840602877733,1.9811853093008442,1.8285307517857081,1.9323096284858479,1.9157583011767902,1.141886671353081,1.5823871606501079,2.3050234611870812,2.4850558089129478,2.082540248968456,1.2555635720810514,2.425941545082749,2.1697295948340254,2.2475669729889893,1.9863490236467332,1.6779964912874024,2.1849637441466596,1.9586819831144489,2.135917011703903,2.3065045967799054,2.110332403777538,1.655790738291962,1.8293804686162622,1.5985633512698425,2.5923385741969,1.6316018222411444,1.2139380521787155,1.3942627973410047,1.888235971450986,1.9075372565163073,0.9047964530262305,2.747819593963622,1.5863590342335105,2.2578978199016277,1.668523324576813,1.8638865441623444,2.12584369215678,2.5227415819797243,2.4450856385879507,2.3201612014671062,2.1660053923456934,2.072031040789579,2.16718385808642,1.7691760146948252,2.0278754232014924,1.7275935272178355,1.5854683199227169,2.031074539389759,2.2896965767154467,2.204433261994746,2.2787852205734005,1.4756731116881943,2.384296873744563,1.6856476522089925,1.5586048802658299,1.6359124614983571,1.528051672104164,1.3732735660729358,1.7512889234087767,2.175781609357571,2.1827587354781426,1.754948411919654,1.8260202805879155,1.924107674728742,1.4496251605634258,1.6242338356417105,2.3186081228156192,1.6027427498463427,2.528151606376383,1.7800331534446185,1.4354795518275285,1.7270518796750616,1.970120777040032,1.9340188958781523,1.5277785410340665,1.5983254173242012,1.321371785882349,2.603568426811611,1.8145996740439145,2.503465680458668,1.6546056753377747,2.140285692581581,1.888860412085459,1.6178105720274616,1.8162062612645808,1.6341495456346666,1.639449765261602,2.1304157143558453,2.313972773246455,2.658477777825508,2.8064665572024907,2.121875737349843,1.7886132945257498,2.0000884499688385,2.019206431234029,2.205175786551909,1.8014138249384184,2.461193736184751,1.812219355136002,2.4695678959666796,2.153000422229428,2.3650275885060155,1.8028295541476327,1.7271086907490738,2.662492834184185,2.232262108512619,1.7608222877070228,1.8029849224468875,2.4287113014088297,2.021758624400745,2.541252831053887,1.0055578122023774,2.2200044672798316,1.144509474376997,2.452269558269798,2.4746481853016813,2.1666716717636616,1.7585695706835418,1.8974981522669014,1.364943014534786,2.3853105904601613,1.322893423430343,1.7457689371445886,2.0528297846665713,2.0506466938395933,1.448669336280075,2.3311422425769184,2.188649132852989,2.3898109511695598,2.327759909668718,2.771001419979785,1.4348099654983222,2.1003738608531046,2.155171059237511,2.4249176572217492,1.8371316208152295,1.677492515860889,2.3108964150584663,1.958674595282023,2.0842472997001047,1.1983225914936941,1.9185888252968375,1.6140943223293056,1.5444051477677037,1.5867873484197583,1.4604042989146553,2.3819944594384443,2.196916253675439,2.011127321011181,2.464182600936425,1.7989534194368844,2.529521173503943,2.4759803628608372,1.8258649342627387,1.4286219650132272,1.6829548929167364,1.752456335006584,2.0886418537974807,2.391883027434494,2.234622124800201,1.1593617145941622,2.290480288585417,2.5115539965182467,1.6839691267011125,2.38290876199871,1.8008009623729408,2.7602460306257894,2.5185080950982033,2.4183642222102164,2.107807296182903,2.1124493913408817,2.2577431223461994,2.318274471925002,2.0233523903557855,2.8640973490280586,1.8870619949552871,1.6094659264769575,1.8061236639252074,1.5791847346809786,1.8262665289762103,1.842737211599852,1.9653199043421494,2.268931545526712,2.064517565919319,1.858816104056951,2.053409885282937,1.6684308682715514,1.8537351478930335,2.33694733964922,1.3617403475775767,1.6748214655364455,2.214205718729743,1.9694795049552902,1.3834783106989896,1.9528595541829665,2.3125600403579605,2.2685851884717714,1.6312829207358774,2.3647841566129535,2.131275081872591,2.540117457868048,1.7022207299218775,2.247064408384858,2.626522457825587,1.7058171736638328,1.747472230166569,1.9785308775950583,2.150999404980033,1.3615153098380608,2.011418546869688,2.37644449054701,2.48634828574532,2.20527017977605,2.5690143328484694,1.3034807375020803,1.9021748716231257,1.8670424223843884,1.7542735903854323,2.282599825765376,1.96527147859001,2.553862315959303,2.0240904017772716,1.5640484730806485,1.1716178730020768,1.8677051973432748,2.3099493136901597,1.7532944923568603,1.9003211896855887,2.3398222243693985,2.0390830465789627,1.5922912377413614,2.031000379015583,2.1823467829733687,1.636924381525064,1.9102391355996027,2.343322678900336,1.7239823629376518,2.114107709027863,2.1188287403738575,2.12502275040701,1.7749701602998857,2.066685441303748,1.9452690806725637,2.022437764151923,1.5606853297939267,1.1900756264232664,2.3875756507880723,2.0641215404409574,1.7593071074375948,1.5638472617215997,1.6502005090548226,2.4284578918980735,2.966098685784379,1.696072864760763,1.2809237868216408,2.06005923559323,1.3362888760409248,2.0136438358128266,2.2430598542963582,2.3562984125250477,2.627690702174596,2.8904957040918067,1.668376876138096,2.1000048504963775,1.6116784564740332,1.3847900932186714,2.0477411087375033,1.951256409201699,1.6828710940747533,1.9101525336858458,1.9051640021159635,2.2359298824295726,2.459121092131494,2.0612243326985293,1.4985334309679401,2.2311907897584002,1.6124272452865578,1.7055623961802198,0.587399768221984,2.4373529703959673,2.4213899911989083,1.9790881519367154,1.693182271483815,2.4667949239641223,2.0472063476775015,2.0570459417520675,1.7750434516821767,2.1125508110732616,1.4927553014320483,2.2108293788266242,1.9036616808257305,1.7546023692236052,0.9584582296193216,1.912036162823406,2.2326352353789787,2.2238247016518327,3.1553007635252053,2.2839381711023052,1.8051501225323054,1.8773494019763795,1.905583086784906,1.6270044487117796,2.324813887677574,2.5178568689653176,2.1871576055092623,2.211737178056934,1.7280441272606974,1.74129915231132,1.7265831253501736,1.7831924722206387,2.4417959347577414,2.178041168274112,1.1217975457720097,2.6051766546624626,2.017150112040133,2.2505091658226717,1.8373382510534468,1.8619198061195341,1.5998614799368647,1.598292711193875,2.17543045420072,1.6193829024467488,1.942410972704981,2.4760445063817134,1.992222894953472,1.5854940063703582,2.0799472770990626,2.1354285711323544,1.5472397452882198,1.5124873457478183,2.489732932555107,2.0860781394304295,1.4469183121604736,2.6157736068634176,1.3318721699861298,1.5245888409768331,2.6406435414269374,2.1848567122011735,2.4192936118845005,1.9413165712305458,2.1699060950696305,1.9706018628028872,1.7219387408932407,1.0956959409136169,2.0094633884290842,2.622563346138041,2.184252667237074,1.7742928033513705,1.9992726669654253,1.3598833819499527,1.3727967206874523,2.707813707928607,2.5169329043083692,2.2242044802721006,2.406569362968836,1.5713130622598603,1.6720646273460222,2.2429361477159215,2.159638040638723,2.81757304763848,2.3845558304943193,2.384759177809057,1.5372990143662992,1.834927234943699,1.7389095536660886,1.4654271147393667,2.475365518939811,2.3845129830757856,1.9416531588159245,2.2351939543317796,2.6045290270217327,1.5474516963864853,2.324324651909892,0.8887164355815147,1.854338859557629,2.4460109160596577,2.1018551256784637,1.4733511501970233,1.2473240823138325,2.4803492962655946,1.8828486905494524,1.7585017284985893,1.7907658070605028,1.8753575460124727,2.213155703887124,2.0834526163733256,2.01800837020502,1.8119133205632116,1.7824423782452143,1.7912335124887724,1.7074598646998513,1.9320511950583354,2.6165681921491397,2.0020166082924837,1.657572066772985,1.795381807973877],\"type\":\"scatter\"},{\"marker\":{\"color\":\"Red\"},\"mode\":\"markers\",\"x\":[3.2964380003059586,2.8238347574305336,3.4360081321682574,3.7348866065444244,2.7204780530245785,3.0464951270537766,3.2545018297097,3.8550127378847248,4.51339338640745,2.2146898992865385,2.7930129637642103,3.2277083160053617,1.8362820587255737,3.0875013783538146,2.1233861959217393,2.3204306755547166,3.824573930967028,3.810745070483413,2.4878315483587095,2.904772012789043,3.003858913939696,2.6084879116621265,2.928331288064521,2.894932403755175,3.234621490660931,3.4993182294510228,3.8155579733054363,2.916328592417166,2.559477882403017,3.6107039320110346,2.9453599344892027,2.866983206028908,2.3768669736897214,3.241651466144009,2.919247781892755,2.402317569326141,2.6036526122196686,3.2287761726477866,2.696062436339627,2.427945666996811,3.269645176649613,3.8132699485791752,2.5052881424071654,3.0206261535426036,3.030004239370514,3.807926598094655,3.775162911766464,3.9899178013340952,3.9450038855742795,2.6703976514219483,2.4289545311396683,3.230604417747377,2.452100573520907,2.5098223839795586,3.328947431176769,2.6697704989481217,3.038453333002889,3.3148944731024197,3.223903854031826,3.7978202246659993,2.4961680592978333,3.2749010147176434,3.475446920066678,3.5867161924452264,3.5947281288015054,3.4665356037953203,2.936720419116735,2.161043429597793,3.090452451119807,3.7317282298633443,3.009322194973581,3.49015543775635,3.2233391646439036,3.115759558207507,3.433535725090856,2.8950922007717415,3.0050553089723233,3.278882683101616,2.815382295839695,2.5329344465124066,2.8973483921362155,1.8312345421787155,2.5784600204090626,2.9133768784815177,2.788422831586721,3.381402520814712,3.3759969866953794,2.4652503226499936,2.636670962345672,3.7027465851947596,2.7044938445709774,2.8941104875688923,3.3563477939455586,2.073443187743443,3.120809400834915,3.035347664058918,2.593987443326301,3.618349980186022,3.5917544537255153,2.490660686544829,3.359446538041388,3.2146060360049744,2.5322284959965753,3.075508518082155,3.1120247049704273,3.709194375150519,3.098771077869584,3.304233962111296,3.9119533092174668,3.3737485498785897,2.919925362495497,2.344312776441363,1.9709286452479413,2.5582702272228515,3.119446240437124,2.7570139954681876,3.083720292189711,3.358835473735247,2.296392191666076,2.267881422492376,1.9426856717032857,3.3315106551396947,2.8910834076914087,2.5865605028995127,3.072569510237434,3.634084204174214,4.464562500701962,2.7762992973123666,3.0194429832620253,2.8264289485970626,3.3309610789004007,2.8533301427814317,2.2914150795043637,3.8729716547360873,3.50170781676439,3.3471071157706707,3.278563249218196,3.3258685445662755,2.3003179611023294,2.864939847840302,1.5200088262062563,2.2520119443501176,3.162347899554843,2.3815885692922167,3.2307037557417915,3.0352766744112687,2.9926956753623295,3.67441840492718,4.059360348421117,4.236749198587173,3.1187812766268164,1.9011083788950658,2.7632564811852114,2.1982585013836875,2.7722493403624004,2.979431764363415,1.5804859148181747,1.86974403628862,3.2717812509584734,3.392682528052685,3.2418317130782235,3.6004694997663096,2.253489705541443,4.029638143988282,3.3401062327590396,2.7170337478767994,3.6007016167997197,3.3765191099695993,2.745910655222275,3.6891916347282487,1.877560909164432,3.0217120204818877,2.559956099682256,4.165710071880507,2.9136957359303786,3.329351501810904,3.835769462917398,2.9223541254967373,3.073549194970255,3.400093233594092,3.2287445487742557,3.109098864005482,3.110543775945378,2.914514389391392,2.8309168251333725,3.055112904993279,3.1089515699875205,3.096566538896051,3.2452498354248713,3.3190115548852113,2.987736795187017,3.1717887727569307,3.1809284262156967,3.185027503967812,2.723176516713248,2.7490127401839826,2.8016174414785597,3.313476266645334,3.3784970980975904,2.6332930486518125,3.340057560916123,1.6690689680269355,2.0714919732071735,2.7415276223703895,2.8927989827395453,3.4057576333217665,3.691023495609945,2.943083766964322,2.9494098559234727,2.7114559764886956,2.3924381636828413,3.3074589278601088,2.186488184672956,2.4076887541285763,3.2989726680085996,3.6938705839344284,3.40052019387996,2.731568856053305,3.3075993970384983,3.5202559645282436,3.5044919557966545,3.322184984416589,2.705413344710986,3.0569489234225244,2.640721014332094,3.0323806110776705,2.2388873672110474,2.320490394878477,2.4350029855286888,3.7713498733873245,3.260506449854627,2.943924540011401,2.7848702677093513,2.1874015132296147,3.44760544929803,1.7753968515400251,2.3629610713406852,2.7308389168744265,2.361975587294972,2.3807341677913887,2.6247531308975764,2.3338860009886844,1.984926771770435,2.7272690693856214,4.187967097682139,3.5873968730649555,3.2456862419587384,3.6020334618369962,2.4837503033955044,3.7641098767313337,3.628727195420848,2.876325639171993,1.962888152839824,3.495231896436384,2.9955782082241127,3.954906417178203,3.191115424364289,3.220842199190176,2.974309542545716,2.0931386943652974,3.8475916891856534,2.750988075652871,3.8875557891713903,2.459728519954661,3.3078594985019887,2.7622936943974326,3.0053595275444343,4.285041500790794,2.149600726874566,3.442175589618892,2.5007724170255132,2.9928849803414477,2.3777458261760613,2.5909812851312295,1.8108926571768642,2.808153798971612,3.8880883988249235,3.1300014507179057,3.7572324892716984,3.0731349042454896,3.6142000943767116,3.697816180448111,2.1333618349829,2.788697921981763,2.283731098342794,3.0441643434220444,3.7289455792020285,3.3573917851091264,3.0431042025848365,2.565171193534415,2.715159529571531,3.7531954761292923,3.85853481803513,3.9554838791291806,3.795327614421807,2.8640651690156957,2.633883499042607,2.5383870664554147,3.309761932178416,2.926732226721096,2.6869548803087078,2.524222261914055,4.107698734349111,2.4284970611806123,2.5879833401281678,3.470853301110126,3.040374948281188,3.433728911596924,4.1863812922743175,2.760119337912526,2.6409642878985804,2.9437544754370615,2.190132955774358,3.6603315342360174,4.179876648034723,2.2666068957076018,2.666426485700349,3.2000700981991534,3.0899546673256353,2.453049904229222,2.794685723646092,2.474276168347526,3.0114205261930267,3.8826568191380524,3.2053889222007923,3.6060259125064347,3.5053980426589315,3.3065450459515238,3.613820153206913,3.059311018720238,3.8813233518318544,3.442129054171885,2.3258003449046627,3.7594409659891586,3.014666452021512,3.121086798016625,3.25660933299512,3.512259291954944,2.790374817672914,2.4799178237064865,3.3577081991177207,2.51610209002745,3.6459087103127135,2.149177829889366,2.9003192918578415,3.1285243454850327,3.405885065785099,2.6851307414107612,2.192759870969563,2.8355188664539988,2.634087611169314,2.0941999393885626,3.4752316579184126,2.152499476429888,2.9388024515444813,2.974971786081412,3.1842995526008018,3.1559006185329794,3.3116510992632295,3.6957645202930856,2.9355224888651117,3.1363054794644083,2.743490139489855,3.2657423070317217,3.0378997518174375,3.900475923392291,3.1889094995845753,3.903527188142238,3.98192602182865,3.2360547727841933,2.703984008603526,2.760230740210606,1.5415224446870288,2.653130090773108,3.9555248431637495,3.0533932677049203,2.514806797930708,3.336836798314088,2.251287167319856,4.30185168229216,3.4171895331745192,2.833077484183064,2.356341992858776,2.6968627976080617,2.833555101064915,2.7708024543335736,3.430493473566843,2.7303847144099382,2.0224348658052045,2.6188424702146604,3.0128236388847016,2.848505010100175,2.7713440693236007,2.3354943335271767,3.137511158706027,3.3431122377565954,2.668070365997512,3.017610029985837,3.1717744445484106,3.496889992182252,3.6895496930446243,4.573633938335156,3.3879129632312646,2.2181586272362948,3.3123876961790444,3.555700563675444,2.408618042069102,3.094176852856268,3.8263270819036688,3.8879455250200965,3.1561111208858637,3.7839070825875587,3.145456323208757,3.124504758965726,1.6702828351886743,3.5127814679031166,3.6806264872402537,3.4727078220909475,2.641861658823686,3.1902339849950248,3.051108474606212,2.2837186049314866,3.4442354474959145,2.2710235059344153,4.008914222044091,2.846165462822416,1.9449781054088473,1.9861013564070118,3.3554549296824745,2.5556070422660393,2.0070754941826956,2.8714043412900976,4.122053687528504,3.4527321643337103,2.1045257652079545,2.802629347530828,2.5077177427713515,3.6641495551916905,1.9963492251851025,3.820301427885485,4.120746071141307,2.5454831329527177,3.270439985179287,4.200201057116196,3.6340317749074194,2.7112713623126354,4.584891477330984,3.0107442381704597,3.954512149939937,3.139945819376342,3.3161765813931385,2.455595047635111,2.517607661593109,2.8267080351675737,3.2077508006794946,2.7286251072688588,3.653413324230139,3.9915774513347797,3.0106832095752423,2.925038828517083,2.7680359476530554,4.022945373031348,3.732908091965468,3.2899649075967146,2.8843957764156216,3.3093428922558283,2.6662262544452338,2.9973669888084133,3.2549549041219845,2.028398153691153,2.769496146586417,3.288643058551737,2.7919231933140063,3.451908786943522,2.6231163798090065,3.8133547675234536,3.0937448935773277,2.5507623577898633,3.273981261982825,3.0995647179935895,3.5803156718122886,2.418784403988943,2.5704845108307133,3.5335387025469447,3.250861738954315,3.1077646529897875,3.4107198018090927,2.8009417439768334,2.7399604103460753,4.0521914735987155,2.9192035459434074,3.5058655730985935,2.647946838409576,2.632541922084683,2.720054115009482,3.508599861292767,2.822951618752728,1.6675176171216448,3.2127164136589506,2.6313086603290072,2.595546444355476,2.0069705096670125,1.9850139218774436,3.5219907067497975,2.9329259533214023,2.9547489773158206,3.2915838557506967,2.6919804210069787,2.2267770641823192,2.8157254481744687,3.4715806508465015,3.0346876598916106,3.161983574164755,3.0593835298537835,2.4171191109643626,3.6321484741236016,2.638753472382221,3.8777598227997525,2.943075840311903,3.466461618604507,2.8444597404998397,2.3886816442021326,3.6171505628576117,4.201103492967822,2.258128495226205,2.8934390290178995,3.1825982670878306,3.442931550351029,2.9510399021568583,2.081981468936843,2.8539607361282853,3.326633510051013,3.7504141619027394,2.6158794787946453,2.5623023127440736,3.335044140380582,2.1315127396645006,4.116999778857488,3.699258242513647,3.387607836706379,3.6545895229843204,2.3187882441273735,2.2024479224605837,2.801617759417375,2.2017245261236056,2.930776103823894,3.7350030137555943,3.029948670003324,3.454928374718409,2.116165803377894,2.588440567300416,2.091049759427597,2.6725128647892866,2.2860639230577773,2.7041007532330075,2.6310076499301034,2.5564820170097944,3.015418554186795,3.4766101967830236,2.2184787444113,3.0625141174102457,2.922020934027961,4.390751394047666,2.5464784602970463,2.6374642734759983,3.811019322186069,2.8327852658659416,3.2571930829267752,2.271675246150365,3.504409378997783,2.600111942449453,2.1224384505336227,3.4442474357993116,2.3471160233847947,4.095280898765883,3.0451602111011336,2.3631377639882047,3.695201099726137,2.73272562486191,3.298025479619713,3.2951199721171776,4.5665484271685655,2.6288088339562337,3.22162062015493,2.4551114234816804,3.1448508484111595,3.0471257661022224,2.0787961776831843,3.517241206090366,2.057724882528139,3.71127886193194,3.089717451043146,2.4712278637932124,2.771661706193627,2.2534267717504677,3.1852675375992927,3.524769264139423,3.375142793178839,3.5995794104593424,3.198141947666727],\"y\":[5.806329357436566,6.6133483673565605,5.631712194645456,6.070813884439675,5.561430066812578,5.900219266221428,6.129150942413558,6.18986617362931,6.0774700667377894,5.849915565948903,5.9973316046239535,5.997830261292746,5.732251841946629,5.844200986089837,5.835482734409371,6.251413979558094,5.766613842680365,5.95895229859219,5.748216809932322,6.3824697157591395,6.931124839690843,5.7288229206028385,5.863292812480209,6.039171093431192,5.857844221684331,5.959714141997832,6.355440670517522,6.533260431557037,6.54880815445542,5.6964978153686285,6.5266323896512315,5.913462648807498,6.114101611821677,5.478104406250871,5.287428319356454,5.852609429067964,6.015665929338864,5.607363064230487,6.104923363894607,5.445509946850952,5.818285215490968,6.178713488521323,6.331205188927618,5.978209218747747,6.505637392247219,6.039881494323923,6.390969480121354,5.7822182292805895,5.909472508994521,6.025727393748919,5.760502947484875,6.249141879365304,6.083227468094817,6.63023641417515,6.068666375875411,5.723006933819793,6.047123710480125,6.254836837115516,5.794020823153833,5.898053564337729,6.241399640788633,5.845628973891033,6.240512667242584,5.850452673676588,5.403984467059754,5.8050925138315055,6.461095009045277,6.492670171640968,6.4897589798136925,5.642918434866369,6.568579396446268,5.956561530743507,5.742314973914288,6.370106697755429,6.285250274056293,6.2138843469300244,5.748464779972377,6.236591006826408,6.8471363889277015,6.196861737657295,5.613155829861913,6.046549195363184,6.387215984148032,5.891715829113066,6.482936275753305,6.523983562260613,6.442943190119405,5.510999476618939,5.2548674410903455,6.069985415127531,6.1098995752136345,6.367174376062436,6.417212177994704,6.256010612589874,6.13727834163051,5.467337635275117,6.3857466243126,5.9487180117005085,5.937258354629852,5.176024782346914,6.357896178243363,5.940426252527542,5.296719757848222,6.920224241651471,5.774815861799904,5.995362393457446,5.950056126670771,5.864243744744912,6.585145341590695,6.269422400361992,6.162955663389845,5.372691162221888,6.27132413172227,6.33373023185418,6.2329705212169655,6.282858116536195,5.873571082845463,5.513890752201249,5.932452304581894,6.354104959709984,5.982469207998418,6.565268871516562,5.963964252424115,7.006380457889627,5.955819599759456,6.814836546696258,6.268777014588698,5.953240232434366,5.868411050710037,6.885470579336187,6.1075851800016245,6.286082590284696,6.074652510040863,5.639247255635547,6.037945918387911,5.75448848603319,5.357404918238688,6.32482001116545,5.386093939171788,6.602619618888836,6.208880653881793,6.250902059083026,5.671869446162197,6.47549912223991,7.159986052504542,5.425383938732225,6.44552062124391,6.2718489768647485,6.230553459302478,6.8420927716675015,5.401428421205332,6.040271644578257,5.8499991649243315,5.8385025620673074,6.156020165599121,6.182103678645323,6.118089720768972,5.673920176956644,6.501115789593315,6.416654625070377,5.910517180678157,5.923169558428097,6.026517844114506,6.325055591393141,5.554982724520784,5.96776023305355,6.332746225585223,4.48797449012881,6.415631752209247,6.281741575705473,6.3320311308191,6.485806153673876,6.511282072619428,6.130123896381947,6.16057742712676,6.01295472097426,6.087351435205223,6.526852606476027,5.454129983946156,6.220945944504775,6.290012079237633,6.0881025959181665,5.597019858188444,5.99235682626357,5.966105271697607,6.779614274877196,5.673623254372081,6.468630507308393,5.6176349603987505,5.8514086281745525,6.23984623962545,6.434102084784214,5.2283273512866115,6.052456134752445,5.868287287779589,6.9217472539050435,5.532385773378327,5.960043573466506,6.203210314404197,5.7832443598077585,6.317225203421755,5.697652726664438,5.668284590859013,4.920622855559391,5.603003332355985,6.029839543277046,5.9991568521694845,5.272330849407551,6.349475280149476,5.799250864479117,6.200382244602341,5.685102798830299,6.061903865464564,5.6234738310563674,6.925095374183285,6.360078052711954,5.005497378799468,6.225222202774303,5.7828342270955355,5.434481653504376,5.543977242177737,6.096666959043936,6.279179782014766,5.614056013969887,6.786004502641528,6.727367223768669,5.64012516327558,6.099405036899485,6.066183797654705,6.12032828113498,6.486693346070481,6.07770345941366,6.5767548349359375,6.287397330053723,6.008945162614297,5.467188286146051,6.025278925873711,5.3985465046890155,6.2160675622689565,6.224359756898055,5.907883619062847,5.830218870365949,6.347908661852617,6.6036253022964155,6.319044919405948,5.9977689294638,5.554040689820372,5.646292856635963,5.426148682724924,6.072400452497115,5.636187073733876,6.731944399107947,5.4039558356732265,6.266348941735882,5.625977585417411,6.158917623997799,6.424620626248474,6.286728022216097,5.608646779734961,6.208993030682555,6.532260336837032,5.707156866935252,5.922132192272133,5.983685791718426,6.2514881158577404,5.978569535992922,6.080653099715794,5.7956543179686255,6.419556195351964,6.109644939180799,5.681615855312377,6.454641483925382,5.786141706504932,5.27447478416226,6.4882463535415065,5.65277786741056,5.888145565743268,5.751524093575587,5.628945105803125,6.485893259698754,6.081827789542079,5.156536540560701,6.276851472085813,5.73352716991392,6.50654274445006,5.394948845357735,6.3565905412454775,5.967822569311598,6.542667257780699,5.553646301095453,5.306608995593568,6.367393631023627,5.7404884436355115,5.832456682221781,6.461703471458421,6.377268066596324,5.817127572287135,5.64279459464055,5.884054287638797,5.888254317142917,5.684911760576538,6.109607729032285,6.532526682762375,6.548297950095929,6.120348013157076,6.2734729756509005,5.9980240767646205,5.134398898168421,6.359601619570846,5.773791706611903,6.223120085577943,6.333895054322795,6.530422129112466,5.819938158533169,6.297637105130529,6.1355517564629,6.17571183376507,6.020630614737778,5.223138340482672,6.283030439938718,5.40776700282964,6.426002878130627,6.13918469024127,6.937592629593739,6.663078335879879,5.897311409347831,6.37963457120617,5.746255052997119,6.047734997247225,6.549359736842334,5.18420756184967,6.087454490224059,5.8749732886077215,5.714221461257249,5.054665880758307,5.995923159235121,6.259664088025978,5.140723843591096,5.632711775105299,6.636078988037042,6.385734012341067,5.3935010492805375,6.607527303521547,5.866528071509853,5.954286206089182,6.459534611811833,7.02321048446781,5.879854777881556,5.993931039220389,6.0897959999995965,6.117657898336571,6.021232461086611,5.91460426270292,5.981664172405603,6.816801549255484,5.576651081220982,6.021501277383763,5.715552478462783,5.937318865201515,6.784657964541882,5.586388891055382,4.466414240340268,5.927435093473224,5.810674483334969,6.349267243890378,6.524200684301941,5.893348085440587,6.229876958694198,5.9272253968417985,6.3260810583350295,6.272539867113663,6.039217991616454,6.334583146582054,6.341329210706538,5.912037819513685,5.6188878597618555,6.137320902510715,6.123996824940185,5.743398408716656,6.1601683302922785,5.989431876197804,6.116120613717205,5.9084569316477475,5.7299948160988325,5.9672558699998595,5.454590964924144,5.29112724850839,6.409348730592811,5.99591609174277,5.916743652333141,5.7225419394513795,6.45597109007251,5.268800949998774,6.604198998020083,6.0365399179813455,6.824775269777405,5.991935959218612,5.6381575160202475,5.837753913139355,6.075907026322517],\"type\":\"scatter\"}],                        {\"template\":{\"data\":{\"histogram2dcontour\":[{\"type\":\"histogram2dcontour\",\"colorbar\":{\"outlinewidth\":0,\"ticks\":\"\"},\"colorscale\":[[0.0,\"#0d0887\"],[0.1111111111111111,\"#46039f\"],[0.2222222222222222,\"#7201a8\"],[0.3333333333333333,\"#9c179e\"],[0.4444444444444444,\"#bd3786\"],[0.5555555555555556,\"#d8576b\"],[0.6666666666666666,\"#ed7953\"],[0.7777777777777778,\"#fb9f3a\"],[0.8888888888888888,\"#fdca26\"],[1.0,\"#f0f921\"]]}],\"choropleth\":[{\"type\":\"choropleth\",\"colorbar\":{\"outlinewidth\":0,\"ticks\":\"\"}}],\"histogram2d\":[{\"type\":\"histogram2d\",\"colorbar\":{\"outlinewidth\":0,\"ticks\":\"\"},\"colorscale\":[[0.0,\"#0d0887\"],[0.1111111111111111,\"#46039f\"],[0.2222222222222222,\"#7201a8\"],[0.3333333333333333,\"#9c179e\"],[0.4444444444444444,\"#bd3786\"],[0.5555555555555556,\"#d8576b\"],[0.6666666666666666,\"#ed7953\"],[0.7777777777777778,\"#fb9f3a\"],[0.8888888888888888,\"#fdca26\"],[1.0,\"#f0f921\"]]}],\"heatmap\":[{\"type\":\"heatmap\",\"colorbar\":{\"outlinewidth\":0,\"ticks\":\"\"},\"colorscale\":[[0.0,\"#0d0887\"],[0.1111111111111111,\"#46039f\"],[0.2222222222222222,\"#7201a8\"],[0.3333333333333333,\"#9c179e\"],[0.4444444444444444,\"#bd3786\"],[0.5555555555555556,\"#d8576b\"],[0.6666666666666666,\"#ed7953\"],[0.7777777777777778,\"#fb9f3a\"],[0.8888888888888888,\"#fdca26\"],[1.0,\"#f0f921\"]]}],\"heatmapgl\":[{\"type\":\"heatmapgl\",\"colorbar\":{\"outlinewidth\":0,\"ticks\":\"\"},\"colorscale\":[[0.0,\"#0d0887\"],[0.1111111111111111,\"#46039f\"],[0.2222222222222222,\"#7201a8\"],[0.3333333333333333,\"#9c179e\"],[0.4444444444444444,\"#bd3786\"],[0.5555555555555556,\"#d8576b\"],[0.6666666666666666,\"#ed7953\"],[0.7777777777777778,\"#fb9f3a\"],[0.8888888888888888,\"#fdca26\"],[1.0,\"#f0f921\"]]}],\"contourcarpet\":[{\"type\":\"contourcarpet\",\"colorbar\":{\"outlinewidth\":0,\"ticks\":\"\"}}],\"contour\":[{\"type\":\"contour\",\"colorbar\":{\"outlinewidth\":0,\"ticks\":\"\"},\"colorscale\":[[0.0,\"#0d0887\"],[0.1111111111111111,\"#46039f\"],[0.2222222222222222,\"#7201a8\"],[0.3333333333333333,\"#9c179e\"],[0.4444444444444444,\"#bd3786\"],[0.5555555555555556,\"#d8576b\"],[0.6666666666666666,\"#ed7953\"],[0.7777777777777778,\"#fb9f3a\"],[0.8888888888888888,\"#fdca26\"],[1.0,\"#f0f921\"]]}],\"surface\":[{\"type\":\"surface\",\"colorbar\":{\"outlinewidth\":0,\"ticks\":\"\"},\"colorscale\":[[0.0,\"#0d0887\"],[0.1111111111111111,\"#46039f\"],[0.2222222222222222,\"#7201a8\"],[0.3333333333333333,\"#9c179e\"],[0.4444444444444444,\"#bd3786\"],[0.5555555555555556,\"#d8576b\"],[0.6666666666666666,\"#ed7953\"],[0.7777777777777778,\"#fb9f3a\"],[0.8888888888888888,\"#fdca26\"],[1.0,\"#f0f921\"]]}],\"mesh3d\":[{\"type\":\"mesh3d\",\"colorbar\":{\"outlinewidth\":0,\"ticks\":\"\"}}],\"scatter\":[{\"fillpattern\":{\"fillmode\":\"overlay\",\"size\":10,\"solidity\":0.2},\"type\":\"scatter\"}],\"parcoords\":[{\"type\":\"parcoords\",\"line\":{\"colorbar\":{\"outlinewidth\":0,\"ticks\":\"\"}}}],\"scatterpolargl\":[{\"type\":\"scatterpolargl\",\"marker\":{\"colorbar\":{\"outlinewidth\":0,\"ticks\":\"\"}}}],\"bar\":[{\"error_x\":{\"color\":\"#2a3f5f\"},\"error_y\":{\"color\":\"#2a3f5f\"},\"marker\":{\"line\":{\"color\":\"#E5ECF6\",\"width\":0.5},\"pattern\":{\"fillmode\":\"overlay\",\"size\":10,\"solidity\":0.2}},\"type\":\"bar\"}],\"scattergeo\":[{\"type\":\"scattergeo\",\"marker\":{\"colorbar\":{\"outlinewidth\":0,\"ticks\":\"\"}}}],\"scatterpolar\":[{\"type\":\"scatterpolar\",\"marker\":{\"colorbar\":{\"outlinewidth\":0,\"ticks\":\"\"}}}],\"histogram\":[{\"marker\":{\"pattern\":{\"fillmode\":\"overlay\",\"size\":10,\"solidity\":0.2}},\"type\":\"histogram\"}],\"scattergl\":[{\"type\":\"scattergl\",\"marker\":{\"colorbar\":{\"outlinewidth\":0,\"ticks\":\"\"}}}],\"scatter3d\":[{\"type\":\"scatter3d\",\"line\":{\"colorbar\":{\"outlinewidth\":0,\"ticks\":\"\"}},\"marker\":{\"colorbar\":{\"outlinewidth\":0,\"ticks\":\"\"}}}],\"scattermapbox\":[{\"type\":\"scattermapbox\",\"marker\":{\"colorbar\":{\"outlinewidth\":0,\"ticks\":\"\"}}}],\"scatterternary\":[{\"type\":\"scatterternary\",\"marker\":{\"colorbar\":{\"outlinewidth\":0,\"ticks\":\"\"}}}],\"scattercarpet\":[{\"type\":\"scattercarpet\",\"marker\":{\"colorbar\":{\"outlinewidth\":0,\"ticks\":\"\"}}}],\"carpet\":[{\"aaxis\":{\"endlinecolor\":\"#2a3f5f\",\"gridcolor\":\"white\",\"linecolor\":\"white\",\"minorgridcolor\":\"white\",\"startlinecolor\":\"#2a3f5f\"},\"baxis\":{\"endlinecolor\":\"#2a3f5f\",\"gridcolor\":\"white\",\"linecolor\":\"white\",\"minorgridcolor\":\"white\",\"startlinecolor\":\"#2a3f5f\"},\"type\":\"carpet\"}],\"table\":[{\"cells\":{\"fill\":{\"color\":\"#EBF0F8\"},\"line\":{\"color\":\"white\"}},\"header\":{\"fill\":{\"color\":\"#C8D4E3\"},\"line\":{\"color\":\"white\"}},\"type\":\"table\"}],\"barpolar\":[{\"marker\":{\"line\":{\"color\":\"#E5ECF6\",\"width\":0.5},\"pattern\":{\"fillmode\":\"overlay\",\"size\":10,\"solidity\":0.2}},\"type\":\"barpolar\"}],\"pie\":[{\"automargin\":true,\"type\":\"pie\"}]},\"layout\":{\"autotypenumbers\":\"strict\",\"colorway\":[\"#636efa\",\"#EF553B\",\"#00cc96\",\"#ab63fa\",\"#FFA15A\",\"#19d3f3\",\"#FF6692\",\"#B6E880\",\"#FF97FF\",\"#FECB52\"],\"font\":{\"color\":\"#2a3f5f\"},\"hovermode\":\"closest\",\"hoverlabel\":{\"align\":\"left\"},\"paper_bgcolor\":\"white\",\"plot_bgcolor\":\"#E5ECF6\",\"polar\":{\"bgcolor\":\"#E5ECF6\",\"angularaxis\":{\"gridcolor\":\"white\",\"linecolor\":\"white\",\"ticks\":\"\"},\"radialaxis\":{\"gridcolor\":\"white\",\"linecolor\":\"white\",\"ticks\":\"\"}},\"ternary\":{\"bgcolor\":\"#E5ECF6\",\"aaxis\":{\"gridcolor\":\"white\",\"linecolor\":\"white\",\"ticks\":\"\"},\"baxis\":{\"gridcolor\":\"white\",\"linecolor\":\"white\",\"ticks\":\"\"},\"caxis\":{\"gridcolor\":\"white\",\"linecolor\":\"white\",\"ticks\":\"\"}},\"coloraxis\":{\"colorbar\":{\"outlinewidth\":0,\"ticks\":\"\"}},\"colorscale\":{\"sequential\":[[0.0,\"#0d0887\"],[0.1111111111111111,\"#46039f\"],[0.2222222222222222,\"#7201a8\"],[0.3333333333333333,\"#9c179e\"],[0.4444444444444444,\"#bd3786\"],[0.5555555555555556,\"#d8576b\"],[0.6666666666666666,\"#ed7953\"],[0.7777777777777778,\"#fb9f3a\"],[0.8888888888888888,\"#fdca26\"],[1.0,\"#f0f921\"]],\"sequentialminus\":[[0.0,\"#0d0887\"],[0.1111111111111111,\"#46039f\"],[0.2222222222222222,\"#7201a8\"],[0.3333333333333333,\"#9c179e\"],[0.4444444444444444,\"#bd3786\"],[0.5555555555555556,\"#d8576b\"],[0.6666666666666666,\"#ed7953\"],[0.7777777777777778,\"#fb9f3a\"],[0.8888888888888888,\"#fdca26\"],[1.0,\"#f0f921\"]],\"diverging\":[[0,\"#8e0152\"],[0.1,\"#c51b7d\"],[0.2,\"#de77ae\"],[0.3,\"#f1b6da\"],[0.4,\"#fde0ef\"],[0.5,\"#f7f7f7\"],[0.6,\"#e6f5d0\"],[0.7,\"#b8e186\"],[0.8,\"#7fbc41\"],[0.9,\"#4d9221\"],[1,\"#276419\"]]},\"xaxis\":{\"gridcolor\":\"white\",\"linecolor\":\"white\",\"ticks\":\"\",\"title\":{\"standoff\":15},\"zerolinecolor\":\"white\",\"automargin\":true,\"zerolinewidth\":2},\"yaxis\":{\"gridcolor\":\"white\",\"linecolor\":\"white\",\"ticks\":\"\",\"title\":{\"standoff\":15},\"zerolinecolor\":\"white\",\"automargin\":true,\"zerolinewidth\":2},\"scene\":{\"xaxis\":{\"backgroundcolor\":\"#E5ECF6\",\"gridcolor\":\"white\",\"linecolor\":\"white\",\"showbackground\":true,\"ticks\":\"\",\"zerolinecolor\":\"white\",\"gridwidth\":2},\"yaxis\":{\"backgroundcolor\":\"#E5ECF6\",\"gridcolor\":\"white\",\"linecolor\":\"white\",\"showbackground\":true,\"ticks\":\"\",\"zerolinecolor\":\"white\",\"gridwidth\":2},\"zaxis\":{\"backgroundcolor\":\"#E5ECF6\",\"gridcolor\":\"white\",\"linecolor\":\"white\",\"showbackground\":true,\"ticks\":\"\",\"zerolinecolor\":\"white\",\"gridwidth\":2}},\"shapedefaults\":{\"line\":{\"color\":\"#2a3f5f\"}},\"annotationdefaults\":{\"arrowcolor\":\"#2a3f5f\",\"arrowhead\":0,\"arrowwidth\":1},\"geo\":{\"bgcolor\":\"white\",\"landcolor\":\"#E5ECF6\",\"subunitcolor\":\"white\",\"showland\":true,\"showlakes\":true,\"lakecolor\":\"white\"},\"title\":{\"x\":0.05},\"mapbox\":{\"style\":\"light\"}}},\"updatemenus\":[{\"buttons\":[{\"args\":[\"shapes\",[]],\"label\":\"Dont Know\",\"method\":\"relayout\"},{\"args\":[\"shapes\",[{\"type\":\"circle\",\"xref\":\"x\",\"yref\":\"y\",\"x0\":0.6926147667212801,\"y0\":0.587399768221984,\"x1\":3.200683501883952,\"y1\":3.1553007635252053,\"line\":{\"color\":\"Yellow\"}}]],\"label\":\"Yes \",\"method\":\"relayout\"},{\"args\":[\"shapes\",[{\"type\":\"circle\",\"xref\":\"x\",\"yref\":\"y\",\"x0\":1.5200088262062563,\"y0\":4.466414240340268,\"x1\":4.584891477330984,\"y1\":7.159986052504542,\"line\":{\"color\":\"Crimson\"}}]],\"label\":\"No \",\"method\":\"relayout\"},{\"args\":[\"shapes\",[{\"type\":\"circle\",\"xref\":\"x\",\"yref\":\"y\",\"x0\":0.6926147667212801,\"y0\":0.587399768221984,\"x1\":3.200683501883952,\"y1\":3.1553007635252053,\"line\":{\"color\":\"Yellow\"}},{\"type\":\"circle\",\"xref\":\"x\",\"yref\":\"y\",\"x0\":1.5200088262062563,\"y0\":4.466414240340268,\"x1\":4.584891477330984,\"y1\":7.159986052504542,\"line\":{\"color\":\"Crimson\"}}]],\"label\":\"All\",\"method\":\"relayout\"}],\"type\":\"buttons\"}],\"title\":{\"text\":\"Student Mental Health\"},\"showlegend\":false},                        {\"responsive\": true}                    ).then(function(){\n",
              "                            \n",
              "var gd = document.getElementById('3f9d4676-9c84-4848-8795-01a89fece40d');\n",
              "var x = new MutationObserver(function (mutations, observer) {{\n",
              "        var display = window.getComputedStyle(gd).display;\n",
              "        if (!display || display === 'none') {{\n",
              "            console.log([gd, 'removed!']);\n",
              "            Plotly.purge(gd);\n",
              "            observer.disconnect();\n",
              "        }}\n",
              "}});\n",
              "\n",
              "// Listen for the removal of the full notebook cells\n",
              "var notebookContainer = gd.closest('#notebook-container');\n",
              "if (notebookContainer) {{\n",
              "    x.observe(notebookContainer, {childList: true});\n",
              "}}\n",
              "\n",
              "// Listen for the clearing of the current output cell\n",
              "var outputEl = gd.closest('.output');\n",
              "if (outputEl) {{\n",
              "    x.observe(outputEl, {childList: true});\n",
              "}}\n",
              "\n",
              "                        })                };                            </script>        </div>\n",
              "</body>\n",
              "</html>"
            ]
          },
          "metadata": {}
        }
      ]
    }
  ],
  "metadata": {
    "colab": {
      "collapsed_sections": [],
      "provenance": []
    },
    "kernelspec": {
      "display_name": "Python 3",
      "name": "python3"
    },
    "language_info": {
      "name": "python"
    },
    "widgets": {
      "application/vnd.jupyter.widget-state+json": {
        "a9bc709de6144817a24f9836654c360e": {
          "model_module": "jupyterlab-plotly",
          "model_name": "FigureModel",
          "model_module_version": "^5.11.0",
          "state": {
            "_config": {
              "plotlyServerURL": "https://plot.ly"
            },
            "_data": [],
            "_dom_classes": [],
            "_js2py_layoutDelta": null,
            "_js2py_pointsCallback": {},
            "_js2py_relayout": null,
            "_js2py_restyle": {},
            "_js2py_traceDeltas": null,
            "_js2py_update": {},
            "_last_layout_edit_id": 7,
            "_last_trace_edit_id": 4,
            "_layout": {},
            "_model_module": "jupyterlab-plotly",
            "_model_module_version": "^5.11.0",
            "_model_name": "FigureModel",
            "_py2js_addTraces": null,
            "_py2js_animate": {},
            "_py2js_deleteTraces": {},
            "_py2js_moveTraces": {},
            "_py2js_relayout": null,
            "_py2js_removeLayoutProps": {},
            "_py2js_removeTraceProps": {},
            "_py2js_restyle": null,
            "_py2js_update": {},
            "_view_count": 1,
            "_view_module": "jupyterlab-plotly",
            "_view_module_version": "^5.11.0",
            "_view_name": "FigureView"
          }
        },
        "d0042a26481b49fca786c9fa461ad296": {
          "model_module": "jupyterlab-plotly",
          "model_name": "FigureModel",
          "model_module_version": "^5.11.0",
          "state": {
            "_config": {
              "plotlyServerURL": "https://plot.ly"
            },
            "_data": [
              {
                "x": [
                  "Interested",
                  "Future scope",
                  "Jobs",
                  "By force",
                  "All are choosen"
                ],
                "y": [
                  "8.6",
                  "9",
                  "8.7"
                ],
                "z": [
                  [
                    1,
                    20,
                    30,
                    50,
                    1
                  ],
                  [
                    20,
                    1,
                    60,
                    80,
                    30
                  ],
                  [
                    30,
                    60,
                    1,
                    -10,
                    20
                  ]
                ],
                "type": "heatmap",
                "uid": "012402fc-a9b4-487b-81e5-f5d7a629f2ad"
              }
            ],
            "_dom_classes": [],
            "_js2py_layoutDelta": null,
            "_js2py_pointsCallback": {},
            "_js2py_relayout": null,
            "_js2py_restyle": {},
            "_js2py_traceDeltas": null,
            "_js2py_update": {},
            "_last_layout_edit_id": 1,
            "_last_trace_edit_id": 0,
            "_layout": {
              "template": {
                "data": {
                  "barpolar": [
                    {
                      "marker": {
                        "line": {
                          "color": "#E5ECF6",
                          "width": 0.5
                        },
                        "pattern": {
                          "fillmode": "overlay",
                          "size": 10,
                          "solidity": 0.2
                        }
                      },
                      "type": "barpolar"
                    }
                  ],
                  "bar": [
                    {
                      "error_x": {
                        "color": "#2a3f5f"
                      },
                      "error_y": {
                        "color": "#2a3f5f"
                      },
                      "marker": {
                        "line": {
                          "color": "#E5ECF6",
                          "width": 0.5
                        },
                        "pattern": {
                          "fillmode": "overlay",
                          "size": 10,
                          "solidity": 0.2
                        }
                      },
                      "type": "bar"
                    }
                  ],
                  "carpet": [
                    {
                      "aaxis": {
                        "endlinecolor": "#2a3f5f",
                        "gridcolor": "white",
                        "linecolor": "white",
                        "minorgridcolor": "white",
                        "startlinecolor": "#2a3f5f"
                      },
                      "baxis": {
                        "endlinecolor": "#2a3f5f",
                        "gridcolor": "white",
                        "linecolor": "white",
                        "minorgridcolor": "white",
                        "startlinecolor": "#2a3f5f"
                      },
                      "type": "carpet"
                    }
                  ],
                  "choropleth": [
                    {
                      "colorbar": {
                        "outlinewidth": 0,
                        "ticks": ""
                      },
                      "type": "choropleth"
                    }
                  ],
                  "contourcarpet": [
                    {
                      "colorbar": {
                        "outlinewidth": 0,
                        "ticks": ""
                      },
                      "type": "contourcarpet"
                    }
                  ],
                  "contour": [
                    {
                      "colorbar": {
                        "outlinewidth": 0,
                        "ticks": ""
                      },
                      "colorscale": [
                        [
                          0,
                          "#0d0887"
                        ],
                        [
                          0.1111111111111111,
                          "#46039f"
                        ],
                        [
                          0.2222222222222222,
                          "#7201a8"
                        ],
                        [
                          0.3333333333333333,
                          "#9c179e"
                        ],
                        [
                          0.4444444444444444,
                          "#bd3786"
                        ],
                        [
                          0.5555555555555556,
                          "#d8576b"
                        ],
                        [
                          0.6666666666666666,
                          "#ed7953"
                        ],
                        [
                          0.7777777777777778,
                          "#fb9f3a"
                        ],
                        [
                          0.8888888888888888,
                          "#fdca26"
                        ],
                        [
                          1,
                          "#f0f921"
                        ]
                      ],
                      "type": "contour"
                    }
                  ],
                  "heatmapgl": [
                    {
                      "colorbar": {
                        "outlinewidth": 0,
                        "ticks": ""
                      },
                      "colorscale": [
                        [
                          0,
                          "#0d0887"
                        ],
                        [
                          0.1111111111111111,
                          "#46039f"
                        ],
                        [
                          0.2222222222222222,
                          "#7201a8"
                        ],
                        [
                          0.3333333333333333,
                          "#9c179e"
                        ],
                        [
                          0.4444444444444444,
                          "#bd3786"
                        ],
                        [
                          0.5555555555555556,
                          "#d8576b"
                        ],
                        [
                          0.6666666666666666,
                          "#ed7953"
                        ],
                        [
                          0.7777777777777778,
                          "#fb9f3a"
                        ],
                        [
                          0.8888888888888888,
                          "#fdca26"
                        ],
                        [
                          1,
                          "#f0f921"
                        ]
                      ],
                      "type": "heatmapgl"
                    }
                  ],
                  "heatmap": [
                    {
                      "colorbar": {
                        "outlinewidth": 0,
                        "ticks": ""
                      },
                      "colorscale": [
                        [
                          0,
                          "#0d0887"
                        ],
                        [
                          0.1111111111111111,
                          "#46039f"
                        ],
                        [
                          0.2222222222222222,
                          "#7201a8"
                        ],
                        [
                          0.3333333333333333,
                          "#9c179e"
                        ],
                        [
                          0.4444444444444444,
                          "#bd3786"
                        ],
                        [
                          0.5555555555555556,
                          "#d8576b"
                        ],
                        [
                          0.6666666666666666,
                          "#ed7953"
                        ],
                        [
                          0.7777777777777778,
                          "#fb9f3a"
                        ],
                        [
                          0.8888888888888888,
                          "#fdca26"
                        ],
                        [
                          1,
                          "#f0f921"
                        ]
                      ],
                      "type": "heatmap"
                    }
                  ],
                  "histogram2dcontour": [
                    {
                      "colorbar": {
                        "outlinewidth": 0,
                        "ticks": ""
                      },
                      "colorscale": [
                        [
                          0,
                          "#0d0887"
                        ],
                        [
                          0.1111111111111111,
                          "#46039f"
                        ],
                        [
                          0.2222222222222222,
                          "#7201a8"
                        ],
                        [
                          0.3333333333333333,
                          "#9c179e"
                        ],
                        [
                          0.4444444444444444,
                          "#bd3786"
                        ],
                        [
                          0.5555555555555556,
                          "#d8576b"
                        ],
                        [
                          0.6666666666666666,
                          "#ed7953"
                        ],
                        [
                          0.7777777777777778,
                          "#fb9f3a"
                        ],
                        [
                          0.8888888888888888,
                          "#fdca26"
                        ],
                        [
                          1,
                          "#f0f921"
                        ]
                      ],
                      "type": "histogram2dcontour"
                    }
                  ],
                  "histogram2d": [
                    {
                      "colorbar": {
                        "outlinewidth": 0,
                        "ticks": ""
                      },
                      "colorscale": [
                        [
                          0,
                          "#0d0887"
                        ],
                        [
                          0.1111111111111111,
                          "#46039f"
                        ],
                        [
                          0.2222222222222222,
                          "#7201a8"
                        ],
                        [
                          0.3333333333333333,
                          "#9c179e"
                        ],
                        [
                          0.4444444444444444,
                          "#bd3786"
                        ],
                        [
                          0.5555555555555556,
                          "#d8576b"
                        ],
                        [
                          0.6666666666666666,
                          "#ed7953"
                        ],
                        [
                          0.7777777777777778,
                          "#fb9f3a"
                        ],
                        [
                          0.8888888888888888,
                          "#fdca26"
                        ],
                        [
                          1,
                          "#f0f921"
                        ]
                      ],
                      "type": "histogram2d"
                    }
                  ],
                  "histogram": [
                    {
                      "marker": {
                        "pattern": {
                          "fillmode": "overlay",
                          "size": 10,
                          "solidity": 0.2
                        }
                      },
                      "type": "histogram"
                    }
                  ],
                  "mesh3d": [
                    {
                      "colorbar": {
                        "outlinewidth": 0,
                        "ticks": ""
                      },
                      "type": "mesh3d"
                    }
                  ],
                  "parcoords": [
                    {
                      "line": {
                        "colorbar": {
                          "outlinewidth": 0,
                          "ticks": ""
                        }
                      },
                      "type": "parcoords"
                    }
                  ],
                  "pie": [
                    {
                      "automargin": true,
                      "type": "pie"
                    }
                  ],
                  "scatter3d": [
                    {
                      "line": {
                        "colorbar": {
                          "outlinewidth": 0,
                          "ticks": ""
                        }
                      },
                      "marker": {
                        "colorbar": {
                          "outlinewidth": 0,
                          "ticks": ""
                        }
                      },
                      "type": "scatter3d"
                    }
                  ],
                  "scattercarpet": [
                    {
                      "marker": {
                        "colorbar": {
                          "outlinewidth": 0,
                          "ticks": ""
                        }
                      },
                      "type": "scattercarpet"
                    }
                  ],
                  "scattergeo": [
                    {
                      "marker": {
                        "colorbar": {
                          "outlinewidth": 0,
                          "ticks": ""
                        }
                      },
                      "type": "scattergeo"
                    }
                  ],
                  "scattergl": [
                    {
                      "marker": {
                        "colorbar": {
                          "outlinewidth": 0,
                          "ticks": ""
                        }
                      },
                      "type": "scattergl"
                    }
                  ],
                  "scattermapbox": [
                    {
                      "marker": {
                        "colorbar": {
                          "outlinewidth": 0,
                          "ticks": ""
                        }
                      },
                      "type": "scattermapbox"
                    }
                  ],
                  "scatterpolargl": [
                    {
                      "marker": {
                        "colorbar": {
                          "outlinewidth": 0,
                          "ticks": ""
                        }
                      },
                      "type": "scatterpolargl"
                    }
                  ],
                  "scatterpolar": [
                    {
                      "marker": {
                        "colorbar": {
                          "outlinewidth": 0,
                          "ticks": ""
                        }
                      },
                      "type": "scatterpolar"
                    }
                  ],
                  "scatter": [
                    {
                      "fillpattern": {
                        "fillmode": "overlay",
                        "size": 10,
                        "solidity": 0.2
                      },
                      "type": "scatter"
                    }
                  ],
                  "scatterternary": [
                    {
                      "marker": {
                        "colorbar": {
                          "outlinewidth": 0,
                          "ticks": ""
                        }
                      },
                      "type": "scatterternary"
                    }
                  ],
                  "surface": [
                    {
                      "colorbar": {
                        "outlinewidth": 0,
                        "ticks": ""
                      },
                      "colorscale": [
                        [
                          0,
                          "#0d0887"
                        ],
                        [
                          0.1111111111111111,
                          "#46039f"
                        ],
                        [
                          0.2222222222222222,
                          "#7201a8"
                        ],
                        [
                          0.3333333333333333,
                          "#9c179e"
                        ],
                        [
                          0.4444444444444444,
                          "#bd3786"
                        ],
                        [
                          0.5555555555555556,
                          "#d8576b"
                        ],
                        [
                          0.6666666666666666,
                          "#ed7953"
                        ],
                        [
                          0.7777777777777778,
                          "#fb9f3a"
                        ],
                        [
                          0.8888888888888888,
                          "#fdca26"
                        ],
                        [
                          1,
                          "#f0f921"
                        ]
                      ],
                      "type": "surface"
                    }
                  ],
                  "table": [
                    {
                      "cells": {
                        "fill": {
                          "color": "#EBF0F8"
                        },
                        "line": {
                          "color": "white"
                        }
                      },
                      "header": {
                        "fill": {
                          "color": "#C8D4E3"
                        },
                        "line": {
                          "color": "white"
                        }
                      },
                      "type": "table"
                    }
                  ]
                },
                "layout": {
                  "annotationdefaults": {
                    "arrowcolor": "#2a3f5f",
                    "arrowhead": 0,
                    "arrowwidth": 1
                  },
                  "autotypenumbers": "strict",
                  "coloraxis": {
                    "colorbar": {
                      "outlinewidth": 0,
                      "ticks": ""
                    }
                  },
                  "colorscale": {
                    "diverging": [
                      [
                        0,
                        "#8e0152"
                      ],
                      [
                        0.1,
                        "#c51b7d"
                      ],
                      [
                        0.2,
                        "#de77ae"
                      ],
                      [
                        0.3,
                        "#f1b6da"
                      ],
                      [
                        0.4,
                        "#fde0ef"
                      ],
                      [
                        0.5,
                        "#f7f7f7"
                      ],
                      [
                        0.6,
                        "#e6f5d0"
                      ],
                      [
                        0.7,
                        "#b8e186"
                      ],
                      [
                        0.8,
                        "#7fbc41"
                      ],
                      [
                        0.9,
                        "#4d9221"
                      ],
                      [
                        1,
                        "#276419"
                      ]
                    ],
                    "sequential": [
                      [
                        0,
                        "#0d0887"
                      ],
                      [
                        0.1111111111111111,
                        "#46039f"
                      ],
                      [
                        0.2222222222222222,
                        "#7201a8"
                      ],
                      [
                        0.3333333333333333,
                        "#9c179e"
                      ],
                      [
                        0.4444444444444444,
                        "#bd3786"
                      ],
                      [
                        0.5555555555555556,
                        "#d8576b"
                      ],
                      [
                        0.6666666666666666,
                        "#ed7953"
                      ],
                      [
                        0.7777777777777778,
                        "#fb9f3a"
                      ],
                      [
                        0.8888888888888888,
                        "#fdca26"
                      ],
                      [
                        1,
                        "#f0f921"
                      ]
                    ],
                    "sequentialminus": [
                      [
                        0,
                        "#0d0887"
                      ],
                      [
                        0.1111111111111111,
                        "#46039f"
                      ],
                      [
                        0.2222222222222222,
                        "#7201a8"
                      ],
                      [
                        0.3333333333333333,
                        "#9c179e"
                      ],
                      [
                        0.4444444444444444,
                        "#bd3786"
                      ],
                      [
                        0.5555555555555556,
                        "#d8576b"
                      ],
                      [
                        0.6666666666666666,
                        "#ed7953"
                      ],
                      [
                        0.7777777777777778,
                        "#fb9f3a"
                      ],
                      [
                        0.8888888888888888,
                        "#fdca26"
                      ],
                      [
                        1,
                        "#f0f921"
                      ]
                    ]
                  },
                  "colorway": [
                    "#636efa",
                    "#EF553B",
                    "#00cc96",
                    "#ab63fa",
                    "#FFA15A",
                    "#19d3f3",
                    "#FF6692",
                    "#B6E880",
                    "#FF97FF",
                    "#FECB52"
                  ],
                  "font": {
                    "color": "#2a3f5f"
                  },
                  "geo": {
                    "bgcolor": "white",
                    "lakecolor": "white",
                    "landcolor": "#E5ECF6",
                    "showlakes": true,
                    "showland": true,
                    "subunitcolor": "white"
                  },
                  "hoverlabel": {
                    "align": "left"
                  },
                  "hovermode": "closest",
                  "mapbox": {
                    "style": "light"
                  },
                  "paper_bgcolor": "white",
                  "plot_bgcolor": "#E5ECF6",
                  "polar": {
                    "angularaxis": {
                      "gridcolor": "white",
                      "linecolor": "white",
                      "ticks": ""
                    },
                    "bgcolor": "#E5ECF6",
                    "radialaxis": {
                      "gridcolor": "white",
                      "linecolor": "white",
                      "ticks": ""
                    }
                  },
                  "scene": {
                    "xaxis": {
                      "backgroundcolor": "#E5ECF6",
                      "gridcolor": "white",
                      "gridwidth": 2,
                      "linecolor": "white",
                      "showbackground": true,
                      "ticks": "",
                      "zerolinecolor": "white"
                    },
                    "yaxis": {
                      "backgroundcolor": "#E5ECF6",
                      "gridcolor": "white",
                      "gridwidth": 2,
                      "linecolor": "white",
                      "showbackground": true,
                      "ticks": "",
                      "zerolinecolor": "white"
                    },
                    "zaxis": {
                      "backgroundcolor": "#E5ECF6",
                      "gridcolor": "white",
                      "gridwidth": 2,
                      "linecolor": "white",
                      "showbackground": true,
                      "ticks": "",
                      "zerolinecolor": "white"
                    }
                  },
                  "shapedefaults": {
                    "line": {
                      "color": "#2a3f5f"
                    }
                  },
                  "ternary": {
                    "aaxis": {
                      "gridcolor": "white",
                      "linecolor": "white",
                      "ticks": ""
                    },
                    "baxis": {
                      "gridcolor": "white",
                      "linecolor": "white",
                      "ticks": ""
                    },
                    "bgcolor": "#E5ECF6",
                    "caxis": {
                      "gridcolor": "white",
                      "linecolor": "white",
                      "ticks": ""
                    }
                  },
                  "title": {
                    "x": 0.05
                  },
                  "xaxis": {
                    "automargin": true,
                    "gridcolor": "white",
                    "linecolor": "white",
                    "ticks": "",
                    "title": {
                      "standoff": 15
                    },
                    "zerolinecolor": "white",
                    "zerolinewidth": 2
                  },
                  "yaxis": {
                    "automargin": true,
                    "gridcolor": "white",
                    "linecolor": "white",
                    "ticks": "",
                    "title": {
                      "standoff": 15
                    },
                    "zerolinecolor": "white",
                    "zerolinewidth": 2
                  }
                }
              },
              "title": {
                "text": "Heat map"
              }
            },
            "_model_module": "jupyterlab-plotly",
            "_model_module_version": "^5.11.0",
            "_model_name": "FigureModel",
            "_py2js_addTraces": {},
            "_py2js_animate": {},
            "_py2js_deleteTraces": {},
            "_py2js_moveTraces": {},
            "_py2js_relayout": null,
            "_py2js_removeLayoutProps": {},
            "_py2js_removeTraceProps": {},
            "_py2js_restyle": {},
            "_py2js_update": {},
            "_view_count": 1,
            "_view_module": "jupyterlab-plotly",
            "_view_module_version": "^5.11.0",
            "_view_name": "FigureView"
          }
        }
      }
    }
  },
  "nbformat": 4,
  "nbformat_minor": 0
}